{
 "cells": [
  {
   "cell_type": "code",
   "execution_count": 1,
   "id": "298c0eb5",
   "metadata": {},
   "outputs": [
    {
     "name": "stderr",
     "output_type": "stream",
     "text": [
      "C:\\Users\\elija\\anaconda3\\lib\\site-packages\\scipy\\__init__.py:146: UserWarning: A NumPy version >=1.16.5 and <1.23.0 is required for this version of SciPy (detected version 1.26.2\n",
      "  warnings.warn(f\"A NumPy version >={np_minversion} and <{np_maxversion}\"\n"
     ]
    }
   ],
   "source": [
    "import pandas as pd\n",
    "from tqdm import tqdm\n",
    "import plotly.express as px\n",
    "from scipy.stats import probplot\n",
    "import pylab as py\n",
    "import time\n",
    "from tqdm import tqdm\n",
    "import numpy as np"
   ]
  },
  {
   "cell_type": "code",
   "execution_count": 33,
   "id": "fe0441f3",
   "metadata": {},
   "outputs": [],
   "source": [
    "years = range(2023, 2024)"
   ]
  },
  {
   "cell_type": "code",
   "execution_count": 34,
   "id": "07f9d8a8",
   "metadata": {},
   "outputs": [],
   "source": [
    "pl_fix = pd.DataFrame()\n",
    "\n",
    "for year in years:\n",
    "    pl_fix_year = pd.read_html(f'https://fbref.com/en/comps/9/{year - 1}-{year}/schedule/{year - 1}-{year}-Premier-League-Scores-and-Fixtures')[0]\n",
    "    time.sleep(4.1)\n",
    "    pl_fix = pd.concat([pl_fix, pl_fix_year])\n",
    "    \n",
    "pl_fix.reset_index(drop=True, inplace=True)"
   ]
  },
  {
   "cell_type": "code",
   "execution_count": 35,
   "id": "0f77f7fa",
   "metadata": {},
   "outputs": [
    {
     "data": {
      "text/html": [
       "<div>\n",
       "<style scoped>\n",
       "    .dataframe tbody tr th:only-of-type {\n",
       "        vertical-align: middle;\n",
       "    }\n",
       "\n",
       "    .dataframe tbody tr th {\n",
       "        vertical-align: top;\n",
       "    }\n",
       "\n",
       "    .dataframe thead th {\n",
       "        text-align: right;\n",
       "    }\n",
       "</style>\n",
       "<table border=\"1\" class=\"dataframe\">\n",
       "  <thead>\n",
       "    <tr style=\"text-align: right;\">\n",
       "      <th></th>\n",
       "      <th>Wk</th>\n",
       "      <th>Day</th>\n",
       "      <th>Date</th>\n",
       "      <th>Time</th>\n",
       "      <th>Home</th>\n",
       "      <th>xG</th>\n",
       "      <th>Score</th>\n",
       "      <th>xG.1</th>\n",
       "      <th>Away</th>\n",
       "      <th>Attendance</th>\n",
       "      <th>Venue</th>\n",
       "      <th>Referee</th>\n",
       "      <th>Match Report</th>\n",
       "      <th>Notes</th>\n",
       "    </tr>\n",
       "  </thead>\n",
       "  <tbody>\n",
       "    <tr>\n",
       "      <th>0</th>\n",
       "      <td>1.0</td>\n",
       "      <td>Fri</td>\n",
       "      <td>2022-08-05</td>\n",
       "      <td>20:00</td>\n",
       "      <td>Crystal Palace</td>\n",
       "      <td>1.2</td>\n",
       "      <td>0–2</td>\n",
       "      <td>1.0</td>\n",
       "      <td>Arsenal</td>\n",
       "      <td>25286.0</td>\n",
       "      <td>Selhurst Park</td>\n",
       "      <td>Anthony Taylor</td>\n",
       "      <td>Match Report</td>\n",
       "      <td>NaN</td>\n",
       "    </tr>\n",
       "    <tr>\n",
       "      <th>1</th>\n",
       "      <td>1.0</td>\n",
       "      <td>Sat</td>\n",
       "      <td>2022-08-06</td>\n",
       "      <td>12:30</td>\n",
       "      <td>Fulham</td>\n",
       "      <td>1.2</td>\n",
       "      <td>2–2</td>\n",
       "      <td>1.2</td>\n",
       "      <td>Liverpool</td>\n",
       "      <td>22207.0</td>\n",
       "      <td>Craven Cottage</td>\n",
       "      <td>Andy Madley</td>\n",
       "      <td>Match Report</td>\n",
       "      <td>NaN</td>\n",
       "    </tr>\n",
       "    <tr>\n",
       "      <th>2</th>\n",
       "      <td>1.0</td>\n",
       "      <td>Sat</td>\n",
       "      <td>2022-08-06</td>\n",
       "      <td>15:00</td>\n",
       "      <td>Tottenham</td>\n",
       "      <td>1.5</td>\n",
       "      <td>4–1</td>\n",
       "      <td>0.5</td>\n",
       "      <td>Southampton</td>\n",
       "      <td>61732.0</td>\n",
       "      <td>Tottenham Hotspur Stadium</td>\n",
       "      <td>Andre Marriner</td>\n",
       "      <td>Match Report</td>\n",
       "      <td>NaN</td>\n",
       "    </tr>\n",
       "    <tr>\n",
       "      <th>3</th>\n",
       "      <td>1.0</td>\n",
       "      <td>Sat</td>\n",
       "      <td>2022-08-06</td>\n",
       "      <td>15:00</td>\n",
       "      <td>Newcastle Utd</td>\n",
       "      <td>1.7</td>\n",
       "      <td>2–0</td>\n",
       "      <td>0.3</td>\n",
       "      <td>Nott'ham Forest</td>\n",
       "      <td>52245.0</td>\n",
       "      <td>St James' Park</td>\n",
       "      <td>Simon Hooper</td>\n",
       "      <td>Match Report</td>\n",
       "      <td>NaN</td>\n",
       "    </tr>\n",
       "    <tr>\n",
       "      <th>4</th>\n",
       "      <td>1.0</td>\n",
       "      <td>Sat</td>\n",
       "      <td>2022-08-06</td>\n",
       "      <td>15:00</td>\n",
       "      <td>Leeds United</td>\n",
       "      <td>0.8</td>\n",
       "      <td>2–1</td>\n",
       "      <td>1.3</td>\n",
       "      <td>Wolves</td>\n",
       "      <td>36347.0</td>\n",
       "      <td>Elland Road</td>\n",
       "      <td>Robert Jones</td>\n",
       "      <td>Match Report</td>\n",
       "      <td>NaN</td>\n",
       "    </tr>\n",
       "  </tbody>\n",
       "</table>\n",
       "</div>"
      ],
      "text/plain": [
       "    Wk  Day        Date   Time            Home   xG Score  xG.1  \\\n",
       "0  1.0  Fri  2022-08-05  20:00  Crystal Palace  1.2   0–2   1.0   \n",
       "1  1.0  Sat  2022-08-06  12:30          Fulham  1.2   2–2   1.2   \n",
       "2  1.0  Sat  2022-08-06  15:00       Tottenham  1.5   4–1   0.5   \n",
       "3  1.0  Sat  2022-08-06  15:00   Newcastle Utd  1.7   2–0   0.3   \n",
       "4  1.0  Sat  2022-08-06  15:00    Leeds United  0.8   2–1   1.3   \n",
       "\n",
       "              Away  Attendance                      Venue         Referee  \\\n",
       "0          Arsenal     25286.0              Selhurst Park  Anthony Taylor   \n",
       "1        Liverpool     22207.0             Craven Cottage     Andy Madley   \n",
       "2      Southampton     61732.0  Tottenham Hotspur Stadium  Andre Marriner   \n",
       "3  Nott'ham Forest     52245.0             St James' Park    Simon Hooper   \n",
       "4           Wolves     36347.0                Elland Road    Robert Jones   \n",
       "\n",
       "   Match Report  Notes  \n",
       "0  Match Report    NaN  \n",
       "1  Match Report    NaN  \n",
       "2  Match Report    NaN  \n",
       "3  Match Report    NaN  \n",
       "4  Match Report    NaN  "
      ]
     },
     "execution_count": 35,
     "metadata": {},
     "output_type": "execute_result"
    }
   ],
   "source": [
    "pl_fix.head()"
   ]
  },
  {
   "cell_type": "code",
   "execution_count": 36,
   "id": "ccb0efa3",
   "metadata": {
    "scrolled": true
   },
   "outputs": [
    {
     "data": {
      "text/plain": [
       "{'Anthony Taylor': 30,\n",
       " 'Michael Oliver': 30,\n",
       " 'Paul Tierney': 30,\n",
       " 'Simon Hooper': 29,\n",
       " 'Robert Jones': 26,\n",
       " 'Stuart Attwell': 25,\n",
       " 'Andy Madley': 24,\n",
       " 'Peter Bankes': 21,\n",
       " 'Craig Pawson': 21,\n",
       " 'David Coote': 21,\n",
       " 'John Brooks': 19,\n",
       " 'Darren England': 18,\n",
       " 'Jarred Gillett': 17,\n",
       " 'Michael Salisbury': 15,\n",
       " 'Andre Marriner': 13,\n",
       " 'Chris Kavanagh': 13,\n",
       " 'Thomas Bramall': 8,\n",
       " 'Tony Harrington': 6,\n",
       " 'Graham Scott': 6,\n",
       " 'Darren Bond': 4,\n",
       " 'Tim Robinson': 2,\n",
       " 'Robert Madley': 1,\n",
       " 'Joshua Smith': 1}"
      ]
     },
     "execution_count": 36,
     "metadata": {},
     "output_type": "execute_result"
    }
   ],
   "source": [
    "dict(pl_fix['Referee'].value_counts())"
   ]
  },
  {
   "cell_type": "code",
   "execution_count": 37,
   "id": "a7c9ed6d",
   "metadata": {},
   "outputs": [],
   "source": [
    "stats = {'xG': list(), 'Goals': list()}\n",
    "\n",
    "for idx, game in pl_fix.iterrows():\n",
    "    try:\n",
    "        float(game['Score'])\n",
    "    except(ValueError):\n",
    "        scores = game['Score'].split('–')\n",
    "        \n",
    "        stats['Goals'].append(int(scores[0]))\n",
    "        stats['Goals'].append(int(scores[1]))\n",
    "        \n",
    "        stats['xG'].append(game['xG'])\n",
    "        stats['xG'].append(game['xG.1'])\n",
    "        \n",
    "df = pd.DataFrame(stats)\n",
    "df['Residuals'] = df['Goals'] - df['xG']"
   ]
  },
  {
   "cell_type": "code",
   "execution_count": 38,
   "id": "560ff870",
   "metadata": {},
   "outputs": [
    {
     "data": {
      "text/html": [
       "<div>\n",
       "<style scoped>\n",
       "    .dataframe tbody tr th:only-of-type {\n",
       "        vertical-align: middle;\n",
       "    }\n",
       "\n",
       "    .dataframe tbody tr th {\n",
       "        vertical-align: top;\n",
       "    }\n",
       "\n",
       "    .dataframe thead th {\n",
       "        text-align: right;\n",
       "    }\n",
       "</style>\n",
       "<table border=\"1\" class=\"dataframe\">\n",
       "  <thead>\n",
       "    <tr style=\"text-align: right;\">\n",
       "      <th></th>\n",
       "      <th>xG</th>\n",
       "      <th>Goals</th>\n",
       "      <th>Residuals</th>\n",
       "      <th>Absolute Residuals</th>\n",
       "      <th>Rounded xG</th>\n",
       "      <th>Rounded Residuals</th>\n",
       "      <th>Absolute Rounded Residuals</th>\n",
       "    </tr>\n",
       "  </thead>\n",
       "  <tbody>\n",
       "    <tr>\n",
       "      <th>count</th>\n",
       "      <td>760.000000</td>\n",
       "      <td>760.000000</td>\n",
       "      <td>760.000000</td>\n",
       "      <td>760.000000</td>\n",
       "      <td>760.000000</td>\n",
       "      <td>760.000000</td>\n",
       "      <td>760.000000</td>\n",
       "    </tr>\n",
       "    <tr>\n",
       "      <th>mean</th>\n",
       "      <td>1.421974</td>\n",
       "      <td>1.426316</td>\n",
       "      <td>0.004342</td>\n",
       "      <td>0.828816</td>\n",
       "      <td>1.403947</td>\n",
       "      <td>0.022368</td>\n",
       "      <td>0.788158</td>\n",
       "    </tr>\n",
       "    <tr>\n",
       "      <th>std</th>\n",
       "      <td>0.801204</td>\n",
       "      <td>1.322688</td>\n",
       "      <td>1.065655</td>\n",
       "      <td>0.669177</td>\n",
       "      <td>0.873402</td>\n",
       "      <td>1.101335</td>\n",
       "      <td>0.769043</td>\n",
       "    </tr>\n",
       "    <tr>\n",
       "      <th>min</th>\n",
       "      <td>0.000000</td>\n",
       "      <td>0.000000</td>\n",
       "      <td>-2.800000</td>\n",
       "      <td>0.000000</td>\n",
       "      <td>0.000000</td>\n",
       "      <td>-3.000000</td>\n",
       "      <td>0.000000</td>\n",
       "    </tr>\n",
       "    <tr>\n",
       "      <th>25%</th>\n",
       "      <td>0.800000</td>\n",
       "      <td>0.000000</td>\n",
       "      <td>-0.700000</td>\n",
       "      <td>0.400000</td>\n",
       "      <td>1.000000</td>\n",
       "      <td>-1.000000</td>\n",
       "      <td>0.000000</td>\n",
       "    </tr>\n",
       "    <tr>\n",
       "      <th>50%</th>\n",
       "      <td>1.300000</td>\n",
       "      <td>1.000000</td>\n",
       "      <td>-0.100000</td>\n",
       "      <td>0.700000</td>\n",
       "      <td>1.000000</td>\n",
       "      <td>0.000000</td>\n",
       "      <td>1.000000</td>\n",
       "    </tr>\n",
       "    <tr>\n",
       "      <th>75%</th>\n",
       "      <td>1.900000</td>\n",
       "      <td>2.000000</td>\n",
       "      <td>0.600000</td>\n",
       "      <td>1.200000</td>\n",
       "      <td>2.000000</td>\n",
       "      <td>1.000000</td>\n",
       "      <td>1.000000</td>\n",
       "    </tr>\n",
       "    <tr>\n",
       "      <th>max</th>\n",
       "      <td>5.200000</td>\n",
       "      <td>9.000000</td>\n",
       "      <td>5.700000</td>\n",
       "      <td>5.700000</td>\n",
       "      <td>5.000000</td>\n",
       "      <td>6.000000</td>\n",
       "      <td>6.000000</td>\n",
       "    </tr>\n",
       "  </tbody>\n",
       "</table>\n",
       "</div>"
      ],
      "text/plain": [
       "               xG       Goals   Residuals  Absolute Residuals  Rounded xG  \\\n",
       "count  760.000000  760.000000  760.000000          760.000000  760.000000   \n",
       "mean     1.421974    1.426316    0.004342            0.828816    1.403947   \n",
       "std      0.801204    1.322688    1.065655            0.669177    0.873402   \n",
       "min      0.000000    0.000000   -2.800000            0.000000    0.000000   \n",
       "25%      0.800000    0.000000   -0.700000            0.400000    1.000000   \n",
       "50%      1.300000    1.000000   -0.100000            0.700000    1.000000   \n",
       "75%      1.900000    2.000000    0.600000            1.200000    2.000000   \n",
       "max      5.200000    9.000000    5.700000            5.700000    5.000000   \n",
       "\n",
       "       Rounded Residuals  Absolute Rounded Residuals  \n",
       "count         760.000000                  760.000000  \n",
       "mean            0.022368                    0.788158  \n",
       "std             1.101335                    0.769043  \n",
       "min            -3.000000                    0.000000  \n",
       "25%            -1.000000                    0.000000  \n",
       "50%             0.000000                    1.000000  \n",
       "75%             1.000000                    1.000000  \n",
       "max             6.000000                    6.000000  "
      ]
     },
     "execution_count": 38,
     "metadata": {},
     "output_type": "execute_result"
    }
   ],
   "source": [
    "df['Absolute Residuals'] = df['Residuals'].abs()\n",
    "\n",
    "# quick round prediction\n",
    "rounded = np.array([round(i) for i in df['xG']])\n",
    "df['Rounded xG'] = rounded\n",
    "df['Rounded Residuals'] = df['Goals'] - df['Rounded xG']\n",
    "df['Absolute Rounded Residuals'] = df['Rounded Residuals'].abs()\n",
    "\n",
    "df_counts = df.groupby(list(df.columns)).size().reset_index(name='count')\n",
    "df.describe()"
   ]
  },
  {
   "cell_type": "code",
   "execution_count": 39,
   "id": "adb0a803",
   "metadata": {},
   "outputs": [
    {
     "name": "stderr",
     "output_type": "stream",
     "text": [
      "100%|██████████████████████████████████████████████████████████████████████████████| 760/760 [00:00<00:00, 2937.46it/s]\n"
     ]
    }
   ],
   "source": [
    "# quick lin reg, doesn't mean much but hey\n",
    "from sklearn.linear_model import LinearRegression\n",
    "\n",
    "X = df['xG'].values.reshape(-1, 1)\n",
    "y = df['Goals'].values.reshape(-1, 1)\n",
    "\n",
    "y_pred = y.copy().astype(float)\n",
    "\n",
    "lr = LinearRegression()\n",
    "\n",
    "for i in tqdm(range(len(X))):\n",
    "    \n",
    "    X_train = np.delete(X, i).reshape(-1, 1)\n",
    "    y_train = np.delete(y, i).reshape(-1, 1)\n",
    "    \n",
    "    X_test = X[i].reshape(-1, 1)\n",
    "    \n",
    "    lr.fit(X_train, y_train)\n",
    "    y_pred[i] = lr.predict(X_test)"
   ]
  },
  {
   "cell_type": "code",
   "execution_count": 40,
   "id": "08e31802",
   "metadata": {},
   "outputs": [
    {
     "name": "stdout",
     "output_type": "stream",
     "text": [
      "xG accounts for 35.09% of variation in goals scored in the Premier League.\n",
      "xG has a mean squared error of 1.13 goals.\n",
      "\n",
      "Rounded xG accounts for 88.09% of variation in goals scored in the Premier League.\n",
      "Rounded xG has a mean squared error of 0.09 goals.\n"
     ]
    }
   ],
   "source": [
    "from sklearn.metrics import r2_score, mean_squared_error\n",
    "\n",
    "r2_per = round(r2_score(y.reshape(-1), X.reshape(-1)) * 100, 2)\n",
    "mse = round(mean_squared_error(y.reshape(-1), X.reshape(-1)), 2)\n",
    "\n",
    "print(f'xG accounts for {r2_per}% of variation in goals scored in the Premier League.')\n",
    "print(f'xG has a mean squared error of {mse} goals.\\n')\n",
    "\n",
    "round_r2_per = round(r2_score(df['Rounded xG'], X.reshape(-1)) * 100, 2)\n",
    "round_mse = round(mean_squared_error(df['Rounded xG'], X.reshape(-1)), 2)\n",
    "\n",
    "print(f'Rounded xG accounts for {round_r2_per}% of variation in goals scored in the Premier League.')\n",
    "print(f'Rounded xG has a mean squared error of {round_mse} goals.')"
   ]
  },
  {
   "cell_type": "code",
   "execution_count": 41,
   "id": "ddf3f85b",
   "metadata": {},
   "outputs": [
    {
     "data": {
      "application/vnd.plotly.v1+json": {
       "config": {
        "plotlyServerURL": "https://plot.ly"
       },
       "data": [
        {
         "hovertemplate": "variable=xG<br>value=%{x}<br>Goals=%{y}<br>count=%{marker.size}<extra></extra>",
         "legendgroup": "xG",
         "marker": {
          "color": "#636efa",
          "size": [
           1,
           4,
           1,
           1,
           8,
           3,
           12,
           7,
           24,
           6,
           1,
           16,
           15,
           3,
           8,
           13,
           3,
           2,
           20,
           11,
           1,
           13,
           15,
           10,
           2,
           14,
           17,
           9,
           1,
           2,
           13,
           22,
           7,
           10,
           14,
           8,
           2,
           10,
           9,
           13,
           10,
           15,
           7,
           5,
           1,
           4,
           25,
           10,
           2,
           1,
           6,
           13,
           11,
           5,
           1,
           1,
           8,
           8,
           7,
           4,
           3,
           1,
           6,
           12,
           9,
           5,
           2,
           5,
           5,
           12,
           4,
           3,
           3,
           5,
           6,
           5,
           1,
           2,
           8,
           5,
           4,
           5,
           9,
           4,
           6,
           1,
           4,
           5,
           5,
           4,
           5,
           1,
           3,
           5,
           3,
           1,
           3,
           3,
           6,
           7,
           5,
           2,
           3,
           3,
           1,
           1,
           4,
           1,
           2,
           1,
           1,
           4,
           2,
           2,
           1,
           1,
           1,
           3,
           1,
           1,
           1,
           3,
           3,
           1,
           1,
           2,
           1,
           1,
           1,
           1,
           1,
           1,
           1,
           2,
           1,
           3,
           1,
           1,
           1,
           1,
           1,
           1,
           1,
           1,
           1,
           1,
           1,
           2,
           1,
           1
          ],
          "sizemode": "area",
          "sizeref": 0.0625,
          "symbol": "circle"
         },
         "mode": "markers",
         "name": "xG",
         "orientation": "v",
         "showlegend": true,
         "type": "scatter",
         "x": [
          0,
          0.1,
          0.1,
          0.1,
          0.2,
          0.2,
          0.3,
          0.3,
          0.4,
          0.4,
          0.4,
          0.5,
          0.5,
          0.5,
          0.6,
          0.6,
          0.6,
          0.6,
          0.7,
          0.7,
          0.7,
          0.8,
          0.8,
          0.8,
          0.8,
          0.9,
          0.9,
          0.9,
          0.9,
          0.9,
          1,
          1,
          1,
          1.1,
          1.1,
          1.1,
          1.1,
          1.2,
          1.2,
          1.2,
          1.3,
          1.3,
          1.3,
          1.3,
          1.3,
          1.4,
          1.4,
          1.4,
          1.4,
          1.4,
          1.5,
          1.5,
          1.5,
          1.5,
          1.5,
          1.5,
          1.6,
          1.6,
          1.6,
          1.6,
          1.6,
          1.6,
          1.7,
          1.7,
          1.7,
          1.7,
          1.7,
          1.8,
          1.8,
          1.8,
          1.8,
          1.8,
          1.9,
          1.9,
          1.9,
          1.9,
          1.9,
          2,
          2,
          2,
          2,
          2.1,
          2.1,
          2.1,
          2.1,
          2.1,
          2.2,
          2.2,
          2.2,
          2.2,
          2.2,
          2.2,
          2.3,
          2.3,
          2.3,
          2.3,
          2.3,
          2.4,
          2.4,
          2.4,
          2.4,
          2.5,
          2.5,
          2.5,
          2.5,
          2.6,
          2.6,
          2.6,
          2.6,
          2.6,
          2.7,
          2.7,
          2.7,
          2.7,
          2.7,
          2.8,
          2.8,
          2.8,
          2.8,
          2.8,
          2.8,
          2.9,
          2.9,
          3,
          3.1,
          3.1,
          3.2,
          3.2,
          3.2,
          3.2,
          3.3,
          3.3,
          3.3,
          3.3,
          3.3,
          3.4,
          3.4,
          3.5,
          3.5,
          3.5,
          3.6,
          3.7,
          3.7,
          3.8,
          3.9,
          4,
          4.2,
          4.3,
          4.4,
          5.2
         ],
         "xaxis": "x",
         "y": [
          0,
          0,
          1,
          2,
          0,
          1,
          0,
          1,
          0,
          1,
          2,
          0,
          1,
          2,
          0,
          1,
          2,
          3,
          0,
          1,
          2,
          0,
          1,
          2,
          3,
          0,
          1,
          2,
          3,
          4,
          0,
          1,
          2,
          0,
          1,
          2,
          3,
          0,
          1,
          2,
          0,
          1,
          2,
          3,
          4,
          0,
          1,
          2,
          3,
          4,
          0,
          1,
          2,
          3,
          4,
          5,
          0,
          1,
          2,
          3,
          4,
          5,
          0,
          1,
          2,
          3,
          4,
          0,
          1,
          2,
          3,
          4,
          0,
          1,
          2,
          3,
          4,
          0,
          1,
          2,
          3,
          0,
          1,
          2,
          3,
          4,
          0,
          1,
          2,
          3,
          4,
          6,
          1,
          2,
          3,
          4,
          5,
          1,
          2,
          3,
          4,
          1,
          2,
          3,
          4,
          1,
          2,
          3,
          4,
          5,
          1,
          2,
          3,
          4,
          6,
          0,
          2,
          3,
          4,
          5,
          7,
          2,
          4,
          5,
          2,
          3,
          1,
          2,
          4,
          6,
          3,
          4,
          5,
          6,
          9,
          2,
          4,
          2,
          3,
          4,
          4,
          2,
          6,
          4,
          2,
          4,
          3,
          3,
          3,
          4
         ],
         "yaxis": "y"
        }
       ],
       "layout": {
        "height": 600,
        "legend": {
         "itemsizing": "constant",
         "title": {
          "text": "variable"
         },
         "tracegroupgap": 0
        },
        "shapes": [
         {
          "line": {
           "color": "black",
           "width": 2
          },
          "type": "line",
          "x0": -0.5,
          "x1": 9.5,
          "y0": -0.5,
          "y1": 9.5
         }
        ],
        "template": {
         "data": {
          "bar": [
           {
            "error_x": {
             "color": "#2a3f5f"
            },
            "error_y": {
             "color": "#2a3f5f"
            },
            "marker": {
             "line": {
              "color": "#E5ECF6",
              "width": 0.5
             },
             "pattern": {
              "fillmode": "overlay",
              "size": 10,
              "solidity": 0.2
             }
            },
            "type": "bar"
           }
          ],
          "barpolar": [
           {
            "marker": {
             "line": {
              "color": "#E5ECF6",
              "width": 0.5
             },
             "pattern": {
              "fillmode": "overlay",
              "size": 10,
              "solidity": 0.2
             }
            },
            "type": "barpolar"
           }
          ],
          "carpet": [
           {
            "aaxis": {
             "endlinecolor": "#2a3f5f",
             "gridcolor": "white",
             "linecolor": "white",
             "minorgridcolor": "white",
             "startlinecolor": "#2a3f5f"
            },
            "baxis": {
             "endlinecolor": "#2a3f5f",
             "gridcolor": "white",
             "linecolor": "white",
             "minorgridcolor": "white",
             "startlinecolor": "#2a3f5f"
            },
            "type": "carpet"
           }
          ],
          "choropleth": [
           {
            "colorbar": {
             "outlinewidth": 0,
             "ticks": ""
            },
            "type": "choropleth"
           }
          ],
          "contour": [
           {
            "colorbar": {
             "outlinewidth": 0,
             "ticks": ""
            },
            "colorscale": [
             [
              0,
              "#0d0887"
             ],
             [
              0.1111111111111111,
              "#46039f"
             ],
             [
              0.2222222222222222,
              "#7201a8"
             ],
             [
              0.3333333333333333,
              "#9c179e"
             ],
             [
              0.4444444444444444,
              "#bd3786"
             ],
             [
              0.5555555555555556,
              "#d8576b"
             ],
             [
              0.6666666666666666,
              "#ed7953"
             ],
             [
              0.7777777777777778,
              "#fb9f3a"
             ],
             [
              0.8888888888888888,
              "#fdca26"
             ],
             [
              1,
              "#f0f921"
             ]
            ],
            "type": "contour"
           }
          ],
          "contourcarpet": [
           {
            "colorbar": {
             "outlinewidth": 0,
             "ticks": ""
            },
            "type": "contourcarpet"
           }
          ],
          "heatmap": [
           {
            "colorbar": {
             "outlinewidth": 0,
             "ticks": ""
            },
            "colorscale": [
             [
              0,
              "#0d0887"
             ],
             [
              0.1111111111111111,
              "#46039f"
             ],
             [
              0.2222222222222222,
              "#7201a8"
             ],
             [
              0.3333333333333333,
              "#9c179e"
             ],
             [
              0.4444444444444444,
              "#bd3786"
             ],
             [
              0.5555555555555556,
              "#d8576b"
             ],
             [
              0.6666666666666666,
              "#ed7953"
             ],
             [
              0.7777777777777778,
              "#fb9f3a"
             ],
             [
              0.8888888888888888,
              "#fdca26"
             ],
             [
              1,
              "#f0f921"
             ]
            ],
            "type": "heatmap"
           }
          ],
          "heatmapgl": [
           {
            "colorbar": {
             "outlinewidth": 0,
             "ticks": ""
            },
            "colorscale": [
             [
              0,
              "#0d0887"
             ],
             [
              0.1111111111111111,
              "#46039f"
             ],
             [
              0.2222222222222222,
              "#7201a8"
             ],
             [
              0.3333333333333333,
              "#9c179e"
             ],
             [
              0.4444444444444444,
              "#bd3786"
             ],
             [
              0.5555555555555556,
              "#d8576b"
             ],
             [
              0.6666666666666666,
              "#ed7953"
             ],
             [
              0.7777777777777778,
              "#fb9f3a"
             ],
             [
              0.8888888888888888,
              "#fdca26"
             ],
             [
              1,
              "#f0f921"
             ]
            ],
            "type": "heatmapgl"
           }
          ],
          "histogram": [
           {
            "marker": {
             "pattern": {
              "fillmode": "overlay",
              "size": 10,
              "solidity": 0.2
             }
            },
            "type": "histogram"
           }
          ],
          "histogram2d": [
           {
            "colorbar": {
             "outlinewidth": 0,
             "ticks": ""
            },
            "colorscale": [
             [
              0,
              "#0d0887"
             ],
             [
              0.1111111111111111,
              "#46039f"
             ],
             [
              0.2222222222222222,
              "#7201a8"
             ],
             [
              0.3333333333333333,
              "#9c179e"
             ],
             [
              0.4444444444444444,
              "#bd3786"
             ],
             [
              0.5555555555555556,
              "#d8576b"
             ],
             [
              0.6666666666666666,
              "#ed7953"
             ],
             [
              0.7777777777777778,
              "#fb9f3a"
             ],
             [
              0.8888888888888888,
              "#fdca26"
             ],
             [
              1,
              "#f0f921"
             ]
            ],
            "type": "histogram2d"
           }
          ],
          "histogram2dcontour": [
           {
            "colorbar": {
             "outlinewidth": 0,
             "ticks": ""
            },
            "colorscale": [
             [
              0,
              "#0d0887"
             ],
             [
              0.1111111111111111,
              "#46039f"
             ],
             [
              0.2222222222222222,
              "#7201a8"
             ],
             [
              0.3333333333333333,
              "#9c179e"
             ],
             [
              0.4444444444444444,
              "#bd3786"
             ],
             [
              0.5555555555555556,
              "#d8576b"
             ],
             [
              0.6666666666666666,
              "#ed7953"
             ],
             [
              0.7777777777777778,
              "#fb9f3a"
             ],
             [
              0.8888888888888888,
              "#fdca26"
             ],
             [
              1,
              "#f0f921"
             ]
            ],
            "type": "histogram2dcontour"
           }
          ],
          "mesh3d": [
           {
            "colorbar": {
             "outlinewidth": 0,
             "ticks": ""
            },
            "type": "mesh3d"
           }
          ],
          "parcoords": [
           {
            "line": {
             "colorbar": {
              "outlinewidth": 0,
              "ticks": ""
             }
            },
            "type": "parcoords"
           }
          ],
          "pie": [
           {
            "automargin": true,
            "type": "pie"
           }
          ],
          "scatter": [
           {
            "fillpattern": {
             "fillmode": "overlay",
             "size": 10,
             "solidity": 0.2
            },
            "type": "scatter"
           }
          ],
          "scatter3d": [
           {
            "line": {
             "colorbar": {
              "outlinewidth": 0,
              "ticks": ""
             }
            },
            "marker": {
             "colorbar": {
              "outlinewidth": 0,
              "ticks": ""
             }
            },
            "type": "scatter3d"
           }
          ],
          "scattercarpet": [
           {
            "marker": {
             "colorbar": {
              "outlinewidth": 0,
              "ticks": ""
             }
            },
            "type": "scattercarpet"
           }
          ],
          "scattergeo": [
           {
            "marker": {
             "colorbar": {
              "outlinewidth": 0,
              "ticks": ""
             }
            },
            "type": "scattergeo"
           }
          ],
          "scattergl": [
           {
            "marker": {
             "colorbar": {
              "outlinewidth": 0,
              "ticks": ""
             }
            },
            "type": "scattergl"
           }
          ],
          "scattermapbox": [
           {
            "marker": {
             "colorbar": {
              "outlinewidth": 0,
              "ticks": ""
             }
            },
            "type": "scattermapbox"
           }
          ],
          "scatterpolar": [
           {
            "marker": {
             "colorbar": {
              "outlinewidth": 0,
              "ticks": ""
             }
            },
            "type": "scatterpolar"
           }
          ],
          "scatterpolargl": [
           {
            "marker": {
             "colorbar": {
              "outlinewidth": 0,
              "ticks": ""
             }
            },
            "type": "scatterpolargl"
           }
          ],
          "scatterternary": [
           {
            "marker": {
             "colorbar": {
              "outlinewidth": 0,
              "ticks": ""
             }
            },
            "type": "scatterternary"
           }
          ],
          "surface": [
           {
            "colorbar": {
             "outlinewidth": 0,
             "ticks": ""
            },
            "colorscale": [
             [
              0,
              "#0d0887"
             ],
             [
              0.1111111111111111,
              "#46039f"
             ],
             [
              0.2222222222222222,
              "#7201a8"
             ],
             [
              0.3333333333333333,
              "#9c179e"
             ],
             [
              0.4444444444444444,
              "#bd3786"
             ],
             [
              0.5555555555555556,
              "#d8576b"
             ],
             [
              0.6666666666666666,
              "#ed7953"
             ],
             [
              0.7777777777777778,
              "#fb9f3a"
             ],
             [
              0.8888888888888888,
              "#fdca26"
             ],
             [
              1,
              "#f0f921"
             ]
            ],
            "type": "surface"
           }
          ],
          "table": [
           {
            "cells": {
             "fill": {
              "color": "#EBF0F8"
             },
             "line": {
              "color": "white"
             }
            },
            "header": {
             "fill": {
              "color": "#C8D4E3"
             },
             "line": {
              "color": "white"
             }
            },
            "type": "table"
           }
          ]
         },
         "layout": {
          "annotationdefaults": {
           "arrowcolor": "#2a3f5f",
           "arrowhead": 0,
           "arrowwidth": 1
          },
          "autotypenumbers": "strict",
          "coloraxis": {
           "colorbar": {
            "outlinewidth": 0,
            "ticks": ""
           }
          },
          "colorscale": {
           "diverging": [
            [
             0,
             "#8e0152"
            ],
            [
             0.1,
             "#c51b7d"
            ],
            [
             0.2,
             "#de77ae"
            ],
            [
             0.3,
             "#f1b6da"
            ],
            [
             0.4,
             "#fde0ef"
            ],
            [
             0.5,
             "#f7f7f7"
            ],
            [
             0.6,
             "#e6f5d0"
            ],
            [
             0.7,
             "#b8e186"
            ],
            [
             0.8,
             "#7fbc41"
            ],
            [
             0.9,
             "#4d9221"
            ],
            [
             1,
             "#276419"
            ]
           ],
           "sequential": [
            [
             0,
             "#0d0887"
            ],
            [
             0.1111111111111111,
             "#46039f"
            ],
            [
             0.2222222222222222,
             "#7201a8"
            ],
            [
             0.3333333333333333,
             "#9c179e"
            ],
            [
             0.4444444444444444,
             "#bd3786"
            ],
            [
             0.5555555555555556,
             "#d8576b"
            ],
            [
             0.6666666666666666,
             "#ed7953"
            ],
            [
             0.7777777777777778,
             "#fb9f3a"
            ],
            [
             0.8888888888888888,
             "#fdca26"
            ],
            [
             1,
             "#f0f921"
            ]
           ],
           "sequentialminus": [
            [
             0,
             "#0d0887"
            ],
            [
             0.1111111111111111,
             "#46039f"
            ],
            [
             0.2222222222222222,
             "#7201a8"
            ],
            [
             0.3333333333333333,
             "#9c179e"
            ],
            [
             0.4444444444444444,
             "#bd3786"
            ],
            [
             0.5555555555555556,
             "#d8576b"
            ],
            [
             0.6666666666666666,
             "#ed7953"
            ],
            [
             0.7777777777777778,
             "#fb9f3a"
            ],
            [
             0.8888888888888888,
             "#fdca26"
            ],
            [
             1,
             "#f0f921"
            ]
           ]
          },
          "colorway": [
           "#636efa",
           "#EF553B",
           "#00cc96",
           "#ab63fa",
           "#FFA15A",
           "#19d3f3",
           "#FF6692",
           "#B6E880",
           "#FF97FF",
           "#FECB52"
          ],
          "font": {
           "color": "#2a3f5f"
          },
          "geo": {
           "bgcolor": "white",
           "lakecolor": "white",
           "landcolor": "#E5ECF6",
           "showlakes": true,
           "showland": true,
           "subunitcolor": "white"
          },
          "hoverlabel": {
           "align": "left"
          },
          "hovermode": "closest",
          "mapbox": {
           "style": "light"
          },
          "paper_bgcolor": "white",
          "plot_bgcolor": "#E5ECF6",
          "polar": {
           "angularaxis": {
            "gridcolor": "white",
            "linecolor": "white",
            "ticks": ""
           },
           "bgcolor": "#E5ECF6",
           "radialaxis": {
            "gridcolor": "white",
            "linecolor": "white",
            "ticks": ""
           }
          },
          "scene": {
           "xaxis": {
            "backgroundcolor": "#E5ECF6",
            "gridcolor": "white",
            "gridwidth": 2,
            "linecolor": "white",
            "showbackground": true,
            "ticks": "",
            "zerolinecolor": "white"
           },
           "yaxis": {
            "backgroundcolor": "#E5ECF6",
            "gridcolor": "white",
            "gridwidth": 2,
            "linecolor": "white",
            "showbackground": true,
            "ticks": "",
            "zerolinecolor": "white"
           },
           "zaxis": {
            "backgroundcolor": "#E5ECF6",
            "gridcolor": "white",
            "gridwidth": 2,
            "linecolor": "white",
            "showbackground": true,
            "ticks": "",
            "zerolinecolor": "white"
           }
          },
          "shapedefaults": {
           "line": {
            "color": "#2a3f5f"
           }
          },
          "ternary": {
           "aaxis": {
            "gridcolor": "white",
            "linecolor": "white",
            "ticks": ""
           },
           "baxis": {
            "gridcolor": "white",
            "linecolor": "white",
            "ticks": ""
           },
           "bgcolor": "#E5ECF6",
           "caxis": {
            "gridcolor": "white",
            "linecolor": "white",
            "ticks": ""
           }
          },
          "title": {
           "x": 0.05
          },
          "xaxis": {
           "automargin": true,
           "gridcolor": "white",
           "linecolor": "white",
           "ticks": "",
           "title": {
            "standoff": 15
           },
           "zerolinecolor": "white",
           "zerolinewidth": 2
          },
          "yaxis": {
           "automargin": true,
           "gridcolor": "white",
           "linecolor": "white",
           "ticks": "",
           "title": {
            "standoff": 15
           },
           "zerolinecolor": "white",
           "zerolinewidth": 2
          }
         }
        },
        "title": {
         "text": "xG vs Goals in the Premier League"
        },
        "width": 600,
        "xaxis": {
         "anchor": "y",
         "domain": [
          0,
          1
         ],
         "range": [
          -0.5,
          9.5
         ],
         "title": {
          "text": "value"
         }
        },
        "yaxis": {
         "anchor": "x",
         "domain": [
          0,
          1
         ],
         "range": [
          -0.5,
          9.5
         ],
         "title": {
          "text": "Goals"
         }
        }
       }
      },
      "text/html": [
       "<div>                            <div id=\"3fa27d8d-4253-4faa-9757-1c467ee22ed3\" class=\"plotly-graph-div\" style=\"height:600px; width:600px;\"></div>            <script type=\"text/javascript\">                require([\"plotly\"], function(Plotly) {                    window.PLOTLYENV=window.PLOTLYENV || {};                                    if (document.getElementById(\"3fa27d8d-4253-4faa-9757-1c467ee22ed3\")) {                    Plotly.newPlot(                        \"3fa27d8d-4253-4faa-9757-1c467ee22ed3\",                        [{\"hovertemplate\":\"variable=xG<br>value=%{x}<br>Goals=%{y}<br>count=%{marker.size}<extra></extra>\",\"legendgroup\":\"xG\",\"marker\":{\"color\":\"#636efa\",\"size\":[1,4,1,1,8,3,12,7,24,6,1,16,15,3,8,13,3,2,20,11,1,13,15,10,2,14,17,9,1,2,13,22,7,10,14,8,2,10,9,13,10,15,7,5,1,4,25,10,2,1,6,13,11,5,1,1,8,8,7,4,3,1,6,12,9,5,2,5,5,12,4,3,3,5,6,5,1,2,8,5,4,5,9,4,6,1,4,5,5,4,5,1,3,5,3,1,3,3,6,7,5,2,3,3,1,1,4,1,2,1,1,4,2,2,1,1,1,3,1,1,1,3,3,1,1,2,1,1,1,1,1,1,1,2,1,3,1,1,1,1,1,1,1,1,1,1,1,2,1,1],\"sizemode\":\"area\",\"sizeref\":0.0625,\"symbol\":\"circle\"},\"mode\":\"markers\",\"name\":\"xG\",\"orientation\":\"v\",\"showlegend\":true,\"x\":[0.0,0.1,0.1,0.1,0.2,0.2,0.3,0.3,0.4,0.4,0.4,0.5,0.5,0.5,0.6,0.6,0.6,0.6,0.7,0.7,0.7,0.8,0.8,0.8,0.8,0.9,0.9,0.9,0.9,0.9,1.0,1.0,1.0,1.1,1.1,1.1,1.1,1.2,1.2,1.2,1.3,1.3,1.3,1.3,1.3,1.4,1.4,1.4,1.4,1.4,1.5,1.5,1.5,1.5,1.5,1.5,1.6,1.6,1.6,1.6,1.6,1.6,1.7,1.7,1.7,1.7,1.7,1.8,1.8,1.8,1.8,1.8,1.9,1.9,1.9,1.9,1.9,2.0,2.0,2.0,2.0,2.1,2.1,2.1,2.1,2.1,2.2,2.2,2.2,2.2,2.2,2.2,2.3,2.3,2.3,2.3,2.3,2.4,2.4,2.4,2.4,2.5,2.5,2.5,2.5,2.6,2.6,2.6,2.6,2.6,2.7,2.7,2.7,2.7,2.7,2.8,2.8,2.8,2.8,2.8,2.8,2.9,2.9,3.0,3.1,3.1,3.2,3.2,3.2,3.2,3.3,3.3,3.3,3.3,3.3,3.4,3.4,3.5,3.5,3.5,3.6,3.7,3.7,3.8,3.9,4.0,4.2,4.3,4.4,5.2],\"xaxis\":\"x\",\"y\":[0,0,1,2,0,1,0,1,0,1,2,0,1,2,0,1,2,3,0,1,2,0,1,2,3,0,1,2,3,4,0,1,2,0,1,2,3,0,1,2,0,1,2,3,4,0,1,2,3,4,0,1,2,3,4,5,0,1,2,3,4,5,0,1,2,3,4,0,1,2,3,4,0,1,2,3,4,0,1,2,3,0,1,2,3,4,0,1,2,3,4,6,1,2,3,4,5,1,2,3,4,1,2,3,4,1,2,3,4,5,1,2,3,4,6,0,2,3,4,5,7,2,4,5,2,3,1,2,4,6,3,4,5,6,9,2,4,2,3,4,4,2,6,4,2,4,3,3,3,4],\"yaxis\":\"y\",\"type\":\"scatter\"}],                        {\"template\":{\"data\":{\"histogram2dcontour\":[{\"type\":\"histogram2dcontour\",\"colorbar\":{\"outlinewidth\":0,\"ticks\":\"\"},\"colorscale\":[[0.0,\"#0d0887\"],[0.1111111111111111,\"#46039f\"],[0.2222222222222222,\"#7201a8\"],[0.3333333333333333,\"#9c179e\"],[0.4444444444444444,\"#bd3786\"],[0.5555555555555556,\"#d8576b\"],[0.6666666666666666,\"#ed7953\"],[0.7777777777777778,\"#fb9f3a\"],[0.8888888888888888,\"#fdca26\"],[1.0,\"#f0f921\"]]}],\"choropleth\":[{\"type\":\"choropleth\",\"colorbar\":{\"outlinewidth\":0,\"ticks\":\"\"}}],\"histogram2d\":[{\"type\":\"histogram2d\",\"colorbar\":{\"outlinewidth\":0,\"ticks\":\"\"},\"colorscale\":[[0.0,\"#0d0887\"],[0.1111111111111111,\"#46039f\"],[0.2222222222222222,\"#7201a8\"],[0.3333333333333333,\"#9c179e\"],[0.4444444444444444,\"#bd3786\"],[0.5555555555555556,\"#d8576b\"],[0.6666666666666666,\"#ed7953\"],[0.7777777777777778,\"#fb9f3a\"],[0.8888888888888888,\"#fdca26\"],[1.0,\"#f0f921\"]]}],\"heatmap\":[{\"type\":\"heatmap\",\"colorbar\":{\"outlinewidth\":0,\"ticks\":\"\"},\"colorscale\":[[0.0,\"#0d0887\"],[0.1111111111111111,\"#46039f\"],[0.2222222222222222,\"#7201a8\"],[0.3333333333333333,\"#9c179e\"],[0.4444444444444444,\"#bd3786\"],[0.5555555555555556,\"#d8576b\"],[0.6666666666666666,\"#ed7953\"],[0.7777777777777778,\"#fb9f3a\"],[0.8888888888888888,\"#fdca26\"],[1.0,\"#f0f921\"]]}],\"heatmapgl\":[{\"type\":\"heatmapgl\",\"colorbar\":{\"outlinewidth\":0,\"ticks\":\"\"},\"colorscale\":[[0.0,\"#0d0887\"],[0.1111111111111111,\"#46039f\"],[0.2222222222222222,\"#7201a8\"],[0.3333333333333333,\"#9c179e\"],[0.4444444444444444,\"#bd3786\"],[0.5555555555555556,\"#d8576b\"],[0.6666666666666666,\"#ed7953\"],[0.7777777777777778,\"#fb9f3a\"],[0.8888888888888888,\"#fdca26\"],[1.0,\"#f0f921\"]]}],\"contourcarpet\":[{\"type\":\"contourcarpet\",\"colorbar\":{\"outlinewidth\":0,\"ticks\":\"\"}}],\"contour\":[{\"type\":\"contour\",\"colorbar\":{\"outlinewidth\":0,\"ticks\":\"\"},\"colorscale\":[[0.0,\"#0d0887\"],[0.1111111111111111,\"#46039f\"],[0.2222222222222222,\"#7201a8\"],[0.3333333333333333,\"#9c179e\"],[0.4444444444444444,\"#bd3786\"],[0.5555555555555556,\"#d8576b\"],[0.6666666666666666,\"#ed7953\"],[0.7777777777777778,\"#fb9f3a\"],[0.8888888888888888,\"#fdca26\"],[1.0,\"#f0f921\"]]}],\"surface\":[{\"type\":\"surface\",\"colorbar\":{\"outlinewidth\":0,\"ticks\":\"\"},\"colorscale\":[[0.0,\"#0d0887\"],[0.1111111111111111,\"#46039f\"],[0.2222222222222222,\"#7201a8\"],[0.3333333333333333,\"#9c179e\"],[0.4444444444444444,\"#bd3786\"],[0.5555555555555556,\"#d8576b\"],[0.6666666666666666,\"#ed7953\"],[0.7777777777777778,\"#fb9f3a\"],[0.8888888888888888,\"#fdca26\"],[1.0,\"#f0f921\"]]}],\"mesh3d\":[{\"type\":\"mesh3d\",\"colorbar\":{\"outlinewidth\":0,\"ticks\":\"\"}}],\"scatter\":[{\"fillpattern\":{\"fillmode\":\"overlay\",\"size\":10,\"solidity\":0.2},\"type\":\"scatter\"}],\"parcoords\":[{\"type\":\"parcoords\",\"line\":{\"colorbar\":{\"outlinewidth\":0,\"ticks\":\"\"}}}],\"scatterpolargl\":[{\"type\":\"scatterpolargl\",\"marker\":{\"colorbar\":{\"outlinewidth\":0,\"ticks\":\"\"}}}],\"bar\":[{\"error_x\":{\"color\":\"#2a3f5f\"},\"error_y\":{\"color\":\"#2a3f5f\"},\"marker\":{\"line\":{\"color\":\"#E5ECF6\",\"width\":0.5},\"pattern\":{\"fillmode\":\"overlay\",\"size\":10,\"solidity\":0.2}},\"type\":\"bar\"}],\"scattergeo\":[{\"type\":\"scattergeo\",\"marker\":{\"colorbar\":{\"outlinewidth\":0,\"ticks\":\"\"}}}],\"scatterpolar\":[{\"type\":\"scatterpolar\",\"marker\":{\"colorbar\":{\"outlinewidth\":0,\"ticks\":\"\"}}}],\"histogram\":[{\"marker\":{\"pattern\":{\"fillmode\":\"overlay\",\"size\":10,\"solidity\":0.2}},\"type\":\"histogram\"}],\"scattergl\":[{\"type\":\"scattergl\",\"marker\":{\"colorbar\":{\"outlinewidth\":0,\"ticks\":\"\"}}}],\"scatter3d\":[{\"type\":\"scatter3d\",\"line\":{\"colorbar\":{\"outlinewidth\":0,\"ticks\":\"\"}},\"marker\":{\"colorbar\":{\"outlinewidth\":0,\"ticks\":\"\"}}}],\"scattermapbox\":[{\"type\":\"scattermapbox\",\"marker\":{\"colorbar\":{\"outlinewidth\":0,\"ticks\":\"\"}}}],\"scatterternary\":[{\"type\":\"scatterternary\",\"marker\":{\"colorbar\":{\"outlinewidth\":0,\"ticks\":\"\"}}}],\"scattercarpet\":[{\"type\":\"scattercarpet\",\"marker\":{\"colorbar\":{\"outlinewidth\":0,\"ticks\":\"\"}}}],\"carpet\":[{\"aaxis\":{\"endlinecolor\":\"#2a3f5f\",\"gridcolor\":\"white\",\"linecolor\":\"white\",\"minorgridcolor\":\"white\",\"startlinecolor\":\"#2a3f5f\"},\"baxis\":{\"endlinecolor\":\"#2a3f5f\",\"gridcolor\":\"white\",\"linecolor\":\"white\",\"minorgridcolor\":\"white\",\"startlinecolor\":\"#2a3f5f\"},\"type\":\"carpet\"}],\"table\":[{\"cells\":{\"fill\":{\"color\":\"#EBF0F8\"},\"line\":{\"color\":\"white\"}},\"header\":{\"fill\":{\"color\":\"#C8D4E3\"},\"line\":{\"color\":\"white\"}},\"type\":\"table\"}],\"barpolar\":[{\"marker\":{\"line\":{\"color\":\"#E5ECF6\",\"width\":0.5},\"pattern\":{\"fillmode\":\"overlay\",\"size\":10,\"solidity\":0.2}},\"type\":\"barpolar\"}],\"pie\":[{\"automargin\":true,\"type\":\"pie\"}]},\"layout\":{\"autotypenumbers\":\"strict\",\"colorway\":[\"#636efa\",\"#EF553B\",\"#00cc96\",\"#ab63fa\",\"#FFA15A\",\"#19d3f3\",\"#FF6692\",\"#B6E880\",\"#FF97FF\",\"#FECB52\"],\"font\":{\"color\":\"#2a3f5f\"},\"hovermode\":\"closest\",\"hoverlabel\":{\"align\":\"left\"},\"paper_bgcolor\":\"white\",\"plot_bgcolor\":\"#E5ECF6\",\"polar\":{\"bgcolor\":\"#E5ECF6\",\"angularaxis\":{\"gridcolor\":\"white\",\"linecolor\":\"white\",\"ticks\":\"\"},\"radialaxis\":{\"gridcolor\":\"white\",\"linecolor\":\"white\",\"ticks\":\"\"}},\"ternary\":{\"bgcolor\":\"#E5ECF6\",\"aaxis\":{\"gridcolor\":\"white\",\"linecolor\":\"white\",\"ticks\":\"\"},\"baxis\":{\"gridcolor\":\"white\",\"linecolor\":\"white\",\"ticks\":\"\"},\"caxis\":{\"gridcolor\":\"white\",\"linecolor\":\"white\",\"ticks\":\"\"}},\"coloraxis\":{\"colorbar\":{\"outlinewidth\":0,\"ticks\":\"\"}},\"colorscale\":{\"sequential\":[[0.0,\"#0d0887\"],[0.1111111111111111,\"#46039f\"],[0.2222222222222222,\"#7201a8\"],[0.3333333333333333,\"#9c179e\"],[0.4444444444444444,\"#bd3786\"],[0.5555555555555556,\"#d8576b\"],[0.6666666666666666,\"#ed7953\"],[0.7777777777777778,\"#fb9f3a\"],[0.8888888888888888,\"#fdca26\"],[1.0,\"#f0f921\"]],\"sequentialminus\":[[0.0,\"#0d0887\"],[0.1111111111111111,\"#46039f\"],[0.2222222222222222,\"#7201a8\"],[0.3333333333333333,\"#9c179e\"],[0.4444444444444444,\"#bd3786\"],[0.5555555555555556,\"#d8576b\"],[0.6666666666666666,\"#ed7953\"],[0.7777777777777778,\"#fb9f3a\"],[0.8888888888888888,\"#fdca26\"],[1.0,\"#f0f921\"]],\"diverging\":[[0,\"#8e0152\"],[0.1,\"#c51b7d\"],[0.2,\"#de77ae\"],[0.3,\"#f1b6da\"],[0.4,\"#fde0ef\"],[0.5,\"#f7f7f7\"],[0.6,\"#e6f5d0\"],[0.7,\"#b8e186\"],[0.8,\"#7fbc41\"],[0.9,\"#4d9221\"],[1,\"#276419\"]]},\"xaxis\":{\"gridcolor\":\"white\",\"linecolor\":\"white\",\"ticks\":\"\",\"title\":{\"standoff\":15},\"zerolinecolor\":\"white\",\"automargin\":true,\"zerolinewidth\":2},\"yaxis\":{\"gridcolor\":\"white\",\"linecolor\":\"white\",\"ticks\":\"\",\"title\":{\"standoff\":15},\"zerolinecolor\":\"white\",\"automargin\":true,\"zerolinewidth\":2},\"scene\":{\"xaxis\":{\"backgroundcolor\":\"#E5ECF6\",\"gridcolor\":\"white\",\"linecolor\":\"white\",\"showbackground\":true,\"ticks\":\"\",\"zerolinecolor\":\"white\",\"gridwidth\":2},\"yaxis\":{\"backgroundcolor\":\"#E5ECF6\",\"gridcolor\":\"white\",\"linecolor\":\"white\",\"showbackground\":true,\"ticks\":\"\",\"zerolinecolor\":\"white\",\"gridwidth\":2},\"zaxis\":{\"backgroundcolor\":\"#E5ECF6\",\"gridcolor\":\"white\",\"linecolor\":\"white\",\"showbackground\":true,\"ticks\":\"\",\"zerolinecolor\":\"white\",\"gridwidth\":2}},\"shapedefaults\":{\"line\":{\"color\":\"#2a3f5f\"}},\"annotationdefaults\":{\"arrowcolor\":\"#2a3f5f\",\"arrowhead\":0,\"arrowwidth\":1},\"geo\":{\"bgcolor\":\"white\",\"landcolor\":\"#E5ECF6\",\"subunitcolor\":\"white\",\"showland\":true,\"showlakes\":true,\"lakecolor\":\"white\"},\"title\":{\"x\":0.05},\"mapbox\":{\"style\":\"light\"}}},\"xaxis\":{\"anchor\":\"y\",\"domain\":[0.0,1.0],\"title\":{\"text\":\"value\"},\"range\":[-0.5,9.5]},\"yaxis\":{\"anchor\":\"x\",\"domain\":[0.0,1.0],\"title\":{\"text\":\"Goals\"},\"range\":[-0.5,9.5]},\"legend\":{\"title\":{\"text\":\"variable\"},\"tracegroupgap\":0,\"itemsizing\":\"constant\"},\"title\":{\"text\":\"xG vs Goals in the Premier League\"},\"height\":600,\"width\":600,\"shapes\":[{\"line\":{\"color\":\"black\",\"width\":2},\"type\":\"line\",\"x0\":-0.5,\"x1\":9.5,\"y0\":-0.5,\"y1\":9.5}]},                        {\"responsive\": true}                    ).then(function(){\n",
       "                            \n",
       "var gd = document.getElementById('3fa27d8d-4253-4faa-9757-1c467ee22ed3');\n",
       "var x = new MutationObserver(function (mutations, observer) {{\n",
       "        var display = window.getComputedStyle(gd).display;\n",
       "        if (!display || display === 'none') {{\n",
       "            console.log([gd, 'removed!']);\n",
       "            Plotly.purge(gd);\n",
       "            observer.disconnect();\n",
       "        }}\n",
       "}});\n",
       "\n",
       "// Listen for the removal of the full notebook cells\n",
       "var notebookContainer = gd.closest('#notebook-container');\n",
       "if (notebookContainer) {{\n",
       "    x.observe(notebookContainer, {childList: true});\n",
       "}}\n",
       "\n",
       "// Listen for the clearing of the current output cell\n",
       "var outputEl = gd.closest('.output');\n",
       "if (outputEl) {{\n",
       "    x.observe(outputEl, {childList: true});\n",
       "}}\n",
       "\n",
       "                        })                };                });            </script>        </div>"
      ]
     },
     "metadata": {},
     "output_type": "display_data"
    }
   ],
   "source": [
    "range_value = [min(df['xG'].min(), df['Goals'].min()), max(df['xG'].max(), df['Goals'].max())]\n",
    "range_value[0] = range_value[0] - .5\n",
    "range_value[1] = range_value[1] + .5\n",
    "\n",
    "fig = px.scatter(df_counts, x=['xG'], y='Goals', size='count',\n",
    "                title='xG vs Goals in the Premier League',\n",
    "                range_x=range_value, range_y=range_value, \n",
    "                width=600, height=600\n",
    "                )\n",
    "\n",
    "fig.add_shape(\n",
    "    type='line',\n",
    "    x0=range_value[0],\n",
    "    x1=range_value[1],\n",
    "    y0=range_value[0],\n",
    "    y1=range_value[1],\n",
    "    line=dict(color='black', width=2)\n",
    ")\n",
    "\n",
    "fig.show()"
   ]
  },
  {
   "cell_type": "code",
   "execution_count": 42,
   "id": "588eb000",
   "metadata": {},
   "outputs": [
    {
     "data": {
      "application/vnd.plotly.v1+json": {
       "config": {
        "plotlyServerURL": "https://plot.ly"
       },
       "data": [
        {
         "coloraxis": "coloraxis",
         "hovertemplate": "xG=%{x}<br>Goals=%{y}<br>count=%{z}<extra></extra>",
         "name": "",
         "nbinsx": 100,
         "nbinsy": 10,
         "type": "histogram2d",
         "x": [
          1.2,
          1,
          1.2,
          1.2,
          1.5,
          0.5,
          1.7,
          0.3,
          0.8,
          1.3,
          0.6,
          0.7,
          0.7,
          1.5,
          0.6,
          0.8,
          1.4,
          1.5,
          0.5,
          2.2,
          2.3,
          1.6,
          1.7,
          0.1,
          1.2,
          1.8,
          0.9,
          1.5,
          2.7,
          0.5,
          1.5,
          0.2,
          1.6,
          0.9,
          1.3,
          2.1,
          1.6,
          1,
          2,
          1,
          1.7,
          0.7,
          0.3,
          0.9,
          1.5,
          1,
          2.6,
          0.9,
          2.4,
          1.8,
          0.3,
          1.3,
          2.1,
          0.9,
          0.8,
          1.7,
          1.8,
          2.1,
          1.8,
          1.3,
          1.4,
          1.1,
          2.2,
          0.1,
          2,
          1.8,
          1.8,
          2.5,
          2.1,
          1.1,
          3.3,
          0.3,
          2.6,
          0.8,
          0.7,
          1.7,
          0.5,
          0.6,
          0.9,
          2.4,
          0.7,
          1.4,
          1,
          1.4,
          1.1,
          1.1,
          1,
          1,
          0.4,
          1.5,
          3.3,
          0.7,
          2.4,
          0.4,
          1.2,
          0.6,
          1.5,
          0.7,
          0.7,
          1.5,
          1.7,
          2.1,
          1.9,
          0.8,
          0.8,
          1.2,
          2.8,
          1,
          2.3,
          1.7,
          2.9,
          0.7,
          0.9,
          1.1,
          0.3,
          2.1,
          2.6,
          1.4,
          1.5,
          1.3,
          1.5,
          0.3,
          1.4,
          0.9,
          0.4,
          1.1,
          1.9,
          0.7,
          2.2,
          1.8,
          0.5,
          1.5,
          0.4,
          1,
          2.4,
          1.6,
          1.7,
          2,
          0.4,
          1.1,
          1.5,
          1.4,
          0.5,
          3.3,
          0.4,
          0.9,
          0.9,
          0.7,
          3.2,
          1.7,
          0.4,
          2.2,
          1.3,
          1.1,
          1.1,
          1,
          1.5,
          1.2,
          2.4,
          0.2,
          1.9,
          1.1,
          0.7,
          0.8,
          2.4,
          0.7,
          1.1,
          1,
          2.7,
          1.1,
          0.6,
          1.4,
          0.3,
          0.7,
          1.5,
          1.9,
          1,
          0.4,
          2.1,
          1,
          1.3,
          1.5,
          2.2,
          0.4,
          0.5,
          1.7,
          1.8,
          0.9,
          1.8,
          0.5,
          0.8,
          0.8,
          2.1,
          1,
          1.7,
          0.1,
          1.2,
          0.8,
          1,
          1,
          1.3,
          0.9,
          1.7,
          1.7,
          1.5,
          0.2,
          1.5,
          0.6,
          2.1,
          1.2,
          0.8,
          1.3,
          1.9,
          1.6,
          1.4,
          0.9,
          1.6,
          0.5,
          1.1,
          0.8,
          2.8,
          0.9,
          2.1,
          0.9,
          1.6,
          1.8,
          0.7,
          1,
          1.6,
          1.2,
          1.9,
          0.4,
          0.7,
          1,
          1.4,
          0.6,
          0.9,
          1.3,
          3.4,
          0.4,
          2.4,
          1.4,
          0.5,
          2,
          1.9,
          0.9,
          1.7,
          1.8,
          2.3,
          0.4,
          1.2,
          1.1,
          1.5,
          1.5,
          2.2,
          1.5,
          2.1,
          1,
          1.2,
          1.5,
          1.2,
          2.3,
          0.3,
          2.1,
          0.3,
          1,
          1.7,
          0.9,
          0.6,
          0.5,
          1.2,
          1.2,
          1.6,
          1.3,
          1.8,
          1.1,
          1.9,
          1.1,
          2.4,
          0.8,
          1.4,
          1.8,
          1.1,
          1.2,
          1,
          0.3,
          0.7,
          2.1,
          0.6,
          1.5,
          1.4,
          2.5,
          2,
          1.1,
          1.9,
          0.6,
          0.5,
          1.9,
          0.4,
          2.5,
          1.7,
          0.8,
          1.4,
          2.7,
          2.1,
          1,
          1.8,
          0.5,
          2.4,
          0.7,
          0.6,
          4.3,
          1.3,
          1.6,
          2.2,
          1,
          0.7,
          2,
          2.2,
          0.4,
          1.5,
          0.8,
          1.7,
          0.1,
          0.6,
          1.6,
          1.2,
          2.9,
          0.7,
          1,
          1.4,
          0.9,
          1.7,
          2,
          1.7,
          1.7,
          1.3,
          2.2,
          1.1,
          1,
          2.2,
          0.6,
          0.5,
          1.4,
          1.6,
          1.4,
          1.8,
          0.9,
          0.8,
          1.4,
          0.4,
          2,
          1,
          2.1,
          1.2,
          2.4,
          1.7,
          0.6,
          1.4,
          1.2,
          0.9,
          1.1,
          2.4,
          1,
          1.9,
          1,
          1.4,
          0.6,
          1.5,
          0.7,
          2.2,
          1.1,
          1.6,
          1.8,
          0.5,
          2.1,
          2.3,
          0.8,
          1.4,
          1.6,
          1.4,
          1.9,
          0.6,
          1.4,
          0.9,
          1.7,
          2.2,
          0.5,
          0.3,
          1.2,
          2.8,
          0.8,
          0.5,
          0.4,
          3.1,
          0.4,
          1,
          0.9,
          1.3,
          0.6,
          1.7,
          0.9,
          1.7,
          2.6,
          2,
          1.8,
          2,
          1.3,
          2.2,
          1.1,
          2.2,
          0.7,
          1,
          1,
          0.4,
          0.9,
          1.4,
          1.3,
          2,
          0.6,
          1.3,
          1.1,
          1.7,
          1.3,
          1.1,
          2.5,
          1.6,
          2,
          1.1,
          0.8,
          1.5,
          0.7,
          1.5,
          1.3,
          1.8,
          1.1,
          3.3,
          0.3,
          2.3,
          0.4,
          1.6,
          1.8,
          0.5,
          3.2,
          2.2,
          0.3,
          0.9,
          2.4,
          1.6,
          0.6,
          1.4,
          0.5,
          1.3,
          1.1,
          0.9,
          1.1,
          2,
          1.9,
          4.4,
          1.6,
          1.5,
          0.5,
          0.5,
          0.8,
          0,
          0.7,
          1.6,
          1.9,
          2.7,
          0.4,
          0.9,
          0.4,
          1,
          2.4,
          0.7,
          0.9,
          0.8,
          0.4,
          2.6,
          1.2,
          2.6,
          0.8,
          1.3,
          0.4,
          2.1,
          1.3,
          1.2,
          0.2,
          1.5,
          1,
          3.5,
          0.3,
          0.5,
          1.2,
          1.4,
          1.9,
          0.8,
          1.7,
          2.8,
          0.8,
          2.2,
          1.4,
          0.9,
          1.7,
          0.9,
          2.7,
          1,
          2,
          2.4,
          1.6,
          2,
          1.5,
          0.2,
          2.1,
          0.8,
          1,
          0.8,
          2.3,
          2.1,
          1.5,
          1.8,
          1.1,
          0.5,
          1.9,
          0.6,
          1.1,
          0.4,
          2.4,
          2.7,
          1.6,
          0.6,
          1.3,
          3.5,
          1.3,
          2.4,
          2.3,
          2.3,
          1.2,
          1.6,
          0.8,
          2.9,
          0.3,
          3.8,
          0.7,
          1.3,
          0.5,
          4.2,
          1.6,
          2.3,
          0.2,
          2.6,
          0.8,
          2.1,
          0.9,
          1.4,
          0.3,
          3.7,
          0.4,
          0.9,
          1.4,
          1.8,
          0.8,
          1.7,
          2.7,
          0.5,
          1,
          2.2,
          0.3,
          1,
          3.3,
          1.2,
          0.7,
          3.4,
          1,
          0.7,
          1.1,
          1.3,
          0.2,
          0.7,
          2,
          2.6,
          1.3,
          0.6,
          1.1,
          0.8,
          1.4,
          0.4,
          2.9,
          0.9,
          3,
          3.9,
          1.4,
          1.9,
          0.5,
          0.5,
          2.9,
          0.8,
          0.9,
          0.8,
          1.1,
          2.2,
          1.3,
          1.4,
          1.8,
          1.6,
          2.3,
          1.8,
          2.7,
          0.7,
          3.5,
          1.4,
          2.7,
          2.5,
          1.3,
          1.7,
          0.8,
          0.5,
          0.4,
          2.7,
          1.5,
          2.8,
          0.9,
          2.4,
          0.9,
          1.5,
          2.4,
          3.7,
          1,
          1.4,
          0.8,
          1,
          0.1,
          1.5,
          2.1,
          2.4,
          2.3,
          1.3,
          1.1,
          0.8,
          1.9,
          2.5,
          0.5,
          0.9,
          2.4,
          0.5,
          0.9,
          2.5,
          2,
          2.1,
          1.7,
          3.3,
          0.8,
          1.6,
          0.7,
          1.2,
          0.6,
          1.9,
          1.6,
          4.3,
          0.8,
          0.2,
          2.5,
          2.2,
          2,
          3.4,
          3.1,
          1.7,
          0.8,
          1.8,
          0.9,
          2.3,
          0.4,
          2.3,
          1.4,
          0.9,
          0.4,
          0.8,
          1.5,
          1.2,
          1.3,
          2.6,
          0.2,
          2.2,
          0.2,
          1.3,
          1.3,
          1.3,
          1.2,
          1.6,
          2.8,
          3.2,
          2.3,
          1.8,
          3.1,
          2.1,
          2.4,
          1.2,
          1.4,
          1.2,
          1.3,
          1.5,
          0.3,
          0.4,
          1.4,
          3.2,
          0.3,
          1.6,
          0.8,
          3.4,
          0.2,
          0.9,
          1.7,
          0.4,
          2.2,
          3.6,
          0.5,
          1.8,
          1.3,
          0.7,
          1.3,
          1.7,
          1.6,
          1,
          1.4,
          1.6,
          2,
          0.6,
          0.6,
          2.1,
          0.9,
          2.5,
          0.6,
          1.2,
          1.2,
          2.1,
          0.1,
          2.2,
          1.8,
          5.2,
          1.9,
          1.4,
          0.5,
          2.2,
          1.7,
          2.9,
          1.8,
          2.8,
          0.5,
          1.8,
          4,
          1,
          0.5,
          1.4,
          1.4,
          2.8,
          1.4,
          1.5,
          2.2,
          1.3,
          1.6
         ],
         "xaxis": "x",
         "xbingroup": "x",
         "y": [
          0,
          2,
          2,
          2,
          4,
          1,
          2,
          0,
          2,
          1,
          2,
          0,
          0,
          1,
          2,
          2,
          1,
          2,
          0,
          2,
          2,
          1,
          4,
          0,
          2,
          2,
          0,
          0,
          4,
          2,
          0,
          0,
          4,
          0,
          1,
          0,
          2,
          2,
          1,
          1,
          1,
          0,
          1,
          2,
          1,
          1,
          3,
          1,
          3,
          2,
          0,
          3,
          3,
          0,
          0,
          2,
          3,
          3,
          2,
          1,
          0,
          1,
          4,
          2,
          1,
          0,
          2,
          1,
          1,
          1,
          9,
          0,
          2,
          1,
          1,
          1,
          0,
          1,
          0,
          2,
          2,
          1,
          1,
          1,
          2,
          1,
          1,
          1,
          0,
          0,
          6,
          0,
          2,
          1,
          1,
          1,
          2,
          1,
          0,
          1,
          0,
          0,
          2,
          3,
          1,
          0,
          0,
          0,
          5,
          2,
          2,
          1,
          2,
          1,
          1,
          1,
          5,
          2,
          3,
          1,
          1,
          0,
          2,
          3,
          0,
          3,
          1,
          1,
          6,
          2,
          0,
          3,
          1,
          0,
          3,
          1,
          1,
          2,
          1,
          2,
          3,
          3,
          1,
          4,
          0,
          0,
          2,
          0,
          6,
          3,
          0,
          0,
          4,
          0,
          2,
          1,
          5,
          1,
          4,
          0,
          3,
          0,
          0,
          1,
          3,
          1,
          2,
          1,
          3,
          2,
          1,
          2,
          1,
          1,
          2,
          0,
          0,
          0,
          2,
          2,
          1,
          0,
          2,
          0,
          1,
          1,
          0,
          2,
          0,
          1,
          0,
          0,
          1,
          0,
          0,
          0,
          2,
          1,
          0,
          1,
          0,
          0,
          1,
          0,
          1,
          0,
          2,
          0,
          3,
          0,
          2,
          0,
          1,
          0,
          3,
          0,
          3,
          1,
          1,
          1,
          4,
          0,
          0,
          4,
          2,
          3,
          1,
          1,
          1,
          2,
          2,
          0,
          0,
          1,
          1,
          1,
          1,
          0,
          4,
          0,
          4,
          1,
          2,
          3,
          0,
          0,
          1,
          2,
          5,
          0,
          1,
          0,
          2,
          2,
          4,
          3,
          2,
          1,
          2,
          3,
          0,
          2,
          0,
          1,
          1,
          2,
          1,
          4,
          3,
          1,
          1,
          2,
          1,
          2,
          4,
          3,
          3,
          1,
          3,
          0,
          0,
          2,
          1,
          0,
          1,
          0,
          0,
          2,
          1,
          2,
          1,
          2,
          2,
          2,
          1,
          3,
          0,
          3,
          0,
          3,
          1,
          2,
          1,
          3,
          3,
          1,
          2,
          0,
          3,
          0,
          1,
          3,
          0,
          2,
          2,
          1,
          0,
          1,
          0,
          0,
          2,
          1,
          1,
          1,
          0,
          2,
          2,
          4,
          0,
          2,
          1,
          1,
          3,
          1,
          0,
          1,
          1,
          4,
          0,
          0,
          3,
          0,
          0,
          1,
          2,
          2,
          1,
          1,
          0,
          4,
          0,
          1,
          2,
          1,
          2,
          1,
          2,
          1,
          1,
          2,
          1,
          0,
          2,
          0,
          3,
          0,
          2,
          0,
          1,
          0,
          1,
          0,
          0,
          2,
          1,
          1,
          4,
          2,
          0,
          0,
          1,
          1,
          0,
          1,
          2,
          2,
          2,
          0,
          0,
          0,
          3,
          0,
          0,
          0,
          3,
          2,
          0,
          1,
          0,
          0,
          1,
          0,
          2,
          4,
          3,
          0,
          2,
          1,
          1,
          0,
          3,
          0,
          1,
          1,
          1,
          0,
          1,
          0,
          2,
          2,
          1,
          1,
          4,
          1,
          1,
          1,
          1,
          1,
          1,
          2,
          2,
          0,
          1,
          1,
          0,
          2,
          3,
          1,
          2,
          0,
          1,
          3,
          2,
          4,
          0,
          1,
          1,
          1,
          0,
          1,
          1,
          0,
          0,
          1,
          1,
          1,
          0,
          2,
          3,
          0,
          2,
          0,
          1,
          1,
          0,
          1,
          0,
          2,
          4,
          0,
          1,
          0,
          1,
          4,
          0,
          0,
          2,
          0,
          4,
          0,
          2,
          0,
          2,
          0,
          3,
          2,
          1,
          0,
          1,
          0,
          4,
          0,
          1,
          0,
          1,
          0,
          2,
          2,
          7,
          0,
          3,
          2,
          1,
          0,
          2,
          2,
          1,
          0,
          1,
          3,
          3,
          1,
          0,
          1,
          0,
          0,
          0,
          3,
          1,
          1,
          2,
          1,
          0,
          2,
          1,
          0,
          1,
          2,
          2,
          4,
          1,
          1,
          3,
          0,
          3,
          3,
          2,
          2,
          4,
          1,
          4,
          1,
          4,
          1,
          1,
          1,
          3,
          3,
          2,
          1,
          2,
          1,
          0,
          2,
          1,
          0,
          2,
          0,
          1,
          1,
          2,
          1,
          0,
          2,
          1,
          2,
          0,
          0,
          1,
          5,
          1,
          0,
          2,
          0,
          0,
          1,
          2,
          0,
          0,
          1,
          1,
          2,
          1,
          0,
          2,
          1,
          1,
          4,
          1,
          5,
          2,
          2,
          3,
          0,
          1,
          2,
          0,
          2,
          2,
          0,
          2,
          3,
          1,
          3,
          3,
          1,
          2,
          2,
          0,
          2,
          1,
          6,
          3,
          3,
          2,
          1,
          0,
          0,
          1,
          1,
          3,
          2,
          2,
          1,
          0,
          4,
          6,
          1,
          2,
          0,
          1,
          0,
          1,
          1,
          3,
          1,
          0,
          2,
          1,
          2,
          4,
          1,
          1,
          4,
          0,
          1,
          2,
          2,
          4,
          3,
          6,
          0,
          2,
          1,
          1,
          0,
          4,
          1,
          3,
          1,
          1,
          2,
          4,
          3,
          2,
          2,
          3,
          1,
          1,
          0,
          3,
          0,
          1,
          0,
          1,
          0,
          1,
          0,
          1,
          3,
          2,
          1,
          1,
          0,
          0,
          2,
          1,
          0,
          5,
          3,
          1,
          5,
          4,
          3,
          2,
          2,
          2,
          1,
          2,
          2,
          2,
          0,
          0,
          2,
          2,
          0,
          0,
          3,
          2,
          0,
          0,
          3,
          0,
          3,
          4,
          1,
          1,
          3,
          1,
          1,
          2,
          2,
          0,
          1,
          1,
          1,
          1,
          0,
          3,
          1,
          3,
          1,
          1,
          0,
          0,
          0,
          1,
          1,
          4,
          1,
          1,
          1,
          1,
          1,
          2,
          1,
          5,
          0,
          4,
          4,
          1,
          0,
          2,
          1,
          2,
          1,
          1,
          4,
          1,
          0
         ],
         "yaxis": "y",
         "ybingroup": "y"
        },
        {
         "alignmentgroup": "True",
         "bingroup": "x",
         "hovertemplate": "xG=%{x}<br>count=%{y}<extra></extra>",
         "legendgroup": "",
         "marker": {
          "color": "white"
         },
         "name": "",
         "offsetgroup": "",
         "opacity": 0.5,
         "showlegend": false,
         "type": "histogram",
         "x": [
          1.2,
          1,
          1.2,
          1.2,
          1.5,
          0.5,
          1.7,
          0.3,
          0.8,
          1.3,
          0.6,
          0.7,
          0.7,
          1.5,
          0.6,
          0.8,
          1.4,
          1.5,
          0.5,
          2.2,
          2.3,
          1.6,
          1.7,
          0.1,
          1.2,
          1.8,
          0.9,
          1.5,
          2.7,
          0.5,
          1.5,
          0.2,
          1.6,
          0.9,
          1.3,
          2.1,
          1.6,
          1,
          2,
          1,
          1.7,
          0.7,
          0.3,
          0.9,
          1.5,
          1,
          2.6,
          0.9,
          2.4,
          1.8,
          0.3,
          1.3,
          2.1,
          0.9,
          0.8,
          1.7,
          1.8,
          2.1,
          1.8,
          1.3,
          1.4,
          1.1,
          2.2,
          0.1,
          2,
          1.8,
          1.8,
          2.5,
          2.1,
          1.1,
          3.3,
          0.3,
          2.6,
          0.8,
          0.7,
          1.7,
          0.5,
          0.6,
          0.9,
          2.4,
          0.7,
          1.4,
          1,
          1.4,
          1.1,
          1.1,
          1,
          1,
          0.4,
          1.5,
          3.3,
          0.7,
          2.4,
          0.4,
          1.2,
          0.6,
          1.5,
          0.7,
          0.7,
          1.5,
          1.7,
          2.1,
          1.9,
          0.8,
          0.8,
          1.2,
          2.8,
          1,
          2.3,
          1.7,
          2.9,
          0.7,
          0.9,
          1.1,
          0.3,
          2.1,
          2.6,
          1.4,
          1.5,
          1.3,
          1.5,
          0.3,
          1.4,
          0.9,
          0.4,
          1.1,
          1.9,
          0.7,
          2.2,
          1.8,
          0.5,
          1.5,
          0.4,
          1,
          2.4,
          1.6,
          1.7,
          2,
          0.4,
          1.1,
          1.5,
          1.4,
          0.5,
          3.3,
          0.4,
          0.9,
          0.9,
          0.7,
          3.2,
          1.7,
          0.4,
          2.2,
          1.3,
          1.1,
          1.1,
          1,
          1.5,
          1.2,
          2.4,
          0.2,
          1.9,
          1.1,
          0.7,
          0.8,
          2.4,
          0.7,
          1.1,
          1,
          2.7,
          1.1,
          0.6,
          1.4,
          0.3,
          0.7,
          1.5,
          1.9,
          1,
          0.4,
          2.1,
          1,
          1.3,
          1.5,
          2.2,
          0.4,
          0.5,
          1.7,
          1.8,
          0.9,
          1.8,
          0.5,
          0.8,
          0.8,
          2.1,
          1,
          1.7,
          0.1,
          1.2,
          0.8,
          1,
          1,
          1.3,
          0.9,
          1.7,
          1.7,
          1.5,
          0.2,
          1.5,
          0.6,
          2.1,
          1.2,
          0.8,
          1.3,
          1.9,
          1.6,
          1.4,
          0.9,
          1.6,
          0.5,
          1.1,
          0.8,
          2.8,
          0.9,
          2.1,
          0.9,
          1.6,
          1.8,
          0.7,
          1,
          1.6,
          1.2,
          1.9,
          0.4,
          0.7,
          1,
          1.4,
          0.6,
          0.9,
          1.3,
          3.4,
          0.4,
          2.4,
          1.4,
          0.5,
          2,
          1.9,
          0.9,
          1.7,
          1.8,
          2.3,
          0.4,
          1.2,
          1.1,
          1.5,
          1.5,
          2.2,
          1.5,
          2.1,
          1,
          1.2,
          1.5,
          1.2,
          2.3,
          0.3,
          2.1,
          0.3,
          1,
          1.7,
          0.9,
          0.6,
          0.5,
          1.2,
          1.2,
          1.6,
          1.3,
          1.8,
          1.1,
          1.9,
          1.1,
          2.4,
          0.8,
          1.4,
          1.8,
          1.1,
          1.2,
          1,
          0.3,
          0.7,
          2.1,
          0.6,
          1.5,
          1.4,
          2.5,
          2,
          1.1,
          1.9,
          0.6,
          0.5,
          1.9,
          0.4,
          2.5,
          1.7,
          0.8,
          1.4,
          2.7,
          2.1,
          1,
          1.8,
          0.5,
          2.4,
          0.7,
          0.6,
          4.3,
          1.3,
          1.6,
          2.2,
          1,
          0.7,
          2,
          2.2,
          0.4,
          1.5,
          0.8,
          1.7,
          0.1,
          0.6,
          1.6,
          1.2,
          2.9,
          0.7,
          1,
          1.4,
          0.9,
          1.7,
          2,
          1.7,
          1.7,
          1.3,
          2.2,
          1.1,
          1,
          2.2,
          0.6,
          0.5,
          1.4,
          1.6,
          1.4,
          1.8,
          0.9,
          0.8,
          1.4,
          0.4,
          2,
          1,
          2.1,
          1.2,
          2.4,
          1.7,
          0.6,
          1.4,
          1.2,
          0.9,
          1.1,
          2.4,
          1,
          1.9,
          1,
          1.4,
          0.6,
          1.5,
          0.7,
          2.2,
          1.1,
          1.6,
          1.8,
          0.5,
          2.1,
          2.3,
          0.8,
          1.4,
          1.6,
          1.4,
          1.9,
          0.6,
          1.4,
          0.9,
          1.7,
          2.2,
          0.5,
          0.3,
          1.2,
          2.8,
          0.8,
          0.5,
          0.4,
          3.1,
          0.4,
          1,
          0.9,
          1.3,
          0.6,
          1.7,
          0.9,
          1.7,
          2.6,
          2,
          1.8,
          2,
          1.3,
          2.2,
          1.1,
          2.2,
          0.7,
          1,
          1,
          0.4,
          0.9,
          1.4,
          1.3,
          2,
          0.6,
          1.3,
          1.1,
          1.7,
          1.3,
          1.1,
          2.5,
          1.6,
          2,
          1.1,
          0.8,
          1.5,
          0.7,
          1.5,
          1.3,
          1.8,
          1.1,
          3.3,
          0.3,
          2.3,
          0.4,
          1.6,
          1.8,
          0.5,
          3.2,
          2.2,
          0.3,
          0.9,
          2.4,
          1.6,
          0.6,
          1.4,
          0.5,
          1.3,
          1.1,
          0.9,
          1.1,
          2,
          1.9,
          4.4,
          1.6,
          1.5,
          0.5,
          0.5,
          0.8,
          0,
          0.7,
          1.6,
          1.9,
          2.7,
          0.4,
          0.9,
          0.4,
          1,
          2.4,
          0.7,
          0.9,
          0.8,
          0.4,
          2.6,
          1.2,
          2.6,
          0.8,
          1.3,
          0.4,
          2.1,
          1.3,
          1.2,
          0.2,
          1.5,
          1,
          3.5,
          0.3,
          0.5,
          1.2,
          1.4,
          1.9,
          0.8,
          1.7,
          2.8,
          0.8,
          2.2,
          1.4,
          0.9,
          1.7,
          0.9,
          2.7,
          1,
          2,
          2.4,
          1.6,
          2,
          1.5,
          0.2,
          2.1,
          0.8,
          1,
          0.8,
          2.3,
          2.1,
          1.5,
          1.8,
          1.1,
          0.5,
          1.9,
          0.6,
          1.1,
          0.4,
          2.4,
          2.7,
          1.6,
          0.6,
          1.3,
          3.5,
          1.3,
          2.4,
          2.3,
          2.3,
          1.2,
          1.6,
          0.8,
          2.9,
          0.3,
          3.8,
          0.7,
          1.3,
          0.5,
          4.2,
          1.6,
          2.3,
          0.2,
          2.6,
          0.8,
          2.1,
          0.9,
          1.4,
          0.3,
          3.7,
          0.4,
          0.9,
          1.4,
          1.8,
          0.8,
          1.7,
          2.7,
          0.5,
          1,
          2.2,
          0.3,
          1,
          3.3,
          1.2,
          0.7,
          3.4,
          1,
          0.7,
          1.1,
          1.3,
          0.2,
          0.7,
          2,
          2.6,
          1.3,
          0.6,
          1.1,
          0.8,
          1.4,
          0.4,
          2.9,
          0.9,
          3,
          3.9,
          1.4,
          1.9,
          0.5,
          0.5,
          2.9,
          0.8,
          0.9,
          0.8,
          1.1,
          2.2,
          1.3,
          1.4,
          1.8,
          1.6,
          2.3,
          1.8,
          2.7,
          0.7,
          3.5,
          1.4,
          2.7,
          2.5,
          1.3,
          1.7,
          0.8,
          0.5,
          0.4,
          2.7,
          1.5,
          2.8,
          0.9,
          2.4,
          0.9,
          1.5,
          2.4,
          3.7,
          1,
          1.4,
          0.8,
          1,
          0.1,
          1.5,
          2.1,
          2.4,
          2.3,
          1.3,
          1.1,
          0.8,
          1.9,
          2.5,
          0.5,
          0.9,
          2.4,
          0.5,
          0.9,
          2.5,
          2,
          2.1,
          1.7,
          3.3,
          0.8,
          1.6,
          0.7,
          1.2,
          0.6,
          1.9,
          1.6,
          4.3,
          0.8,
          0.2,
          2.5,
          2.2,
          2,
          3.4,
          3.1,
          1.7,
          0.8,
          1.8,
          0.9,
          2.3,
          0.4,
          2.3,
          1.4,
          0.9,
          0.4,
          0.8,
          1.5,
          1.2,
          1.3,
          2.6,
          0.2,
          2.2,
          0.2,
          1.3,
          1.3,
          1.3,
          1.2,
          1.6,
          2.8,
          3.2,
          2.3,
          1.8,
          3.1,
          2.1,
          2.4,
          1.2,
          1.4,
          1.2,
          1.3,
          1.5,
          0.3,
          0.4,
          1.4,
          3.2,
          0.3,
          1.6,
          0.8,
          3.4,
          0.2,
          0.9,
          1.7,
          0.4,
          2.2,
          3.6,
          0.5,
          1.8,
          1.3,
          0.7,
          1.3,
          1.7,
          1.6,
          1,
          1.4,
          1.6,
          2,
          0.6,
          0.6,
          2.1,
          0.9,
          2.5,
          0.6,
          1.2,
          1.2,
          2.1,
          0.1,
          2.2,
          1.8,
          5.2,
          1.9,
          1.4,
          0.5,
          2.2,
          1.7,
          2.9,
          1.8,
          2.8,
          0.5,
          1.8,
          4,
          1,
          0.5,
          1.4,
          1.4,
          2.8,
          1.4,
          1.5,
          2.2,
          1.3,
          1.6
         ],
         "xaxis": "x3",
         "yaxis": "y3"
        },
        {
         "alignmentgroup": "True",
         "bingroup": "y",
         "hovertemplate": "Goals=%{y}<br>count=%{x}<extra></extra>",
         "legendgroup": "",
         "marker": {
          "color": "white"
         },
         "name": "",
         "offsetgroup": "",
         "opacity": 0.5,
         "showlegend": false,
         "type": "histogram",
         "xaxis": "x2",
         "y": [
          0,
          2,
          2,
          2,
          4,
          1,
          2,
          0,
          2,
          1,
          2,
          0,
          0,
          1,
          2,
          2,
          1,
          2,
          0,
          2,
          2,
          1,
          4,
          0,
          2,
          2,
          0,
          0,
          4,
          2,
          0,
          0,
          4,
          0,
          1,
          0,
          2,
          2,
          1,
          1,
          1,
          0,
          1,
          2,
          1,
          1,
          3,
          1,
          3,
          2,
          0,
          3,
          3,
          0,
          0,
          2,
          3,
          3,
          2,
          1,
          0,
          1,
          4,
          2,
          1,
          0,
          2,
          1,
          1,
          1,
          9,
          0,
          2,
          1,
          1,
          1,
          0,
          1,
          0,
          2,
          2,
          1,
          1,
          1,
          2,
          1,
          1,
          1,
          0,
          0,
          6,
          0,
          2,
          1,
          1,
          1,
          2,
          1,
          0,
          1,
          0,
          0,
          2,
          3,
          1,
          0,
          0,
          0,
          5,
          2,
          2,
          1,
          2,
          1,
          1,
          1,
          5,
          2,
          3,
          1,
          1,
          0,
          2,
          3,
          0,
          3,
          1,
          1,
          6,
          2,
          0,
          3,
          1,
          0,
          3,
          1,
          1,
          2,
          1,
          2,
          3,
          3,
          1,
          4,
          0,
          0,
          2,
          0,
          6,
          3,
          0,
          0,
          4,
          0,
          2,
          1,
          5,
          1,
          4,
          0,
          3,
          0,
          0,
          1,
          3,
          1,
          2,
          1,
          3,
          2,
          1,
          2,
          1,
          1,
          2,
          0,
          0,
          0,
          2,
          2,
          1,
          0,
          2,
          0,
          1,
          1,
          0,
          2,
          0,
          1,
          0,
          0,
          1,
          0,
          0,
          0,
          2,
          1,
          0,
          1,
          0,
          0,
          1,
          0,
          1,
          0,
          2,
          0,
          3,
          0,
          2,
          0,
          1,
          0,
          3,
          0,
          3,
          1,
          1,
          1,
          4,
          0,
          0,
          4,
          2,
          3,
          1,
          1,
          1,
          2,
          2,
          0,
          0,
          1,
          1,
          1,
          1,
          0,
          4,
          0,
          4,
          1,
          2,
          3,
          0,
          0,
          1,
          2,
          5,
          0,
          1,
          0,
          2,
          2,
          4,
          3,
          2,
          1,
          2,
          3,
          0,
          2,
          0,
          1,
          1,
          2,
          1,
          4,
          3,
          1,
          1,
          2,
          1,
          2,
          4,
          3,
          3,
          1,
          3,
          0,
          0,
          2,
          1,
          0,
          1,
          0,
          0,
          2,
          1,
          2,
          1,
          2,
          2,
          2,
          1,
          3,
          0,
          3,
          0,
          3,
          1,
          2,
          1,
          3,
          3,
          1,
          2,
          0,
          3,
          0,
          1,
          3,
          0,
          2,
          2,
          1,
          0,
          1,
          0,
          0,
          2,
          1,
          1,
          1,
          0,
          2,
          2,
          4,
          0,
          2,
          1,
          1,
          3,
          1,
          0,
          1,
          1,
          4,
          0,
          0,
          3,
          0,
          0,
          1,
          2,
          2,
          1,
          1,
          0,
          4,
          0,
          1,
          2,
          1,
          2,
          1,
          2,
          1,
          1,
          2,
          1,
          0,
          2,
          0,
          3,
          0,
          2,
          0,
          1,
          0,
          1,
          0,
          0,
          2,
          1,
          1,
          4,
          2,
          0,
          0,
          1,
          1,
          0,
          1,
          2,
          2,
          2,
          0,
          0,
          0,
          3,
          0,
          0,
          0,
          3,
          2,
          0,
          1,
          0,
          0,
          1,
          0,
          2,
          4,
          3,
          0,
          2,
          1,
          1,
          0,
          3,
          0,
          1,
          1,
          1,
          0,
          1,
          0,
          2,
          2,
          1,
          1,
          4,
          1,
          1,
          1,
          1,
          1,
          1,
          2,
          2,
          0,
          1,
          1,
          0,
          2,
          3,
          1,
          2,
          0,
          1,
          3,
          2,
          4,
          0,
          1,
          1,
          1,
          0,
          1,
          1,
          0,
          0,
          1,
          1,
          1,
          0,
          2,
          3,
          0,
          2,
          0,
          1,
          1,
          0,
          1,
          0,
          2,
          4,
          0,
          1,
          0,
          1,
          4,
          0,
          0,
          2,
          0,
          4,
          0,
          2,
          0,
          2,
          0,
          3,
          2,
          1,
          0,
          1,
          0,
          4,
          0,
          1,
          0,
          1,
          0,
          2,
          2,
          7,
          0,
          3,
          2,
          1,
          0,
          2,
          2,
          1,
          0,
          1,
          3,
          3,
          1,
          0,
          1,
          0,
          0,
          0,
          3,
          1,
          1,
          2,
          1,
          0,
          2,
          1,
          0,
          1,
          2,
          2,
          4,
          1,
          1,
          3,
          0,
          3,
          3,
          2,
          2,
          4,
          1,
          4,
          1,
          4,
          1,
          1,
          1,
          3,
          3,
          2,
          1,
          2,
          1,
          0,
          2,
          1,
          0,
          2,
          0,
          1,
          1,
          2,
          1,
          0,
          2,
          1,
          2,
          0,
          0,
          1,
          5,
          1,
          0,
          2,
          0,
          0,
          1,
          2,
          0,
          0,
          1,
          1,
          2,
          1,
          0,
          2,
          1,
          1,
          4,
          1,
          5,
          2,
          2,
          3,
          0,
          1,
          2,
          0,
          2,
          2,
          0,
          2,
          3,
          1,
          3,
          3,
          1,
          2,
          2,
          0,
          2,
          1,
          6,
          3,
          3,
          2,
          1,
          0,
          0,
          1,
          1,
          3,
          2,
          2,
          1,
          0,
          4,
          6,
          1,
          2,
          0,
          1,
          0,
          1,
          1,
          3,
          1,
          0,
          2,
          1,
          2,
          4,
          1,
          1,
          4,
          0,
          1,
          2,
          2,
          4,
          3,
          6,
          0,
          2,
          1,
          1,
          0,
          4,
          1,
          3,
          1,
          1,
          2,
          4,
          3,
          2,
          2,
          3,
          1,
          1,
          0,
          3,
          0,
          1,
          0,
          1,
          0,
          1,
          0,
          1,
          3,
          2,
          1,
          1,
          0,
          0,
          2,
          1,
          0,
          5,
          3,
          1,
          5,
          4,
          3,
          2,
          2,
          2,
          1,
          2,
          2,
          2,
          0,
          0,
          2,
          2,
          0,
          0,
          3,
          2,
          0,
          0,
          3,
          0,
          3,
          4,
          1,
          1,
          3,
          1,
          1,
          2,
          2,
          0,
          1,
          1,
          1,
          1,
          0,
          3,
          1,
          3,
          1,
          1,
          0,
          0,
          0,
          1,
          1,
          4,
          1,
          1,
          1,
          1,
          1,
          2,
          1,
          5,
          0,
          4,
          4,
          1,
          0,
          2,
          1,
          2,
          1,
          1,
          4,
          1,
          0
         ],
         "yaxis": "y2"
        }
       ],
       "layout": {
        "barmode": "overlay",
        "coloraxis": {
         "colorbar": {
          "title": {
           "text": "count"
          }
         },
         "colorscale": [
          [
           0,
           "white"
          ],
          [
           1,
           "red"
          ]
         ]
        },
        "legend": {
         "tracegroupgap": 0
        },
        "template": {
         "data": {
          "bar": [
           {
            "error_x": {
             "color": "#2a3f5f"
            },
            "error_y": {
             "color": "#2a3f5f"
            },
            "marker": {
             "line": {
              "color": "#E5ECF6",
              "width": 0.5
             },
             "pattern": {
              "fillmode": "overlay",
              "size": 10,
              "solidity": 0.2
             }
            },
            "type": "bar"
           }
          ],
          "barpolar": [
           {
            "marker": {
             "line": {
              "color": "#E5ECF6",
              "width": 0.5
             },
             "pattern": {
              "fillmode": "overlay",
              "size": 10,
              "solidity": 0.2
             }
            },
            "type": "barpolar"
           }
          ],
          "carpet": [
           {
            "aaxis": {
             "endlinecolor": "#2a3f5f",
             "gridcolor": "white",
             "linecolor": "white",
             "minorgridcolor": "white",
             "startlinecolor": "#2a3f5f"
            },
            "baxis": {
             "endlinecolor": "#2a3f5f",
             "gridcolor": "white",
             "linecolor": "white",
             "minorgridcolor": "white",
             "startlinecolor": "#2a3f5f"
            },
            "type": "carpet"
           }
          ],
          "choropleth": [
           {
            "colorbar": {
             "outlinewidth": 0,
             "ticks": ""
            },
            "type": "choropleth"
           }
          ],
          "contour": [
           {
            "colorbar": {
             "outlinewidth": 0,
             "ticks": ""
            },
            "colorscale": [
             [
              0,
              "#0d0887"
             ],
             [
              0.1111111111111111,
              "#46039f"
             ],
             [
              0.2222222222222222,
              "#7201a8"
             ],
             [
              0.3333333333333333,
              "#9c179e"
             ],
             [
              0.4444444444444444,
              "#bd3786"
             ],
             [
              0.5555555555555556,
              "#d8576b"
             ],
             [
              0.6666666666666666,
              "#ed7953"
             ],
             [
              0.7777777777777778,
              "#fb9f3a"
             ],
             [
              0.8888888888888888,
              "#fdca26"
             ],
             [
              1,
              "#f0f921"
             ]
            ],
            "type": "contour"
           }
          ],
          "contourcarpet": [
           {
            "colorbar": {
             "outlinewidth": 0,
             "ticks": ""
            },
            "type": "contourcarpet"
           }
          ],
          "heatmap": [
           {
            "colorbar": {
             "outlinewidth": 0,
             "ticks": ""
            },
            "colorscale": [
             [
              0,
              "#0d0887"
             ],
             [
              0.1111111111111111,
              "#46039f"
             ],
             [
              0.2222222222222222,
              "#7201a8"
             ],
             [
              0.3333333333333333,
              "#9c179e"
             ],
             [
              0.4444444444444444,
              "#bd3786"
             ],
             [
              0.5555555555555556,
              "#d8576b"
             ],
             [
              0.6666666666666666,
              "#ed7953"
             ],
             [
              0.7777777777777778,
              "#fb9f3a"
             ],
             [
              0.8888888888888888,
              "#fdca26"
             ],
             [
              1,
              "#f0f921"
             ]
            ],
            "type": "heatmap"
           }
          ],
          "heatmapgl": [
           {
            "colorbar": {
             "outlinewidth": 0,
             "ticks": ""
            },
            "colorscale": [
             [
              0,
              "#0d0887"
             ],
             [
              0.1111111111111111,
              "#46039f"
             ],
             [
              0.2222222222222222,
              "#7201a8"
             ],
             [
              0.3333333333333333,
              "#9c179e"
             ],
             [
              0.4444444444444444,
              "#bd3786"
             ],
             [
              0.5555555555555556,
              "#d8576b"
             ],
             [
              0.6666666666666666,
              "#ed7953"
             ],
             [
              0.7777777777777778,
              "#fb9f3a"
             ],
             [
              0.8888888888888888,
              "#fdca26"
             ],
             [
              1,
              "#f0f921"
             ]
            ],
            "type": "heatmapgl"
           }
          ],
          "histogram": [
           {
            "marker": {
             "pattern": {
              "fillmode": "overlay",
              "size": 10,
              "solidity": 0.2
             }
            },
            "type": "histogram"
           }
          ],
          "histogram2d": [
           {
            "colorbar": {
             "outlinewidth": 0,
             "ticks": ""
            },
            "colorscale": [
             [
              0,
              "#0d0887"
             ],
             [
              0.1111111111111111,
              "#46039f"
             ],
             [
              0.2222222222222222,
              "#7201a8"
             ],
             [
              0.3333333333333333,
              "#9c179e"
             ],
             [
              0.4444444444444444,
              "#bd3786"
             ],
             [
              0.5555555555555556,
              "#d8576b"
             ],
             [
              0.6666666666666666,
              "#ed7953"
             ],
             [
              0.7777777777777778,
              "#fb9f3a"
             ],
             [
              0.8888888888888888,
              "#fdca26"
             ],
             [
              1,
              "#f0f921"
             ]
            ],
            "type": "histogram2d"
           }
          ],
          "histogram2dcontour": [
           {
            "colorbar": {
             "outlinewidth": 0,
             "ticks": ""
            },
            "colorscale": [
             [
              0,
              "#0d0887"
             ],
             [
              0.1111111111111111,
              "#46039f"
             ],
             [
              0.2222222222222222,
              "#7201a8"
             ],
             [
              0.3333333333333333,
              "#9c179e"
             ],
             [
              0.4444444444444444,
              "#bd3786"
             ],
             [
              0.5555555555555556,
              "#d8576b"
             ],
             [
              0.6666666666666666,
              "#ed7953"
             ],
             [
              0.7777777777777778,
              "#fb9f3a"
             ],
             [
              0.8888888888888888,
              "#fdca26"
             ],
             [
              1,
              "#f0f921"
             ]
            ],
            "type": "histogram2dcontour"
           }
          ],
          "mesh3d": [
           {
            "colorbar": {
             "outlinewidth": 0,
             "ticks": ""
            },
            "type": "mesh3d"
           }
          ],
          "parcoords": [
           {
            "line": {
             "colorbar": {
              "outlinewidth": 0,
              "ticks": ""
             }
            },
            "type": "parcoords"
           }
          ],
          "pie": [
           {
            "automargin": true,
            "type": "pie"
           }
          ],
          "scatter": [
           {
            "fillpattern": {
             "fillmode": "overlay",
             "size": 10,
             "solidity": 0.2
            },
            "type": "scatter"
           }
          ],
          "scatter3d": [
           {
            "line": {
             "colorbar": {
              "outlinewidth": 0,
              "ticks": ""
             }
            },
            "marker": {
             "colorbar": {
              "outlinewidth": 0,
              "ticks": ""
             }
            },
            "type": "scatter3d"
           }
          ],
          "scattercarpet": [
           {
            "marker": {
             "colorbar": {
              "outlinewidth": 0,
              "ticks": ""
             }
            },
            "type": "scattercarpet"
           }
          ],
          "scattergeo": [
           {
            "marker": {
             "colorbar": {
              "outlinewidth": 0,
              "ticks": ""
             }
            },
            "type": "scattergeo"
           }
          ],
          "scattergl": [
           {
            "marker": {
             "colorbar": {
              "outlinewidth": 0,
              "ticks": ""
             }
            },
            "type": "scattergl"
           }
          ],
          "scattermapbox": [
           {
            "marker": {
             "colorbar": {
              "outlinewidth": 0,
              "ticks": ""
             }
            },
            "type": "scattermapbox"
           }
          ],
          "scatterpolar": [
           {
            "marker": {
             "colorbar": {
              "outlinewidth": 0,
              "ticks": ""
             }
            },
            "type": "scatterpolar"
           }
          ],
          "scatterpolargl": [
           {
            "marker": {
             "colorbar": {
              "outlinewidth": 0,
              "ticks": ""
             }
            },
            "type": "scatterpolargl"
           }
          ],
          "scatterternary": [
           {
            "marker": {
             "colorbar": {
              "outlinewidth": 0,
              "ticks": ""
             }
            },
            "type": "scatterternary"
           }
          ],
          "surface": [
           {
            "colorbar": {
             "outlinewidth": 0,
             "ticks": ""
            },
            "colorscale": [
             [
              0,
              "#0d0887"
             ],
             [
              0.1111111111111111,
              "#46039f"
             ],
             [
              0.2222222222222222,
              "#7201a8"
             ],
             [
              0.3333333333333333,
              "#9c179e"
             ],
             [
              0.4444444444444444,
              "#bd3786"
             ],
             [
              0.5555555555555556,
              "#d8576b"
             ],
             [
              0.6666666666666666,
              "#ed7953"
             ],
             [
              0.7777777777777778,
              "#fb9f3a"
             ],
             [
              0.8888888888888888,
              "#fdca26"
             ],
             [
              1,
              "#f0f921"
             ]
            ],
            "type": "surface"
           }
          ],
          "table": [
           {
            "cells": {
             "fill": {
              "color": "#EBF0F8"
             },
             "line": {
              "color": "white"
             }
            },
            "header": {
             "fill": {
              "color": "#C8D4E3"
             },
             "line": {
              "color": "white"
             }
            },
            "type": "table"
           }
          ]
         },
         "layout": {
          "annotationdefaults": {
           "arrowcolor": "#2a3f5f",
           "arrowhead": 0,
           "arrowwidth": 1
          },
          "autotypenumbers": "strict",
          "coloraxis": {
           "colorbar": {
            "outlinewidth": 0,
            "ticks": ""
           }
          },
          "colorscale": {
           "diverging": [
            [
             0,
             "#8e0152"
            ],
            [
             0.1,
             "#c51b7d"
            ],
            [
             0.2,
             "#de77ae"
            ],
            [
             0.3,
             "#f1b6da"
            ],
            [
             0.4,
             "#fde0ef"
            ],
            [
             0.5,
             "#f7f7f7"
            ],
            [
             0.6,
             "#e6f5d0"
            ],
            [
             0.7,
             "#b8e186"
            ],
            [
             0.8,
             "#7fbc41"
            ],
            [
             0.9,
             "#4d9221"
            ],
            [
             1,
             "#276419"
            ]
           ],
           "sequential": [
            [
             0,
             "#0d0887"
            ],
            [
             0.1111111111111111,
             "#46039f"
            ],
            [
             0.2222222222222222,
             "#7201a8"
            ],
            [
             0.3333333333333333,
             "#9c179e"
            ],
            [
             0.4444444444444444,
             "#bd3786"
            ],
            [
             0.5555555555555556,
             "#d8576b"
            ],
            [
             0.6666666666666666,
             "#ed7953"
            ],
            [
             0.7777777777777778,
             "#fb9f3a"
            ],
            [
             0.8888888888888888,
             "#fdca26"
            ],
            [
             1,
             "#f0f921"
            ]
           ],
           "sequentialminus": [
            [
             0,
             "#0d0887"
            ],
            [
             0.1111111111111111,
             "#46039f"
            ],
            [
             0.2222222222222222,
             "#7201a8"
            ],
            [
             0.3333333333333333,
             "#9c179e"
            ],
            [
             0.4444444444444444,
             "#bd3786"
            ],
            [
             0.5555555555555556,
             "#d8576b"
            ],
            [
             0.6666666666666666,
             "#ed7953"
            ],
            [
             0.7777777777777778,
             "#fb9f3a"
            ],
            [
             0.8888888888888888,
             "#fdca26"
            ],
            [
             1,
             "#f0f921"
            ]
           ]
          },
          "colorway": [
           "#636efa",
           "#EF553B",
           "#00cc96",
           "#ab63fa",
           "#FFA15A",
           "#19d3f3",
           "#FF6692",
           "#B6E880",
           "#FF97FF",
           "#FECB52"
          ],
          "font": {
           "color": "#2a3f5f"
          },
          "geo": {
           "bgcolor": "white",
           "lakecolor": "white",
           "landcolor": "#E5ECF6",
           "showlakes": true,
           "showland": true,
           "subunitcolor": "white"
          },
          "hoverlabel": {
           "align": "left"
          },
          "hovermode": "closest",
          "mapbox": {
           "style": "light"
          },
          "paper_bgcolor": "white",
          "plot_bgcolor": "#E5ECF6",
          "polar": {
           "angularaxis": {
            "gridcolor": "white",
            "linecolor": "white",
            "ticks": ""
           },
           "bgcolor": "#E5ECF6",
           "radialaxis": {
            "gridcolor": "white",
            "linecolor": "white",
            "ticks": ""
           }
          },
          "scene": {
           "xaxis": {
            "backgroundcolor": "#E5ECF6",
            "gridcolor": "white",
            "gridwidth": 2,
            "linecolor": "white",
            "showbackground": true,
            "ticks": "",
            "zerolinecolor": "white"
           },
           "yaxis": {
            "backgroundcolor": "#E5ECF6",
            "gridcolor": "white",
            "gridwidth": 2,
            "linecolor": "white",
            "showbackground": true,
            "ticks": "",
            "zerolinecolor": "white"
           },
           "zaxis": {
            "backgroundcolor": "#E5ECF6",
            "gridcolor": "white",
            "gridwidth": 2,
            "linecolor": "white",
            "showbackground": true,
            "ticks": "",
            "zerolinecolor": "white"
           }
          },
          "shapedefaults": {
           "line": {
            "color": "#2a3f5f"
           }
          },
          "ternary": {
           "aaxis": {
            "gridcolor": "white",
            "linecolor": "white",
            "ticks": ""
           },
           "baxis": {
            "gridcolor": "white",
            "linecolor": "white",
            "ticks": ""
           },
           "bgcolor": "#E5ECF6",
           "caxis": {
            "gridcolor": "white",
            "linecolor": "white",
            "ticks": ""
           }
          },
          "title": {
           "x": 0.05
          },
          "xaxis": {
           "automargin": true,
           "gridcolor": "white",
           "linecolor": "white",
           "ticks": "",
           "title": {
            "standoff": 15
           },
           "zerolinecolor": "white",
           "zerolinewidth": 2
          },
          "yaxis": {
           "automargin": true,
           "gridcolor": "white",
           "linecolor": "white",
           "ticks": "",
           "title": {
            "standoff": 15
           },
           "zerolinecolor": "white",
           "zerolinewidth": 2
          }
         }
        },
        "title": {
         "text": "xG vs Goals Density in the Premier League"
        },
        "xaxis": {
         "anchor": "y",
         "domain": [
          0,
          0.7363
         ],
         "title": {
          "text": "xG"
         }
        },
        "xaxis2": {
         "anchor": "y2",
         "domain": [
          0.7413,
          1
         ],
         "matches": "x2",
         "showgrid": true,
         "showline": false,
         "showticklabels": false,
         "ticks": ""
        },
        "xaxis3": {
         "anchor": "y3",
         "domain": [
          0,
          0.7363
         ],
         "matches": "x",
         "showgrid": true,
         "showticklabels": false
        },
        "xaxis4": {
         "anchor": "y4",
         "domain": [
          0.7413,
          1
         ],
         "matches": "x2",
         "showgrid": true,
         "showline": false,
         "showticklabels": false,
         "ticks": ""
        },
        "yaxis": {
         "anchor": "x",
         "domain": [
          0,
          0.7326
         ],
         "title": {
          "text": "Goals"
         }
        },
        "yaxis2": {
         "anchor": "x2",
         "domain": [
          0,
          0.7326
         ],
         "matches": "y",
         "showgrid": true,
         "showticklabels": false
        },
        "yaxis3": {
         "anchor": "x3",
         "domain": [
          0.7426,
          1
         ],
         "matches": "y3",
         "showgrid": true,
         "showline": false,
         "showticklabels": false,
         "ticks": ""
        },
        "yaxis4": {
         "anchor": "x4",
         "domain": [
          0.7426,
          1
         ],
         "matches": "y3",
         "showgrid": true,
         "showline": false,
         "showticklabels": false,
         "ticks": ""
        }
       }
      },
      "text/html": [
       "<div>                            <div id=\"e01b2283-bd34-4f9a-b4aa-6af0db0a8668\" class=\"plotly-graph-div\" style=\"height:525px; width:100%;\"></div>            <script type=\"text/javascript\">                require([\"plotly\"], function(Plotly) {                    window.PLOTLYENV=window.PLOTLYENV || {};                                    if (document.getElementById(\"e01b2283-bd34-4f9a-b4aa-6af0db0a8668\")) {                    Plotly.newPlot(                        \"e01b2283-bd34-4f9a-b4aa-6af0db0a8668\",                        [{\"coloraxis\":\"coloraxis\",\"hovertemplate\":\"xG=%{x}<br>Goals=%{y}<br>count=%{z}<extra></extra>\",\"name\":\"\",\"nbinsx\":100,\"nbinsy\":10,\"x\":[1.2,1.0,1.2,1.2,1.5,0.5,1.7,0.3,0.8,1.3,0.6,0.7,0.7,1.5,0.6,0.8,1.4,1.5,0.5,2.2,2.3,1.6,1.7,0.1,1.2,1.8,0.9,1.5,2.7,0.5,1.5,0.2,1.6,0.9,1.3,2.1,1.6,1.0,2.0,1.0,1.7,0.7,0.3,0.9,1.5,1.0,2.6,0.9,2.4,1.8,0.3,1.3,2.1,0.9,0.8,1.7,1.8,2.1,1.8,1.3,1.4,1.1,2.2,0.1,2.0,1.8,1.8,2.5,2.1,1.1,3.3,0.3,2.6,0.8,0.7,1.7,0.5,0.6,0.9,2.4,0.7,1.4,1.0,1.4,1.1,1.1,1.0,1.0,0.4,1.5,3.3,0.7,2.4,0.4,1.2,0.6,1.5,0.7,0.7,1.5,1.7,2.1,1.9,0.8,0.8,1.2,2.8,1.0,2.3,1.7,2.9,0.7,0.9,1.1,0.3,2.1,2.6,1.4,1.5,1.3,1.5,0.3,1.4,0.9,0.4,1.1,1.9,0.7,2.2,1.8,0.5,1.5,0.4,1.0,2.4,1.6,1.7,2.0,0.4,1.1,1.5,1.4,0.5,3.3,0.4,0.9,0.9,0.7,3.2,1.7,0.4,2.2,1.3,1.1,1.1,1.0,1.5,1.2,2.4,0.2,1.9,1.1,0.7,0.8,2.4,0.7,1.1,1.0,2.7,1.1,0.6,1.4,0.3,0.7,1.5,1.9,1.0,0.4,2.1,1.0,1.3,1.5,2.2,0.4,0.5,1.7,1.8,0.9,1.8,0.5,0.8,0.8,2.1,1.0,1.7,0.1,1.2,0.8,1.0,1.0,1.3,0.9,1.7,1.7,1.5,0.2,1.5,0.6,2.1,1.2,0.8,1.3,1.9,1.6,1.4,0.9,1.6,0.5,1.1,0.8,2.8,0.9,2.1,0.9,1.6,1.8,0.7,1.0,1.6,1.2,1.9,0.4,0.7,1.0,1.4,0.6,0.9,1.3,3.4,0.4,2.4,1.4,0.5,2.0,1.9,0.9,1.7,1.8,2.3,0.4,1.2,1.1,1.5,1.5,2.2,1.5,2.1,1.0,1.2,1.5,1.2,2.3,0.3,2.1,0.3,1.0,1.7,0.9,0.6,0.5,1.2,1.2,1.6,1.3,1.8,1.1,1.9,1.1,2.4,0.8,1.4,1.8,1.1,1.2,1.0,0.3,0.7,2.1,0.6,1.5,1.4,2.5,2.0,1.1,1.9,0.6,0.5,1.9,0.4,2.5,1.7,0.8,1.4,2.7,2.1,1.0,1.8,0.5,2.4,0.7,0.6,4.3,1.3,1.6,2.2,1.0,0.7,2.0,2.2,0.4,1.5,0.8,1.7,0.1,0.6,1.6,1.2,2.9,0.7,1.0,1.4,0.9,1.7,2.0,1.7,1.7,1.3,2.2,1.1,1.0,2.2,0.6,0.5,1.4,1.6,1.4,1.8,0.9,0.8,1.4,0.4,2.0,1.0,2.1,1.2,2.4,1.7,0.6,1.4,1.2,0.9,1.1,2.4,1.0,1.9,1.0,1.4,0.6,1.5,0.7,2.2,1.1,1.6,1.8,0.5,2.1,2.3,0.8,1.4,1.6,1.4,1.9,0.6,1.4,0.9,1.7,2.2,0.5,0.3,1.2,2.8,0.8,0.5,0.4,3.1,0.4,1.0,0.9,1.3,0.6,1.7,0.9,1.7,2.6,2.0,1.8,2.0,1.3,2.2,1.1,2.2,0.7,1.0,1.0,0.4,0.9,1.4,1.3,2.0,0.6,1.3,1.1,1.7,1.3,1.1,2.5,1.6,2.0,1.1,0.8,1.5,0.7,1.5,1.3,1.8,1.1,3.3,0.3,2.3,0.4,1.6,1.8,0.5,3.2,2.2,0.3,0.9,2.4,1.6,0.6,1.4,0.5,1.3,1.1,0.9,1.1,2.0,1.9,4.4,1.6,1.5,0.5,0.5,0.8,0.0,0.7,1.6,1.9,2.7,0.4,0.9,0.4,1.0,2.4,0.7,0.9,0.8,0.4,2.6,1.2,2.6,0.8,1.3,0.4,2.1,1.3,1.2,0.2,1.5,1.0,3.5,0.3,0.5,1.2,1.4,1.9,0.8,1.7,2.8,0.8,2.2,1.4,0.9,1.7,0.9,2.7,1.0,2.0,2.4,1.6,2.0,1.5,0.2,2.1,0.8,1.0,0.8,2.3,2.1,1.5,1.8,1.1,0.5,1.9,0.6,1.1,0.4,2.4,2.7,1.6,0.6,1.3,3.5,1.3,2.4,2.3,2.3,1.2,1.6,0.8,2.9,0.3,3.8,0.7,1.3,0.5,4.2,1.6,2.3,0.2,2.6,0.8,2.1,0.9,1.4,0.3,3.7,0.4,0.9,1.4,1.8,0.8,1.7,2.7,0.5,1.0,2.2,0.3,1.0,3.3,1.2,0.7,3.4,1.0,0.7,1.1,1.3,0.2,0.7,2.0,2.6,1.3,0.6,1.1,0.8,1.4,0.4,2.9,0.9,3.0,3.9,1.4,1.9,0.5,0.5,2.9,0.8,0.9,0.8,1.1,2.2,1.3,1.4,1.8,1.6,2.3,1.8,2.7,0.7,3.5,1.4,2.7,2.5,1.3,1.7,0.8,0.5,0.4,2.7,1.5,2.8,0.9,2.4,0.9,1.5,2.4,3.7,1.0,1.4,0.8,1.0,0.1,1.5,2.1,2.4,2.3,1.3,1.1,0.8,1.9,2.5,0.5,0.9,2.4,0.5,0.9,2.5,2.0,2.1,1.7,3.3,0.8,1.6,0.7,1.2,0.6,1.9,1.6,4.3,0.8,0.2,2.5,2.2,2.0,3.4,3.1,1.7,0.8,1.8,0.9,2.3,0.4,2.3,1.4,0.9,0.4,0.8,1.5,1.2,1.3,2.6,0.2,2.2,0.2,1.3,1.3,1.3,1.2,1.6,2.8,3.2,2.3,1.8,3.1,2.1,2.4,1.2,1.4,1.2,1.3,1.5,0.3,0.4,1.4,3.2,0.3,1.6,0.8,3.4,0.2,0.9,1.7,0.4,2.2,3.6,0.5,1.8,1.3,0.7,1.3,1.7,1.6,1.0,1.4,1.6,2.0,0.6,0.6,2.1,0.9,2.5,0.6,1.2,1.2,2.1,0.1,2.2,1.8,5.2,1.9,1.4,0.5,2.2,1.7,2.9,1.8,2.8,0.5,1.8,4.0,1.0,0.5,1.4,1.4,2.8,1.4,1.5,2.2,1.3,1.6],\"xaxis\":\"x\",\"xbingroup\":\"x\",\"y\":[0,2,2,2,4,1,2,0,2,1,2,0,0,1,2,2,1,2,0,2,2,1,4,0,2,2,0,0,4,2,0,0,4,0,1,0,2,2,1,1,1,0,1,2,1,1,3,1,3,2,0,3,3,0,0,2,3,3,2,1,0,1,4,2,1,0,2,1,1,1,9,0,2,1,1,1,0,1,0,2,2,1,1,1,2,1,1,1,0,0,6,0,2,1,1,1,2,1,0,1,0,0,2,3,1,0,0,0,5,2,2,1,2,1,1,1,5,2,3,1,1,0,2,3,0,3,1,1,6,2,0,3,1,0,3,1,1,2,1,2,3,3,1,4,0,0,2,0,6,3,0,0,4,0,2,1,5,1,4,0,3,0,0,1,3,1,2,1,3,2,1,2,1,1,2,0,0,0,2,2,1,0,2,0,1,1,0,2,0,1,0,0,1,0,0,0,2,1,0,1,0,0,1,0,1,0,2,0,3,0,2,0,1,0,3,0,3,1,1,1,4,0,0,4,2,3,1,1,1,2,2,0,0,1,1,1,1,0,4,0,4,1,2,3,0,0,1,2,5,0,1,0,2,2,4,3,2,1,2,3,0,2,0,1,1,2,1,4,3,1,1,2,1,2,4,3,3,1,3,0,0,2,1,0,1,0,0,2,1,2,1,2,2,2,1,3,0,3,0,3,1,2,1,3,3,1,2,0,3,0,1,3,0,2,2,1,0,1,0,0,2,1,1,1,0,2,2,4,0,2,1,1,3,1,0,1,1,4,0,0,3,0,0,1,2,2,1,1,0,4,0,1,2,1,2,1,2,1,1,2,1,0,2,0,3,0,2,0,1,0,1,0,0,2,1,1,4,2,0,0,1,1,0,1,2,2,2,0,0,0,3,0,0,0,3,2,0,1,0,0,1,0,2,4,3,0,2,1,1,0,3,0,1,1,1,0,1,0,2,2,1,1,4,1,1,1,1,1,1,2,2,0,1,1,0,2,3,1,2,0,1,3,2,4,0,1,1,1,0,1,1,0,0,1,1,1,0,2,3,0,2,0,1,1,0,1,0,2,4,0,1,0,1,4,0,0,2,0,4,0,2,0,2,0,3,2,1,0,1,0,4,0,1,0,1,0,2,2,7,0,3,2,1,0,2,2,1,0,1,3,3,1,0,1,0,0,0,3,1,1,2,1,0,2,1,0,1,2,2,4,1,1,3,0,3,3,2,2,4,1,4,1,4,1,1,1,3,3,2,1,2,1,0,2,1,0,2,0,1,1,2,1,0,2,1,2,0,0,1,5,1,0,2,0,0,1,2,0,0,1,1,2,1,0,2,1,1,4,1,5,2,2,3,0,1,2,0,2,2,0,2,3,1,3,3,1,2,2,0,2,1,6,3,3,2,1,0,0,1,1,3,2,2,1,0,4,6,1,2,0,1,0,1,1,3,1,0,2,1,2,4,1,1,4,0,1,2,2,4,3,6,0,2,1,1,0,4,1,3,1,1,2,4,3,2,2,3,1,1,0,3,0,1,0,1,0,1,0,1,3,2,1,1,0,0,2,1,0,5,3,1,5,4,3,2,2,2,1,2,2,2,0,0,2,2,0,0,3,2,0,0,3,0,3,4,1,1,3,1,1,2,2,0,1,1,1,1,0,3,1,3,1,1,0,0,0,1,1,4,1,1,1,1,1,2,1,5,0,4,4,1,0,2,1,2,1,1,4,1,0],\"yaxis\":\"y\",\"ybingroup\":\"y\",\"type\":\"histogram2d\"},{\"alignmentgroup\":\"True\",\"bingroup\":\"x\",\"hovertemplate\":\"xG=%{x}<br>count=%{y}<extra></extra>\",\"legendgroup\":\"\",\"marker\":{\"color\":\"white\"},\"name\":\"\",\"offsetgroup\":\"\",\"opacity\":0.5,\"showlegend\":false,\"x\":[1.2,1.0,1.2,1.2,1.5,0.5,1.7,0.3,0.8,1.3,0.6,0.7,0.7,1.5,0.6,0.8,1.4,1.5,0.5,2.2,2.3,1.6,1.7,0.1,1.2,1.8,0.9,1.5,2.7,0.5,1.5,0.2,1.6,0.9,1.3,2.1,1.6,1.0,2.0,1.0,1.7,0.7,0.3,0.9,1.5,1.0,2.6,0.9,2.4,1.8,0.3,1.3,2.1,0.9,0.8,1.7,1.8,2.1,1.8,1.3,1.4,1.1,2.2,0.1,2.0,1.8,1.8,2.5,2.1,1.1,3.3,0.3,2.6,0.8,0.7,1.7,0.5,0.6,0.9,2.4,0.7,1.4,1.0,1.4,1.1,1.1,1.0,1.0,0.4,1.5,3.3,0.7,2.4,0.4,1.2,0.6,1.5,0.7,0.7,1.5,1.7,2.1,1.9,0.8,0.8,1.2,2.8,1.0,2.3,1.7,2.9,0.7,0.9,1.1,0.3,2.1,2.6,1.4,1.5,1.3,1.5,0.3,1.4,0.9,0.4,1.1,1.9,0.7,2.2,1.8,0.5,1.5,0.4,1.0,2.4,1.6,1.7,2.0,0.4,1.1,1.5,1.4,0.5,3.3,0.4,0.9,0.9,0.7,3.2,1.7,0.4,2.2,1.3,1.1,1.1,1.0,1.5,1.2,2.4,0.2,1.9,1.1,0.7,0.8,2.4,0.7,1.1,1.0,2.7,1.1,0.6,1.4,0.3,0.7,1.5,1.9,1.0,0.4,2.1,1.0,1.3,1.5,2.2,0.4,0.5,1.7,1.8,0.9,1.8,0.5,0.8,0.8,2.1,1.0,1.7,0.1,1.2,0.8,1.0,1.0,1.3,0.9,1.7,1.7,1.5,0.2,1.5,0.6,2.1,1.2,0.8,1.3,1.9,1.6,1.4,0.9,1.6,0.5,1.1,0.8,2.8,0.9,2.1,0.9,1.6,1.8,0.7,1.0,1.6,1.2,1.9,0.4,0.7,1.0,1.4,0.6,0.9,1.3,3.4,0.4,2.4,1.4,0.5,2.0,1.9,0.9,1.7,1.8,2.3,0.4,1.2,1.1,1.5,1.5,2.2,1.5,2.1,1.0,1.2,1.5,1.2,2.3,0.3,2.1,0.3,1.0,1.7,0.9,0.6,0.5,1.2,1.2,1.6,1.3,1.8,1.1,1.9,1.1,2.4,0.8,1.4,1.8,1.1,1.2,1.0,0.3,0.7,2.1,0.6,1.5,1.4,2.5,2.0,1.1,1.9,0.6,0.5,1.9,0.4,2.5,1.7,0.8,1.4,2.7,2.1,1.0,1.8,0.5,2.4,0.7,0.6,4.3,1.3,1.6,2.2,1.0,0.7,2.0,2.2,0.4,1.5,0.8,1.7,0.1,0.6,1.6,1.2,2.9,0.7,1.0,1.4,0.9,1.7,2.0,1.7,1.7,1.3,2.2,1.1,1.0,2.2,0.6,0.5,1.4,1.6,1.4,1.8,0.9,0.8,1.4,0.4,2.0,1.0,2.1,1.2,2.4,1.7,0.6,1.4,1.2,0.9,1.1,2.4,1.0,1.9,1.0,1.4,0.6,1.5,0.7,2.2,1.1,1.6,1.8,0.5,2.1,2.3,0.8,1.4,1.6,1.4,1.9,0.6,1.4,0.9,1.7,2.2,0.5,0.3,1.2,2.8,0.8,0.5,0.4,3.1,0.4,1.0,0.9,1.3,0.6,1.7,0.9,1.7,2.6,2.0,1.8,2.0,1.3,2.2,1.1,2.2,0.7,1.0,1.0,0.4,0.9,1.4,1.3,2.0,0.6,1.3,1.1,1.7,1.3,1.1,2.5,1.6,2.0,1.1,0.8,1.5,0.7,1.5,1.3,1.8,1.1,3.3,0.3,2.3,0.4,1.6,1.8,0.5,3.2,2.2,0.3,0.9,2.4,1.6,0.6,1.4,0.5,1.3,1.1,0.9,1.1,2.0,1.9,4.4,1.6,1.5,0.5,0.5,0.8,0.0,0.7,1.6,1.9,2.7,0.4,0.9,0.4,1.0,2.4,0.7,0.9,0.8,0.4,2.6,1.2,2.6,0.8,1.3,0.4,2.1,1.3,1.2,0.2,1.5,1.0,3.5,0.3,0.5,1.2,1.4,1.9,0.8,1.7,2.8,0.8,2.2,1.4,0.9,1.7,0.9,2.7,1.0,2.0,2.4,1.6,2.0,1.5,0.2,2.1,0.8,1.0,0.8,2.3,2.1,1.5,1.8,1.1,0.5,1.9,0.6,1.1,0.4,2.4,2.7,1.6,0.6,1.3,3.5,1.3,2.4,2.3,2.3,1.2,1.6,0.8,2.9,0.3,3.8,0.7,1.3,0.5,4.2,1.6,2.3,0.2,2.6,0.8,2.1,0.9,1.4,0.3,3.7,0.4,0.9,1.4,1.8,0.8,1.7,2.7,0.5,1.0,2.2,0.3,1.0,3.3,1.2,0.7,3.4,1.0,0.7,1.1,1.3,0.2,0.7,2.0,2.6,1.3,0.6,1.1,0.8,1.4,0.4,2.9,0.9,3.0,3.9,1.4,1.9,0.5,0.5,2.9,0.8,0.9,0.8,1.1,2.2,1.3,1.4,1.8,1.6,2.3,1.8,2.7,0.7,3.5,1.4,2.7,2.5,1.3,1.7,0.8,0.5,0.4,2.7,1.5,2.8,0.9,2.4,0.9,1.5,2.4,3.7,1.0,1.4,0.8,1.0,0.1,1.5,2.1,2.4,2.3,1.3,1.1,0.8,1.9,2.5,0.5,0.9,2.4,0.5,0.9,2.5,2.0,2.1,1.7,3.3,0.8,1.6,0.7,1.2,0.6,1.9,1.6,4.3,0.8,0.2,2.5,2.2,2.0,3.4,3.1,1.7,0.8,1.8,0.9,2.3,0.4,2.3,1.4,0.9,0.4,0.8,1.5,1.2,1.3,2.6,0.2,2.2,0.2,1.3,1.3,1.3,1.2,1.6,2.8,3.2,2.3,1.8,3.1,2.1,2.4,1.2,1.4,1.2,1.3,1.5,0.3,0.4,1.4,3.2,0.3,1.6,0.8,3.4,0.2,0.9,1.7,0.4,2.2,3.6,0.5,1.8,1.3,0.7,1.3,1.7,1.6,1.0,1.4,1.6,2.0,0.6,0.6,2.1,0.9,2.5,0.6,1.2,1.2,2.1,0.1,2.2,1.8,5.2,1.9,1.4,0.5,2.2,1.7,2.9,1.8,2.8,0.5,1.8,4.0,1.0,0.5,1.4,1.4,2.8,1.4,1.5,2.2,1.3,1.6],\"xaxis\":\"x3\",\"yaxis\":\"y3\",\"type\":\"histogram\"},{\"alignmentgroup\":\"True\",\"bingroup\":\"y\",\"hovertemplate\":\"Goals=%{y}<br>count=%{x}<extra></extra>\",\"legendgroup\":\"\",\"marker\":{\"color\":\"white\"},\"name\":\"\",\"offsetgroup\":\"\",\"opacity\":0.5,\"showlegend\":false,\"xaxis\":\"x2\",\"y\":[0,2,2,2,4,1,2,0,2,1,2,0,0,1,2,2,1,2,0,2,2,1,4,0,2,2,0,0,4,2,0,0,4,0,1,0,2,2,1,1,1,0,1,2,1,1,3,1,3,2,0,3,3,0,0,2,3,3,2,1,0,1,4,2,1,0,2,1,1,1,9,0,2,1,1,1,0,1,0,2,2,1,1,1,2,1,1,1,0,0,6,0,2,1,1,1,2,1,0,1,0,0,2,3,1,0,0,0,5,2,2,1,2,1,1,1,5,2,3,1,1,0,2,3,0,3,1,1,6,2,0,3,1,0,3,1,1,2,1,2,3,3,1,4,0,0,2,0,6,3,0,0,4,0,2,1,5,1,4,0,3,0,0,1,3,1,2,1,3,2,1,2,1,1,2,0,0,0,2,2,1,0,2,0,1,1,0,2,0,1,0,0,1,0,0,0,2,1,0,1,0,0,1,0,1,0,2,0,3,0,2,0,1,0,3,0,3,1,1,1,4,0,0,4,2,3,1,1,1,2,2,0,0,1,1,1,1,0,4,0,4,1,2,3,0,0,1,2,5,0,1,0,2,2,4,3,2,1,2,3,0,2,0,1,1,2,1,4,3,1,1,2,1,2,4,3,3,1,3,0,0,2,1,0,1,0,0,2,1,2,1,2,2,2,1,3,0,3,0,3,1,2,1,3,3,1,2,0,3,0,1,3,0,2,2,1,0,1,0,0,2,1,1,1,0,2,2,4,0,2,1,1,3,1,0,1,1,4,0,0,3,0,0,1,2,2,1,1,0,4,0,1,2,1,2,1,2,1,1,2,1,0,2,0,3,0,2,0,1,0,1,0,0,2,1,1,4,2,0,0,1,1,0,1,2,2,2,0,0,0,3,0,0,0,3,2,0,1,0,0,1,0,2,4,3,0,2,1,1,0,3,0,1,1,1,0,1,0,2,2,1,1,4,1,1,1,1,1,1,2,2,0,1,1,0,2,3,1,2,0,1,3,2,4,0,1,1,1,0,1,1,0,0,1,1,1,0,2,3,0,2,0,1,1,0,1,0,2,4,0,1,0,1,4,0,0,2,0,4,0,2,0,2,0,3,2,1,0,1,0,4,0,1,0,1,0,2,2,7,0,3,2,1,0,2,2,1,0,1,3,3,1,0,1,0,0,0,3,1,1,2,1,0,2,1,0,1,2,2,4,1,1,3,0,3,3,2,2,4,1,4,1,4,1,1,1,3,3,2,1,2,1,0,2,1,0,2,0,1,1,2,1,0,2,1,2,0,0,1,5,1,0,2,0,0,1,2,0,0,1,1,2,1,0,2,1,1,4,1,5,2,2,3,0,1,2,0,2,2,0,2,3,1,3,3,1,2,2,0,2,1,6,3,3,2,1,0,0,1,1,3,2,2,1,0,4,6,1,2,0,1,0,1,1,3,1,0,2,1,2,4,1,1,4,0,1,2,2,4,3,6,0,2,1,1,0,4,1,3,1,1,2,4,3,2,2,3,1,1,0,3,0,1,0,1,0,1,0,1,3,2,1,1,0,0,2,1,0,5,3,1,5,4,3,2,2,2,1,2,2,2,0,0,2,2,0,0,3,2,0,0,3,0,3,4,1,1,3,1,1,2,2,0,1,1,1,1,0,3,1,3,1,1,0,0,0,1,1,4,1,1,1,1,1,2,1,5,0,4,4,1,0,2,1,2,1,1,4,1,0],\"yaxis\":\"y2\",\"type\":\"histogram\"}],                        {\"template\":{\"data\":{\"histogram2dcontour\":[{\"type\":\"histogram2dcontour\",\"colorbar\":{\"outlinewidth\":0,\"ticks\":\"\"},\"colorscale\":[[0.0,\"#0d0887\"],[0.1111111111111111,\"#46039f\"],[0.2222222222222222,\"#7201a8\"],[0.3333333333333333,\"#9c179e\"],[0.4444444444444444,\"#bd3786\"],[0.5555555555555556,\"#d8576b\"],[0.6666666666666666,\"#ed7953\"],[0.7777777777777778,\"#fb9f3a\"],[0.8888888888888888,\"#fdca26\"],[1.0,\"#f0f921\"]]}],\"choropleth\":[{\"type\":\"choropleth\",\"colorbar\":{\"outlinewidth\":0,\"ticks\":\"\"}}],\"histogram2d\":[{\"type\":\"histogram2d\",\"colorbar\":{\"outlinewidth\":0,\"ticks\":\"\"},\"colorscale\":[[0.0,\"#0d0887\"],[0.1111111111111111,\"#46039f\"],[0.2222222222222222,\"#7201a8\"],[0.3333333333333333,\"#9c179e\"],[0.4444444444444444,\"#bd3786\"],[0.5555555555555556,\"#d8576b\"],[0.6666666666666666,\"#ed7953\"],[0.7777777777777778,\"#fb9f3a\"],[0.8888888888888888,\"#fdca26\"],[1.0,\"#f0f921\"]]}],\"heatmap\":[{\"type\":\"heatmap\",\"colorbar\":{\"outlinewidth\":0,\"ticks\":\"\"},\"colorscale\":[[0.0,\"#0d0887\"],[0.1111111111111111,\"#46039f\"],[0.2222222222222222,\"#7201a8\"],[0.3333333333333333,\"#9c179e\"],[0.4444444444444444,\"#bd3786\"],[0.5555555555555556,\"#d8576b\"],[0.6666666666666666,\"#ed7953\"],[0.7777777777777778,\"#fb9f3a\"],[0.8888888888888888,\"#fdca26\"],[1.0,\"#f0f921\"]]}],\"heatmapgl\":[{\"type\":\"heatmapgl\",\"colorbar\":{\"outlinewidth\":0,\"ticks\":\"\"},\"colorscale\":[[0.0,\"#0d0887\"],[0.1111111111111111,\"#46039f\"],[0.2222222222222222,\"#7201a8\"],[0.3333333333333333,\"#9c179e\"],[0.4444444444444444,\"#bd3786\"],[0.5555555555555556,\"#d8576b\"],[0.6666666666666666,\"#ed7953\"],[0.7777777777777778,\"#fb9f3a\"],[0.8888888888888888,\"#fdca26\"],[1.0,\"#f0f921\"]]}],\"contourcarpet\":[{\"type\":\"contourcarpet\",\"colorbar\":{\"outlinewidth\":0,\"ticks\":\"\"}}],\"contour\":[{\"type\":\"contour\",\"colorbar\":{\"outlinewidth\":0,\"ticks\":\"\"},\"colorscale\":[[0.0,\"#0d0887\"],[0.1111111111111111,\"#46039f\"],[0.2222222222222222,\"#7201a8\"],[0.3333333333333333,\"#9c179e\"],[0.4444444444444444,\"#bd3786\"],[0.5555555555555556,\"#d8576b\"],[0.6666666666666666,\"#ed7953\"],[0.7777777777777778,\"#fb9f3a\"],[0.8888888888888888,\"#fdca26\"],[1.0,\"#f0f921\"]]}],\"surface\":[{\"type\":\"surface\",\"colorbar\":{\"outlinewidth\":0,\"ticks\":\"\"},\"colorscale\":[[0.0,\"#0d0887\"],[0.1111111111111111,\"#46039f\"],[0.2222222222222222,\"#7201a8\"],[0.3333333333333333,\"#9c179e\"],[0.4444444444444444,\"#bd3786\"],[0.5555555555555556,\"#d8576b\"],[0.6666666666666666,\"#ed7953\"],[0.7777777777777778,\"#fb9f3a\"],[0.8888888888888888,\"#fdca26\"],[1.0,\"#f0f921\"]]}],\"mesh3d\":[{\"type\":\"mesh3d\",\"colorbar\":{\"outlinewidth\":0,\"ticks\":\"\"}}],\"scatter\":[{\"fillpattern\":{\"fillmode\":\"overlay\",\"size\":10,\"solidity\":0.2},\"type\":\"scatter\"}],\"parcoords\":[{\"type\":\"parcoords\",\"line\":{\"colorbar\":{\"outlinewidth\":0,\"ticks\":\"\"}}}],\"scatterpolargl\":[{\"type\":\"scatterpolargl\",\"marker\":{\"colorbar\":{\"outlinewidth\":0,\"ticks\":\"\"}}}],\"bar\":[{\"error_x\":{\"color\":\"#2a3f5f\"},\"error_y\":{\"color\":\"#2a3f5f\"},\"marker\":{\"line\":{\"color\":\"#E5ECF6\",\"width\":0.5},\"pattern\":{\"fillmode\":\"overlay\",\"size\":10,\"solidity\":0.2}},\"type\":\"bar\"}],\"scattergeo\":[{\"type\":\"scattergeo\",\"marker\":{\"colorbar\":{\"outlinewidth\":0,\"ticks\":\"\"}}}],\"scatterpolar\":[{\"type\":\"scatterpolar\",\"marker\":{\"colorbar\":{\"outlinewidth\":0,\"ticks\":\"\"}}}],\"histogram\":[{\"marker\":{\"pattern\":{\"fillmode\":\"overlay\",\"size\":10,\"solidity\":0.2}},\"type\":\"histogram\"}],\"scattergl\":[{\"type\":\"scattergl\",\"marker\":{\"colorbar\":{\"outlinewidth\":0,\"ticks\":\"\"}}}],\"scatter3d\":[{\"type\":\"scatter3d\",\"line\":{\"colorbar\":{\"outlinewidth\":0,\"ticks\":\"\"}},\"marker\":{\"colorbar\":{\"outlinewidth\":0,\"ticks\":\"\"}}}],\"scattermapbox\":[{\"type\":\"scattermapbox\",\"marker\":{\"colorbar\":{\"outlinewidth\":0,\"ticks\":\"\"}}}],\"scatterternary\":[{\"type\":\"scatterternary\",\"marker\":{\"colorbar\":{\"outlinewidth\":0,\"ticks\":\"\"}}}],\"scattercarpet\":[{\"type\":\"scattercarpet\",\"marker\":{\"colorbar\":{\"outlinewidth\":0,\"ticks\":\"\"}}}],\"carpet\":[{\"aaxis\":{\"endlinecolor\":\"#2a3f5f\",\"gridcolor\":\"white\",\"linecolor\":\"white\",\"minorgridcolor\":\"white\",\"startlinecolor\":\"#2a3f5f\"},\"baxis\":{\"endlinecolor\":\"#2a3f5f\",\"gridcolor\":\"white\",\"linecolor\":\"white\",\"minorgridcolor\":\"white\",\"startlinecolor\":\"#2a3f5f\"},\"type\":\"carpet\"}],\"table\":[{\"cells\":{\"fill\":{\"color\":\"#EBF0F8\"},\"line\":{\"color\":\"white\"}},\"header\":{\"fill\":{\"color\":\"#C8D4E3\"},\"line\":{\"color\":\"white\"}},\"type\":\"table\"}],\"barpolar\":[{\"marker\":{\"line\":{\"color\":\"#E5ECF6\",\"width\":0.5},\"pattern\":{\"fillmode\":\"overlay\",\"size\":10,\"solidity\":0.2}},\"type\":\"barpolar\"}],\"pie\":[{\"automargin\":true,\"type\":\"pie\"}]},\"layout\":{\"autotypenumbers\":\"strict\",\"colorway\":[\"#636efa\",\"#EF553B\",\"#00cc96\",\"#ab63fa\",\"#FFA15A\",\"#19d3f3\",\"#FF6692\",\"#B6E880\",\"#FF97FF\",\"#FECB52\"],\"font\":{\"color\":\"#2a3f5f\"},\"hovermode\":\"closest\",\"hoverlabel\":{\"align\":\"left\"},\"paper_bgcolor\":\"white\",\"plot_bgcolor\":\"#E5ECF6\",\"polar\":{\"bgcolor\":\"#E5ECF6\",\"angularaxis\":{\"gridcolor\":\"white\",\"linecolor\":\"white\",\"ticks\":\"\"},\"radialaxis\":{\"gridcolor\":\"white\",\"linecolor\":\"white\",\"ticks\":\"\"}},\"ternary\":{\"bgcolor\":\"#E5ECF6\",\"aaxis\":{\"gridcolor\":\"white\",\"linecolor\":\"white\",\"ticks\":\"\"},\"baxis\":{\"gridcolor\":\"white\",\"linecolor\":\"white\",\"ticks\":\"\"},\"caxis\":{\"gridcolor\":\"white\",\"linecolor\":\"white\",\"ticks\":\"\"}},\"coloraxis\":{\"colorbar\":{\"outlinewidth\":0,\"ticks\":\"\"}},\"colorscale\":{\"sequential\":[[0.0,\"#0d0887\"],[0.1111111111111111,\"#46039f\"],[0.2222222222222222,\"#7201a8\"],[0.3333333333333333,\"#9c179e\"],[0.4444444444444444,\"#bd3786\"],[0.5555555555555556,\"#d8576b\"],[0.6666666666666666,\"#ed7953\"],[0.7777777777777778,\"#fb9f3a\"],[0.8888888888888888,\"#fdca26\"],[1.0,\"#f0f921\"]],\"sequentialminus\":[[0.0,\"#0d0887\"],[0.1111111111111111,\"#46039f\"],[0.2222222222222222,\"#7201a8\"],[0.3333333333333333,\"#9c179e\"],[0.4444444444444444,\"#bd3786\"],[0.5555555555555556,\"#d8576b\"],[0.6666666666666666,\"#ed7953\"],[0.7777777777777778,\"#fb9f3a\"],[0.8888888888888888,\"#fdca26\"],[1.0,\"#f0f921\"]],\"diverging\":[[0,\"#8e0152\"],[0.1,\"#c51b7d\"],[0.2,\"#de77ae\"],[0.3,\"#f1b6da\"],[0.4,\"#fde0ef\"],[0.5,\"#f7f7f7\"],[0.6,\"#e6f5d0\"],[0.7,\"#b8e186\"],[0.8,\"#7fbc41\"],[0.9,\"#4d9221\"],[1,\"#276419\"]]},\"xaxis\":{\"gridcolor\":\"white\",\"linecolor\":\"white\",\"ticks\":\"\",\"title\":{\"standoff\":15},\"zerolinecolor\":\"white\",\"automargin\":true,\"zerolinewidth\":2},\"yaxis\":{\"gridcolor\":\"white\",\"linecolor\":\"white\",\"ticks\":\"\",\"title\":{\"standoff\":15},\"zerolinecolor\":\"white\",\"automargin\":true,\"zerolinewidth\":2},\"scene\":{\"xaxis\":{\"backgroundcolor\":\"#E5ECF6\",\"gridcolor\":\"white\",\"linecolor\":\"white\",\"showbackground\":true,\"ticks\":\"\",\"zerolinecolor\":\"white\",\"gridwidth\":2},\"yaxis\":{\"backgroundcolor\":\"#E5ECF6\",\"gridcolor\":\"white\",\"linecolor\":\"white\",\"showbackground\":true,\"ticks\":\"\",\"zerolinecolor\":\"white\",\"gridwidth\":2},\"zaxis\":{\"backgroundcolor\":\"#E5ECF6\",\"gridcolor\":\"white\",\"linecolor\":\"white\",\"showbackground\":true,\"ticks\":\"\",\"zerolinecolor\":\"white\",\"gridwidth\":2}},\"shapedefaults\":{\"line\":{\"color\":\"#2a3f5f\"}},\"annotationdefaults\":{\"arrowcolor\":\"#2a3f5f\",\"arrowhead\":0,\"arrowwidth\":1},\"geo\":{\"bgcolor\":\"white\",\"landcolor\":\"#E5ECF6\",\"subunitcolor\":\"white\",\"showland\":true,\"showlakes\":true,\"lakecolor\":\"white\"},\"title\":{\"x\":0.05},\"mapbox\":{\"style\":\"light\"}}},\"xaxis\":{\"anchor\":\"y\",\"domain\":[0.0,0.7363],\"title\":{\"text\":\"xG\"}},\"yaxis\":{\"anchor\":\"x\",\"domain\":[0.0,0.7326],\"title\":{\"text\":\"Goals\"}},\"xaxis2\":{\"anchor\":\"y2\",\"domain\":[0.7413,1.0],\"matches\":\"x2\",\"showticklabels\":false,\"showline\":false,\"ticks\":\"\",\"showgrid\":true},\"yaxis2\":{\"anchor\":\"x2\",\"domain\":[0.0,0.7326],\"matches\":\"y\",\"showticklabels\":false,\"showgrid\":true},\"xaxis3\":{\"anchor\":\"y3\",\"domain\":[0.0,0.7363],\"matches\":\"x\",\"showticklabels\":false,\"showgrid\":true},\"yaxis3\":{\"anchor\":\"x3\",\"domain\":[0.7426,1.0],\"matches\":\"y3\",\"showticklabels\":false,\"showline\":false,\"ticks\":\"\",\"showgrid\":true},\"xaxis4\":{\"anchor\":\"y4\",\"domain\":[0.7413,1.0],\"matches\":\"x2\",\"showticklabels\":false,\"showgrid\":true,\"showline\":false,\"ticks\":\"\"},\"yaxis4\":{\"anchor\":\"x4\",\"domain\":[0.7426,1.0],\"matches\":\"y3\",\"showticklabels\":false,\"showline\":false,\"ticks\":\"\",\"showgrid\":true},\"coloraxis\":{\"colorbar\":{\"title\":{\"text\":\"count\"}},\"colorscale\":[[0.0,\"white\"],[1.0,\"red\"]]},\"legend\":{\"tracegroupgap\":0},\"title\":{\"text\":\"xG vs Goals Density in the Premier League\"},\"barmode\":\"overlay\"},                        {\"responsive\": true}                    ).then(function(){\n",
       "                            \n",
       "var gd = document.getElementById('e01b2283-bd34-4f9a-b4aa-6af0db0a8668');\n",
       "var x = new MutationObserver(function (mutations, observer) {{\n",
       "        var display = window.getComputedStyle(gd).display;\n",
       "        if (!display || display === 'none') {{\n",
       "            console.log([gd, 'removed!']);\n",
       "            Plotly.purge(gd);\n",
       "            observer.disconnect();\n",
       "        }}\n",
       "}});\n",
       "\n",
       "// Listen for the removal of the full notebook cells\n",
       "var notebookContainer = gd.closest('#notebook-container');\n",
       "if (notebookContainer) {{\n",
       "    x.observe(notebookContainer, {childList: true});\n",
       "}}\n",
       "\n",
       "// Listen for the clearing of the current output cell\n",
       "var outputEl = gd.closest('.output');\n",
       "if (outputEl) {{\n",
       "    x.observe(outputEl, {childList: true});\n",
       "}}\n",
       "\n",
       "                        })                };                });            </script>        </div>"
      ]
     },
     "metadata": {},
     "output_type": "display_data"
    }
   ],
   "source": [
    "fig = px.density_heatmap(df, x='xG', y='Goals', \n",
    "#                          z='Absolute Residuals', histfunc='avg',\n",
    "                title='xG vs Goals Density in the Premier League',\n",
    "                         nbinsx=100, nbinsy=10,\n",
    "                         marginal_x='histogram', marginal_y='histogram',\n",
    "                         color_continuous_scale=['white', 'red']\n",
    "                )\n",
    "\n",
    "fig.show()"
   ]
  },
  {
   "cell_type": "code",
   "execution_count": 43,
   "id": "a9f67ee1",
   "metadata": {},
   "outputs": [
    {
     "data": {
      "text/html": [
       "<div>\n",
       "<style scoped>\n",
       "    .dataframe tbody tr th:only-of-type {\n",
       "        vertical-align: middle;\n",
       "    }\n",
       "\n",
       "    .dataframe tbody tr th {\n",
       "        vertical-align: top;\n",
       "    }\n",
       "\n",
       "    .dataframe thead th {\n",
       "        text-align: right;\n",
       "    }\n",
       "</style>\n",
       "<table border=\"1\" class=\"dataframe\">\n",
       "  <thead>\n",
       "    <tr style=\"text-align: right;\">\n",
       "      <th></th>\n",
       "      <th>Absolute Residuals</th>\n",
       "      <th>counts</th>\n",
       "      <th>freq</th>\n",
       "    </tr>\n",
       "  </thead>\n",
       "  <tbody>\n",
       "    <tr>\n",
       "      <th>12</th>\n",
       "      <td>0.5</td>\n",
       "      <td>63</td>\n",
       "      <td>0.082895</td>\n",
       "    </tr>\n",
       "    <tr>\n",
       "      <th>15</th>\n",
       "      <td>0.7</td>\n",
       "      <td>46</td>\n",
       "      <td>0.060526</td>\n",
       "    </tr>\n",
       "    <tr>\n",
       "      <th>10</th>\n",
       "      <td>0.4</td>\n",
       "      <td>40</td>\n",
       "      <td>0.052632</td>\n",
       "    </tr>\n",
       "    <tr>\n",
       "      <th>22</th>\n",
       "      <td>1.1</td>\n",
       "      <td>37</td>\n",
       "      <td>0.048684</td>\n",
       "    </tr>\n",
       "    <tr>\n",
       "      <th>11</th>\n",
       "      <td>0.4</td>\n",
       "      <td>37</td>\n",
       "      <td>0.048684</td>\n",
       "    </tr>\n",
       "    <tr>\n",
       "      <th>4</th>\n",
       "      <td>0.2</td>\n",
       "      <td>36</td>\n",
       "      <td>0.047368</td>\n",
       "    </tr>\n",
       "    <tr>\n",
       "      <th>9</th>\n",
       "      <td>0.3</td>\n",
       "      <td>35</td>\n",
       "      <td>0.046053</td>\n",
       "    </tr>\n",
       "    <tr>\n",
       "      <th>18</th>\n",
       "      <td>0.8</td>\n",
       "      <td>34</td>\n",
       "      <td>0.044737</td>\n",
       "    </tr>\n",
       "    <tr>\n",
       "      <th>21</th>\n",
       "      <td>1.0</td>\n",
       "      <td>32</td>\n",
       "      <td>0.042105</td>\n",
       "    </tr>\n",
       "    <tr>\n",
       "      <th>14</th>\n",
       "      <td>0.6</td>\n",
       "      <td>30</td>\n",
       "      <td>0.039474</td>\n",
       "    </tr>\n",
       "    <tr>\n",
       "      <th>0</th>\n",
       "      <td>0.0</td>\n",
       "      <td>29</td>\n",
       "      <td>0.038158</td>\n",
       "    </tr>\n",
       "    <tr>\n",
       "      <th>3</th>\n",
       "      <td>0.1</td>\n",
       "      <td>26</td>\n",
       "      <td>0.034211</td>\n",
       "    </tr>\n",
       "    <tr>\n",
       "      <th>23</th>\n",
       "      <td>1.2</td>\n",
       "      <td>24</td>\n",
       "      <td>0.031579</td>\n",
       "    </tr>\n",
       "    <tr>\n",
       "      <th>19</th>\n",
       "      <td>0.9</td>\n",
       "      <td>22</td>\n",
       "      <td>0.028947</td>\n",
       "    </tr>\n",
       "    <tr>\n",
       "      <th>27</th>\n",
       "      <td>1.4</td>\n",
       "      <td>19</td>\n",
       "      <td>0.025000</td>\n",
       "    </tr>\n",
       "    <tr>\n",
       "      <th>29</th>\n",
       "      <td>1.5</td>\n",
       "      <td>18</td>\n",
       "      <td>0.023684</td>\n",
       "    </tr>\n",
       "    <tr>\n",
       "      <th>1</th>\n",
       "      <td>0.1</td>\n",
       "      <td>17</td>\n",
       "      <td>0.022368</td>\n",
       "    </tr>\n",
       "    <tr>\n",
       "      <th>30</th>\n",
       "      <td>1.6</td>\n",
       "      <td>17</td>\n",
       "      <td>0.022368</td>\n",
       "    </tr>\n",
       "    <tr>\n",
       "      <th>26</th>\n",
       "      <td>1.3</td>\n",
       "      <td>16</td>\n",
       "      <td>0.021053</td>\n",
       "    </tr>\n",
       "    <tr>\n",
       "      <th>20</th>\n",
       "      <td>0.9</td>\n",
       "      <td>15</td>\n",
       "      <td>0.019737</td>\n",
       "    </tr>\n",
       "    <tr>\n",
       "      <th>13</th>\n",
       "      <td>0.6</td>\n",
       "      <td>14</td>\n",
       "      <td>0.018421</td>\n",
       "    </tr>\n",
       "    <tr>\n",
       "      <th>8</th>\n",
       "      <td>0.3</td>\n",
       "      <td>12</td>\n",
       "      <td>0.015789</td>\n",
       "    </tr>\n",
       "    <tr>\n",
       "      <th>31</th>\n",
       "      <td>1.7</td>\n",
       "      <td>11</td>\n",
       "      <td>0.014474</td>\n",
       "    </tr>\n",
       "    <tr>\n",
       "      <th>38</th>\n",
       "      <td>2.2</td>\n",
       "      <td>11</td>\n",
       "      <td>0.014474</td>\n",
       "    </tr>\n",
       "    <tr>\n",
       "      <th>24</th>\n",
       "      <td>1.2</td>\n",
       "      <td>9</td>\n",
       "      <td>0.011842</td>\n",
       "    </tr>\n",
       "    <tr>\n",
       "      <th>6</th>\n",
       "      <td>0.2</td>\n",
       "      <td>9</td>\n",
       "      <td>0.011842</td>\n",
       "    </tr>\n",
       "    <tr>\n",
       "      <th>35</th>\n",
       "      <td>1.9</td>\n",
       "      <td>8</td>\n",
       "      <td>0.010526</td>\n",
       "    </tr>\n",
       "    <tr>\n",
       "      <th>16</th>\n",
       "      <td>0.7</td>\n",
       "      <td>8</td>\n",
       "      <td>0.010526</td>\n",
       "    </tr>\n",
       "    <tr>\n",
       "      <th>7</th>\n",
       "      <td>0.3</td>\n",
       "      <td>8</td>\n",
       "      <td>0.010526</td>\n",
       "    </tr>\n",
       "    <tr>\n",
       "      <th>5</th>\n",
       "      <td>0.2</td>\n",
       "      <td>8</td>\n",
       "      <td>0.010526</td>\n",
       "    </tr>\n",
       "    <tr>\n",
       "      <th>25</th>\n",
       "      <td>1.3</td>\n",
       "      <td>7</td>\n",
       "      <td>0.009211</td>\n",
       "    </tr>\n",
       "    <tr>\n",
       "      <th>37</th>\n",
       "      <td>2.1</td>\n",
       "      <td>7</td>\n",
       "      <td>0.009211</td>\n",
       "    </tr>\n",
       "    <tr>\n",
       "      <th>43</th>\n",
       "      <td>2.7</td>\n",
       "      <td>6</td>\n",
       "      <td>0.007895</td>\n",
       "    </tr>\n",
       "    <tr>\n",
       "      <th>40</th>\n",
       "      <td>2.4</td>\n",
       "      <td>6</td>\n",
       "      <td>0.007895</td>\n",
       "    </tr>\n",
       "    <tr>\n",
       "      <th>17</th>\n",
       "      <td>0.8</td>\n",
       "      <td>6</td>\n",
       "      <td>0.007895</td>\n",
       "    </tr>\n",
       "    <tr>\n",
       "      <th>34</th>\n",
       "      <td>1.8</td>\n",
       "      <td>5</td>\n",
       "      <td>0.006579</td>\n",
       "    </tr>\n",
       "    <tr>\n",
       "      <th>33</th>\n",
       "      <td>1.8</td>\n",
       "      <td>5</td>\n",
       "      <td>0.006579</td>\n",
       "    </tr>\n",
       "    <tr>\n",
       "      <th>32</th>\n",
       "      <td>1.7</td>\n",
       "      <td>4</td>\n",
       "      <td>0.005263</td>\n",
       "    </tr>\n",
       "    <tr>\n",
       "      <th>2</th>\n",
       "      <td>0.1</td>\n",
       "      <td>4</td>\n",
       "      <td>0.005263</td>\n",
       "    </tr>\n",
       "    <tr>\n",
       "      <th>39</th>\n",
       "      <td>2.3</td>\n",
       "      <td>3</td>\n",
       "      <td>0.003947</td>\n",
       "    </tr>\n",
       "    <tr>\n",
       "      <th>36</th>\n",
       "      <td>2.0</td>\n",
       "      <td>3</td>\n",
       "      <td>0.003947</td>\n",
       "    </tr>\n",
       "    <tr>\n",
       "      <th>44</th>\n",
       "      <td>2.8</td>\n",
       "      <td>2</td>\n",
       "      <td>0.002632</td>\n",
       "    </tr>\n",
       "    <tr>\n",
       "      <th>45</th>\n",
       "      <td>3.1</td>\n",
       "      <td>2</td>\n",
       "      <td>0.002632</td>\n",
       "    </tr>\n",
       "    <tr>\n",
       "      <th>47</th>\n",
       "      <td>3.4</td>\n",
       "      <td>1</td>\n",
       "      <td>0.001316</td>\n",
       "    </tr>\n",
       "    <tr>\n",
       "      <th>50</th>\n",
       "      <td>4.2</td>\n",
       "      <td>1</td>\n",
       "      <td>0.001316</td>\n",
       "    </tr>\n",
       "    <tr>\n",
       "      <th>49</th>\n",
       "      <td>3.8</td>\n",
       "      <td>1</td>\n",
       "      <td>0.001316</td>\n",
       "    </tr>\n",
       "    <tr>\n",
       "      <th>48</th>\n",
       "      <td>3.5</td>\n",
       "      <td>1</td>\n",
       "      <td>0.001316</td>\n",
       "    </tr>\n",
       "    <tr>\n",
       "      <th>28</th>\n",
       "      <td>1.4</td>\n",
       "      <td>1</td>\n",
       "      <td>0.001316</td>\n",
       "    </tr>\n",
       "    <tr>\n",
       "      <th>46</th>\n",
       "      <td>3.3</td>\n",
       "      <td>1</td>\n",
       "      <td>0.001316</td>\n",
       "    </tr>\n",
       "    <tr>\n",
       "      <th>42</th>\n",
       "      <td>2.6</td>\n",
       "      <td>1</td>\n",
       "      <td>0.001316</td>\n",
       "    </tr>\n",
       "    <tr>\n",
       "      <th>41</th>\n",
       "      <td>2.5</td>\n",
       "      <td>1</td>\n",
       "      <td>0.001316</td>\n",
       "    </tr>\n",
       "    <tr>\n",
       "      <th>51</th>\n",
       "      <td>5.7</td>\n",
       "      <td>1</td>\n",
       "      <td>0.001316</td>\n",
       "    </tr>\n",
       "  </tbody>\n",
       "</table>\n",
       "</div>"
      ],
      "text/plain": [
       "    Absolute Residuals  counts      freq\n",
       "12                 0.5      63  0.082895\n",
       "15                 0.7      46  0.060526\n",
       "10                 0.4      40  0.052632\n",
       "22                 1.1      37  0.048684\n",
       "11                 0.4      37  0.048684\n",
       "4                  0.2      36  0.047368\n",
       "9                  0.3      35  0.046053\n",
       "18                 0.8      34  0.044737\n",
       "21                 1.0      32  0.042105\n",
       "14                 0.6      30  0.039474\n",
       "0                  0.0      29  0.038158\n",
       "3                  0.1      26  0.034211\n",
       "23                 1.2      24  0.031579\n",
       "19                 0.9      22  0.028947\n",
       "27                 1.4      19  0.025000\n",
       "29                 1.5      18  0.023684\n",
       "1                  0.1      17  0.022368\n",
       "30                 1.6      17  0.022368\n",
       "26                 1.3      16  0.021053\n",
       "20                 0.9      15  0.019737\n",
       "13                 0.6      14  0.018421\n",
       "8                  0.3      12  0.015789\n",
       "31                 1.7      11  0.014474\n",
       "38                 2.2      11  0.014474\n",
       "24                 1.2       9  0.011842\n",
       "6                  0.2       9  0.011842\n",
       "35                 1.9       8  0.010526\n",
       "16                 0.7       8  0.010526\n",
       "7                  0.3       8  0.010526\n",
       "5                  0.2       8  0.010526\n",
       "25                 1.3       7  0.009211\n",
       "37                 2.1       7  0.009211\n",
       "43                 2.7       6  0.007895\n",
       "40                 2.4       6  0.007895\n",
       "17                 0.8       6  0.007895\n",
       "34                 1.8       5  0.006579\n",
       "33                 1.8       5  0.006579\n",
       "32                 1.7       4  0.005263\n",
       "2                  0.1       4  0.005263\n",
       "39                 2.3       3  0.003947\n",
       "36                 2.0       3  0.003947\n",
       "44                 2.8       2  0.002632\n",
       "45                 3.1       2  0.002632\n",
       "47                 3.4       1  0.001316\n",
       "50                 4.2       1  0.001316\n",
       "49                 3.8       1  0.001316\n",
       "48                 3.5       1  0.001316\n",
       "28                 1.4       1  0.001316\n",
       "46                 3.3       1  0.001316\n",
       "42                 2.6       1  0.001316\n",
       "41                 2.5       1  0.001316\n",
       "51                 5.7       1  0.001316"
      ]
     },
     "execution_count": 43,
     "metadata": {},
     "output_type": "execute_result"
    }
   ],
   "source": [
    "df_counts_res = df.groupby('Absolute Residuals').size().reset_index(name='counts')\n",
    "df_counts_res['freq'] = df_counts_res['counts'] / df_counts_res['counts'].sum()\n",
    "df_counts_res.sort_values('freq', ascending=False)"
   ]
  },
  {
   "cell_type": "code",
   "execution_count": 44,
   "id": "249c124a",
   "metadata": {},
   "outputs": [
    {
     "data": {
      "application/vnd.plotly.v1+json": {
       "config": {
        "plotlyServerURL": "https://plot.ly"
       },
       "data": [
        {
         "alignmentgroup": "True",
         "bingroup": "x",
         "histfunc": "sum",
         "hovertemplate": "Absolute Residuals=%{x}<br>sum of freq=%{y}<extra></extra>",
         "legendgroup": "",
         "marker": {
          "color": "#636efa",
          "pattern": {
           "shape": ""
          }
         },
         "name": "",
         "nbinsx": 106,
         "offsetgroup": "",
         "orientation": "v",
         "showlegend": false,
         "type": "histogram",
         "x": [
          0,
          0.09999999999999998,
          0.1,
          0.10000000000000009,
          0.19999999999999996,
          0.2,
          0.20000000000000018,
          0.2999999999999998,
          0.3,
          0.30000000000000004,
          0.3999999999999999,
          0.4,
          0.5,
          0.6,
          0.6000000000000001,
          0.7,
          0.7000000000000002,
          0.7999999999999998,
          0.8,
          0.8999999999999999,
          0.9,
          1,
          1.1,
          1.2,
          1.2000000000000002,
          1.2999999999999998,
          1.3,
          1.4,
          1.4000000000000004,
          1.5,
          1.6,
          1.7,
          1.7000000000000002,
          1.7999999999999998,
          1.8,
          1.9,
          2,
          2.1,
          2.2,
          2.3,
          2.4,
          2.5,
          2.6,
          2.7,
          2.8,
          3.1,
          3.3,
          3.4,
          3.5,
          3.8,
          4.2,
          5.7
         ],
         "xaxis": "x",
         "y": [
          0.038157894736842106,
          0.02236842105263158,
          0.005263157894736842,
          0.034210526315789476,
          0.04736842105263158,
          0.010526315789473684,
          0.011842105263157895,
          0.010526315789473684,
          0.015789473684210527,
          0.046052631578947366,
          0.05263157894736842,
          0.04868421052631579,
          0.08289473684210526,
          0.018421052631578946,
          0.039473684210526314,
          0.060526315789473685,
          0.010526315789473684,
          0.007894736842105263,
          0.04473684210526316,
          0.02894736842105263,
          0.019736842105263157,
          0.042105263157894736,
          0.04868421052631579,
          0.031578947368421054,
          0.011842105263157895,
          0.009210526315789473,
          0.021052631578947368,
          0.025,
          0.0013157894736842105,
          0.02368421052631579,
          0.02236842105263158,
          0.014473684210526316,
          0.005263157894736842,
          0.006578947368421052,
          0.006578947368421052,
          0.010526315789473684,
          0.003947368421052632,
          0.009210526315789473,
          0.014473684210526316,
          0.003947368421052632,
          0.007894736842105263,
          0.0013157894736842105,
          0.0013157894736842105,
          0.007894736842105263,
          0.002631578947368421,
          0.002631578947368421,
          0.0013157894736842105,
          0.0013157894736842105,
          0.0013157894736842105,
          0.0013157894736842105,
          0.0013157894736842105,
          0.0013157894736842105
         ],
         "yaxis": "y"
        },
        {
         "hovertemplate": "x=%{x}<br>y=%{y}<extra></extra>",
         "legendgroup": "",
         "line": {
          "color": "red",
          "dash": "solid"
         },
         "marker": {
          "symbol": "circle"
         },
         "mode": "lines",
         "name": "",
         "orientation": "v",
         "showlegend": false,
         "type": "scatter",
         "x": [
          0,
          0.005705705705705706,
          0.011411411411411412,
          0.017117117117117116,
          0.022822822822822823,
          0.02852852852852853,
          0.03423423423423423,
          0.03993993993993994,
          0.04564564564564565,
          0.051351351351351354,
          0.05705705705705706,
          0.06276276276276277,
          0.06846846846846846,
          0.07417417417417417,
          0.07987987987987988,
          0.08558558558558559,
          0.0912912912912913,
          0.096996996996997,
          0.10270270270270271,
          0.10840840840840842,
          0.11411411411411412,
          0.11981981981981982,
          0.12552552552552554,
          0.13123123123123123,
          0.13693693693693693,
          0.14264264264264265,
          0.14834834834834834,
          0.15405405405405406,
          0.15975975975975976,
          0.16546546546546548,
          0.17117117117117117,
          0.1768768768768769,
          0.1825825825825826,
          0.18828828828828828,
          0.193993993993994,
          0.1996996996996997,
          0.20540540540540542,
          0.2111111111111111,
          0.21681681681681683,
          0.22252252252252253,
          0.22822822822822825,
          0.23393393393393394,
          0.23963963963963963,
          0.24534534534534536,
          0.2510510510510511,
          0.25675675675675674,
          0.26246246246246246,
          0.2681681681681682,
          0.27387387387387385,
          0.2795795795795796,
          0.2852852852852853,
          0.290990990990991,
          0.2966966966966967,
          0.3024024024024024,
          0.3081081081081081,
          0.31381381381381385,
          0.3195195195195195,
          0.32522522522522523,
          0.33093093093093096,
          0.3366366366366366,
          0.34234234234234234,
          0.34804804804804806,
          0.3537537537537538,
          0.35945945945945945,
          0.3651651651651652,
          0.3708708708708709,
          0.37657657657657656,
          0.3822822822822823,
          0.387987987987988,
          0.3936936936936937,
          0.3993993993993994,
          0.4051051051051051,
          0.41081081081081083,
          0.4165165165165165,
          0.4222222222222222,
          0.42792792792792794,
          0.43363363363363366,
          0.43933933933933933,
          0.44504504504504505,
          0.4507507507507508,
          0.4564564564564565,
          0.46216216216216216,
          0.4678678678678679,
          0.4735735735735736,
          0.47927927927927927,
          0.484984984984985,
          0.4906906906906907,
          0.49639639639639643,
          0.5021021021021022,
          0.5078078078078078,
          0.5135135135135135,
          0.5192192192192192,
          0.5249249249249249,
          0.5306306306306307,
          0.5363363363363364,
          0.5420420420420421,
          0.5477477477477477,
          0.5534534534534534,
          0.5591591591591591,
          0.5648648648648649,
          0.5705705705705706,
          0.5762762762762763,
          0.581981981981982,
          0.5876876876876878,
          0.5933933933933934,
          0.5990990990990991,
          0.6048048048048048,
          0.6105105105105105,
          0.6162162162162163,
          0.621921921921922,
          0.6276276276276277,
          0.6333333333333333,
          0.639039039039039,
          0.6447447447447447,
          0.6504504504504505,
          0.6561561561561562,
          0.6618618618618619,
          0.6675675675675676,
          0.6732732732732732,
          0.678978978978979,
          0.6846846846846847,
          0.6903903903903904,
          0.6960960960960961,
          0.7018018018018019,
          0.7075075075075076,
          0.7132132132132132,
          0.7189189189189189,
          0.7246246246246246,
          0.7303303303303303,
          0.7360360360360361,
          0.7417417417417418,
          0.7474474474474475,
          0.7531531531531531,
          0.7588588588588588,
          0.7645645645645646,
          0.7702702702702703,
          0.775975975975976,
          0.7816816816816817,
          0.7873873873873874,
          0.7930930930930931,
          0.7987987987987988,
          0.8045045045045045,
          0.8102102102102102,
          0.815915915915916,
          0.8216216216216217,
          0.8273273273273274,
          0.833033033033033,
          0.8387387387387387,
          0.8444444444444444,
          0.8501501501501502,
          0.8558558558558559,
          0.8615615615615616,
          0.8672672672672673,
          0.8729729729729729,
          0.8786786786786787,
          0.8843843843843844,
          0.8900900900900901,
          0.8957957957957958,
          0.9015015015015015,
          0.9072072072072073,
          0.912912912912913,
          0.9186186186186186,
          0.9243243243243243,
          0.93003003003003,
          0.9357357357357358,
          0.9414414414414415,
          0.9471471471471472,
          0.9528528528528529,
          0.9585585585585585,
          0.9642642642642643,
          0.96996996996997,
          0.9756756756756757,
          0.9813813813813814,
          0.9870870870870871,
          0.9927927927927929,
          0.9984984984984985,
          1.0042042042042043,
          1.00990990990991,
          1.0156156156156155,
          1.0213213213213213,
          1.027027027027027,
          1.0327327327327327,
          1.0384384384384384,
          1.0441441441441441,
          1.0498498498498499,
          1.0555555555555556,
          1.0612612612612613,
          1.066966966966967,
          1.0726726726726727,
          1.0783783783783785,
          1.0840840840840842,
          1.08978978978979,
          1.0954954954954954,
          1.1012012012012011,
          1.1069069069069069,
          1.1126126126126126,
          1.1183183183183183,
          1.124024024024024,
          1.1297297297297297,
          1.1354354354354355,
          1.1411411411411412,
          1.146846846846847,
          1.1525525525525526,
          1.1582582582582583,
          1.163963963963964,
          1.1696696696696698,
          1.1753753753753755,
          1.181081081081081,
          1.1867867867867867,
          1.1924924924924925,
          1.1981981981981982,
          1.203903903903904,
          1.2096096096096096,
          1.2153153153153153,
          1.221021021021021,
          1.2267267267267268,
          1.2324324324324325,
          1.2381381381381382,
          1.243843843843844,
          1.2495495495495497,
          1.2552552552552554,
          1.2609609609609609,
          1.2666666666666666,
          1.2723723723723723,
          1.278078078078078,
          1.2837837837837838,
          1.2894894894894895,
          1.2951951951951952,
          1.300900900900901,
          1.3066066066066067,
          1.3123123123123124,
          1.318018018018018,
          1.3237237237237238,
          1.3294294294294295,
          1.3351351351351353,
          1.3408408408408408,
          1.3465465465465465,
          1.3522522522522522,
          1.357957957957958,
          1.3636636636636636,
          1.3693693693693694,
          1.375075075075075,
          1.3807807807807808,
          1.3864864864864865,
          1.3921921921921923,
          1.397897897897898,
          1.4036036036036037,
          1.4093093093093094,
          1.4150150150150151,
          1.4207207207207206,
          1.4264264264264264,
          1.432132132132132,
          1.4378378378378378,
          1.4435435435435435,
          1.4492492492492492,
          1.454954954954955,
          1.4606606606606607,
          1.4663663663663664,
          1.4720720720720721,
          1.4777777777777779,
          1.4834834834834836,
          1.4891891891891893,
          1.494894894894895,
          1.5006006006006007,
          1.5063063063063062,
          1.512012012012012,
          1.5177177177177177,
          1.5234234234234234,
          1.5291291291291291,
          1.5348348348348348,
          1.5405405405405406,
          1.5462462462462463,
          1.551951951951952,
          1.5576576576576577,
          1.5633633633633635,
          1.5690690690690692,
          1.574774774774775,
          1.5804804804804806,
          1.5861861861861861,
          1.5918918918918918,
          1.5975975975975976,
          1.6033033033033033,
          1.609009009009009,
          1.6147147147147147,
          1.6204204204204204,
          1.6261261261261262,
          1.631831831831832,
          1.6375375375375376,
          1.6432432432432433,
          1.648948948948949,
          1.6546546546546548,
          1.6603603603603605,
          1.666066066066066,
          1.6717717717717717,
          1.6774774774774774,
          1.6831831831831832,
          1.6888888888888889,
          1.6945945945945946,
          1.7003003003003003,
          1.706006006006006,
          1.7117117117117118,
          1.7174174174174175,
          1.7231231231231232,
          1.728828828828829,
          1.7345345345345347,
          1.7402402402402404,
          1.7459459459459459,
          1.7516516516516516,
          1.7573573573573573,
          1.763063063063063,
          1.7687687687687688,
          1.7744744744744745,
          1.7801801801801802,
          1.785885885885886,
          1.7915915915915916,
          1.7972972972972974,
          1.803003003003003,
          1.8087087087087088,
          1.8144144144144145,
          1.8201201201201203,
          1.825825825825826,
          1.8315315315315315,
          1.8372372372372372,
          1.842942942942943,
          1.8486486486486486,
          1.8543543543543544,
          1.86006006006006,
          1.8657657657657658,
          1.8714714714714715,
          1.8771771771771772,
          1.882882882882883,
          1.8885885885885887,
          1.8942942942942944,
          1.9000000000000001,
          1.9057057057057059,
          1.9114114114114114,
          1.917117117117117,
          1.9228228228228228,
          1.9285285285285285,
          1.9342342342342342,
          1.93993993993994,
          1.9456456456456457,
          1.9513513513513514,
          1.9570570570570571,
          1.9627627627627628,
          1.9684684684684686,
          1.9741741741741743,
          1.97987987987988,
          1.9855855855855857,
          1.9912912912912912,
          1.996996996996997,
          2.002702702702703,
          2.0084084084084086,
          2.0141141141141143,
          2.01981981981982,
          2.025525525525526,
          2.031231231231231,
          2.036936936936937,
          2.0426426426426425,
          2.0483483483483482,
          2.054054054054054,
          2.0597597597597597,
          2.0654654654654654,
          2.071171171171171,
          2.076876876876877,
          2.0825825825825826,
          2.0882882882882883,
          2.093993993993994,
          2.0996996996996997,
          2.1054054054054054,
          2.111111111111111,
          2.116816816816817,
          2.1225225225225226,
          2.1282282282282283,
          2.133933933933934,
          2.1396396396396398,
          2.1453453453453455,
          2.151051051051051,
          2.156756756756757,
          2.1624624624624627,
          2.1681681681681684,
          2.173873873873874,
          2.17957957957958,
          2.1852852852852855,
          2.190990990990991,
          2.1966966966966965,
          2.2024024024024023,
          2.208108108108108,
          2.2138138138138137,
          2.2195195195195194,
          2.225225225225225,
          2.230930930930931,
          2.2366366366366366,
          2.2423423423423423,
          2.248048048048048,
          2.2537537537537538,
          2.2594594594594595,
          2.265165165165165,
          2.270870870870871,
          2.2765765765765766,
          2.2822822822822824,
          2.287987987987988,
          2.293693693693694,
          2.2993993993993995,
          2.3051051051051052,
          2.310810810810811,
          2.3165165165165167,
          2.3222222222222224,
          2.327927927927928,
          2.333633633633634,
          2.3393393393393396,
          2.3450450450450453,
          2.350750750750751,
          2.3564564564564563,
          2.362162162162162,
          2.3678678678678677,
          2.3735735735735735,
          2.379279279279279,
          2.384984984984985,
          2.3906906906906906,
          2.3963963963963963,
          2.402102102102102,
          2.407807807807808,
          2.4135135135135135,
          2.4192192192192192,
          2.424924924924925,
          2.4306306306306307,
          2.4363363363363364,
          2.442042042042042,
          2.447747747747748,
          2.4534534534534536,
          2.4591591591591593,
          2.464864864864865,
          2.4705705705705707,
          2.4762762762762764,
          2.481981981981982,
          2.487687687687688,
          2.4933933933933936,
          2.4990990990990993,
          2.504804804804805,
          2.5105105105105108,
          2.516216216216216,
          2.5219219219219218,
          2.5276276276276275,
          2.533333333333333,
          2.539039039039039,
          2.5447447447447447,
          2.5504504504504504,
          2.556156156156156,
          2.561861861861862,
          2.5675675675675675,
          2.5732732732732733,
          2.578978978978979,
          2.5846846846846847,
          2.5903903903903904,
          2.596096096096096,
          2.601801801801802,
          2.6075075075075076,
          2.6132132132132133,
          2.618918918918919,
          2.6246246246246248,
          2.6303303303303305,
          2.636036036036036,
          2.641741741741742,
          2.6474474474474476,
          2.6531531531531534,
          2.658858858858859,
          2.664564564564565,
          2.6702702702702705,
          2.6759759759759763,
          2.6816816816816815,
          2.6873873873873872,
          2.693093093093093,
          2.6987987987987987,
          2.7045045045045044,
          2.71021021021021,
          2.715915915915916,
          2.7216216216216216,
          2.7273273273273273,
          2.733033033033033,
          2.7387387387387387,
          2.7444444444444445,
          2.75015015015015,
          2.755855855855856,
          2.7615615615615616,
          2.7672672672672673,
          2.772972972972973,
          2.778678678678679,
          2.7843843843843845,
          2.7900900900900902,
          2.795795795795796,
          2.8015015015015017,
          2.8072072072072074,
          2.812912912912913,
          2.818618618618619,
          2.8243243243243246,
          2.8300300300300303,
          2.835735735735736,
          2.8414414414414413,
          2.847147147147147,
          2.8528528528528527,
          2.8585585585585584,
          2.864264264264264,
          2.86996996996997,
          2.8756756756756756,
          2.8813813813813813,
          2.887087087087087,
          2.8927927927927928,
          2.8984984984984985,
          2.904204204204204,
          2.90990990990991,
          2.9156156156156157,
          2.9213213213213214,
          2.927027027027027,
          2.932732732732733,
          2.9384384384384385,
          2.9441441441441443,
          2.94984984984985,
          2.9555555555555557,
          2.9612612612612614,
          2.966966966966967,
          2.972672672672673,
          2.9783783783783786,
          2.9840840840840843,
          2.98978978978979,
          2.9954954954954958,
          3.0012012012012015,
          3.0069069069069068,
          3.0126126126126125,
          3.018318318318318,
          3.024024024024024,
          3.0297297297297296,
          3.0354354354354354,
          3.041141141141141,
          3.046846846846847,
          3.0525525525525525,
          3.0582582582582583,
          3.063963963963964,
          3.0696696696696697,
          3.0753753753753754,
          3.081081081081081,
          3.086786786786787,
          3.0924924924924926,
          3.0981981981981983,
          3.103903903903904,
          3.1096096096096097,
          3.1153153153153155,
          3.121021021021021,
          3.126726726726727,
          3.1324324324324326,
          3.1381381381381384,
          3.143843843843844,
          3.14954954954955,
          3.1552552552552555,
          3.1609609609609612,
          3.1666666666666665,
          3.1723723723723722,
          3.178078078078078,
          3.1837837837837837,
          3.1894894894894894,
          3.195195195195195,
          3.200900900900901,
          3.2066066066066066,
          3.2123123123123123,
          3.218018018018018,
          3.2237237237237237,
          3.2294294294294295,
          3.235135135135135,
          3.240840840840841,
          3.2465465465465466,
          3.2522522522522523,
          3.257957957957958,
          3.263663663663664,
          3.2693693693693695,
          3.2750750750750752,
          3.280780780780781,
          3.2864864864864867,
          3.2921921921921924,
          3.297897897897898,
          3.303603603603604,
          3.3093093093093096,
          3.3150150150150153,
          3.320720720720721,
          3.3264264264264267,
          3.332132132132132,
          3.3378378378378377,
          3.3435435435435434,
          3.349249249249249,
          3.354954954954955,
          3.3606606606606606,
          3.3663663663663663,
          3.372072072072072,
          3.3777777777777778,
          3.3834834834834835,
          3.389189189189189,
          3.394894894894895,
          3.4006006006006007,
          3.4063063063063064,
          3.412012012012012,
          3.417717717717718,
          3.4234234234234235,
          3.4291291291291293,
          3.434834834834835,
          3.4405405405405407,
          3.4462462462462464,
          3.451951951951952,
          3.457657657657658,
          3.4633633633633636,
          3.4690690690690693,
          3.474774774774775,
          3.4804804804804808,
          3.4861861861861865,
          3.4918918918918918,
          3.4975975975975975,
          3.503303303303303,
          3.509009009009009,
          3.5147147147147146,
          3.5204204204204204,
          3.526126126126126,
          3.531831831831832,
          3.5375375375375375,
          3.5432432432432432,
          3.548948948948949,
          3.5546546546546547,
          3.5603603603603604,
          3.566066066066066,
          3.571771771771772,
          3.5774774774774776,
          3.5831831831831833,
          3.588888888888889,
          3.5945945945945947,
          3.6003003003003005,
          3.606006006006006,
          3.611711711711712,
          3.6174174174174176,
          3.6231231231231233,
          3.628828828828829,
          3.634534534534535,
          3.6402402402402405,
          3.6459459459459462,
          3.651651651651652,
          3.6573573573573572,
          3.663063063063063,
          3.6687687687687687,
          3.6744744744744744,
          3.68018018018018,
          3.685885885885886,
          3.6915915915915916,
          3.6972972972972973,
          3.703003003003003,
          3.7087087087087087,
          3.7144144144144144,
          3.72012012012012,
          3.725825825825826,
          3.7315315315315316,
          3.7372372372372373,
          3.742942942942943,
          3.7486486486486488,
          3.7543543543543545,
          3.76006006006006,
          3.765765765765766,
          3.7714714714714717,
          3.7771771771771774,
          3.782882882882883,
          3.788588588588589,
          3.7942942942942945,
          3.8000000000000003,
          3.805705705705706,
          3.8114114114114117,
          3.817117117117117,
          3.8228228228228227,
          3.8285285285285284,
          3.834234234234234,
          3.83993993993994,
          3.8456456456456456,
          3.8513513513513513,
          3.857057057057057,
          3.8627627627627628,
          3.8684684684684685,
          3.874174174174174,
          3.87987987987988,
          3.8855855855855856,
          3.8912912912912914,
          3.896996996996997,
          3.902702702702703,
          3.9084084084084085,
          3.9141141141141143,
          3.91981981981982,
          3.9255255255255257,
          3.9312312312312314,
          3.936936936936937,
          3.942642642642643,
          3.9483483483483486,
          3.9540540540540543,
          3.95975975975976,
          3.9654654654654657,
          3.9711711711711715,
          3.9768768768768767,
          3.9825825825825825,
          3.988288288288288,
          3.993993993993994,
          3.9996996996996996,
          4.005405405405406,
          4.011111111111111,
          4.016816816816817,
          4.0225225225225225,
          4.028228228228229,
          4.033933933933934,
          4.03963963963964,
          4.045345345345345,
          4.051051051051052,
          4.056756756756757,
          4.062462462462462,
          4.068168168168168,
          4.073873873873874,
          4.07957957957958,
          4.085285285285285,
          4.090990990990991,
          4.0966966966966964,
          4.102402402402403,
          4.108108108108108,
          4.113813813813814,
          4.119519519519519,
          4.1252252252252255,
          4.130930930930931,
          4.136636636636637,
          4.142342342342342,
          4.148048048048048,
          4.153753753753754,
          4.15945945945946,
          4.165165165165165,
          4.170870870870871,
          4.1765765765765765,
          4.182282282282283,
          4.187987987987988,
          4.193693693693694,
          4.199399399399399,
          4.205105105105106,
          4.210810810810811,
          4.216516516516517,
          4.222222222222222,
          4.227927927927928,
          4.233633633633634,
          4.239339339339339,
          4.245045045045045,
          4.2507507507507505,
          4.256456456456457,
          4.262162162162162,
          4.267867867867868,
          4.273573573573573,
          4.2792792792792795,
          4.284984984984985,
          4.290690690690691,
          4.296396396396396,
          4.302102102102102,
          4.307807807807808,
          4.313513513513514,
          4.319219219219219,
          4.324924924924925,
          4.330630630630631,
          4.336336336336337,
          4.342042042042042,
          4.347747747747748,
          4.3534534534534535,
          4.35915915915916,
          4.364864864864865,
          4.370570570570571,
          4.376276276276276,
          4.381981981981982,
          4.387687687687688,
          4.393393393393393,
          4.399099099099099,
          4.4048048048048045,
          4.410510510510511,
          4.416216216216216,
          4.421921921921922,
          4.427627627627627,
          4.433333333333334,
          4.439039039039039,
          4.444744744744745,
          4.45045045045045,
          4.4561561561561565,
          4.461861861861862,
          4.467567567567568,
          4.473273273273273,
          4.478978978978979,
          4.484684684684685,
          4.490390390390391,
          4.496096096096096,
          4.501801801801802,
          4.5075075075075075,
          4.513213213213214,
          4.518918918918919,
          4.524624624624625,
          4.53033033033033,
          4.536036036036037,
          4.541741741741742,
          4.547447447447447,
          4.553153153153153,
          4.5588588588588586,
          4.564564564564565,
          4.57027027027027,
          4.575975975975976,
          4.581681681681681,
          4.587387387387388,
          4.593093093093093,
          4.598798798798799,
          4.604504504504504,
          4.6102102102102105,
          4.615915915915916,
          4.621621621621622,
          4.627327327327327,
          4.633033033033033,
          4.638738738738739,
          4.644444444444445,
          4.65015015015015,
          4.655855855855856,
          4.6615615615615615,
          4.667267267267268,
          4.672972972972973,
          4.678678678678679,
          4.684384384384384,
          4.690090090090091,
          4.695795795795796,
          4.701501501501502,
          4.707207207207207,
          4.712912912912913,
          4.718618618618619,
          4.724324324324324,
          4.73003003003003,
          4.7357357357357355,
          4.741441441441442,
          4.747147147147147,
          4.752852852852853,
          4.758558558558558,
          4.7642642642642645,
          4.76996996996997,
          4.775675675675676,
          4.781381381381381,
          4.787087087087087,
          4.792792792792793,
          4.798498498498499,
          4.804204204204204,
          4.80990990990991,
          4.815615615615616,
          4.821321321321322,
          4.827027027027027,
          4.832732732732733,
          4.8384384384384385,
          4.844144144144145,
          4.84984984984985,
          4.855555555555556,
          4.861261261261261,
          4.8669669669669675,
          4.872672672672673,
          4.878378378378378,
          4.884084084084084,
          4.8897897897897895,
          4.895495495495496,
          4.901201201201201,
          4.906906906906907,
          4.912612612612612,
          4.918318318318319,
          4.924024024024024,
          4.92972972972973,
          4.935435435435435,
          4.9411411411411414,
          4.946846846846847,
          4.952552552552553,
          4.958258258258258,
          4.963963963963964,
          4.96966966966967,
          4.975375375375376,
          4.981081081081081,
          4.986786786786787,
          4.9924924924924925,
          4.998198198198199,
          5.003903903903904,
          5.00960960960961,
          5.015315315315315,
          5.0210210210210215,
          5.026726726726727,
          5.032432432432432,
          5.038138138138138,
          5.0438438438438435,
          5.04954954954955,
          5.055255255255255,
          5.060960960960961,
          5.066666666666666,
          5.072372372372373,
          5.078078078078078,
          5.083783783783784,
          5.089489489489489,
          5.0951951951951955,
          5.100900900900901,
          5.106606606606607,
          5.112312312312312,
          5.118018018018018,
          5.123723723723724,
          5.12942942942943,
          5.135135135135135,
          5.140840840840841,
          5.1465465465465465,
          5.152252252252253,
          5.157957957957958,
          5.163663663663664,
          5.169369369369369,
          5.175075075075076,
          5.180780780780781,
          5.186486486486487,
          5.192192192192192,
          5.197897897897898,
          5.203603603603604,
          5.209309309309309,
          5.215015015015015,
          5.2207207207207205,
          5.226426426426427,
          5.232132132132132,
          5.237837837837838,
          5.243543543543543,
          5.2492492492492495,
          5.254954954954955,
          5.260660660660661,
          5.266366366366366,
          5.272072072072072,
          5.277777777777778,
          5.283483483483484,
          5.289189189189189,
          5.294894894894895,
          5.300600600600601,
          5.306306306306307,
          5.312012012012012,
          5.317717717717718,
          5.3234234234234235,
          5.32912912912913,
          5.334834834834835,
          5.340540540540541,
          5.346246246246246,
          5.3519519519519525,
          5.357657657657658,
          5.363363363363363,
          5.369069069069069,
          5.3747747747747745,
          5.380480480480481,
          5.386186186186186,
          5.391891891891892,
          5.397597597597597,
          5.4033033033033036,
          5.409009009009009,
          5.414714714714715,
          5.42042042042042,
          5.426126126126126,
          5.431831831831832,
          5.437537537537538,
          5.443243243243243,
          5.448948948948949,
          5.454654654654655,
          5.460360360360361,
          5.466066066066066,
          5.471771771771772,
          5.4774774774774775,
          5.483183183183184,
          5.488888888888889,
          5.494594594594595,
          5.5003003003003,
          5.5060060060060065,
          5.511711711711712,
          5.517417417417418,
          5.523123123123123,
          5.5288288288288285,
          5.534534534534535,
          5.54024024024024,
          5.545945945945946,
          5.551651651651651,
          5.557357357357358,
          5.563063063063063,
          5.568768768768769,
          5.574474474474474,
          5.5801801801801805,
          5.585885885885886,
          5.591591591591592,
          5.597297297297297,
          5.603003003003003,
          5.608708708708709,
          5.614414414414415,
          5.62012012012012,
          5.625825825825826,
          5.6315315315315315,
          5.637237237237238,
          5.642942942942943,
          5.648648648648649,
          5.654354354354354,
          5.660060060060061,
          5.665765765765766,
          5.671471471471472,
          5.677177177177177,
          5.682882882882883,
          5.688588588588589,
          5.694294294294294,
          5.7
         ],
         "xaxis": "x",
         "y": [
          0.07978845608028654,
          0.07978715733116715,
          0.07978326121064919,
          0.0797767680992327,
          0.07976767863101557,
          0.0797559936935904,
          0.07974171442789998,
          0.07972484222805162,
          0.07970537874109038,
          0.07968332586673095,
          0.07965868575704883,
          0.07963146081613015,
          0.07960165369968077,
          0.07956926731459454,
          0.07953430481848088,
          0.07949676961915156,
          0.07945666537406719,
          0.07941399598974325,
          0.07936876562111586,
          0.07932097867086747,
          0.07927063978871264,
          0.07921775387064399,
          0.07916232605813862,
          0.07910436173732498,
          0.0790438665381106,
          0.07898084633327081,
          0.07891530723749841,
          0.07884725560641508,
          0.07877669803554402,
          0.07870364135924465,
          0.07862809264960943,
          0.07855005921532274,
          0.07846954860048264,
          0.07838656858338527,
          0.07830112717527261,
          0.07821323261904327,
          0.07812289338792744,
          0.07803011818412542,
          0.07793491593741073,
          0.07783729580369772,
          0.0777372671635741,
          0.07763483962079885,
          0.07753002300076557,
          0.07742282734893191,
          0.07731326292921523,
          0.07720134022235499,
          0.077087069924242,
          0.07697046294421536,
          0.07685153040332682,
          0.07673028363257353,
          0.07660673417109934,
          0.076480893764365,
          0.07635277436228766,
          0.07622238811735027,
          0.07608974738268108,
          0.07595486471010386,
          0.075817752848159,
          0.07567842474009626,
          0.07553689352183933,
          0.07539317251992286,
          0.07524727524940225,
          0.07509921541173675,
          0.07494900689264627,
          0.07479666375994251,
          0.07464220026133467,
          0.0744856308222104,
          0.07432697004339235,
          0.07416623269887099,
          0.07400343373351384,
          0.07383858826075212,
          0.07367171156024475,
          0.07350281907552071,
          0.07333192641159986,
          0.07315904933259311,
          0.07298420375928215,
          0.07280740576667934,
          0.07262867158156841,
          0.07244801758002642,
          0.07226546028492732,
          0.07208101636342804,
          0.07189470262443722,
          0.0717065360160675,
          0.07151653362307156,
          0.0713247126642627,
          0.07113109048992047,
          0.07093568457918167,
          0.07073851253741767,
          0.07053959209359817,
          0.07033894109764231,
          0.07013657751775743,
          0.06993251943776618,
          0.06972678505442248,
          0.0695193926747168,
          0.06931036071317156,
          0.06909970768912697,
          0.06888745222401796,
          0.06867361303864265,
          0.06845820895042327,
          0.06824125887065957,
          0.06802278180177569,
          0.06780279683456085,
          0.06758132314540448,
          0.06735837999352638,
          0.06713398671820231,
          0.06690816273598582,
          0.06668092753792662,
          0.06645230068678616,
          0.06622230181425112,
          0.06599095061814497,
          0.06575826685963859,
          0.06552427036046019,
          0.06528898100010519,
          0.0650524187130467,
          0.06481460348594685,
          0.06457555535486989,
          0.06433529440249729,
          0.06409384075534554,
          0.06385121458098704,
          0.06360743608527497,
          0.06336252550957198,
          0.0631165031279841,
          0.06286938924459953,
          0.06262120419073361,
          0.062371968322179706,
          0.06212170201646735,
          0.06187042567012739,
          0.061618159695965145,
          0.06136492452034183,
          0.06111074058046488,
          0.06085562832168755,
          0.06059960819481837,
          0.060342700653440884,
          0.0600849261512442,
          0.0598263051393647,
          0.059566858063739625,
          0.05930660536247275,
          0.05904556746321273,
          0.05878376478054457,
          0.05852121771339462,
          0.058257946642449696,
          0.05799397192759045,
          0.05772931390533979,
          0.05746399288632655,
          0.05719802915276494,
          0.05693144295595002,
          0.056664254513769954,
          0.05639648400823506,
          0.056128151583024345,
          0.05585927734104982,
          0.05558988134203889,
          0.055319983600135444,
          0.055049604081519675,
          0.05477876270204746,
          0.054507479324909215,
          0.054235773758308826,
          0.05396366575316299,
          0.05369117500082138,
          0.05341832113080758,
          0.053145123708581855,
          0.052871602233325266,
          0.0525977761357461,
          0.052323664775908565,
          0.052049287441084134,
          0.05177466334362598,
          0.05149981161886659,
          0.05122475132303891,
          0.050949501431221525,
          0.05067408083530771,
          0.050398508341999035,
          0.05012280267082353,
          0.049846982452178785,
          0.04957106622540017,
          0.04929507243685445,
          0.049019019438059044,
          0.04874292548382697,
          0.0484668087304381,
          0.04819068723383644,
          0.04791457894785399,
          0.0476385017224613,
          0.04736247330204477,
          0.04708651132371107,
          0.04681063331561876,
          0.04653485669533723,
          0.04625919876823327,
          0.0459836767258852,
          0.045708307644525,
          0.045433108483508226,
          0.0451580960838122,
          0.044883287166562306,
          0.044608698331586746,
          0.04433434605599959,
          0.04406024669281257,
          0.04378641646957539,
          0.04351287148704484,
          0.043239627717882693,
          0.04296670100538259,
          0.0426941070622258,
          0.042421861469266,
          0.04214997967434319,
          0.04187847699112676,
          0.04160736859798759,
          0.04133666953689951,
          0.04106639471236988,
          0.04079655889039939,
          0.04052717669747127,
          0.04025826261956958,
          0.03998983100122683,
          0.03972189604460092,
          0.03945447180858118,
          0.03918757220792376,
          0.03892121101241612,
          0.03865540184607073,
          0.038390158186347834,
          0.03812549336340731,
          0.03786142055938956,
          0.03759795280772534,
          0.03733510299247447,
          0.037072883847693375,
          0.03681130795683139,
          0.03655038775215566,
          0.036290135514204694,
          0.03603056337127034,
          0.035771683298908105,
          0.035513507119475846,
          0.035256046501700486,
          0.03499931296027289,
          0.034743317855470524,
          0.034488072392808024,
          0.034233587622715334,
          0.03397987444024338,
          0.033726943584797095,
          0.0334748056398957,
          0.03322347103295996,
          0.032972950035126444,
          0.03272325276108847,
          0.0324743891689636,
          0.032226369060187485,
          0.031979202079434096,
          0.03173289771456179,
          0.031487465296585276,
          0.03124291399967329,
          0.030999252841171655,
          0.030756490681651576,
          0.030514636224983044,
          0.030273698018433014,
          0.03003368445278825,
          0.029794603762502498,
          0.029556464025867958,
          0.029319273165210567,
          0.029083038947109167,
          0.028847768982637995,
          0.028613470727632588,
          0.028380151482978632,
          0.028147818394923578,
          0.02791647845541082,
          0.027686138502436165,
          0.02745680522042628,
          0.027228485140638976,
          0.027001184641585012,
          0.02677490994947106,
          0.026549667138663822,
          0.02632546213217473,
          0.026102300702165227,
          0.02588018847047214,
          0.02565913090915304,
          0.025439133341051225,
          0.02522020094038006,
          0.02500233873332644,
          0.02478555159867301,
          0.024569844268438924,
          0.024355221328538908,
          0.024141687219460164,
          0.023929246236957046,
          0.023717902532763006,
          0.023507660115319774,
          0.023298522850523147,
          0.023090494462485425,
          0.022883578534313997,
          0.02267777850890583,
          0.02247309768975757,
          0.022269539241790995,
          0.022067106192193438,
          0.02186580143127297,
          0.02166562771332796,
          0.02146658765753081,
          0.021268683748825422,
          0.021071918338838296,
          0.020876293646802747,
          0.020681811760496063,
          0.020488474637189332,
          0.02029628410460948,
          0.02010524186191339,
          0.01991534948067376,
          0.01972660840587621,
          0.0195390199569277,
          0.019352585328675623,
          0.0191673055924374,
          0.01898318169704036,
          0.01880021446987144,
          0.01861840461793654,
          0.01843775272892916,
          0.018258259272308057,
          0.018079924600383636,
          0.017902748949412694,
          0.017726732440701377,
          0.01755187508171587,
          0.017378176767200715,
          0.017205637280304286,
          0.017034256293711306,
          0.016864033370781944,
          0.01669496796669737,
          0.016527059429611326,
          0.01636030700180758,
          0.016194709820862827,
          0.016030266920814898,
          0.0158669772333359,
          0.015704839588910037,
          0.015543852718015843,
          0.015384015252312583,
          0.015225325725830439,
          0.015067782576164358,
          0.014911384145671192,
          0.014756128682669886,
          0.014602014342644454,
          0.014449039189449517,
          0.014297201196518044,
          0.01414649824807116,
          0.013996928140329674,
          0.013848488582727105,
          0.013701177199123967,
          0.01355499152902305,
          0.013409929028785425,
          0.013265987072847004,
          0.013123162954935316,
          0.012981453889286329,
          0.012840857011861084,
          0.012701369381561809,
          0.012562987981447463,
          0.012425709719948282,
          0.012289531432079242,
          0.012154449880652144,
          0.012020461757486143,
          0.011887563684616465,
          0.011755752215501108,
          0.011625023836225375,
          0.011495374966703897,
          0.011366801961880077,
          0.01123930111292268,
          0.011112868648419365,
          0.010987500735566999,
          0.010863193481358512,
          0.010739942933766162,
          0.01061774508292097,
          0.010496595862288101,
          0.010376491149838163,
          0.010257426769214062,
          0.010139398490893355,
          0.010022402033345833,
          0.009906433064186338,
          0.009791487201322389,
          0.009677560014096687,
          0.009564647024424187,
          0.009452743707923669,
          0.009341845495043593,
          0.00923194777218212,
          0.009123045882801143,
          0.009015135128534158,
          0.00890821077028788,
          0.008802268029337427,
          0.008697302088414922,
          0.00859330809279144,
          0.008490281151352108,
          0.008388216337664253,
          0.008287108691038497,
          0.008186953217582628,
          0.008087744891248177,
          0.007989478654869557,
          0.007892149421195668,
          0.007795752073913838,
          0.00770028146866603,
          0.007605732434057165,
          0.007512099772655505,
          0.007419378261984978,
          0.007327562655509355,
          0.007236647683608181,
          0.007146628054544357,
          0.007057498455423386,
          0.00696925355314403,
          0.006881887995340462,
          0.006795396411315734,
          0.0067097734129665425,
          0.0066250135956991835,
          0.006541111539336675,
          0.006458061809016928,
          0.006375858956081943,
          0.0062944975189579725,
          0.006213972024026574,
          0.006134276986486506,
          0.0060554069112064195,
          0.005977356293568317,
          0.005900119620301696,
          0.005823691370308347,
          0.005748066015477808,
          0.0056732380214933615,
          0.005599201848628606,
          0.0055259519525345385,
          0.005453482785017139,
          0.005381788794805381,
          0.005310864428309732,
          0.00524070413037102,
          0.005171302344999731,
          0.0051026535161056655,
          0.005034752088217978,
          0.00496759250719556,
          0.004901169220927742,
          0.004835476680025401,
          0.004770509338502314,
          0.004706261654446906,
          0.004642728090684278,
          0.004579903115428603,
          0.004517781202925819,
          0.0044563568340866885,
          0.00439562449711019,
          0.004335578688097262,
          0.004276213911654933,
          0.00421752468149081,
          0.0041595055209979834,
          0.004102150963830345,
          0.0040454555544683305,
          0.003989413848775138,
          0.00393402041454342,
          0.0038792698320324684,
          0.0038251566944959695,
          0.0037716756087002755,
          0.003718821195433323,
          0.003666588090004124,
          0.003614970942732966,
          0.003563964419432279,
          0.0035135632018782467,
          0.0034637619882731895,
          0.0034145554936987647,
          0.0033659384505600235,
          0.003317905609020342,
          0.0032704517374273524,
          0.0032235716227297984,
          0.0031772600708854827,
          0.0031315119072602704,
          0.0030863219770182354,
          0.0030416851455030056,
          0.0029975962986103525,
          0.0029540503431520525,
          0.002911042207211131,
          0.002868566840488498,
          0.0028266192146410487,
          0.002785194323611294,
          0.0027442871839485753,
          0.002703892835121923,
          0.0026640063398246172,
          0.0026246227842705266,
          0.0025857372784822722,
          0.002547344956571297,
          0.0025094409770098918,
          0.0024720205228952533,
          0.0024350788022056446,
          0.002398611048048707,
          0.002362612518902022,
          0.002327078498845961,
          0.002292004297788917,
          0.002257385251684979,
          0.0022232167227441207,
          0.0021894940996349753,
          0.002156212797680263,
          0.002123368259044976,
          0.002090955952917344,
          0.0020589713756826917,
          0.002027410051090253,
          0.0019962675304130164,
          0.0019655393926006725,
          0.00193522124442575,
          0.0019053087206230075,
          0.0018757974840221618,
          0.001846683225674031,
          0.0018179616649701608,
          0.0017896285497560325,
          0.0017616796564379022,
          0.0017341107900833738,
          0.0017069177845157675,
          0.001680096502402375,
          0.0016536428353366706,
          0.001627552703914563,
          0.0016018220578047598,
          0.0015764468758133338,
          0.0015514231659425593,
          0.0015267469654441077,
          0.0015024143408666727,
          0.0014784213880981068,
          0.0014547642324021562,
          0.0014314390284498608,
          0.0014084419603457052,
          0.0013857692416485935,
          0.0013634171153877454,
          0.0013413818540735653,
          0.0013196597597035808,
          0.0012982471637635246,
          0.0012771404272236384,
          0.0012563359405302762,
          0.0012358301235928853,
          0.0012156194257664423,
          0.0011957003258294197,
          0.0011760693319573703,
          0.0011567229816921844,
          0.0011376578419071254,
          0.0011188705087676987,
          0.0011003576076884292,
          0.001082115793285645,
          0.0010641417493263163,
          0.00104643218867304,
          0.0010289838532252407,
          0.0010117935138566642,
          0.000994857970349232,
          0.000978174051323334,
          0.0009617386141646362,
          0.000945548544947468,
          0.0009296007583548631,
          0.0009138921975953382,
          0.0008984198343164551,
          0.0008831806685152636,
          0.0008681717284456816,
          0.0008533900705228762,
          0.0008388327792247404,
          0.0008244969669904975,
          0.0008103797741165356,
          0.0007964783686495171,
          0.0007827899462768421,
          0.000769311730214527,
          0.000756040971092568,
          0.0007429749468378486,
          0.0007301109625546655,
          0.000717446350402931,
          0.0007049784694741101,
          0.000692704705664972,
          0.0006806224715492016,
          0.0006687292062469407,
          0.000657022375292324,
          0.0006454994704990563,
          0.000634158009824113,
          0.0006229955372296001,
          0.0006120096225428508,
          0.0006011978613148032,
          0.00059055787467673,
          0.0005800873091953635,
          0.0005697838367264845,
          0.0005596451542670183,
          0.0005496689838057072,
          0.0005398530721723998,
          0.000530195190886021,
          0.0005206931360012678,
          0.0005113447279540931,
          0.0005021478114060185,
          0.0004931002550873326,
          0.000484199951639226,
          0.00047544481745491197,
          0.0004668327925197779,
          0.00045836184025062267,
          0.00045002994733402076,
          0.00044183512356386786,
          0.00043377540167814367,
          0.0004258488371949521,
          0.0004180535082478674,
          0.00041038751542064417,
          0.0004028489815813289,
          0.0003954360517158154,
          0.0003881468927608887,
          0.0003809796934368,
          0.0003739326640794084,
          0.00036700403647193814,
          0.0003601920636763827,
          0.00035349501986460194,
          0.00034691120014914323,
          0.0003404389204138337,
          0.0003340765171441712,
          0.00032782234725755736,
          0.00032167478793340535,
          0.00031563223644315834,
          0.00030969310998025314,
          0.0003038558454900611,
          0.00029811889949984727,
          0.00029248074794876663,
          0.0002869398860179442,
          0.0002814948279606593,
          0.0002761441069326723,
          0.0002708862748227176,
          0.0002657199020831997,
          0.0002606435775611135,
          0.0002556559083292236,
          0.0002507555195175273,
          0.00024594105414502815,
          0.00024121117295184793,
          0.00023656455423170324,
          0.00023199989366477048,
          0.00022751590415096603,
          0.00022311131564366427,
          0.0002187848749838774,
          0.0002145353457349226,
          0.0002103615080175939,
          0.00020626215834586753,
          0.000202236109463156,
          0.0001982821901791363,
          0.00019439924520716942,
          0.0001905861350023342,
          0.00018684173560009183,
          0.00018316493845560176,
          0.00017955465028370734,
          0.0001760097928996063,
          0.00017252930306022886,
          0.00016911213230633393,
          0.00016575724680534376,
          0.0001624636271949323,
          0.00015923026842738108,
          0.00015605617961471875,
          0.0001529403838746588,
          0.0001498819181773486,
          0.00014687983319294323,
          0.00014393319314001798,
          0.0001410410756348309,
          0.00013820257154144902,
          0.0001354167848227476,
          0.0001326828323922968,
          0.000129999843967143,
          0.00012736696192149877,
          0.00012478334114134824,
          0.00012224814887997978,
          0.00011976056461445379,
          0.00011731977990301514,
          0.00011492499824345864,
          0.00011257543493245442,
          0.00011027031692584237,
          0.00010800888269990204,
          0.00010579038211360476,
          0.00010361407627185525,
          0.0001014792373897278,
          9.938514865770389e-05,
          9.733110410791552e-05,
          9.531640848140135e-05,
          9.334037709637778e-05,
          9.140233571753152e-05,
          8.950162042633689e-05,
          8.76375774924021e-05,
          8.580956324584732e-05,
          8.401694395071863e-05,
          8.225909567943988e-05,
          8.053540418830609e-05,
          7.884526479401947e-05,
          7.718808225127118e-05,
          7.556327063136992e-05,
          7.397025320191923e-05,
          7.240846230754453e-05,
          7.087733925167073e-05,
          6.937633417935127e-05,
          6.790490596114938e-05,
          6.646252207807066e-05,
          6.504865850754848e-05,
          6.36627996104805e-05,
          6.230443801931696e-05,
          6.0973074527198656e-05,
          5.966821797814536e-05,
          5.8389385158292e-05,
          5.7136100688171874e-05,
          5.590789691604554e-05,
          5.4704313812273005e-05,
          5.352489886472726e-05,
          5.236920697524811e-05,
          5.1236800357132066e-05,
          5.012724843365736e-05,
          4.904012773764031e-05,
          4.797502181202087e-05,
          4.693152111147384e-05,
          4.590922290504239e-05,
          4.490773117979118e-05,
          4.39266565454747e-05,
          4.2965616140217656e-05,
          4.20242335372034e-05,
          4.110213865236632e-05,
          4.0198967653084204e-05,
          3.931436286786618e-05,
          3.8447972697031935e-05,
          3.759945152437773e-05,
          3.676845962982427e-05,
          3.595466310304198e-05,
          3.515773375804879e-05,
          3.4377349048775045e-05,
          3.361319198559112e-05,
          3.286495105279174e-05,
          3.2132320127032444e-05,
          3.141499839671209e-05,
          3.0712690282296655e-05,
          3.002510535757799e-05,
          2.9351958271862456e-05,
          2.8692968673083243e-05,
          2.8047861131830974e-05,
          2.7416365066296308e-05,
          2.6798214668118717e-05,
          2.6193148829135232e-05,
          2.56009110690237e-05,
          2.502124946383287e-05,
          2.4453916575395228e-05,
          2.3898669381614073e-05,
          2.3355269207620157e-05,
          2.2823481657790368e-05,
          2.230307654862301e-05,
          2.1793827842461634e-05,
          2.1295513582063378e-05,
          2.0807915826002012e-05,
          2.0330820584901878e-05,
          1.9864017758494943e-05,
          1.9407301073493436e-05,
          1.8960468022273224e-05,
          1.8523319802359177e-05,
          1.8095661256707718e-05,
          1.7677300814777537e-05,
          1.7268050434384203e-05,
          1.6867725544329118e-05,
          1.6476144987798585e-05,
          1.609313096652379e-05,
          1.5718508985696687e-05,
          1.535210779963344e-05,
          1.4993759358179726e-05,
          1.464329875384993e-05,
          1.4300564169694169e-05,
          1.3965396827885602e-05,
          1.3637640939021702e-05,
          1.3317143652131699e-05,
          1.300375500538459e-05,
          1.2697327877489223e-05,
          1.2397717939781181e-05,
          1.210478360898794e-05,
          1.1818386000667001e-05,
          1.1538388883308793e-05,
          1.12646586330985e-05,
          1.0997064189328965e-05,
          1.0735477010459105e-05,
          1.0479771030809622e-05,
          1.0229822617890259e-05,
          9.985510530351559e-06,
          9.746715876553852e-06,
          9.513322073747621e-06,
          9.28521480785767e-06,
          9.062281993865153e-06,
          8.844413736780088e-06,
          8.63150229319853e-06,
          8.423442033436784e-06,
          8.22012940423727e-06,
          8.02146289203828e-06,
          7.82734298680217e-06,
          7.63767214639462e-06,
          7.452354761509293e-06,
          7.2712971211306855e-06,
          7.094407378529627e-06,
          6.921595517784141e-06,
          6.752773320820361e-06,
          6.58785433496619e-06,
          6.426753841012468e-06,
          6.2693888217745266e-06,
          6.115677931148721e-06,
          5.965541463657203e-06,
          5.818901324475435e-06,
          5.675680999935721e-06,
          5.535805528501532e-06,
          5.39920147220586e-06,
          5.265796888548346e-06,
          5.135521302844997e-06,
          5.008305681024476e-06,
          4.8840824028657175e-06,
          4.76278523567045e-06,
          4.644349308365591e-06,
          4.528711086029229e-06,
          4.41580834483513e-06,
          4.305580147409725e-06,
          4.197966818596514e-06,
          4.092909921621906e-06,
          3.9903522346576306e-06,
          3.890237727773737e-06,
          3.792511540277438e-06,
          3.6971199584319647e-06,
          3.6040103935506447e-06,
          3.513131360460636e-06,
          3.424432456331495e-06,
          3.337864339863159e-06,
          3.2533787108286355e-06,
          3.1709282899659843e-06,
          3.090466799215101e-06,
          3.011948942293927e-06,
          2.9353303856096266e-06,
          2.8605677394995874e-06,
          2.7876185397977642e-06,
          2.716441229721376e-06,
          2.646995142073572e-06,
          2.579240481757128e-06,
          2.513138308594895e-06,
          2.4486505204523283e-06,
          2.3857398366575296e-06,
          2.3243697817146223e-06,
          2.2645046693058183e-06,
          2.2061095865780375e-06,
          2.1491503787096047e-06,
          2.093593633753041e-06,
          2.039406667749406e-06,
          1.986557510110453e-06,
          1.9350148892640903e-06,
          1.8847482185594404e-06,
          1.8357275824272476e-06,
          1.7879237227918372e-06,
          1.7413080257305616e-06,
          1.6958525083770574e-06,
          1.6515298060642768e-06,
          1.6083131597037092e-06,
          1.5661764033969071e-06,
          1.52509395227578e-06,
          1.4850407905678415e-06,
          1.4459924598830184e-06,
          1.407925047718253e-06,
          1.370815176176606e-06,
          1.3346399908971992e-06,
          1.2993771501927488e-06,
          1.2650048143911675e-06,
          1.2315016353780461e-06,
          1.1988467463365703e-06,
          1.1670197516817575e-06,
          1.1360007171857676e-06,
          1.1057701602910467e-06,
          1.0763090406083248e-06,
          1.04759875059625e-06,
          1.0196211064197369e-06,
          9.923583389839182e-07,
          9.657930851408556e-07,
          9.399083790659758e-07,
          9.146876438014864e-07,
          8.901146829637807e-07,
          8.66173672612182e-07,
          8.428491532761421e-07,
          8.201260221382764e-07,
          7.979895253704465e-07,
          7.764252506203664e-07,
          7.554191196459816e-07,
          7.349573810951991e-07,
          7.150266034282995e-07,
          6.956136679806422e-07,
          6.767057621631049e-07,
          6.582903727979297e-07,
          6.40355279587483e-07,
          6.228885487136741e-07,
          6.058785265656138e-07,
          5.893138335933187e-07,
          5.73183358285125e-07,
          5.574762512666674e-07,
          5.421819195191622e-07,
          5.272900207149185e-07,
          5.12790457667902e-07,
          4.986733728972728e-07,
          4.849291433018769e-07,
          4.715483749436016e-07,
          4.5852189793768443e-07,
          4.4584076144792837e-07,
          4.334962287849621e-07,
          4.2147977260558833e-07,
          4.097830702114007e-07,
          3.9839799894477325e-07,
          3.8731663168046176e-07,
          3.7653123241097755e-07,
          3.660342519240426e-07,
          3.5581832357032785e-07,
          3.4587625911984013e-07,
          3.362010447052307e-07,
          3.267858368504252e-07,
          3.1762395858291486e-07,
          3.087088956281621e-07,
          3.0003429268450445e-07,
          2.915939497770637e-07,
          2.8338181868910807e-07,
          2.753919994694084e-07,
          2.6761873701409376e-07,
          2.60056417721596e-07,
          2.5269956621923854e-07,
          2.455428421601023e-07,
          2.3858103708878585e-07,
          2.3180907137471033e-07,
          2.2522199121166453e-07,
          2.1881496568226582e-07,
          2.1258328388608843e-07,
          2.0652235213016904e-07,
          2.006276911806907e-07,
          1.9489493357460017e-07,
          1.8931982098999732e-07,
          1.8389820167409586e-07,
          1.786260279276349e-07,
          1.7349935364458185e-07,
          1.6851433190604614e-07,
          1.6366721262728346e-07,
          1.5895434025674677e-07,
          1.5437215152610947e-07,
          1.499171732502465e-07,
          1.45586020176139e-07,
          1.413753928797286e-07,
          1.372820757097172e-07,
          1.3330293477737779e-07,
          1.294349159914093e-07,
          1.2567504313692866e-07,
          1.2202041599767267e-07,
          1.1846820852053737e-07,
          1.1501566702155639e-07,
          1.1166010843248034e-07,
          1.0839891858709199e-07,
          1.0522955054644697e-07,
          1.0214952296221677e-07,
          9.91564184773346e-08,
          9.624788216317179e-08,
          9.342161999246212e-08,
          9.067539734723576e-08,
          8.800703756100655e-08,
          8.541442049450504e-08,
          8.289548114422795e-08,
          8.044820828312143e-08,
          7.80706431326999e-08,
          7.576087806594106e-08,
          7.351705534028611e-08,
          7.133736586011178e-08,
          6.922004796802682e-08,
          6.716338626438605e-08,
          6.516571045439896e-08,
          6.322539422224764e-08,
          6.134085413161712e-08,
          5.951054855207595e-08,
          5.7732976610730724e-08,
          5.600667716861587e-08,
          5.433022782126645e-08,
          5.270224392295351e-08,
          5.112137763405316e-08,
          4.958631699104885e-08,
          4.809578499865917e-08,
          4.664853874361113e-08,
          4.524336852956985e-08,
          4.387909703276314e-08,
          4.255457847783748e-08,
          4.1268697833492116e-08,
          4.002037002745529e-08,
          3.880853918036344e-08,
          3.76321778581259e-08,
          3.649028634235295e-08,
          3.538189191844794e-08,
          3.4306048180957517e-08,
          3.3261834355797053e-08,
          3.224835463896267e-08,
          3.126473755136115e-08,
          3.031013530938657e-08,
          2.9383723210889563e-08,
          2.848469903618266e-08,
          2.7612282463743458e-08,
          2.6765714500273065e-08,
          2.5944256924785655e-08,
          2.5147191746401378e-08,
          2.4373820675531066e-08,
          2.3623464608139687e-08,
          2.289546312278942e-08,
          2.2189173990162576e-08,
          2.150397269477815e-08,
          2.0839251968614233e-08,
          2.01944213363629e-08,
          1.9568906672041752e-08,
          1.8962149766699925e-08,
          1.837360790695538e-08,
          1.7802753464111144e-08,
          1.724907349360097e-08,
          1.6712069344519514e-08,
          1.619125627900123e-08,
          1.5686163101212263e-08,
          1.5196331795729815e-08,
          1.472131717508368e-08,
          1.4260686536244231e-08,
          1.381401932584098e-08,
          1.338090681390594e-08,
          1.2960951775935048e-08,
          1.25537681830707e-08,
          1.2158980900208162e-08,
          1.177622539183722e-08,
          1.1405147435430688e-08,
          1.1045402842199458e-08,
          1.0696657185033882e-08,
          1.0358585533459425e-08,
          1.0030872195434204e-08,
          9.713210465824065e-09,
          9.405302381390596e-09,
          9.106858482134791e-09,
          8.817597578839526e-09,
          8.537246526660415e-09,
          8.265540004615224e-09,
          8.002220300828218e-09,
          7.747037103386585e-09,
          7.49974729667149e-09,
          7.260114763027869e-09,
          7.027910189640868e-09
         ],
         "yaxis": "y"
        }
       ],
       "layout": {
        "barmode": "relative",
        "legend": {
         "tracegroupgap": 0
        },
        "template": {
         "data": {
          "bar": [
           {
            "error_x": {
             "color": "#2a3f5f"
            },
            "error_y": {
             "color": "#2a3f5f"
            },
            "marker": {
             "line": {
              "color": "#E5ECF6",
              "width": 0.5
             },
             "pattern": {
              "fillmode": "overlay",
              "size": 10,
              "solidity": 0.2
             }
            },
            "type": "bar"
           }
          ],
          "barpolar": [
           {
            "marker": {
             "line": {
              "color": "#E5ECF6",
              "width": 0.5
             },
             "pattern": {
              "fillmode": "overlay",
              "size": 10,
              "solidity": 0.2
             }
            },
            "type": "barpolar"
           }
          ],
          "carpet": [
           {
            "aaxis": {
             "endlinecolor": "#2a3f5f",
             "gridcolor": "white",
             "linecolor": "white",
             "minorgridcolor": "white",
             "startlinecolor": "#2a3f5f"
            },
            "baxis": {
             "endlinecolor": "#2a3f5f",
             "gridcolor": "white",
             "linecolor": "white",
             "minorgridcolor": "white",
             "startlinecolor": "#2a3f5f"
            },
            "type": "carpet"
           }
          ],
          "choropleth": [
           {
            "colorbar": {
             "outlinewidth": 0,
             "ticks": ""
            },
            "type": "choropleth"
           }
          ],
          "contour": [
           {
            "colorbar": {
             "outlinewidth": 0,
             "ticks": ""
            },
            "colorscale": [
             [
              0,
              "#0d0887"
             ],
             [
              0.1111111111111111,
              "#46039f"
             ],
             [
              0.2222222222222222,
              "#7201a8"
             ],
             [
              0.3333333333333333,
              "#9c179e"
             ],
             [
              0.4444444444444444,
              "#bd3786"
             ],
             [
              0.5555555555555556,
              "#d8576b"
             ],
             [
              0.6666666666666666,
              "#ed7953"
             ],
             [
              0.7777777777777778,
              "#fb9f3a"
             ],
             [
              0.8888888888888888,
              "#fdca26"
             ],
             [
              1,
              "#f0f921"
             ]
            ],
            "type": "contour"
           }
          ],
          "contourcarpet": [
           {
            "colorbar": {
             "outlinewidth": 0,
             "ticks": ""
            },
            "type": "contourcarpet"
           }
          ],
          "heatmap": [
           {
            "colorbar": {
             "outlinewidth": 0,
             "ticks": ""
            },
            "colorscale": [
             [
              0,
              "#0d0887"
             ],
             [
              0.1111111111111111,
              "#46039f"
             ],
             [
              0.2222222222222222,
              "#7201a8"
             ],
             [
              0.3333333333333333,
              "#9c179e"
             ],
             [
              0.4444444444444444,
              "#bd3786"
             ],
             [
              0.5555555555555556,
              "#d8576b"
             ],
             [
              0.6666666666666666,
              "#ed7953"
             ],
             [
              0.7777777777777778,
              "#fb9f3a"
             ],
             [
              0.8888888888888888,
              "#fdca26"
             ],
             [
              1,
              "#f0f921"
             ]
            ],
            "type": "heatmap"
           }
          ],
          "heatmapgl": [
           {
            "colorbar": {
             "outlinewidth": 0,
             "ticks": ""
            },
            "colorscale": [
             [
              0,
              "#0d0887"
             ],
             [
              0.1111111111111111,
              "#46039f"
             ],
             [
              0.2222222222222222,
              "#7201a8"
             ],
             [
              0.3333333333333333,
              "#9c179e"
             ],
             [
              0.4444444444444444,
              "#bd3786"
             ],
             [
              0.5555555555555556,
              "#d8576b"
             ],
             [
              0.6666666666666666,
              "#ed7953"
             ],
             [
              0.7777777777777778,
              "#fb9f3a"
             ],
             [
              0.8888888888888888,
              "#fdca26"
             ],
             [
              1,
              "#f0f921"
             ]
            ],
            "type": "heatmapgl"
           }
          ],
          "histogram": [
           {
            "marker": {
             "pattern": {
              "fillmode": "overlay",
              "size": 10,
              "solidity": 0.2
             }
            },
            "type": "histogram"
           }
          ],
          "histogram2d": [
           {
            "colorbar": {
             "outlinewidth": 0,
             "ticks": ""
            },
            "colorscale": [
             [
              0,
              "#0d0887"
             ],
             [
              0.1111111111111111,
              "#46039f"
             ],
             [
              0.2222222222222222,
              "#7201a8"
             ],
             [
              0.3333333333333333,
              "#9c179e"
             ],
             [
              0.4444444444444444,
              "#bd3786"
             ],
             [
              0.5555555555555556,
              "#d8576b"
             ],
             [
              0.6666666666666666,
              "#ed7953"
             ],
             [
              0.7777777777777778,
              "#fb9f3a"
             ],
             [
              0.8888888888888888,
              "#fdca26"
             ],
             [
              1,
              "#f0f921"
             ]
            ],
            "type": "histogram2d"
           }
          ],
          "histogram2dcontour": [
           {
            "colorbar": {
             "outlinewidth": 0,
             "ticks": ""
            },
            "colorscale": [
             [
              0,
              "#0d0887"
             ],
             [
              0.1111111111111111,
              "#46039f"
             ],
             [
              0.2222222222222222,
              "#7201a8"
             ],
             [
              0.3333333333333333,
              "#9c179e"
             ],
             [
              0.4444444444444444,
              "#bd3786"
             ],
             [
              0.5555555555555556,
              "#d8576b"
             ],
             [
              0.6666666666666666,
              "#ed7953"
             ],
             [
              0.7777777777777778,
              "#fb9f3a"
             ],
             [
              0.8888888888888888,
              "#fdca26"
             ],
             [
              1,
              "#f0f921"
             ]
            ],
            "type": "histogram2dcontour"
           }
          ],
          "mesh3d": [
           {
            "colorbar": {
             "outlinewidth": 0,
             "ticks": ""
            },
            "type": "mesh3d"
           }
          ],
          "parcoords": [
           {
            "line": {
             "colorbar": {
              "outlinewidth": 0,
              "ticks": ""
             }
            },
            "type": "parcoords"
           }
          ],
          "pie": [
           {
            "automargin": true,
            "type": "pie"
           }
          ],
          "scatter": [
           {
            "fillpattern": {
             "fillmode": "overlay",
             "size": 10,
             "solidity": 0.2
            },
            "type": "scatter"
           }
          ],
          "scatter3d": [
           {
            "line": {
             "colorbar": {
              "outlinewidth": 0,
              "ticks": ""
             }
            },
            "marker": {
             "colorbar": {
              "outlinewidth": 0,
              "ticks": ""
             }
            },
            "type": "scatter3d"
           }
          ],
          "scattercarpet": [
           {
            "marker": {
             "colorbar": {
              "outlinewidth": 0,
              "ticks": ""
             }
            },
            "type": "scattercarpet"
           }
          ],
          "scattergeo": [
           {
            "marker": {
             "colorbar": {
              "outlinewidth": 0,
              "ticks": ""
             }
            },
            "type": "scattergeo"
           }
          ],
          "scattergl": [
           {
            "marker": {
             "colorbar": {
              "outlinewidth": 0,
              "ticks": ""
             }
            },
            "type": "scattergl"
           }
          ],
          "scattermapbox": [
           {
            "marker": {
             "colorbar": {
              "outlinewidth": 0,
              "ticks": ""
             }
            },
            "type": "scattermapbox"
           }
          ],
          "scatterpolar": [
           {
            "marker": {
             "colorbar": {
              "outlinewidth": 0,
              "ticks": ""
             }
            },
            "type": "scatterpolar"
           }
          ],
          "scatterpolargl": [
           {
            "marker": {
             "colorbar": {
              "outlinewidth": 0,
              "ticks": ""
             }
            },
            "type": "scatterpolargl"
           }
          ],
          "scatterternary": [
           {
            "marker": {
             "colorbar": {
              "outlinewidth": 0,
              "ticks": ""
             }
            },
            "type": "scatterternary"
           }
          ],
          "surface": [
           {
            "colorbar": {
             "outlinewidth": 0,
             "ticks": ""
            },
            "colorscale": [
             [
              0,
              "#0d0887"
             ],
             [
              0.1111111111111111,
              "#46039f"
             ],
             [
              0.2222222222222222,
              "#7201a8"
             ],
             [
              0.3333333333333333,
              "#9c179e"
             ],
             [
              0.4444444444444444,
              "#bd3786"
             ],
             [
              0.5555555555555556,
              "#d8576b"
             ],
             [
              0.6666666666666666,
              "#ed7953"
             ],
             [
              0.7777777777777778,
              "#fb9f3a"
             ],
             [
              0.8888888888888888,
              "#fdca26"
             ],
             [
              1,
              "#f0f921"
             ]
            ],
            "type": "surface"
           }
          ],
          "table": [
           {
            "cells": {
             "fill": {
              "color": "#EBF0F8"
             },
             "line": {
              "color": "white"
             }
            },
            "header": {
             "fill": {
              "color": "#C8D4E3"
             },
             "line": {
              "color": "white"
             }
            },
            "type": "table"
           }
          ]
         },
         "layout": {
          "annotationdefaults": {
           "arrowcolor": "#2a3f5f",
           "arrowhead": 0,
           "arrowwidth": 1
          },
          "autotypenumbers": "strict",
          "coloraxis": {
           "colorbar": {
            "outlinewidth": 0,
            "ticks": ""
           }
          },
          "colorscale": {
           "diverging": [
            [
             0,
             "#8e0152"
            ],
            [
             0.1,
             "#c51b7d"
            ],
            [
             0.2,
             "#de77ae"
            ],
            [
             0.3,
             "#f1b6da"
            ],
            [
             0.4,
             "#fde0ef"
            ],
            [
             0.5,
             "#f7f7f7"
            ],
            [
             0.6,
             "#e6f5d0"
            ],
            [
             0.7,
             "#b8e186"
            ],
            [
             0.8,
             "#7fbc41"
            ],
            [
             0.9,
             "#4d9221"
            ],
            [
             1,
             "#276419"
            ]
           ],
           "sequential": [
            [
             0,
             "#0d0887"
            ],
            [
             0.1111111111111111,
             "#46039f"
            ],
            [
             0.2222222222222222,
             "#7201a8"
            ],
            [
             0.3333333333333333,
             "#9c179e"
            ],
            [
             0.4444444444444444,
             "#bd3786"
            ],
            [
             0.5555555555555556,
             "#d8576b"
            ],
            [
             0.6666666666666666,
             "#ed7953"
            ],
            [
             0.7777777777777778,
             "#fb9f3a"
            ],
            [
             0.8888888888888888,
             "#fdca26"
            ],
            [
             1,
             "#f0f921"
            ]
           ],
           "sequentialminus": [
            [
             0,
             "#0d0887"
            ],
            [
             0.1111111111111111,
             "#46039f"
            ],
            [
             0.2222222222222222,
             "#7201a8"
            ],
            [
             0.3333333333333333,
             "#9c179e"
            ],
            [
             0.4444444444444444,
             "#bd3786"
            ],
            [
             0.5555555555555556,
             "#d8576b"
            ],
            [
             0.6666666666666666,
             "#ed7953"
            ],
            [
             0.7777777777777778,
             "#fb9f3a"
            ],
            [
             0.8888888888888888,
             "#fdca26"
            ],
            [
             1,
             "#f0f921"
            ]
           ]
          },
          "colorway": [
           "#636efa",
           "#EF553B",
           "#00cc96",
           "#ab63fa",
           "#FFA15A",
           "#19d3f3",
           "#FF6692",
           "#B6E880",
           "#FF97FF",
           "#FECB52"
          ],
          "font": {
           "color": "#2a3f5f"
          },
          "geo": {
           "bgcolor": "white",
           "lakecolor": "white",
           "landcolor": "#E5ECF6",
           "showlakes": true,
           "showland": true,
           "subunitcolor": "white"
          },
          "hoverlabel": {
           "align": "left"
          },
          "hovermode": "closest",
          "mapbox": {
           "style": "light"
          },
          "paper_bgcolor": "white",
          "plot_bgcolor": "#E5ECF6",
          "polar": {
           "angularaxis": {
            "gridcolor": "white",
            "linecolor": "white",
            "ticks": ""
           },
           "bgcolor": "#E5ECF6",
           "radialaxis": {
            "gridcolor": "white",
            "linecolor": "white",
            "ticks": ""
           }
          },
          "scene": {
           "xaxis": {
            "backgroundcolor": "#E5ECF6",
            "gridcolor": "white",
            "gridwidth": 2,
            "linecolor": "white",
            "showbackground": true,
            "ticks": "",
            "zerolinecolor": "white"
           },
           "yaxis": {
            "backgroundcolor": "#E5ECF6",
            "gridcolor": "white",
            "gridwidth": 2,
            "linecolor": "white",
            "showbackground": true,
            "ticks": "",
            "zerolinecolor": "white"
           },
           "zaxis": {
            "backgroundcolor": "#E5ECF6",
            "gridcolor": "white",
            "gridwidth": 2,
            "linecolor": "white",
            "showbackground": true,
            "ticks": "",
            "zerolinecolor": "white"
           }
          },
          "shapedefaults": {
           "line": {
            "color": "#2a3f5f"
           }
          },
          "ternary": {
           "aaxis": {
            "gridcolor": "white",
            "linecolor": "white",
            "ticks": ""
           },
           "baxis": {
            "gridcolor": "white",
            "linecolor": "white",
            "ticks": ""
           },
           "bgcolor": "#E5ECF6",
           "caxis": {
            "gridcolor": "white",
            "linecolor": "white",
            "ticks": ""
           }
          },
          "title": {
           "x": 0.05
          },
          "xaxis": {
           "automargin": true,
           "gridcolor": "white",
           "linecolor": "white",
           "ticks": "",
           "title": {
            "standoff": 15
           },
           "zerolinecolor": "white",
           "zerolinewidth": 2
          },
          "yaxis": {
           "automargin": true,
           "gridcolor": "white",
           "linecolor": "white",
           "ticks": "",
           "title": {
            "standoff": 15
           },
           "zerolinecolor": "white",
           "zerolinewidth": 2
          }
         }
        },
        "title": {
         "text": "Residual Distribution of xG vs Goals in Premier League"
        },
        "xaxis": {
         "anchor": "y",
         "domain": [
          0,
          1
         ],
         "title": {
          "text": "Absolute Residuals"
         }
        },
        "yaxis": {
         "anchor": "x",
         "domain": [
          0,
          1
         ],
         "title": {
          "text": "sum of freq"
         }
        }
       }
      },
      "text/html": [
       "<div>                            <div id=\"cf40dd6c-8d89-43e0-a341-7991e97e65f5\" class=\"plotly-graph-div\" style=\"height:525px; width:100%;\"></div>            <script type=\"text/javascript\">                require([\"plotly\"], function(Plotly) {                    window.PLOTLYENV=window.PLOTLYENV || {};                                    if (document.getElementById(\"cf40dd6c-8d89-43e0-a341-7991e97e65f5\")) {                    Plotly.newPlot(                        \"cf40dd6c-8d89-43e0-a341-7991e97e65f5\",                        [{\"alignmentgroup\":\"True\",\"bingroup\":\"x\",\"histfunc\":\"sum\",\"hovertemplate\":\"Absolute Residuals=%{x}<br>sum of freq=%{y}<extra></extra>\",\"legendgroup\":\"\",\"marker\":{\"color\":\"#636efa\",\"pattern\":{\"shape\":\"\"}},\"name\":\"\",\"nbinsx\":106,\"offsetgroup\":\"\",\"orientation\":\"v\",\"showlegend\":false,\"x\":[0.0,0.09999999999999998,0.1,0.10000000000000009,0.19999999999999996,0.2,0.20000000000000018,0.2999999999999998,0.3,0.30000000000000004,0.3999999999999999,0.4,0.5,0.6,0.6000000000000001,0.7,0.7000000000000002,0.7999999999999998,0.8,0.8999999999999999,0.9,1.0,1.1,1.2,1.2000000000000002,1.2999999999999998,1.3,1.4,1.4000000000000004,1.5,1.6,1.7,1.7000000000000002,1.7999999999999998,1.8,1.9,2.0,2.1,2.2,2.3,2.4,2.5,2.6,2.7,2.8,3.1,3.3,3.4,3.5,3.8,4.2,5.7],\"xaxis\":\"x\",\"y\":[0.038157894736842106,0.02236842105263158,0.005263157894736842,0.034210526315789476,0.04736842105263158,0.010526315789473684,0.011842105263157895,0.010526315789473684,0.015789473684210527,0.046052631578947366,0.05263157894736842,0.04868421052631579,0.08289473684210526,0.018421052631578946,0.039473684210526314,0.060526315789473685,0.010526315789473684,0.007894736842105263,0.04473684210526316,0.02894736842105263,0.019736842105263157,0.042105263157894736,0.04868421052631579,0.031578947368421054,0.011842105263157895,0.009210526315789473,0.021052631578947368,0.025,0.0013157894736842105,0.02368421052631579,0.02236842105263158,0.014473684210526316,0.005263157894736842,0.006578947368421052,0.006578947368421052,0.010526315789473684,0.003947368421052632,0.009210526315789473,0.014473684210526316,0.003947368421052632,0.007894736842105263,0.0013157894736842105,0.0013157894736842105,0.007894736842105263,0.002631578947368421,0.002631578947368421,0.0013157894736842105,0.0013157894736842105,0.0013157894736842105,0.0013157894736842105,0.0013157894736842105,0.0013157894736842105],\"yaxis\":\"y\",\"type\":\"histogram\"},{\"hovertemplate\":\"x=%{x}<br>y=%{y}<extra></extra>\",\"legendgroup\":\"\",\"line\":{\"color\":\"red\",\"dash\":\"solid\"},\"marker\":{\"symbol\":\"circle\"},\"mode\":\"lines\",\"name\":\"\",\"orientation\":\"v\",\"showlegend\":false,\"x\":[0.0,0.005705705705705706,0.011411411411411412,0.017117117117117116,0.022822822822822823,0.02852852852852853,0.03423423423423423,0.03993993993993994,0.04564564564564565,0.051351351351351354,0.05705705705705706,0.06276276276276277,0.06846846846846846,0.07417417417417417,0.07987987987987988,0.08558558558558559,0.0912912912912913,0.096996996996997,0.10270270270270271,0.10840840840840842,0.11411411411411412,0.11981981981981982,0.12552552552552554,0.13123123123123123,0.13693693693693693,0.14264264264264265,0.14834834834834834,0.15405405405405406,0.15975975975975976,0.16546546546546548,0.17117117117117117,0.1768768768768769,0.1825825825825826,0.18828828828828828,0.193993993993994,0.1996996996996997,0.20540540540540542,0.2111111111111111,0.21681681681681683,0.22252252252252253,0.22822822822822825,0.23393393393393394,0.23963963963963963,0.24534534534534536,0.2510510510510511,0.25675675675675674,0.26246246246246246,0.2681681681681682,0.27387387387387385,0.2795795795795796,0.2852852852852853,0.290990990990991,0.2966966966966967,0.3024024024024024,0.3081081081081081,0.31381381381381385,0.3195195195195195,0.32522522522522523,0.33093093093093096,0.3366366366366366,0.34234234234234234,0.34804804804804806,0.3537537537537538,0.35945945945945945,0.3651651651651652,0.3708708708708709,0.37657657657657656,0.3822822822822823,0.387987987987988,0.3936936936936937,0.3993993993993994,0.4051051051051051,0.41081081081081083,0.4165165165165165,0.4222222222222222,0.42792792792792794,0.43363363363363366,0.43933933933933933,0.44504504504504505,0.4507507507507508,0.4564564564564565,0.46216216216216216,0.4678678678678679,0.4735735735735736,0.47927927927927927,0.484984984984985,0.4906906906906907,0.49639639639639643,0.5021021021021022,0.5078078078078078,0.5135135135135135,0.5192192192192192,0.5249249249249249,0.5306306306306307,0.5363363363363364,0.5420420420420421,0.5477477477477477,0.5534534534534534,0.5591591591591591,0.5648648648648649,0.5705705705705706,0.5762762762762763,0.581981981981982,0.5876876876876878,0.5933933933933934,0.5990990990990991,0.6048048048048048,0.6105105105105105,0.6162162162162163,0.621921921921922,0.6276276276276277,0.6333333333333333,0.639039039039039,0.6447447447447447,0.6504504504504505,0.6561561561561562,0.6618618618618619,0.6675675675675676,0.6732732732732732,0.678978978978979,0.6846846846846847,0.6903903903903904,0.6960960960960961,0.7018018018018019,0.7075075075075076,0.7132132132132132,0.7189189189189189,0.7246246246246246,0.7303303303303303,0.7360360360360361,0.7417417417417418,0.7474474474474475,0.7531531531531531,0.7588588588588588,0.7645645645645646,0.7702702702702703,0.775975975975976,0.7816816816816817,0.7873873873873874,0.7930930930930931,0.7987987987987988,0.8045045045045045,0.8102102102102102,0.815915915915916,0.8216216216216217,0.8273273273273274,0.833033033033033,0.8387387387387387,0.8444444444444444,0.8501501501501502,0.8558558558558559,0.8615615615615616,0.8672672672672673,0.8729729729729729,0.8786786786786787,0.8843843843843844,0.8900900900900901,0.8957957957957958,0.9015015015015015,0.9072072072072073,0.912912912912913,0.9186186186186186,0.9243243243243243,0.93003003003003,0.9357357357357358,0.9414414414414415,0.9471471471471472,0.9528528528528529,0.9585585585585585,0.9642642642642643,0.96996996996997,0.9756756756756757,0.9813813813813814,0.9870870870870871,0.9927927927927929,0.9984984984984985,1.0042042042042043,1.00990990990991,1.0156156156156155,1.0213213213213213,1.027027027027027,1.0327327327327327,1.0384384384384384,1.0441441441441441,1.0498498498498499,1.0555555555555556,1.0612612612612613,1.066966966966967,1.0726726726726727,1.0783783783783785,1.0840840840840842,1.08978978978979,1.0954954954954954,1.1012012012012011,1.1069069069069069,1.1126126126126126,1.1183183183183183,1.124024024024024,1.1297297297297297,1.1354354354354355,1.1411411411411412,1.146846846846847,1.1525525525525526,1.1582582582582583,1.163963963963964,1.1696696696696698,1.1753753753753755,1.181081081081081,1.1867867867867867,1.1924924924924925,1.1981981981981982,1.203903903903904,1.2096096096096096,1.2153153153153153,1.221021021021021,1.2267267267267268,1.2324324324324325,1.2381381381381382,1.243843843843844,1.2495495495495497,1.2552552552552554,1.2609609609609609,1.2666666666666666,1.2723723723723723,1.278078078078078,1.2837837837837838,1.2894894894894895,1.2951951951951952,1.300900900900901,1.3066066066066067,1.3123123123123124,1.318018018018018,1.3237237237237238,1.3294294294294295,1.3351351351351353,1.3408408408408408,1.3465465465465465,1.3522522522522522,1.357957957957958,1.3636636636636636,1.3693693693693694,1.375075075075075,1.3807807807807808,1.3864864864864865,1.3921921921921923,1.397897897897898,1.4036036036036037,1.4093093093093094,1.4150150150150151,1.4207207207207206,1.4264264264264264,1.432132132132132,1.4378378378378378,1.4435435435435435,1.4492492492492492,1.454954954954955,1.4606606606606607,1.4663663663663664,1.4720720720720721,1.4777777777777779,1.4834834834834836,1.4891891891891893,1.494894894894895,1.5006006006006007,1.5063063063063062,1.512012012012012,1.5177177177177177,1.5234234234234234,1.5291291291291291,1.5348348348348348,1.5405405405405406,1.5462462462462463,1.551951951951952,1.5576576576576577,1.5633633633633635,1.5690690690690692,1.574774774774775,1.5804804804804806,1.5861861861861861,1.5918918918918918,1.5975975975975976,1.6033033033033033,1.609009009009009,1.6147147147147147,1.6204204204204204,1.6261261261261262,1.631831831831832,1.6375375375375376,1.6432432432432433,1.648948948948949,1.6546546546546548,1.6603603603603605,1.666066066066066,1.6717717717717717,1.6774774774774774,1.6831831831831832,1.6888888888888889,1.6945945945945946,1.7003003003003003,1.706006006006006,1.7117117117117118,1.7174174174174175,1.7231231231231232,1.728828828828829,1.7345345345345347,1.7402402402402404,1.7459459459459459,1.7516516516516516,1.7573573573573573,1.763063063063063,1.7687687687687688,1.7744744744744745,1.7801801801801802,1.785885885885886,1.7915915915915916,1.7972972972972974,1.803003003003003,1.8087087087087088,1.8144144144144145,1.8201201201201203,1.825825825825826,1.8315315315315315,1.8372372372372372,1.842942942942943,1.8486486486486486,1.8543543543543544,1.86006006006006,1.8657657657657658,1.8714714714714715,1.8771771771771772,1.882882882882883,1.8885885885885887,1.8942942942942944,1.9000000000000001,1.9057057057057059,1.9114114114114114,1.917117117117117,1.9228228228228228,1.9285285285285285,1.9342342342342342,1.93993993993994,1.9456456456456457,1.9513513513513514,1.9570570570570571,1.9627627627627628,1.9684684684684686,1.9741741741741743,1.97987987987988,1.9855855855855857,1.9912912912912912,1.996996996996997,2.002702702702703,2.0084084084084086,2.0141141141141143,2.01981981981982,2.025525525525526,2.031231231231231,2.036936936936937,2.0426426426426425,2.0483483483483482,2.054054054054054,2.0597597597597597,2.0654654654654654,2.071171171171171,2.076876876876877,2.0825825825825826,2.0882882882882883,2.093993993993994,2.0996996996996997,2.1054054054054054,2.111111111111111,2.116816816816817,2.1225225225225226,2.1282282282282283,2.133933933933934,2.1396396396396398,2.1453453453453455,2.151051051051051,2.156756756756757,2.1624624624624627,2.1681681681681684,2.173873873873874,2.17957957957958,2.1852852852852855,2.190990990990991,2.1966966966966965,2.2024024024024023,2.208108108108108,2.2138138138138137,2.2195195195195194,2.225225225225225,2.230930930930931,2.2366366366366366,2.2423423423423423,2.248048048048048,2.2537537537537538,2.2594594594594595,2.265165165165165,2.270870870870871,2.2765765765765766,2.2822822822822824,2.287987987987988,2.293693693693694,2.2993993993993995,2.3051051051051052,2.310810810810811,2.3165165165165167,2.3222222222222224,2.327927927927928,2.333633633633634,2.3393393393393396,2.3450450450450453,2.350750750750751,2.3564564564564563,2.362162162162162,2.3678678678678677,2.3735735735735735,2.379279279279279,2.384984984984985,2.3906906906906906,2.3963963963963963,2.402102102102102,2.407807807807808,2.4135135135135135,2.4192192192192192,2.424924924924925,2.4306306306306307,2.4363363363363364,2.442042042042042,2.447747747747748,2.4534534534534536,2.4591591591591593,2.464864864864865,2.4705705705705707,2.4762762762762764,2.481981981981982,2.487687687687688,2.4933933933933936,2.4990990990990993,2.504804804804805,2.5105105105105108,2.516216216216216,2.5219219219219218,2.5276276276276275,2.533333333333333,2.539039039039039,2.5447447447447447,2.5504504504504504,2.556156156156156,2.561861861861862,2.5675675675675675,2.5732732732732733,2.578978978978979,2.5846846846846847,2.5903903903903904,2.596096096096096,2.601801801801802,2.6075075075075076,2.6132132132132133,2.618918918918919,2.6246246246246248,2.6303303303303305,2.636036036036036,2.641741741741742,2.6474474474474476,2.6531531531531534,2.658858858858859,2.664564564564565,2.6702702702702705,2.6759759759759763,2.6816816816816815,2.6873873873873872,2.693093093093093,2.6987987987987987,2.7045045045045044,2.71021021021021,2.715915915915916,2.7216216216216216,2.7273273273273273,2.733033033033033,2.7387387387387387,2.7444444444444445,2.75015015015015,2.755855855855856,2.7615615615615616,2.7672672672672673,2.772972972972973,2.778678678678679,2.7843843843843845,2.7900900900900902,2.795795795795796,2.8015015015015017,2.8072072072072074,2.812912912912913,2.818618618618619,2.8243243243243246,2.8300300300300303,2.835735735735736,2.8414414414414413,2.847147147147147,2.8528528528528527,2.8585585585585584,2.864264264264264,2.86996996996997,2.8756756756756756,2.8813813813813813,2.887087087087087,2.8927927927927928,2.8984984984984985,2.904204204204204,2.90990990990991,2.9156156156156157,2.9213213213213214,2.927027027027027,2.932732732732733,2.9384384384384385,2.9441441441441443,2.94984984984985,2.9555555555555557,2.9612612612612614,2.966966966966967,2.972672672672673,2.9783783783783786,2.9840840840840843,2.98978978978979,2.9954954954954958,3.0012012012012015,3.0069069069069068,3.0126126126126125,3.018318318318318,3.024024024024024,3.0297297297297296,3.0354354354354354,3.041141141141141,3.046846846846847,3.0525525525525525,3.0582582582582583,3.063963963963964,3.0696696696696697,3.0753753753753754,3.081081081081081,3.086786786786787,3.0924924924924926,3.0981981981981983,3.103903903903904,3.1096096096096097,3.1153153153153155,3.121021021021021,3.126726726726727,3.1324324324324326,3.1381381381381384,3.143843843843844,3.14954954954955,3.1552552552552555,3.1609609609609612,3.1666666666666665,3.1723723723723722,3.178078078078078,3.1837837837837837,3.1894894894894894,3.195195195195195,3.200900900900901,3.2066066066066066,3.2123123123123123,3.218018018018018,3.2237237237237237,3.2294294294294295,3.235135135135135,3.240840840840841,3.2465465465465466,3.2522522522522523,3.257957957957958,3.263663663663664,3.2693693693693695,3.2750750750750752,3.280780780780781,3.2864864864864867,3.2921921921921924,3.297897897897898,3.303603603603604,3.3093093093093096,3.3150150150150153,3.320720720720721,3.3264264264264267,3.332132132132132,3.3378378378378377,3.3435435435435434,3.349249249249249,3.354954954954955,3.3606606606606606,3.3663663663663663,3.372072072072072,3.3777777777777778,3.3834834834834835,3.389189189189189,3.394894894894895,3.4006006006006007,3.4063063063063064,3.412012012012012,3.417717717717718,3.4234234234234235,3.4291291291291293,3.434834834834835,3.4405405405405407,3.4462462462462464,3.451951951951952,3.457657657657658,3.4633633633633636,3.4690690690690693,3.474774774774775,3.4804804804804808,3.4861861861861865,3.4918918918918918,3.4975975975975975,3.503303303303303,3.509009009009009,3.5147147147147146,3.5204204204204204,3.526126126126126,3.531831831831832,3.5375375375375375,3.5432432432432432,3.548948948948949,3.5546546546546547,3.5603603603603604,3.566066066066066,3.571771771771772,3.5774774774774776,3.5831831831831833,3.588888888888889,3.5945945945945947,3.6003003003003005,3.606006006006006,3.611711711711712,3.6174174174174176,3.6231231231231233,3.628828828828829,3.634534534534535,3.6402402402402405,3.6459459459459462,3.651651651651652,3.6573573573573572,3.663063063063063,3.6687687687687687,3.6744744744744744,3.68018018018018,3.685885885885886,3.6915915915915916,3.6972972972972973,3.703003003003003,3.7087087087087087,3.7144144144144144,3.72012012012012,3.725825825825826,3.7315315315315316,3.7372372372372373,3.742942942942943,3.7486486486486488,3.7543543543543545,3.76006006006006,3.765765765765766,3.7714714714714717,3.7771771771771774,3.782882882882883,3.788588588588589,3.7942942942942945,3.8000000000000003,3.805705705705706,3.8114114114114117,3.817117117117117,3.8228228228228227,3.8285285285285284,3.834234234234234,3.83993993993994,3.8456456456456456,3.8513513513513513,3.857057057057057,3.8627627627627628,3.8684684684684685,3.874174174174174,3.87987987987988,3.8855855855855856,3.8912912912912914,3.896996996996997,3.902702702702703,3.9084084084084085,3.9141141141141143,3.91981981981982,3.9255255255255257,3.9312312312312314,3.936936936936937,3.942642642642643,3.9483483483483486,3.9540540540540543,3.95975975975976,3.9654654654654657,3.9711711711711715,3.9768768768768767,3.9825825825825825,3.988288288288288,3.993993993993994,3.9996996996996996,4.005405405405406,4.011111111111111,4.016816816816817,4.0225225225225225,4.028228228228229,4.033933933933934,4.03963963963964,4.045345345345345,4.051051051051052,4.056756756756757,4.062462462462462,4.068168168168168,4.073873873873874,4.07957957957958,4.085285285285285,4.090990990990991,4.0966966966966964,4.102402402402403,4.108108108108108,4.113813813813814,4.119519519519519,4.1252252252252255,4.130930930930931,4.136636636636637,4.142342342342342,4.148048048048048,4.153753753753754,4.15945945945946,4.165165165165165,4.170870870870871,4.1765765765765765,4.182282282282283,4.187987987987988,4.193693693693694,4.199399399399399,4.205105105105106,4.210810810810811,4.216516516516517,4.222222222222222,4.227927927927928,4.233633633633634,4.239339339339339,4.245045045045045,4.2507507507507505,4.256456456456457,4.262162162162162,4.267867867867868,4.273573573573573,4.2792792792792795,4.284984984984985,4.290690690690691,4.296396396396396,4.302102102102102,4.307807807807808,4.313513513513514,4.319219219219219,4.324924924924925,4.330630630630631,4.336336336336337,4.342042042042042,4.347747747747748,4.3534534534534535,4.35915915915916,4.364864864864865,4.370570570570571,4.376276276276276,4.381981981981982,4.387687687687688,4.393393393393393,4.399099099099099,4.4048048048048045,4.410510510510511,4.416216216216216,4.421921921921922,4.427627627627627,4.433333333333334,4.439039039039039,4.444744744744745,4.45045045045045,4.4561561561561565,4.461861861861862,4.467567567567568,4.473273273273273,4.478978978978979,4.484684684684685,4.490390390390391,4.496096096096096,4.501801801801802,4.5075075075075075,4.513213213213214,4.518918918918919,4.524624624624625,4.53033033033033,4.536036036036037,4.541741741741742,4.547447447447447,4.553153153153153,4.5588588588588586,4.564564564564565,4.57027027027027,4.575975975975976,4.581681681681681,4.587387387387388,4.593093093093093,4.598798798798799,4.604504504504504,4.6102102102102105,4.615915915915916,4.621621621621622,4.627327327327327,4.633033033033033,4.638738738738739,4.644444444444445,4.65015015015015,4.655855855855856,4.6615615615615615,4.667267267267268,4.672972972972973,4.678678678678679,4.684384384384384,4.690090090090091,4.695795795795796,4.701501501501502,4.707207207207207,4.712912912912913,4.718618618618619,4.724324324324324,4.73003003003003,4.7357357357357355,4.741441441441442,4.747147147147147,4.752852852852853,4.758558558558558,4.7642642642642645,4.76996996996997,4.775675675675676,4.781381381381381,4.787087087087087,4.792792792792793,4.798498498498499,4.804204204204204,4.80990990990991,4.815615615615616,4.821321321321322,4.827027027027027,4.832732732732733,4.8384384384384385,4.844144144144145,4.84984984984985,4.855555555555556,4.861261261261261,4.8669669669669675,4.872672672672673,4.878378378378378,4.884084084084084,4.8897897897897895,4.895495495495496,4.901201201201201,4.906906906906907,4.912612612612612,4.918318318318319,4.924024024024024,4.92972972972973,4.935435435435435,4.9411411411411414,4.946846846846847,4.952552552552553,4.958258258258258,4.963963963963964,4.96966966966967,4.975375375375376,4.981081081081081,4.986786786786787,4.9924924924924925,4.998198198198199,5.003903903903904,5.00960960960961,5.015315315315315,5.0210210210210215,5.026726726726727,5.032432432432432,5.038138138138138,5.0438438438438435,5.04954954954955,5.055255255255255,5.060960960960961,5.066666666666666,5.072372372372373,5.078078078078078,5.083783783783784,5.089489489489489,5.0951951951951955,5.100900900900901,5.106606606606607,5.112312312312312,5.118018018018018,5.123723723723724,5.12942942942943,5.135135135135135,5.140840840840841,5.1465465465465465,5.152252252252253,5.157957957957958,5.163663663663664,5.169369369369369,5.175075075075076,5.180780780780781,5.186486486486487,5.192192192192192,5.197897897897898,5.203603603603604,5.209309309309309,5.215015015015015,5.2207207207207205,5.226426426426427,5.232132132132132,5.237837837837838,5.243543543543543,5.2492492492492495,5.254954954954955,5.260660660660661,5.266366366366366,5.272072072072072,5.277777777777778,5.283483483483484,5.289189189189189,5.294894894894895,5.300600600600601,5.306306306306307,5.312012012012012,5.317717717717718,5.3234234234234235,5.32912912912913,5.334834834834835,5.340540540540541,5.346246246246246,5.3519519519519525,5.357657657657658,5.363363363363363,5.369069069069069,5.3747747747747745,5.380480480480481,5.386186186186186,5.391891891891892,5.397597597597597,5.4033033033033036,5.409009009009009,5.414714714714715,5.42042042042042,5.426126126126126,5.431831831831832,5.437537537537538,5.443243243243243,5.448948948948949,5.454654654654655,5.460360360360361,5.466066066066066,5.471771771771772,5.4774774774774775,5.483183183183184,5.488888888888889,5.494594594594595,5.5003003003003,5.5060060060060065,5.511711711711712,5.517417417417418,5.523123123123123,5.5288288288288285,5.534534534534535,5.54024024024024,5.545945945945946,5.551651651651651,5.557357357357358,5.563063063063063,5.568768768768769,5.574474474474474,5.5801801801801805,5.585885885885886,5.591591591591592,5.597297297297297,5.603003003003003,5.608708708708709,5.614414414414415,5.62012012012012,5.625825825825826,5.6315315315315315,5.637237237237238,5.642942942942943,5.648648648648649,5.654354354354354,5.660060060060061,5.665765765765766,5.671471471471472,5.677177177177177,5.682882882882883,5.688588588588589,5.694294294294294,5.7],\"xaxis\":\"x\",\"y\":[0.07978845608028654,0.07978715733116715,0.07978326121064919,0.0797767680992327,0.07976767863101557,0.0797559936935904,0.07974171442789998,0.07972484222805162,0.07970537874109038,0.07968332586673095,0.07965868575704883,0.07963146081613015,0.07960165369968077,0.07956926731459454,0.07953430481848088,0.07949676961915156,0.07945666537406719,0.07941399598974325,0.07936876562111586,0.07932097867086747,0.07927063978871264,0.07921775387064399,0.07916232605813862,0.07910436173732498,0.0790438665381106,0.07898084633327081,0.07891530723749841,0.07884725560641508,0.07877669803554402,0.07870364135924465,0.07862809264960943,0.07855005921532274,0.07846954860048264,0.07838656858338527,0.07830112717527261,0.07821323261904327,0.07812289338792744,0.07803011818412542,0.07793491593741073,0.07783729580369772,0.0777372671635741,0.07763483962079885,0.07753002300076557,0.07742282734893191,0.07731326292921523,0.07720134022235499,0.077087069924242,0.07697046294421536,0.07685153040332682,0.07673028363257353,0.07660673417109934,0.076480893764365,0.07635277436228766,0.07622238811735027,0.07608974738268108,0.07595486471010386,0.075817752848159,0.07567842474009626,0.07553689352183933,0.07539317251992286,0.07524727524940225,0.07509921541173675,0.07494900689264627,0.07479666375994251,0.07464220026133467,0.0744856308222104,0.07432697004339235,0.07416623269887099,0.07400343373351384,0.07383858826075212,0.07367171156024475,0.07350281907552071,0.07333192641159986,0.07315904933259311,0.07298420375928215,0.07280740576667934,0.07262867158156841,0.07244801758002642,0.07226546028492732,0.07208101636342804,0.07189470262443722,0.0717065360160675,0.07151653362307156,0.0713247126642627,0.07113109048992047,0.07093568457918167,0.07073851253741767,0.07053959209359817,0.07033894109764231,0.07013657751775743,0.06993251943776618,0.06972678505442248,0.0695193926747168,0.06931036071317156,0.06909970768912697,0.06888745222401796,0.06867361303864265,0.06845820895042327,0.06824125887065957,0.06802278180177569,0.06780279683456085,0.06758132314540448,0.06735837999352638,0.06713398671820231,0.06690816273598582,0.06668092753792662,0.06645230068678616,0.06622230181425112,0.06599095061814497,0.06575826685963859,0.06552427036046019,0.06528898100010519,0.0650524187130467,0.06481460348594685,0.06457555535486989,0.06433529440249729,0.06409384075534554,0.06385121458098704,0.06360743608527497,0.06336252550957198,0.0631165031279841,0.06286938924459953,0.06262120419073361,0.062371968322179706,0.06212170201646735,0.06187042567012739,0.061618159695965145,0.06136492452034183,0.06111074058046488,0.06085562832168755,0.06059960819481837,0.060342700653440884,0.0600849261512442,0.0598263051393647,0.059566858063739625,0.05930660536247275,0.05904556746321273,0.05878376478054457,0.05852121771339462,0.058257946642449696,0.05799397192759045,0.05772931390533979,0.05746399288632655,0.05719802915276494,0.05693144295595002,0.056664254513769954,0.05639648400823506,0.056128151583024345,0.05585927734104982,0.05558988134203889,0.055319983600135444,0.055049604081519675,0.05477876270204746,0.054507479324909215,0.054235773758308826,0.05396366575316299,0.05369117500082138,0.05341832113080758,0.053145123708581855,0.052871602233325266,0.0525977761357461,0.052323664775908565,0.052049287441084134,0.05177466334362598,0.05149981161886659,0.05122475132303891,0.050949501431221525,0.05067408083530771,0.050398508341999035,0.05012280267082353,0.049846982452178785,0.04957106622540017,0.04929507243685445,0.049019019438059044,0.04874292548382697,0.0484668087304381,0.04819068723383644,0.04791457894785399,0.0476385017224613,0.04736247330204477,0.04708651132371107,0.04681063331561876,0.04653485669533723,0.04625919876823327,0.0459836767258852,0.045708307644525,0.045433108483508226,0.0451580960838122,0.044883287166562306,0.044608698331586746,0.04433434605599959,0.04406024669281257,0.04378641646957539,0.04351287148704484,0.043239627717882693,0.04296670100538259,0.0426941070622258,0.042421861469266,0.04214997967434319,0.04187847699112676,0.04160736859798759,0.04133666953689951,0.04106639471236988,0.04079655889039939,0.04052717669747127,0.04025826261956958,0.03998983100122683,0.03972189604460092,0.03945447180858118,0.03918757220792376,0.03892121101241612,0.03865540184607073,0.038390158186347834,0.03812549336340731,0.03786142055938956,0.03759795280772534,0.03733510299247447,0.037072883847693375,0.03681130795683139,0.03655038775215566,0.036290135514204694,0.03603056337127034,0.035771683298908105,0.035513507119475846,0.035256046501700486,0.03499931296027289,0.034743317855470524,0.034488072392808024,0.034233587622715334,0.03397987444024338,0.033726943584797095,0.0334748056398957,0.03322347103295996,0.032972950035126444,0.03272325276108847,0.0324743891689636,0.032226369060187485,0.031979202079434096,0.03173289771456179,0.031487465296585276,0.03124291399967329,0.030999252841171655,0.030756490681651576,0.030514636224983044,0.030273698018433014,0.03003368445278825,0.029794603762502498,0.029556464025867958,0.029319273165210567,0.029083038947109167,0.028847768982637995,0.028613470727632588,0.028380151482978632,0.028147818394923578,0.02791647845541082,0.027686138502436165,0.02745680522042628,0.027228485140638976,0.027001184641585012,0.02677490994947106,0.026549667138663822,0.02632546213217473,0.026102300702165227,0.02588018847047214,0.02565913090915304,0.025439133341051225,0.02522020094038006,0.02500233873332644,0.02478555159867301,0.024569844268438924,0.024355221328538908,0.024141687219460164,0.023929246236957046,0.023717902532763006,0.023507660115319774,0.023298522850523147,0.023090494462485425,0.022883578534313997,0.02267777850890583,0.02247309768975757,0.022269539241790995,0.022067106192193438,0.02186580143127297,0.02166562771332796,0.02146658765753081,0.021268683748825422,0.021071918338838296,0.020876293646802747,0.020681811760496063,0.020488474637189332,0.02029628410460948,0.02010524186191339,0.01991534948067376,0.01972660840587621,0.0195390199569277,0.019352585328675623,0.0191673055924374,0.01898318169704036,0.01880021446987144,0.01861840461793654,0.01843775272892916,0.018258259272308057,0.018079924600383636,0.017902748949412694,0.017726732440701377,0.01755187508171587,0.017378176767200715,0.017205637280304286,0.017034256293711306,0.016864033370781944,0.01669496796669737,0.016527059429611326,0.01636030700180758,0.016194709820862827,0.016030266920814898,0.0158669772333359,0.015704839588910037,0.015543852718015843,0.015384015252312583,0.015225325725830439,0.015067782576164358,0.014911384145671192,0.014756128682669886,0.014602014342644454,0.014449039189449517,0.014297201196518044,0.01414649824807116,0.013996928140329674,0.013848488582727105,0.013701177199123967,0.01355499152902305,0.013409929028785425,0.013265987072847004,0.013123162954935316,0.012981453889286329,0.012840857011861084,0.012701369381561809,0.012562987981447463,0.012425709719948282,0.012289531432079242,0.012154449880652144,0.012020461757486143,0.011887563684616465,0.011755752215501108,0.011625023836225375,0.011495374966703897,0.011366801961880077,0.01123930111292268,0.011112868648419365,0.010987500735566999,0.010863193481358512,0.010739942933766162,0.01061774508292097,0.010496595862288101,0.010376491149838163,0.010257426769214062,0.010139398490893355,0.010022402033345833,0.009906433064186338,0.009791487201322389,0.009677560014096687,0.009564647024424187,0.009452743707923669,0.009341845495043593,0.00923194777218212,0.009123045882801143,0.009015135128534158,0.00890821077028788,0.008802268029337427,0.008697302088414922,0.00859330809279144,0.008490281151352108,0.008388216337664253,0.008287108691038497,0.008186953217582628,0.008087744891248177,0.007989478654869557,0.007892149421195668,0.007795752073913838,0.00770028146866603,0.007605732434057165,0.007512099772655505,0.007419378261984978,0.007327562655509355,0.007236647683608181,0.007146628054544357,0.007057498455423386,0.00696925355314403,0.006881887995340462,0.006795396411315734,0.0067097734129665425,0.0066250135956991835,0.006541111539336675,0.006458061809016928,0.006375858956081943,0.0062944975189579725,0.006213972024026574,0.006134276986486506,0.0060554069112064195,0.005977356293568317,0.005900119620301696,0.005823691370308347,0.005748066015477808,0.0056732380214933615,0.005599201848628606,0.0055259519525345385,0.005453482785017139,0.005381788794805381,0.005310864428309732,0.00524070413037102,0.005171302344999731,0.0051026535161056655,0.005034752088217978,0.00496759250719556,0.004901169220927742,0.004835476680025401,0.004770509338502314,0.004706261654446906,0.004642728090684278,0.004579903115428603,0.004517781202925819,0.0044563568340866885,0.00439562449711019,0.004335578688097262,0.004276213911654933,0.00421752468149081,0.0041595055209979834,0.004102150963830345,0.0040454555544683305,0.003989413848775138,0.00393402041454342,0.0038792698320324684,0.0038251566944959695,0.0037716756087002755,0.003718821195433323,0.003666588090004124,0.003614970942732966,0.003563964419432279,0.0035135632018782467,0.0034637619882731895,0.0034145554936987647,0.0033659384505600235,0.003317905609020342,0.0032704517374273524,0.0032235716227297984,0.0031772600708854827,0.0031315119072602704,0.0030863219770182354,0.0030416851455030056,0.0029975962986103525,0.0029540503431520525,0.002911042207211131,0.002868566840488498,0.0028266192146410487,0.002785194323611294,0.0027442871839485753,0.002703892835121923,0.0026640063398246172,0.0026246227842705266,0.0025857372784822722,0.002547344956571297,0.0025094409770098918,0.0024720205228952533,0.0024350788022056446,0.002398611048048707,0.002362612518902022,0.002327078498845961,0.002292004297788917,0.002257385251684979,0.0022232167227441207,0.0021894940996349753,0.002156212797680263,0.002123368259044976,0.002090955952917344,0.0020589713756826917,0.002027410051090253,0.0019962675304130164,0.0019655393926006725,0.00193522124442575,0.0019053087206230075,0.0018757974840221618,0.001846683225674031,0.0018179616649701608,0.0017896285497560325,0.0017616796564379022,0.0017341107900833738,0.0017069177845157675,0.001680096502402375,0.0016536428353366706,0.001627552703914563,0.0016018220578047598,0.0015764468758133338,0.0015514231659425593,0.0015267469654441077,0.0015024143408666727,0.0014784213880981068,0.0014547642324021562,0.0014314390284498608,0.0014084419603457052,0.0013857692416485935,0.0013634171153877454,0.0013413818540735653,0.0013196597597035808,0.0012982471637635246,0.0012771404272236384,0.0012563359405302762,0.0012358301235928853,0.0012156194257664423,0.0011957003258294197,0.0011760693319573703,0.0011567229816921844,0.0011376578419071254,0.0011188705087676987,0.0011003576076884292,0.001082115793285645,0.0010641417493263163,0.00104643218867304,0.0010289838532252407,0.0010117935138566642,0.000994857970349232,0.000978174051323334,0.0009617386141646362,0.000945548544947468,0.0009296007583548631,0.0009138921975953382,0.0008984198343164551,0.0008831806685152636,0.0008681717284456816,0.0008533900705228762,0.0008388327792247404,0.0008244969669904975,0.0008103797741165356,0.0007964783686495171,0.0007827899462768421,0.000769311730214527,0.000756040971092568,0.0007429749468378486,0.0007301109625546655,0.000717446350402931,0.0007049784694741101,0.000692704705664972,0.0006806224715492016,0.0006687292062469407,0.000657022375292324,0.0006454994704990563,0.000634158009824113,0.0006229955372296001,0.0006120096225428508,0.0006011978613148032,0.00059055787467673,0.0005800873091953635,0.0005697838367264845,0.0005596451542670183,0.0005496689838057072,0.0005398530721723998,0.000530195190886021,0.0005206931360012678,0.0005113447279540931,0.0005021478114060185,0.0004931002550873326,0.000484199951639226,0.00047544481745491197,0.0004668327925197779,0.00045836184025062267,0.00045002994733402076,0.00044183512356386786,0.00043377540167814367,0.0004258488371949521,0.0004180535082478674,0.00041038751542064417,0.0004028489815813289,0.0003954360517158154,0.0003881468927608887,0.0003809796934368,0.0003739326640794084,0.00036700403647193814,0.0003601920636763827,0.00035349501986460194,0.00034691120014914323,0.0003404389204138337,0.0003340765171441712,0.00032782234725755736,0.00032167478793340535,0.00031563223644315834,0.00030969310998025314,0.0003038558454900611,0.00029811889949984727,0.00029248074794876663,0.0002869398860179442,0.0002814948279606593,0.0002761441069326723,0.0002708862748227176,0.0002657199020831997,0.0002606435775611135,0.0002556559083292236,0.0002507555195175273,0.00024594105414502815,0.00024121117295184793,0.00023656455423170324,0.00023199989366477048,0.00022751590415096603,0.00022311131564366427,0.0002187848749838774,0.0002145353457349226,0.0002103615080175939,0.00020626215834586753,0.000202236109463156,0.0001982821901791363,0.00019439924520716942,0.0001905861350023342,0.00018684173560009183,0.00018316493845560176,0.00017955465028370734,0.0001760097928996063,0.00017252930306022886,0.00016911213230633393,0.00016575724680534376,0.0001624636271949323,0.00015923026842738108,0.00015605617961471875,0.0001529403838746588,0.0001498819181773486,0.00014687983319294323,0.00014393319314001798,0.0001410410756348309,0.00013820257154144902,0.0001354167848227476,0.0001326828323922968,0.000129999843967143,0.00012736696192149877,0.00012478334114134824,0.00012224814887997978,0.00011976056461445379,0.00011731977990301514,0.00011492499824345864,0.00011257543493245442,0.00011027031692584237,0.00010800888269990204,0.00010579038211360476,0.00010361407627185525,0.0001014792373897278,9.938514865770389e-05,9.733110410791552e-05,9.531640848140135e-05,9.334037709637778e-05,9.140233571753152e-05,8.950162042633689e-05,8.76375774924021e-05,8.580956324584732e-05,8.401694395071863e-05,8.225909567943988e-05,8.053540418830609e-05,7.884526479401947e-05,7.718808225127118e-05,7.556327063136992e-05,7.397025320191923e-05,7.240846230754453e-05,7.087733925167073e-05,6.937633417935127e-05,6.790490596114938e-05,6.646252207807066e-05,6.504865850754848e-05,6.36627996104805e-05,6.230443801931696e-05,6.0973074527198656e-05,5.966821797814536e-05,5.8389385158292e-05,5.7136100688171874e-05,5.590789691604554e-05,5.4704313812273005e-05,5.352489886472726e-05,5.236920697524811e-05,5.1236800357132066e-05,5.012724843365736e-05,4.904012773764031e-05,4.797502181202087e-05,4.693152111147384e-05,4.590922290504239e-05,4.490773117979118e-05,4.39266565454747e-05,4.2965616140217656e-05,4.20242335372034e-05,4.110213865236632e-05,4.0198967653084204e-05,3.931436286786618e-05,3.8447972697031935e-05,3.759945152437773e-05,3.676845962982427e-05,3.595466310304198e-05,3.515773375804879e-05,3.4377349048775045e-05,3.361319198559112e-05,3.286495105279174e-05,3.2132320127032444e-05,3.141499839671209e-05,3.0712690282296655e-05,3.002510535757799e-05,2.9351958271862456e-05,2.8692968673083243e-05,2.8047861131830974e-05,2.7416365066296308e-05,2.6798214668118717e-05,2.6193148829135232e-05,2.56009110690237e-05,2.502124946383287e-05,2.4453916575395228e-05,2.3898669381614073e-05,2.3355269207620157e-05,2.2823481657790368e-05,2.230307654862301e-05,2.1793827842461634e-05,2.1295513582063378e-05,2.0807915826002012e-05,2.0330820584901878e-05,1.9864017758494943e-05,1.9407301073493436e-05,1.8960468022273224e-05,1.8523319802359177e-05,1.8095661256707718e-05,1.7677300814777537e-05,1.7268050434384203e-05,1.6867725544329118e-05,1.6476144987798585e-05,1.609313096652379e-05,1.5718508985696687e-05,1.535210779963344e-05,1.4993759358179726e-05,1.464329875384993e-05,1.4300564169694169e-05,1.3965396827885602e-05,1.3637640939021702e-05,1.3317143652131699e-05,1.300375500538459e-05,1.2697327877489223e-05,1.2397717939781181e-05,1.210478360898794e-05,1.1818386000667001e-05,1.1538388883308793e-05,1.12646586330985e-05,1.0997064189328965e-05,1.0735477010459105e-05,1.0479771030809622e-05,1.0229822617890259e-05,9.985510530351559e-06,9.746715876553852e-06,9.513322073747621e-06,9.28521480785767e-06,9.062281993865153e-06,8.844413736780088e-06,8.63150229319853e-06,8.423442033436784e-06,8.22012940423727e-06,8.02146289203828e-06,7.82734298680217e-06,7.63767214639462e-06,7.452354761509293e-06,7.2712971211306855e-06,7.094407378529627e-06,6.921595517784141e-06,6.752773320820361e-06,6.58785433496619e-06,6.426753841012468e-06,6.2693888217745266e-06,6.115677931148721e-06,5.965541463657203e-06,5.818901324475435e-06,5.675680999935721e-06,5.535805528501532e-06,5.39920147220586e-06,5.265796888548346e-06,5.135521302844997e-06,5.008305681024476e-06,4.8840824028657175e-06,4.76278523567045e-06,4.644349308365591e-06,4.528711086029229e-06,4.41580834483513e-06,4.305580147409725e-06,4.197966818596514e-06,4.092909921621906e-06,3.9903522346576306e-06,3.890237727773737e-06,3.792511540277438e-06,3.6971199584319647e-06,3.6040103935506447e-06,3.513131360460636e-06,3.424432456331495e-06,3.337864339863159e-06,3.2533787108286355e-06,3.1709282899659843e-06,3.090466799215101e-06,3.011948942293927e-06,2.9353303856096266e-06,2.8605677394995874e-06,2.7876185397977642e-06,2.716441229721376e-06,2.646995142073572e-06,2.579240481757128e-06,2.513138308594895e-06,2.4486505204523283e-06,2.3857398366575296e-06,2.3243697817146223e-06,2.2645046693058183e-06,2.2061095865780375e-06,2.1491503787096047e-06,2.093593633753041e-06,2.039406667749406e-06,1.986557510110453e-06,1.9350148892640903e-06,1.8847482185594404e-06,1.8357275824272476e-06,1.7879237227918372e-06,1.7413080257305616e-06,1.6958525083770574e-06,1.6515298060642768e-06,1.6083131597037092e-06,1.5661764033969071e-06,1.52509395227578e-06,1.4850407905678415e-06,1.4459924598830184e-06,1.407925047718253e-06,1.370815176176606e-06,1.3346399908971992e-06,1.2993771501927488e-06,1.2650048143911675e-06,1.2315016353780461e-06,1.1988467463365703e-06,1.1670197516817575e-06,1.1360007171857676e-06,1.1057701602910467e-06,1.0763090406083248e-06,1.04759875059625e-06,1.0196211064197369e-06,9.923583389839182e-07,9.657930851408556e-07,9.399083790659758e-07,9.146876438014864e-07,8.901146829637807e-07,8.66173672612182e-07,8.428491532761421e-07,8.201260221382764e-07,7.979895253704465e-07,7.764252506203664e-07,7.554191196459816e-07,7.349573810951991e-07,7.150266034282995e-07,6.956136679806422e-07,6.767057621631049e-07,6.582903727979297e-07,6.40355279587483e-07,6.228885487136741e-07,6.058785265656138e-07,5.893138335933187e-07,5.73183358285125e-07,5.574762512666674e-07,5.421819195191622e-07,5.272900207149185e-07,5.12790457667902e-07,4.986733728972728e-07,4.849291433018769e-07,4.715483749436016e-07,4.5852189793768443e-07,4.4584076144792837e-07,4.334962287849621e-07,4.2147977260558833e-07,4.097830702114007e-07,3.9839799894477325e-07,3.8731663168046176e-07,3.7653123241097755e-07,3.660342519240426e-07,3.5581832357032785e-07,3.4587625911984013e-07,3.362010447052307e-07,3.267858368504252e-07,3.1762395858291486e-07,3.087088956281621e-07,3.0003429268450445e-07,2.915939497770637e-07,2.8338181868910807e-07,2.753919994694084e-07,2.6761873701409376e-07,2.60056417721596e-07,2.5269956621923854e-07,2.455428421601023e-07,2.3858103708878585e-07,2.3180907137471033e-07,2.2522199121166453e-07,2.1881496568226582e-07,2.1258328388608843e-07,2.0652235213016904e-07,2.006276911806907e-07,1.9489493357460017e-07,1.8931982098999732e-07,1.8389820167409586e-07,1.786260279276349e-07,1.7349935364458185e-07,1.6851433190604614e-07,1.6366721262728346e-07,1.5895434025674677e-07,1.5437215152610947e-07,1.499171732502465e-07,1.45586020176139e-07,1.413753928797286e-07,1.372820757097172e-07,1.3330293477737779e-07,1.294349159914093e-07,1.2567504313692866e-07,1.2202041599767267e-07,1.1846820852053737e-07,1.1501566702155639e-07,1.1166010843248034e-07,1.0839891858709199e-07,1.0522955054644697e-07,1.0214952296221677e-07,9.91564184773346e-08,9.624788216317179e-08,9.342161999246212e-08,9.067539734723576e-08,8.800703756100655e-08,8.541442049450504e-08,8.289548114422795e-08,8.044820828312143e-08,7.80706431326999e-08,7.576087806594106e-08,7.351705534028611e-08,7.133736586011178e-08,6.922004796802682e-08,6.716338626438605e-08,6.516571045439896e-08,6.322539422224764e-08,6.134085413161712e-08,5.951054855207595e-08,5.7732976610730724e-08,5.600667716861587e-08,5.433022782126645e-08,5.270224392295351e-08,5.112137763405316e-08,4.958631699104885e-08,4.809578499865917e-08,4.664853874361113e-08,4.524336852956985e-08,4.387909703276314e-08,4.255457847783748e-08,4.1268697833492116e-08,4.002037002745529e-08,3.880853918036344e-08,3.76321778581259e-08,3.649028634235295e-08,3.538189191844794e-08,3.4306048180957517e-08,3.3261834355797053e-08,3.224835463896267e-08,3.126473755136115e-08,3.031013530938657e-08,2.9383723210889563e-08,2.848469903618266e-08,2.7612282463743458e-08,2.6765714500273065e-08,2.5944256924785655e-08,2.5147191746401378e-08,2.4373820675531066e-08,2.3623464608139687e-08,2.289546312278942e-08,2.2189173990162576e-08,2.150397269477815e-08,2.0839251968614233e-08,2.01944213363629e-08,1.9568906672041752e-08,1.8962149766699925e-08,1.837360790695538e-08,1.7802753464111144e-08,1.724907349360097e-08,1.6712069344519514e-08,1.619125627900123e-08,1.5686163101212263e-08,1.5196331795729815e-08,1.472131717508368e-08,1.4260686536244231e-08,1.381401932584098e-08,1.338090681390594e-08,1.2960951775935048e-08,1.25537681830707e-08,1.2158980900208162e-08,1.177622539183722e-08,1.1405147435430688e-08,1.1045402842199458e-08,1.0696657185033882e-08,1.0358585533459425e-08,1.0030872195434204e-08,9.713210465824065e-09,9.405302381390596e-09,9.106858482134791e-09,8.817597578839526e-09,8.537246526660415e-09,8.265540004615224e-09,8.002220300828218e-09,7.747037103386585e-09,7.49974729667149e-09,7.260114763027869e-09,7.027910189640868e-09],\"yaxis\":\"y\",\"type\":\"scatter\"}],                        {\"template\":{\"data\":{\"histogram2dcontour\":[{\"type\":\"histogram2dcontour\",\"colorbar\":{\"outlinewidth\":0,\"ticks\":\"\"},\"colorscale\":[[0.0,\"#0d0887\"],[0.1111111111111111,\"#46039f\"],[0.2222222222222222,\"#7201a8\"],[0.3333333333333333,\"#9c179e\"],[0.4444444444444444,\"#bd3786\"],[0.5555555555555556,\"#d8576b\"],[0.6666666666666666,\"#ed7953\"],[0.7777777777777778,\"#fb9f3a\"],[0.8888888888888888,\"#fdca26\"],[1.0,\"#f0f921\"]]}],\"choropleth\":[{\"type\":\"choropleth\",\"colorbar\":{\"outlinewidth\":0,\"ticks\":\"\"}}],\"histogram2d\":[{\"type\":\"histogram2d\",\"colorbar\":{\"outlinewidth\":0,\"ticks\":\"\"},\"colorscale\":[[0.0,\"#0d0887\"],[0.1111111111111111,\"#46039f\"],[0.2222222222222222,\"#7201a8\"],[0.3333333333333333,\"#9c179e\"],[0.4444444444444444,\"#bd3786\"],[0.5555555555555556,\"#d8576b\"],[0.6666666666666666,\"#ed7953\"],[0.7777777777777778,\"#fb9f3a\"],[0.8888888888888888,\"#fdca26\"],[1.0,\"#f0f921\"]]}],\"heatmap\":[{\"type\":\"heatmap\",\"colorbar\":{\"outlinewidth\":0,\"ticks\":\"\"},\"colorscale\":[[0.0,\"#0d0887\"],[0.1111111111111111,\"#46039f\"],[0.2222222222222222,\"#7201a8\"],[0.3333333333333333,\"#9c179e\"],[0.4444444444444444,\"#bd3786\"],[0.5555555555555556,\"#d8576b\"],[0.6666666666666666,\"#ed7953\"],[0.7777777777777778,\"#fb9f3a\"],[0.8888888888888888,\"#fdca26\"],[1.0,\"#f0f921\"]]}],\"heatmapgl\":[{\"type\":\"heatmapgl\",\"colorbar\":{\"outlinewidth\":0,\"ticks\":\"\"},\"colorscale\":[[0.0,\"#0d0887\"],[0.1111111111111111,\"#46039f\"],[0.2222222222222222,\"#7201a8\"],[0.3333333333333333,\"#9c179e\"],[0.4444444444444444,\"#bd3786\"],[0.5555555555555556,\"#d8576b\"],[0.6666666666666666,\"#ed7953\"],[0.7777777777777778,\"#fb9f3a\"],[0.8888888888888888,\"#fdca26\"],[1.0,\"#f0f921\"]]}],\"contourcarpet\":[{\"type\":\"contourcarpet\",\"colorbar\":{\"outlinewidth\":0,\"ticks\":\"\"}}],\"contour\":[{\"type\":\"contour\",\"colorbar\":{\"outlinewidth\":0,\"ticks\":\"\"},\"colorscale\":[[0.0,\"#0d0887\"],[0.1111111111111111,\"#46039f\"],[0.2222222222222222,\"#7201a8\"],[0.3333333333333333,\"#9c179e\"],[0.4444444444444444,\"#bd3786\"],[0.5555555555555556,\"#d8576b\"],[0.6666666666666666,\"#ed7953\"],[0.7777777777777778,\"#fb9f3a\"],[0.8888888888888888,\"#fdca26\"],[1.0,\"#f0f921\"]]}],\"surface\":[{\"type\":\"surface\",\"colorbar\":{\"outlinewidth\":0,\"ticks\":\"\"},\"colorscale\":[[0.0,\"#0d0887\"],[0.1111111111111111,\"#46039f\"],[0.2222222222222222,\"#7201a8\"],[0.3333333333333333,\"#9c179e\"],[0.4444444444444444,\"#bd3786\"],[0.5555555555555556,\"#d8576b\"],[0.6666666666666666,\"#ed7953\"],[0.7777777777777778,\"#fb9f3a\"],[0.8888888888888888,\"#fdca26\"],[1.0,\"#f0f921\"]]}],\"mesh3d\":[{\"type\":\"mesh3d\",\"colorbar\":{\"outlinewidth\":0,\"ticks\":\"\"}}],\"scatter\":[{\"fillpattern\":{\"fillmode\":\"overlay\",\"size\":10,\"solidity\":0.2},\"type\":\"scatter\"}],\"parcoords\":[{\"type\":\"parcoords\",\"line\":{\"colorbar\":{\"outlinewidth\":0,\"ticks\":\"\"}}}],\"scatterpolargl\":[{\"type\":\"scatterpolargl\",\"marker\":{\"colorbar\":{\"outlinewidth\":0,\"ticks\":\"\"}}}],\"bar\":[{\"error_x\":{\"color\":\"#2a3f5f\"},\"error_y\":{\"color\":\"#2a3f5f\"},\"marker\":{\"line\":{\"color\":\"#E5ECF6\",\"width\":0.5},\"pattern\":{\"fillmode\":\"overlay\",\"size\":10,\"solidity\":0.2}},\"type\":\"bar\"}],\"scattergeo\":[{\"type\":\"scattergeo\",\"marker\":{\"colorbar\":{\"outlinewidth\":0,\"ticks\":\"\"}}}],\"scatterpolar\":[{\"type\":\"scatterpolar\",\"marker\":{\"colorbar\":{\"outlinewidth\":0,\"ticks\":\"\"}}}],\"histogram\":[{\"marker\":{\"pattern\":{\"fillmode\":\"overlay\",\"size\":10,\"solidity\":0.2}},\"type\":\"histogram\"}],\"scattergl\":[{\"type\":\"scattergl\",\"marker\":{\"colorbar\":{\"outlinewidth\":0,\"ticks\":\"\"}}}],\"scatter3d\":[{\"type\":\"scatter3d\",\"line\":{\"colorbar\":{\"outlinewidth\":0,\"ticks\":\"\"}},\"marker\":{\"colorbar\":{\"outlinewidth\":0,\"ticks\":\"\"}}}],\"scattermapbox\":[{\"type\":\"scattermapbox\",\"marker\":{\"colorbar\":{\"outlinewidth\":0,\"ticks\":\"\"}}}],\"scatterternary\":[{\"type\":\"scatterternary\",\"marker\":{\"colorbar\":{\"outlinewidth\":0,\"ticks\":\"\"}}}],\"scattercarpet\":[{\"type\":\"scattercarpet\",\"marker\":{\"colorbar\":{\"outlinewidth\":0,\"ticks\":\"\"}}}],\"carpet\":[{\"aaxis\":{\"endlinecolor\":\"#2a3f5f\",\"gridcolor\":\"white\",\"linecolor\":\"white\",\"minorgridcolor\":\"white\",\"startlinecolor\":\"#2a3f5f\"},\"baxis\":{\"endlinecolor\":\"#2a3f5f\",\"gridcolor\":\"white\",\"linecolor\":\"white\",\"minorgridcolor\":\"white\",\"startlinecolor\":\"#2a3f5f\"},\"type\":\"carpet\"}],\"table\":[{\"cells\":{\"fill\":{\"color\":\"#EBF0F8\"},\"line\":{\"color\":\"white\"}},\"header\":{\"fill\":{\"color\":\"#C8D4E3\"},\"line\":{\"color\":\"white\"}},\"type\":\"table\"}],\"barpolar\":[{\"marker\":{\"line\":{\"color\":\"#E5ECF6\",\"width\":0.5},\"pattern\":{\"fillmode\":\"overlay\",\"size\":10,\"solidity\":0.2}},\"type\":\"barpolar\"}],\"pie\":[{\"automargin\":true,\"type\":\"pie\"}]},\"layout\":{\"autotypenumbers\":\"strict\",\"colorway\":[\"#636efa\",\"#EF553B\",\"#00cc96\",\"#ab63fa\",\"#FFA15A\",\"#19d3f3\",\"#FF6692\",\"#B6E880\",\"#FF97FF\",\"#FECB52\"],\"font\":{\"color\":\"#2a3f5f\"},\"hovermode\":\"closest\",\"hoverlabel\":{\"align\":\"left\"},\"paper_bgcolor\":\"white\",\"plot_bgcolor\":\"#E5ECF6\",\"polar\":{\"bgcolor\":\"#E5ECF6\",\"angularaxis\":{\"gridcolor\":\"white\",\"linecolor\":\"white\",\"ticks\":\"\"},\"radialaxis\":{\"gridcolor\":\"white\",\"linecolor\":\"white\",\"ticks\":\"\"}},\"ternary\":{\"bgcolor\":\"#E5ECF6\",\"aaxis\":{\"gridcolor\":\"white\",\"linecolor\":\"white\",\"ticks\":\"\"},\"baxis\":{\"gridcolor\":\"white\",\"linecolor\":\"white\",\"ticks\":\"\"},\"caxis\":{\"gridcolor\":\"white\",\"linecolor\":\"white\",\"ticks\":\"\"}},\"coloraxis\":{\"colorbar\":{\"outlinewidth\":0,\"ticks\":\"\"}},\"colorscale\":{\"sequential\":[[0.0,\"#0d0887\"],[0.1111111111111111,\"#46039f\"],[0.2222222222222222,\"#7201a8\"],[0.3333333333333333,\"#9c179e\"],[0.4444444444444444,\"#bd3786\"],[0.5555555555555556,\"#d8576b\"],[0.6666666666666666,\"#ed7953\"],[0.7777777777777778,\"#fb9f3a\"],[0.8888888888888888,\"#fdca26\"],[1.0,\"#f0f921\"]],\"sequentialminus\":[[0.0,\"#0d0887\"],[0.1111111111111111,\"#46039f\"],[0.2222222222222222,\"#7201a8\"],[0.3333333333333333,\"#9c179e\"],[0.4444444444444444,\"#bd3786\"],[0.5555555555555556,\"#d8576b\"],[0.6666666666666666,\"#ed7953\"],[0.7777777777777778,\"#fb9f3a\"],[0.8888888888888888,\"#fdca26\"],[1.0,\"#f0f921\"]],\"diverging\":[[0,\"#8e0152\"],[0.1,\"#c51b7d\"],[0.2,\"#de77ae\"],[0.3,\"#f1b6da\"],[0.4,\"#fde0ef\"],[0.5,\"#f7f7f7\"],[0.6,\"#e6f5d0\"],[0.7,\"#b8e186\"],[0.8,\"#7fbc41\"],[0.9,\"#4d9221\"],[1,\"#276419\"]]},\"xaxis\":{\"gridcolor\":\"white\",\"linecolor\":\"white\",\"ticks\":\"\",\"title\":{\"standoff\":15},\"zerolinecolor\":\"white\",\"automargin\":true,\"zerolinewidth\":2},\"yaxis\":{\"gridcolor\":\"white\",\"linecolor\":\"white\",\"ticks\":\"\",\"title\":{\"standoff\":15},\"zerolinecolor\":\"white\",\"automargin\":true,\"zerolinewidth\":2},\"scene\":{\"xaxis\":{\"backgroundcolor\":\"#E5ECF6\",\"gridcolor\":\"white\",\"linecolor\":\"white\",\"showbackground\":true,\"ticks\":\"\",\"zerolinecolor\":\"white\",\"gridwidth\":2},\"yaxis\":{\"backgroundcolor\":\"#E5ECF6\",\"gridcolor\":\"white\",\"linecolor\":\"white\",\"showbackground\":true,\"ticks\":\"\",\"zerolinecolor\":\"white\",\"gridwidth\":2},\"zaxis\":{\"backgroundcolor\":\"#E5ECF6\",\"gridcolor\":\"white\",\"linecolor\":\"white\",\"showbackground\":true,\"ticks\":\"\",\"zerolinecolor\":\"white\",\"gridwidth\":2}},\"shapedefaults\":{\"line\":{\"color\":\"#2a3f5f\"}},\"annotationdefaults\":{\"arrowcolor\":\"#2a3f5f\",\"arrowhead\":0,\"arrowwidth\":1},\"geo\":{\"bgcolor\":\"white\",\"landcolor\":\"#E5ECF6\",\"subunitcolor\":\"white\",\"showland\":true,\"showlakes\":true,\"lakecolor\":\"white\"},\"title\":{\"x\":0.05},\"mapbox\":{\"style\":\"light\"}}},\"xaxis\":{\"anchor\":\"y\",\"domain\":[0.0,1.0],\"title\":{\"text\":\"Absolute Residuals\"}},\"yaxis\":{\"anchor\":\"x\",\"domain\":[0.0,1.0],\"title\":{\"text\":\"sum of freq\"}},\"legend\":{\"tracegroupgap\":0},\"title\":{\"text\":\"Residual Distribution of xG vs Goals in Premier League\"},\"barmode\":\"relative\"},                        {\"responsive\": true}                    ).then(function(){\n",
       "                            \n",
       "var gd = document.getElementById('cf40dd6c-8d89-43e0-a341-7991e97e65f5');\n",
       "var x = new MutationObserver(function (mutations, observer) {{\n",
       "        var display = window.getComputedStyle(gd).display;\n",
       "        if (!display || display === 'none') {{\n",
       "            console.log([gd, 'removed!']);\n",
       "            Plotly.purge(gd);\n",
       "            observer.disconnect();\n",
       "        }}\n",
       "}});\n",
       "\n",
       "// Listen for the removal of the full notebook cells\n",
       "var notebookContainer = gd.closest('#notebook-container');\n",
       "if (notebookContainer) {{\n",
       "    x.observe(notebookContainer, {childList: true});\n",
       "}}\n",
       "\n",
       "// Listen for the clearing of the current output cell\n",
       "var outputEl = gd.closest('.output');\n",
       "if (outputEl) {{\n",
       "    x.observe(outputEl, {childList: true});\n",
       "}}\n",
       "\n",
       "                        })                };                });            </script>        </div>"
      ]
     },
     "metadata": {},
     "output_type": "display_data"
    }
   ],
   "source": [
    "fig = px.histogram(df_counts_res, x='Absolute Residuals', y='freq', nbins=106, \n",
    "                  title='Residual Distribution of xG vs Goals in Premier League',\n",
    "                  labels={\n",
    "                      'sum of freq': 'Relative Frequency'\n",
    "                  })\n",
    "\n",
    "mean = 0\n",
    "std_dev = 1\n",
    "x_values = np.linspace(min(df_counts_res['Absolute Residuals']), max(df_counts_res['Absolute Residuals']), 1000)\n",
    "y_values = (1 / (std_dev * np.sqrt(2 * np.pi))) * np.exp(-0.5 * ((x_values - mean) / std_dev) ** 2) / 5\n",
    "\n",
    "fig.add_trace(px.line(x=x_values, y=y_values, color_discrete_sequence=['red']).data[0])\n",
    "\n",
    "fig.show()"
   ]
  },
  {
   "cell_type": "code",
   "execution_count": 45,
   "id": "506a64c7",
   "metadata": {
    "scrolled": false
   },
   "outputs": [
    {
     "data": {
      "application/vnd.plotly.v1+json": {
       "config": {
        "plotlyServerURL": "https://plot.ly"
       },
       "data": [
        {
         "alignmentgroup": "True",
         "bingroup": "x",
         "hovertemplate": "Residuals=%{x}<br>count=%{y}<extra></extra>",
         "legendgroup": "",
         "marker": {
          "color": "#636efa",
          "pattern": {
           "shape": ""
          }
         },
         "name": "",
         "offsetgroup": "",
         "orientation": "v",
         "showlegend": false,
         "type": "histogram",
         "x": [
          -1.2,
          1,
          0.8,
          0.8,
          2.5,
          0.5,
          0.30000000000000004,
          -0.3,
          1.2,
          -0.30000000000000004,
          1.4,
          -0.7,
          -0.7,
          -0.5,
          1.4,
          1.2,
          -0.3999999999999999,
          0.5,
          -0.5,
          -0.20000000000000018,
          -0.2999999999999998,
          -0.6000000000000001,
          2.3,
          -0.1,
          0.8,
          0.19999999999999996,
          -0.9,
          -1.5,
          1.2999999999999998,
          1.5,
          -1.5,
          -0.2,
          2.4,
          -0.9,
          -0.30000000000000004,
          -2.1,
          0.3999999999999999,
          1,
          -1,
          0,
          -0.7,
          -0.7,
          0.7,
          1.1,
          -0.5,
          0,
          0.3999999999999999,
          0.09999999999999998,
          0.6000000000000001,
          0.19999999999999996,
          -0.3,
          1.7,
          0.8999999999999999,
          -0.9,
          -0.8,
          0.30000000000000004,
          1.2,
          0.8999999999999999,
          0.19999999999999996,
          -0.30000000000000004,
          -1.4,
          -0.10000000000000009,
          1.7999999999999998,
          1.9,
          -1,
          -1.8,
          0.19999999999999996,
          -1.5,
          -1.1,
          -0.10000000000000009,
          5.7,
          -0.3,
          -0.6000000000000001,
          0.19999999999999996,
          0.30000000000000004,
          -0.7,
          -0.5,
          0.4,
          -0.9,
          -0.3999999999999999,
          1.3,
          -0.3999999999999999,
          0,
          -0.3999999999999999,
          0.8999999999999999,
          -0.10000000000000009,
          0,
          0,
          -0.4,
          -1.5,
          2.7,
          -0.7,
          -0.3999999999999999,
          0.6,
          -0.19999999999999996,
          0.4,
          0.5,
          0.30000000000000004,
          -0.7,
          -0.5,
          -1.7,
          -2.1,
          0.10000000000000009,
          2.2,
          0.19999999999999996,
          -1.2,
          -2.8,
          -1,
          2.7,
          0.30000000000000004,
          -0.8999999999999999,
          0.30000000000000004,
          1.1,
          -0.10000000000000009,
          0.7,
          -1.1,
          2.4,
          0.6000000000000001,
          1.5,
          -0.30000000000000004,
          -0.5,
          -0.3,
          0.6000000000000001,
          2.1,
          -0.4,
          1.9,
          -0.8999999999999999,
          0.30000000000000004,
          3.8,
          0.19999999999999996,
          -0.5,
          1.5,
          0.6,
          -1,
          0.6000000000000001,
          -0.6000000000000001,
          -0.7,
          0,
          0.6,
          0.8999999999999999,
          1.5,
          1.6,
          0.5,
          0.7000000000000002,
          -0.4,
          -0.9,
          1.1,
          -0.7,
          2.8,
          1.3,
          -0.4,
          -2.2,
          2.7,
          -1.1,
          0.8999999999999999,
          0,
          3.5,
          -0.19999999999999996,
          1.6,
          -0.2,
          1.1,
          -1.1,
          -0.7,
          0.19999999999999996,
          0.6000000000000001,
          0.30000000000000004,
          0.8999999999999999,
          0,
          0.2999999999999998,
          0.8999999999999999,
          0.4,
          0.6000000000000001,
          0.7,
          0.30000000000000004,
          0.5,
          -1.9,
          -1,
          -0.4,
          -0.10000000000000009,
          1,
          -0.30000000000000004,
          -1.5,
          -0.20000000000000018,
          -0.4,
          0.5,
          -0.7,
          -1.8,
          1.1,
          -1.8,
          0.5,
          -0.8,
          -0.8,
          -1.1,
          -1,
          -1.7,
          -0.1,
          0.8,
          0.19999999999999996,
          -1,
          0,
          -1.3,
          -0.9,
          -0.7,
          -1.7,
          -0.5,
          -0.2,
          0.5,
          -0.6,
          0.8999999999999999,
          -1.2,
          1.2,
          -1.3,
          -0.8999999999999999,
          -1.6,
          1.6,
          -0.9,
          1.4,
          0.5,
          -0.10000000000000009,
          0.19999999999999996,
          1.2000000000000002,
          -0.9,
          -2.1,
          3.1,
          0.3999999999999999,
          1.2,
          0.30000000000000004,
          0,
          -0.6000000000000001,
          0.8,
          0.10000000000000009,
          -0.4,
          -0.7,
          0,
          -0.3999999999999999,
          0.4,
          0.09999999999999998,
          -1.3,
          0.6000000000000001,
          -0.4,
          1.6,
          -0.3999999999999999,
          1.5,
          1,
          -1.9,
          -0.9,
          -0.7,
          0.19999999999999996,
          2.7,
          -0.4,
          -0.19999999999999996,
          -1.1,
          0.5,
          0.5,
          1.7999999999999998,
          1.5,
          -0.10000000000000009,
          0,
          0.8,
          1.5,
          -1.2,
          -0.2999999999999998,
          -0.3,
          -1.1,
          0.7,
          1,
          -0.7,
          3.1,
          2.4,
          0.5,
          -0.19999999999999996,
          0.8,
          -0.6000000000000001,
          0.7,
          2.2,
          1.9,
          1.1,
          -0.10000000000000009,
          0.6000000000000001,
          -0.8,
          -1.4,
          0.19999999999999996,
          -0.10000000000000009,
          -1.2,
          0,
          -0.3,
          -0.7,
          -0.10000000000000009,
          0.4,
          0.5,
          -0.3999999999999999,
          -0.5,
          0,
          0.8999999999999999,
          -0.8999999999999999,
          2.4,
          -0.5,
          1.1,
          -0.4,
          0.5,
          -0.7,
          1.2,
          -0.3999999999999999,
          0.2999999999999998,
          0.8999999999999999,
          0,
          0.19999999999999996,
          -0.5,
          0.6000000000000001,
          -0.7,
          0.4,
          -1.2999999999999998,
          -1.3,
          0.3999999999999999,
          -0.20000000000000018,
          0,
          -0.7,
          -1,
          -2.2,
          -0.4,
          0.5,
          0.19999999999999996,
          -0.7,
          0.9,
          -0.6,
          0.3999999999999999,
          0.8,
          1.1,
          -0.7,
          1,
          -0.3999999999999999,
          0.09999999999999998,
          1.3,
          -1,
          -1.7,
          -0.7,
          -0.30000000000000004,
          1.7999999999999998,
          -1.1,
          -1,
          0.7999999999999998,
          -0.6,
          -0.5,
          -0.3999999999999999,
          0.3999999999999999,
          0.6000000000000001,
          -0.8,
          0.09999999999999998,
          -0.8,
          2.6,
          -0.4,
          -1,
          1,
          -1.1,
          0.8,
          -1.4,
          0.30000000000000004,
          0.4,
          -0.3999999999999999,
          0.8,
          0.09999999999999998,
          -1.1,
          -0.3999999999999999,
          -1,
          1.1,
          -1,
          0.6000000000000001,
          -0.6,
          -0.5,
          -0.7,
          -1.2000000000000002,
          -1.1,
          -1.6,
          0.19999999999999996,
          0.5,
          -1.1,
          1.7000000000000002,
          1.2,
          -1.4,
          -1.6,
          -0.3999999999999999,
          -0.8999999999999999,
          -0.6,
          -0.3999999999999999,
          1.1,
          0.30000000000000004,
          -0.20000000000000018,
          -0.5,
          -0.3,
          -1.2,
          0.20000000000000018,
          -0.8,
          -0.5,
          -0.4,
          -0.10000000000000009,
          1.6,
          -1,
          0.09999999999999998,
          -1.3,
          -0.6,
          -0.7,
          -0.9,
          0.30000000000000004,
          1.4,
          1,
          -1.8,
          0,
          -0.30000000000000004,
          -1.2000000000000002,
          -1.1,
          0.7999999999999998,
          -0.7,
          0,
          0,
          0.6,
          -0.9,
          -0.3999999999999999,
          -1.3,
          0,
          1.4,
          -0.30000000000000004,
          -0.10000000000000009,
          2.3,
          -0.30000000000000004,
          -0.10000000000000009,
          -1.5,
          -0.6000000000000001,
          -1,
          -0.10000000000000009,
          1.2,
          0.5,
          -0.7,
          -0.5,
          -0.30000000000000004,
          -1.8,
          0.8999999999999999,
          -0.2999999999999998,
          0.7,
          -0.2999999999999998,
          -0.4,
          -0.6000000000000001,
          1.2,
          1.5,
          0.7999999999999998,
          -2.2,
          0.7,
          0.09999999999999998,
          -1.4,
          -1.6,
          0.4,
          -0.3999999999999999,
          -0.5,
          -1.3,
          -0.10000000000000009,
          0.09999999999999998,
          -0.10000000000000009,
          -2,
          0.10000000000000009,
          -1.4000000000000004,
          -1.6,
          0.5,
          -0.5,
          0.5,
          0.19999999999999996,
          0,
          0.30000000000000004,
          -1.6,
          0.10000000000000009,
          1.2999999999999998,
          -0.4,
          0.09999999999999998,
          -0.4,
          0,
          1.6,
          -0.7,
          -0.9,
          1.2,
          -0.4,
          1.4,
          -1.2,
          -0.6000000000000001,
          -0.8,
          0.7,
          -0.4,
          0.8999999999999999,
          0.7,
          -0.19999999999999996,
          -0.2,
          -0.5,
          -1,
          0.5,
          -0.3,
          0.5,
          -1.2,
          -0.3999999999999999,
          -1.9,
          1.2,
          0.30000000000000004,
          4.2,
          -0.8,
          0.7999999999999998,
          0.6000000000000001,
          0.09999999999999998,
          -1.7,
          1.1,
          -0.7000000000000002,
          0,
          -2,
          -1.4,
          1.4,
          1,
          -0.5,
          -0.2,
          -1.1,
          -0.8,
          -1,
          -0.8,
          0.7000000000000002,
          -1.1,
          -0.5,
          0.19999999999999996,
          -0.10000000000000009,
          -0.5,
          0.10000000000000009,
          0.4,
          -1.1,
          0.6,
          -0.3999999999999999,
          -0.7000000000000002,
          2.4,
          0.4,
          -0.30000000000000004,
          -0.5,
          -1.3,
          0.6000000000000001,
          0.7000000000000002,
          -0.2999999999999998,
          0.8,
          2.4,
          0.19999999999999996,
          1.1,
          0.7,
          0.20000000000000018,
          0.30000000000000004,
          -0.30000000000000004,
          0.5,
          -1.2000000000000002,
          1.4,
          -0.2999999999999998,
          0.8,
          -0.6000000000000001,
          0.19999999999999996,
          -2.1,
          1.1,
          -0.3999999999999999,
          -0.3,
          -1.7000000000000002,
          -0.4,
          0.09999999999999998,
          -0.3999999999999999,
          0.19999999999999996,
          0.19999999999999996,
          -1.7,
          -0.7000000000000002,
          0.5,
          1,
          -2.2,
          -0.3,
          0,
          1.7000000000000002,
          -0.19999999999999996,
          -0.7,
          -1.4,
          -1,
          -0.7,
          -0.10000000000000009,
          0.7,
          -0.2,
          -0.7,
          -1,
          -1.6,
          0.7,
          0.4,
          -1.1,
          1.2,
          -0.3999999999999999,
          0.6,
          1.1,
          0.09999999999999998,
          2,
          -1.9,
          0.6000000000000001,
          1.1,
          -0.5,
          0.5,
          -0.8999999999999999,
          -0.8,
          1.1,
          1.2,
          -1.1,
          -0.20000000000000018,
          1.7,
          -0.3999999999999999,
          1.2,
          1.4,
          -1.2999999999999998,
          0.19999999999999996,
          -0.7000000000000002,
          -0.7,
          -1.5,
          -0.3999999999999999,
          3.3,
          0.5,
          1.7,
          0.30000000000000004,
          0.19999999999999996,
          -0.5,
          -0.4,
          -1.7000000000000002,
          -0.5,
          0.20000000000000018,
          1.1,
          -0.3999999999999999,
          0.09999999999999998,
          -1.5,
          1.6,
          2.3,
          0,
          0.6000000000000001,
          -0.8,
          0,
          -0.1,
          -0.5,
          -1.1,
          0.6000000000000001,
          -1.2999999999999998,
          -1.3,
          0.8999999999999999,
          0.19999999999999996,
          0.10000000000000009,
          1.5,
          0.5,
          0.09999999999999998,
          1.6,
          -0.5,
          0.09999999999999998,
          -0.5,
          0,
          1.9,
          1.3,
          2.7,
          -0.8,
          0.3999999999999999,
          0.30000000000000004,
          -0.19999999999999996,
          -0.6,
          2.1,
          -0.6000000000000001,
          -1.2999999999999998,
          0.19999999999999996,
          0.8,
          -0.5,
          1.7999999999999998,
          1,
          -1.4,
          -1.1,
          1.3,
          0.19999999999999996,
          -0.8,
          -0.9,
          0.7000000000000002,
          -0.4,
          -1.2999999999999998,
          -1.4,
          0.09999999999999998,
          -0.4,
          0.19999999999999996,
          -1.5,
          -0.19999999999999996,
          1.7,
          -0.6000000000000001,
          0.8,
          -1.2000000000000002,
          -0.2,
          -1.3,
          0.7,
          -0.30000000000000004,
          -1.2,
          3.4,
          0.20000000000000018,
          -2.2,
          2.7,
          2.2,
          -0.10000000000000009,
          -0.10000000000000009,
          -0.3999999999999999,
          0.8,
          -0.3999999999999999,
          0.8,
          0.7,
          0.5,
          -0.3,
          -0.4,
          0.6000000000000001,
          -1.2000000000000002,
          -0.3,
          -1.6,
          2.2,
          -1.4,
          -0.2,
          -0.9,
          1.3,
          -0.4,
          0.7999999999999998,
          0.3999999999999999,
          0.5,
          -0.8,
          1.7,
          0.30000000000000004,
          -0.30000000000000004,
          0.30000000000000004,
          0.3999999999999999,
          -1,
          -0.3999999999999999,
          -0.6000000000000001,
          -1,
          0.4,
          -0.6,
          0.8999999999999999,
          0.09999999999999998,
          0.5,
          0.4,
          -0.19999999999999996,
          -1.2,
          -2.1,
          -0.1,
          -1.2000000000000002,
          -0.8,
          -1.2000000000000002,
          -0.8999999999999999,
          -0.3999999999999999,
          0.5,
          -1.2000000000000002,
          -0.7,
          -0.8999999999999999,
          -0.8,
          2.2,
          -0.5,
          2.2,
          0,
          0,
          -0.5,
          0.6000000000000001,
          -0.3999999999999999,
          -0.7999999999999998,
          -0.3999999999999999,
          -0.5,
          1.7999999999999998,
          -0.30000000000000004,
          -1.6
         ],
         "xaxis": "x",
         "yaxis": "y"
        }
       ],
       "layout": {
        "barmode": "relative",
        "legend": {
         "tracegroupgap": 0
        },
        "template": {
         "data": {
          "bar": [
           {
            "error_x": {
             "color": "#2a3f5f"
            },
            "error_y": {
             "color": "#2a3f5f"
            },
            "marker": {
             "line": {
              "color": "#E5ECF6",
              "width": 0.5
             },
             "pattern": {
              "fillmode": "overlay",
              "size": 10,
              "solidity": 0.2
             }
            },
            "type": "bar"
           }
          ],
          "barpolar": [
           {
            "marker": {
             "line": {
              "color": "#E5ECF6",
              "width": 0.5
             },
             "pattern": {
              "fillmode": "overlay",
              "size": 10,
              "solidity": 0.2
             }
            },
            "type": "barpolar"
           }
          ],
          "carpet": [
           {
            "aaxis": {
             "endlinecolor": "#2a3f5f",
             "gridcolor": "white",
             "linecolor": "white",
             "minorgridcolor": "white",
             "startlinecolor": "#2a3f5f"
            },
            "baxis": {
             "endlinecolor": "#2a3f5f",
             "gridcolor": "white",
             "linecolor": "white",
             "minorgridcolor": "white",
             "startlinecolor": "#2a3f5f"
            },
            "type": "carpet"
           }
          ],
          "choropleth": [
           {
            "colorbar": {
             "outlinewidth": 0,
             "ticks": ""
            },
            "type": "choropleth"
           }
          ],
          "contour": [
           {
            "colorbar": {
             "outlinewidth": 0,
             "ticks": ""
            },
            "colorscale": [
             [
              0,
              "#0d0887"
             ],
             [
              0.1111111111111111,
              "#46039f"
             ],
             [
              0.2222222222222222,
              "#7201a8"
             ],
             [
              0.3333333333333333,
              "#9c179e"
             ],
             [
              0.4444444444444444,
              "#bd3786"
             ],
             [
              0.5555555555555556,
              "#d8576b"
             ],
             [
              0.6666666666666666,
              "#ed7953"
             ],
             [
              0.7777777777777778,
              "#fb9f3a"
             ],
             [
              0.8888888888888888,
              "#fdca26"
             ],
             [
              1,
              "#f0f921"
             ]
            ],
            "type": "contour"
           }
          ],
          "contourcarpet": [
           {
            "colorbar": {
             "outlinewidth": 0,
             "ticks": ""
            },
            "type": "contourcarpet"
           }
          ],
          "heatmap": [
           {
            "colorbar": {
             "outlinewidth": 0,
             "ticks": ""
            },
            "colorscale": [
             [
              0,
              "#0d0887"
             ],
             [
              0.1111111111111111,
              "#46039f"
             ],
             [
              0.2222222222222222,
              "#7201a8"
             ],
             [
              0.3333333333333333,
              "#9c179e"
             ],
             [
              0.4444444444444444,
              "#bd3786"
             ],
             [
              0.5555555555555556,
              "#d8576b"
             ],
             [
              0.6666666666666666,
              "#ed7953"
             ],
             [
              0.7777777777777778,
              "#fb9f3a"
             ],
             [
              0.8888888888888888,
              "#fdca26"
             ],
             [
              1,
              "#f0f921"
             ]
            ],
            "type": "heatmap"
           }
          ],
          "heatmapgl": [
           {
            "colorbar": {
             "outlinewidth": 0,
             "ticks": ""
            },
            "colorscale": [
             [
              0,
              "#0d0887"
             ],
             [
              0.1111111111111111,
              "#46039f"
             ],
             [
              0.2222222222222222,
              "#7201a8"
             ],
             [
              0.3333333333333333,
              "#9c179e"
             ],
             [
              0.4444444444444444,
              "#bd3786"
             ],
             [
              0.5555555555555556,
              "#d8576b"
             ],
             [
              0.6666666666666666,
              "#ed7953"
             ],
             [
              0.7777777777777778,
              "#fb9f3a"
             ],
             [
              0.8888888888888888,
              "#fdca26"
             ],
             [
              1,
              "#f0f921"
             ]
            ],
            "type": "heatmapgl"
           }
          ],
          "histogram": [
           {
            "marker": {
             "pattern": {
              "fillmode": "overlay",
              "size": 10,
              "solidity": 0.2
             }
            },
            "type": "histogram"
           }
          ],
          "histogram2d": [
           {
            "colorbar": {
             "outlinewidth": 0,
             "ticks": ""
            },
            "colorscale": [
             [
              0,
              "#0d0887"
             ],
             [
              0.1111111111111111,
              "#46039f"
             ],
             [
              0.2222222222222222,
              "#7201a8"
             ],
             [
              0.3333333333333333,
              "#9c179e"
             ],
             [
              0.4444444444444444,
              "#bd3786"
             ],
             [
              0.5555555555555556,
              "#d8576b"
             ],
             [
              0.6666666666666666,
              "#ed7953"
             ],
             [
              0.7777777777777778,
              "#fb9f3a"
             ],
             [
              0.8888888888888888,
              "#fdca26"
             ],
             [
              1,
              "#f0f921"
             ]
            ],
            "type": "histogram2d"
           }
          ],
          "histogram2dcontour": [
           {
            "colorbar": {
             "outlinewidth": 0,
             "ticks": ""
            },
            "colorscale": [
             [
              0,
              "#0d0887"
             ],
             [
              0.1111111111111111,
              "#46039f"
             ],
             [
              0.2222222222222222,
              "#7201a8"
             ],
             [
              0.3333333333333333,
              "#9c179e"
             ],
             [
              0.4444444444444444,
              "#bd3786"
             ],
             [
              0.5555555555555556,
              "#d8576b"
             ],
             [
              0.6666666666666666,
              "#ed7953"
             ],
             [
              0.7777777777777778,
              "#fb9f3a"
             ],
             [
              0.8888888888888888,
              "#fdca26"
             ],
             [
              1,
              "#f0f921"
             ]
            ],
            "type": "histogram2dcontour"
           }
          ],
          "mesh3d": [
           {
            "colorbar": {
             "outlinewidth": 0,
             "ticks": ""
            },
            "type": "mesh3d"
           }
          ],
          "parcoords": [
           {
            "line": {
             "colorbar": {
              "outlinewidth": 0,
              "ticks": ""
             }
            },
            "type": "parcoords"
           }
          ],
          "pie": [
           {
            "automargin": true,
            "type": "pie"
           }
          ],
          "scatter": [
           {
            "fillpattern": {
             "fillmode": "overlay",
             "size": 10,
             "solidity": 0.2
            },
            "type": "scatter"
           }
          ],
          "scatter3d": [
           {
            "line": {
             "colorbar": {
              "outlinewidth": 0,
              "ticks": ""
             }
            },
            "marker": {
             "colorbar": {
              "outlinewidth": 0,
              "ticks": ""
             }
            },
            "type": "scatter3d"
           }
          ],
          "scattercarpet": [
           {
            "marker": {
             "colorbar": {
              "outlinewidth": 0,
              "ticks": ""
             }
            },
            "type": "scattercarpet"
           }
          ],
          "scattergeo": [
           {
            "marker": {
             "colorbar": {
              "outlinewidth": 0,
              "ticks": ""
             }
            },
            "type": "scattergeo"
           }
          ],
          "scattergl": [
           {
            "marker": {
             "colorbar": {
              "outlinewidth": 0,
              "ticks": ""
             }
            },
            "type": "scattergl"
           }
          ],
          "scattermapbox": [
           {
            "marker": {
             "colorbar": {
              "outlinewidth": 0,
              "ticks": ""
             }
            },
            "type": "scattermapbox"
           }
          ],
          "scatterpolar": [
           {
            "marker": {
             "colorbar": {
              "outlinewidth": 0,
              "ticks": ""
             }
            },
            "type": "scatterpolar"
           }
          ],
          "scatterpolargl": [
           {
            "marker": {
             "colorbar": {
              "outlinewidth": 0,
              "ticks": ""
             }
            },
            "type": "scatterpolargl"
           }
          ],
          "scatterternary": [
           {
            "marker": {
             "colorbar": {
              "outlinewidth": 0,
              "ticks": ""
             }
            },
            "type": "scatterternary"
           }
          ],
          "surface": [
           {
            "colorbar": {
             "outlinewidth": 0,
             "ticks": ""
            },
            "colorscale": [
             [
              0,
              "#0d0887"
             ],
             [
              0.1111111111111111,
              "#46039f"
             ],
             [
              0.2222222222222222,
              "#7201a8"
             ],
             [
              0.3333333333333333,
              "#9c179e"
             ],
             [
              0.4444444444444444,
              "#bd3786"
             ],
             [
              0.5555555555555556,
              "#d8576b"
             ],
             [
              0.6666666666666666,
              "#ed7953"
             ],
             [
              0.7777777777777778,
              "#fb9f3a"
             ],
             [
              0.8888888888888888,
              "#fdca26"
             ],
             [
              1,
              "#f0f921"
             ]
            ],
            "type": "surface"
           }
          ],
          "table": [
           {
            "cells": {
             "fill": {
              "color": "#EBF0F8"
             },
             "line": {
              "color": "white"
             }
            },
            "header": {
             "fill": {
              "color": "#C8D4E3"
             },
             "line": {
              "color": "white"
             }
            },
            "type": "table"
           }
          ]
         },
         "layout": {
          "annotationdefaults": {
           "arrowcolor": "#2a3f5f",
           "arrowhead": 0,
           "arrowwidth": 1
          },
          "autotypenumbers": "strict",
          "coloraxis": {
           "colorbar": {
            "outlinewidth": 0,
            "ticks": ""
           }
          },
          "colorscale": {
           "diverging": [
            [
             0,
             "#8e0152"
            ],
            [
             0.1,
             "#c51b7d"
            ],
            [
             0.2,
             "#de77ae"
            ],
            [
             0.3,
             "#f1b6da"
            ],
            [
             0.4,
             "#fde0ef"
            ],
            [
             0.5,
             "#f7f7f7"
            ],
            [
             0.6,
             "#e6f5d0"
            ],
            [
             0.7,
             "#b8e186"
            ],
            [
             0.8,
             "#7fbc41"
            ],
            [
             0.9,
             "#4d9221"
            ],
            [
             1,
             "#276419"
            ]
           ],
           "sequential": [
            [
             0,
             "#0d0887"
            ],
            [
             0.1111111111111111,
             "#46039f"
            ],
            [
             0.2222222222222222,
             "#7201a8"
            ],
            [
             0.3333333333333333,
             "#9c179e"
            ],
            [
             0.4444444444444444,
             "#bd3786"
            ],
            [
             0.5555555555555556,
             "#d8576b"
            ],
            [
             0.6666666666666666,
             "#ed7953"
            ],
            [
             0.7777777777777778,
             "#fb9f3a"
            ],
            [
             0.8888888888888888,
             "#fdca26"
            ],
            [
             1,
             "#f0f921"
            ]
           ],
           "sequentialminus": [
            [
             0,
             "#0d0887"
            ],
            [
             0.1111111111111111,
             "#46039f"
            ],
            [
             0.2222222222222222,
             "#7201a8"
            ],
            [
             0.3333333333333333,
             "#9c179e"
            ],
            [
             0.4444444444444444,
             "#bd3786"
            ],
            [
             0.5555555555555556,
             "#d8576b"
            ],
            [
             0.6666666666666666,
             "#ed7953"
            ],
            [
             0.7777777777777778,
             "#fb9f3a"
            ],
            [
             0.8888888888888888,
             "#fdca26"
            ],
            [
             1,
             "#f0f921"
            ]
           ]
          },
          "colorway": [
           "#636efa",
           "#EF553B",
           "#00cc96",
           "#ab63fa",
           "#FFA15A",
           "#19d3f3",
           "#FF6692",
           "#B6E880",
           "#FF97FF",
           "#FECB52"
          ],
          "font": {
           "color": "#2a3f5f"
          },
          "geo": {
           "bgcolor": "white",
           "lakecolor": "white",
           "landcolor": "#E5ECF6",
           "showlakes": true,
           "showland": true,
           "subunitcolor": "white"
          },
          "hoverlabel": {
           "align": "left"
          },
          "hovermode": "closest",
          "mapbox": {
           "style": "light"
          },
          "paper_bgcolor": "white",
          "plot_bgcolor": "#E5ECF6",
          "polar": {
           "angularaxis": {
            "gridcolor": "white",
            "linecolor": "white",
            "ticks": ""
           },
           "bgcolor": "#E5ECF6",
           "radialaxis": {
            "gridcolor": "white",
            "linecolor": "white",
            "ticks": ""
           }
          },
          "scene": {
           "xaxis": {
            "backgroundcolor": "#E5ECF6",
            "gridcolor": "white",
            "gridwidth": 2,
            "linecolor": "white",
            "showbackground": true,
            "ticks": "",
            "zerolinecolor": "white"
           },
           "yaxis": {
            "backgroundcolor": "#E5ECF6",
            "gridcolor": "white",
            "gridwidth": 2,
            "linecolor": "white",
            "showbackground": true,
            "ticks": "",
            "zerolinecolor": "white"
           },
           "zaxis": {
            "backgroundcolor": "#E5ECF6",
            "gridcolor": "white",
            "gridwidth": 2,
            "linecolor": "white",
            "showbackground": true,
            "ticks": "",
            "zerolinecolor": "white"
           }
          },
          "shapedefaults": {
           "line": {
            "color": "#2a3f5f"
           }
          },
          "ternary": {
           "aaxis": {
            "gridcolor": "white",
            "linecolor": "white",
            "ticks": ""
           },
           "baxis": {
            "gridcolor": "white",
            "linecolor": "white",
            "ticks": ""
           },
           "bgcolor": "#E5ECF6",
           "caxis": {
            "gridcolor": "white",
            "linecolor": "white",
            "ticks": ""
           }
          },
          "title": {
           "x": 0.05
          },
          "xaxis": {
           "automargin": true,
           "gridcolor": "white",
           "linecolor": "white",
           "ticks": "",
           "title": {
            "standoff": 15
           },
           "zerolinecolor": "white",
           "zerolinewidth": 2
          },
          "yaxis": {
           "automargin": true,
           "gridcolor": "white",
           "linecolor": "white",
           "ticks": "",
           "title": {
            "standoff": 15
           },
           "zerolinecolor": "white",
           "zerolinewidth": 2
          }
         }
        },
        "title": {
         "text": "Residual Distribution of xG vs Goals in Premier League"
        },
        "xaxis": {
         "anchor": "y",
         "domain": [
          0,
          1
         ],
         "title": {
          "text": "Residuals"
         }
        },
        "yaxis": {
         "anchor": "x",
         "domain": [
          0,
          1
         ],
         "title": {
          "text": "count"
         }
        }
       }
      },
      "text/html": [
       "<div>                            <div id=\"5d4741ad-b6a4-43c8-883c-fbfd5884521e\" class=\"plotly-graph-div\" style=\"height:525px; width:100%;\"></div>            <script type=\"text/javascript\">                require([\"plotly\"], function(Plotly) {                    window.PLOTLYENV=window.PLOTLYENV || {};                                    if (document.getElementById(\"5d4741ad-b6a4-43c8-883c-fbfd5884521e\")) {                    Plotly.newPlot(                        \"5d4741ad-b6a4-43c8-883c-fbfd5884521e\",                        [{\"alignmentgroup\":\"True\",\"bingroup\":\"x\",\"hovertemplate\":\"Residuals=%{x}<br>count=%{y}<extra></extra>\",\"legendgroup\":\"\",\"marker\":{\"color\":\"#636efa\",\"pattern\":{\"shape\":\"\"}},\"name\":\"\",\"offsetgroup\":\"\",\"orientation\":\"v\",\"showlegend\":false,\"x\":[-1.2,1.0,0.8,0.8,2.5,0.5,0.30000000000000004,-0.3,1.2,-0.30000000000000004,1.4,-0.7,-0.7,-0.5,1.4,1.2,-0.3999999999999999,0.5,-0.5,-0.20000000000000018,-0.2999999999999998,-0.6000000000000001,2.3,-0.1,0.8,0.19999999999999996,-0.9,-1.5,1.2999999999999998,1.5,-1.5,-0.2,2.4,-0.9,-0.30000000000000004,-2.1,0.3999999999999999,1.0,-1.0,0.0,-0.7,-0.7,0.7,1.1,-0.5,0.0,0.3999999999999999,0.09999999999999998,0.6000000000000001,0.19999999999999996,-0.3,1.7,0.8999999999999999,-0.9,-0.8,0.30000000000000004,1.2,0.8999999999999999,0.19999999999999996,-0.30000000000000004,-1.4,-0.10000000000000009,1.7999999999999998,1.9,-1.0,-1.8,0.19999999999999996,-1.5,-1.1,-0.10000000000000009,5.7,-0.3,-0.6000000000000001,0.19999999999999996,0.30000000000000004,-0.7,-0.5,0.4,-0.9,-0.3999999999999999,1.3,-0.3999999999999999,0.0,-0.3999999999999999,0.8999999999999999,-0.10000000000000009,0.0,0.0,-0.4,-1.5,2.7,-0.7,-0.3999999999999999,0.6,-0.19999999999999996,0.4,0.5,0.30000000000000004,-0.7,-0.5,-1.7,-2.1,0.10000000000000009,2.2,0.19999999999999996,-1.2,-2.8,-1.0,2.7,0.30000000000000004,-0.8999999999999999,0.30000000000000004,1.1,-0.10000000000000009,0.7,-1.1,2.4,0.6000000000000001,1.5,-0.30000000000000004,-0.5,-0.3,0.6000000000000001,2.1,-0.4,1.9,-0.8999999999999999,0.30000000000000004,3.8,0.19999999999999996,-0.5,1.5,0.6,-1.0,0.6000000000000001,-0.6000000000000001,-0.7,0.0,0.6,0.8999999999999999,1.5,1.6,0.5,0.7000000000000002,-0.4,-0.9,1.1,-0.7,2.8,1.3,-0.4,-2.2,2.7,-1.1,0.8999999999999999,0.0,3.5,-0.19999999999999996,1.6,-0.2,1.1,-1.1,-0.7,0.19999999999999996,0.6000000000000001,0.30000000000000004,0.8999999999999999,0.0,0.2999999999999998,0.8999999999999999,0.4,0.6000000000000001,0.7,0.30000000000000004,0.5,-1.9,-1.0,-0.4,-0.10000000000000009,1.0,-0.30000000000000004,-1.5,-0.20000000000000018,-0.4,0.5,-0.7,-1.8,1.1,-1.8,0.5,-0.8,-0.8,-1.1,-1.0,-1.7,-0.1,0.8,0.19999999999999996,-1.0,0.0,-1.3,-0.9,-0.7,-1.7,-0.5,-0.2,0.5,-0.6,0.8999999999999999,-1.2,1.2,-1.3,-0.8999999999999999,-1.6,1.6,-0.9,1.4,0.5,-0.10000000000000009,0.19999999999999996,1.2000000000000002,-0.9,-2.1,3.1,0.3999999999999999,1.2,0.30000000000000004,0.0,-0.6000000000000001,0.8,0.10000000000000009,-0.4,-0.7,0.0,-0.3999999999999999,0.4,0.09999999999999998,-1.3,0.6000000000000001,-0.4,1.6,-0.3999999999999999,1.5,1.0,-1.9,-0.9,-0.7,0.19999999999999996,2.7,-0.4,-0.19999999999999996,-1.1,0.5,0.5,1.7999999999999998,1.5,-0.10000000000000009,0.0,0.8,1.5,-1.2,-0.2999999999999998,-0.3,-1.1,0.7,1.0,-0.7,3.1,2.4,0.5,-0.19999999999999996,0.8,-0.6000000000000001,0.7,2.2,1.9,1.1,-0.10000000000000009,0.6000000000000001,-0.8,-1.4,0.19999999999999996,-0.10000000000000009,-1.2,0.0,-0.3,-0.7,-0.10000000000000009,0.4,0.5,-0.3999999999999999,-0.5,0.0,0.8999999999999999,-0.8999999999999999,2.4,-0.5,1.1,-0.4,0.5,-0.7,1.2,-0.3999999999999999,0.2999999999999998,0.8999999999999999,0.0,0.19999999999999996,-0.5,0.6000000000000001,-0.7,0.4,-1.2999999999999998,-1.3,0.3999999999999999,-0.20000000000000018,0.0,-0.7,-1.0,-2.2,-0.4,0.5,0.19999999999999996,-0.7,0.9,-0.6,0.3999999999999999,0.8,1.1,-0.7,1.0,-0.3999999999999999,0.09999999999999998,1.3,-1.0,-1.7,-0.7,-0.30000000000000004,1.7999999999999998,-1.1,-1.0,0.7999999999999998,-0.6,-0.5,-0.3999999999999999,0.3999999999999999,0.6000000000000001,-0.8,0.09999999999999998,-0.8,2.6,-0.4,-1.0,1.0,-1.1,0.8,-1.4,0.30000000000000004,0.4,-0.3999999999999999,0.8,0.09999999999999998,-1.1,-0.3999999999999999,-1.0,1.1,-1.0,0.6000000000000001,-0.6,-0.5,-0.7,-1.2000000000000002,-1.1,-1.6,0.19999999999999996,0.5,-1.1,1.7000000000000002,1.2,-1.4,-1.6,-0.3999999999999999,-0.8999999999999999,-0.6,-0.3999999999999999,1.1,0.30000000000000004,-0.20000000000000018,-0.5,-0.3,-1.2,0.20000000000000018,-0.8,-0.5,-0.4,-0.10000000000000009,1.6,-1.0,0.09999999999999998,-1.3,-0.6,-0.7,-0.9,0.30000000000000004,1.4,1.0,-1.8,0.0,-0.30000000000000004,-1.2000000000000002,-1.1,0.7999999999999998,-0.7,0.0,0.0,0.6,-0.9,-0.3999999999999999,-1.3,0.0,1.4,-0.30000000000000004,-0.10000000000000009,2.3,-0.30000000000000004,-0.10000000000000009,-1.5,-0.6000000000000001,-1.0,-0.10000000000000009,1.2,0.5,-0.7,-0.5,-0.30000000000000004,-1.8,0.8999999999999999,-0.2999999999999998,0.7,-0.2999999999999998,-0.4,-0.6000000000000001,1.2,1.5,0.7999999999999998,-2.2,0.7,0.09999999999999998,-1.4,-1.6,0.4,-0.3999999999999999,-0.5,-1.3,-0.10000000000000009,0.09999999999999998,-0.10000000000000009,-2.0,0.10000000000000009,-1.4000000000000004,-1.6,0.5,-0.5,0.5,0.19999999999999996,0.0,0.30000000000000004,-1.6,0.10000000000000009,1.2999999999999998,-0.4,0.09999999999999998,-0.4,0.0,1.6,-0.7,-0.9,1.2,-0.4,1.4,-1.2,-0.6000000000000001,-0.8,0.7,-0.4,0.8999999999999999,0.7,-0.19999999999999996,-0.2,-0.5,-1.0,0.5,-0.3,0.5,-1.2,-0.3999999999999999,-1.9,1.2,0.30000000000000004,4.2,-0.8,0.7999999999999998,0.6000000000000001,0.09999999999999998,-1.7,1.1,-0.7000000000000002,0.0,-2.0,-1.4,1.4,1.0,-0.5,-0.2,-1.1,-0.8,-1.0,-0.8,0.7000000000000002,-1.1,-0.5,0.19999999999999996,-0.10000000000000009,-0.5,0.10000000000000009,0.4,-1.1,0.6,-0.3999999999999999,-0.7000000000000002,2.4,0.4,-0.30000000000000004,-0.5,-1.3,0.6000000000000001,0.7000000000000002,-0.2999999999999998,0.8,2.4,0.19999999999999996,1.1,0.7,0.20000000000000018,0.30000000000000004,-0.30000000000000004,0.5,-1.2000000000000002,1.4,-0.2999999999999998,0.8,-0.6000000000000001,0.19999999999999996,-2.1,1.1,-0.3999999999999999,-0.3,-1.7000000000000002,-0.4,0.09999999999999998,-0.3999999999999999,0.19999999999999996,0.19999999999999996,-1.7,-0.7000000000000002,0.5,1.0,-2.2,-0.3,0.0,1.7000000000000002,-0.19999999999999996,-0.7,-1.4,-1.0,-0.7,-0.10000000000000009,0.7,-0.2,-0.7,-1.0,-1.6,0.7,0.4,-1.1,1.2,-0.3999999999999999,0.6,1.1,0.09999999999999998,2.0,-1.9,0.6000000000000001,1.1,-0.5,0.5,-0.8999999999999999,-0.8,1.1,1.2,-1.1,-0.20000000000000018,1.7,-0.3999999999999999,1.2,1.4,-1.2999999999999998,0.19999999999999996,-0.7000000000000002,-0.7,-1.5,-0.3999999999999999,3.3,0.5,1.7,0.30000000000000004,0.19999999999999996,-0.5,-0.4,-1.7000000000000002,-0.5,0.20000000000000018,1.1,-0.3999999999999999,0.09999999999999998,-1.5,1.6,2.3,0.0,0.6000000000000001,-0.8,0.0,-0.1,-0.5,-1.1,0.6000000000000001,-1.2999999999999998,-1.3,0.8999999999999999,0.19999999999999996,0.10000000000000009,1.5,0.5,0.09999999999999998,1.6,-0.5,0.09999999999999998,-0.5,0.0,1.9,1.3,2.7,-0.8,0.3999999999999999,0.30000000000000004,-0.19999999999999996,-0.6,2.1,-0.6000000000000001,-1.2999999999999998,0.19999999999999996,0.8,-0.5,1.7999999999999998,1.0,-1.4,-1.1,1.3,0.19999999999999996,-0.8,-0.9,0.7000000000000002,-0.4,-1.2999999999999998,-1.4,0.09999999999999998,-0.4,0.19999999999999996,-1.5,-0.19999999999999996,1.7,-0.6000000000000001,0.8,-1.2000000000000002,-0.2,-1.3,0.7,-0.30000000000000004,-1.2,3.4,0.20000000000000018,-2.2,2.7,2.2,-0.10000000000000009,-0.10000000000000009,-0.3999999999999999,0.8,-0.3999999999999999,0.8,0.7,0.5,-0.3,-0.4,0.6000000000000001,-1.2000000000000002,-0.3,-1.6,2.2,-1.4,-0.2,-0.9,1.3,-0.4,0.7999999999999998,0.3999999999999999,0.5,-0.8,1.7,0.30000000000000004,-0.30000000000000004,0.30000000000000004,0.3999999999999999,-1.0,-0.3999999999999999,-0.6000000000000001,-1.0,0.4,-0.6,0.8999999999999999,0.09999999999999998,0.5,0.4,-0.19999999999999996,-1.2,-2.1,-0.1,-1.2000000000000002,-0.8,-1.2000000000000002,-0.8999999999999999,-0.3999999999999999,0.5,-1.2000000000000002,-0.7,-0.8999999999999999,-0.8,2.2,-0.5,2.2,0.0,0.0,-0.5,0.6000000000000001,-0.3999999999999999,-0.7999999999999998,-0.3999999999999999,-0.5,1.7999999999999998,-0.30000000000000004,-1.6],\"xaxis\":\"x\",\"yaxis\":\"y\",\"type\":\"histogram\"}],                        {\"template\":{\"data\":{\"histogram2dcontour\":[{\"type\":\"histogram2dcontour\",\"colorbar\":{\"outlinewidth\":0,\"ticks\":\"\"},\"colorscale\":[[0.0,\"#0d0887\"],[0.1111111111111111,\"#46039f\"],[0.2222222222222222,\"#7201a8\"],[0.3333333333333333,\"#9c179e\"],[0.4444444444444444,\"#bd3786\"],[0.5555555555555556,\"#d8576b\"],[0.6666666666666666,\"#ed7953\"],[0.7777777777777778,\"#fb9f3a\"],[0.8888888888888888,\"#fdca26\"],[1.0,\"#f0f921\"]]}],\"choropleth\":[{\"type\":\"choropleth\",\"colorbar\":{\"outlinewidth\":0,\"ticks\":\"\"}}],\"histogram2d\":[{\"type\":\"histogram2d\",\"colorbar\":{\"outlinewidth\":0,\"ticks\":\"\"},\"colorscale\":[[0.0,\"#0d0887\"],[0.1111111111111111,\"#46039f\"],[0.2222222222222222,\"#7201a8\"],[0.3333333333333333,\"#9c179e\"],[0.4444444444444444,\"#bd3786\"],[0.5555555555555556,\"#d8576b\"],[0.6666666666666666,\"#ed7953\"],[0.7777777777777778,\"#fb9f3a\"],[0.8888888888888888,\"#fdca26\"],[1.0,\"#f0f921\"]]}],\"heatmap\":[{\"type\":\"heatmap\",\"colorbar\":{\"outlinewidth\":0,\"ticks\":\"\"},\"colorscale\":[[0.0,\"#0d0887\"],[0.1111111111111111,\"#46039f\"],[0.2222222222222222,\"#7201a8\"],[0.3333333333333333,\"#9c179e\"],[0.4444444444444444,\"#bd3786\"],[0.5555555555555556,\"#d8576b\"],[0.6666666666666666,\"#ed7953\"],[0.7777777777777778,\"#fb9f3a\"],[0.8888888888888888,\"#fdca26\"],[1.0,\"#f0f921\"]]}],\"heatmapgl\":[{\"type\":\"heatmapgl\",\"colorbar\":{\"outlinewidth\":0,\"ticks\":\"\"},\"colorscale\":[[0.0,\"#0d0887\"],[0.1111111111111111,\"#46039f\"],[0.2222222222222222,\"#7201a8\"],[0.3333333333333333,\"#9c179e\"],[0.4444444444444444,\"#bd3786\"],[0.5555555555555556,\"#d8576b\"],[0.6666666666666666,\"#ed7953\"],[0.7777777777777778,\"#fb9f3a\"],[0.8888888888888888,\"#fdca26\"],[1.0,\"#f0f921\"]]}],\"contourcarpet\":[{\"type\":\"contourcarpet\",\"colorbar\":{\"outlinewidth\":0,\"ticks\":\"\"}}],\"contour\":[{\"type\":\"contour\",\"colorbar\":{\"outlinewidth\":0,\"ticks\":\"\"},\"colorscale\":[[0.0,\"#0d0887\"],[0.1111111111111111,\"#46039f\"],[0.2222222222222222,\"#7201a8\"],[0.3333333333333333,\"#9c179e\"],[0.4444444444444444,\"#bd3786\"],[0.5555555555555556,\"#d8576b\"],[0.6666666666666666,\"#ed7953\"],[0.7777777777777778,\"#fb9f3a\"],[0.8888888888888888,\"#fdca26\"],[1.0,\"#f0f921\"]]}],\"surface\":[{\"type\":\"surface\",\"colorbar\":{\"outlinewidth\":0,\"ticks\":\"\"},\"colorscale\":[[0.0,\"#0d0887\"],[0.1111111111111111,\"#46039f\"],[0.2222222222222222,\"#7201a8\"],[0.3333333333333333,\"#9c179e\"],[0.4444444444444444,\"#bd3786\"],[0.5555555555555556,\"#d8576b\"],[0.6666666666666666,\"#ed7953\"],[0.7777777777777778,\"#fb9f3a\"],[0.8888888888888888,\"#fdca26\"],[1.0,\"#f0f921\"]]}],\"mesh3d\":[{\"type\":\"mesh3d\",\"colorbar\":{\"outlinewidth\":0,\"ticks\":\"\"}}],\"scatter\":[{\"fillpattern\":{\"fillmode\":\"overlay\",\"size\":10,\"solidity\":0.2},\"type\":\"scatter\"}],\"parcoords\":[{\"type\":\"parcoords\",\"line\":{\"colorbar\":{\"outlinewidth\":0,\"ticks\":\"\"}}}],\"scatterpolargl\":[{\"type\":\"scatterpolargl\",\"marker\":{\"colorbar\":{\"outlinewidth\":0,\"ticks\":\"\"}}}],\"bar\":[{\"error_x\":{\"color\":\"#2a3f5f\"},\"error_y\":{\"color\":\"#2a3f5f\"},\"marker\":{\"line\":{\"color\":\"#E5ECF6\",\"width\":0.5},\"pattern\":{\"fillmode\":\"overlay\",\"size\":10,\"solidity\":0.2}},\"type\":\"bar\"}],\"scattergeo\":[{\"type\":\"scattergeo\",\"marker\":{\"colorbar\":{\"outlinewidth\":0,\"ticks\":\"\"}}}],\"scatterpolar\":[{\"type\":\"scatterpolar\",\"marker\":{\"colorbar\":{\"outlinewidth\":0,\"ticks\":\"\"}}}],\"histogram\":[{\"marker\":{\"pattern\":{\"fillmode\":\"overlay\",\"size\":10,\"solidity\":0.2}},\"type\":\"histogram\"}],\"scattergl\":[{\"type\":\"scattergl\",\"marker\":{\"colorbar\":{\"outlinewidth\":0,\"ticks\":\"\"}}}],\"scatter3d\":[{\"type\":\"scatter3d\",\"line\":{\"colorbar\":{\"outlinewidth\":0,\"ticks\":\"\"}},\"marker\":{\"colorbar\":{\"outlinewidth\":0,\"ticks\":\"\"}}}],\"scattermapbox\":[{\"type\":\"scattermapbox\",\"marker\":{\"colorbar\":{\"outlinewidth\":0,\"ticks\":\"\"}}}],\"scatterternary\":[{\"type\":\"scatterternary\",\"marker\":{\"colorbar\":{\"outlinewidth\":0,\"ticks\":\"\"}}}],\"scattercarpet\":[{\"type\":\"scattercarpet\",\"marker\":{\"colorbar\":{\"outlinewidth\":0,\"ticks\":\"\"}}}],\"carpet\":[{\"aaxis\":{\"endlinecolor\":\"#2a3f5f\",\"gridcolor\":\"white\",\"linecolor\":\"white\",\"minorgridcolor\":\"white\",\"startlinecolor\":\"#2a3f5f\"},\"baxis\":{\"endlinecolor\":\"#2a3f5f\",\"gridcolor\":\"white\",\"linecolor\":\"white\",\"minorgridcolor\":\"white\",\"startlinecolor\":\"#2a3f5f\"},\"type\":\"carpet\"}],\"table\":[{\"cells\":{\"fill\":{\"color\":\"#EBF0F8\"},\"line\":{\"color\":\"white\"}},\"header\":{\"fill\":{\"color\":\"#C8D4E3\"},\"line\":{\"color\":\"white\"}},\"type\":\"table\"}],\"barpolar\":[{\"marker\":{\"line\":{\"color\":\"#E5ECF6\",\"width\":0.5},\"pattern\":{\"fillmode\":\"overlay\",\"size\":10,\"solidity\":0.2}},\"type\":\"barpolar\"}],\"pie\":[{\"automargin\":true,\"type\":\"pie\"}]},\"layout\":{\"autotypenumbers\":\"strict\",\"colorway\":[\"#636efa\",\"#EF553B\",\"#00cc96\",\"#ab63fa\",\"#FFA15A\",\"#19d3f3\",\"#FF6692\",\"#B6E880\",\"#FF97FF\",\"#FECB52\"],\"font\":{\"color\":\"#2a3f5f\"},\"hovermode\":\"closest\",\"hoverlabel\":{\"align\":\"left\"},\"paper_bgcolor\":\"white\",\"plot_bgcolor\":\"#E5ECF6\",\"polar\":{\"bgcolor\":\"#E5ECF6\",\"angularaxis\":{\"gridcolor\":\"white\",\"linecolor\":\"white\",\"ticks\":\"\"},\"radialaxis\":{\"gridcolor\":\"white\",\"linecolor\":\"white\",\"ticks\":\"\"}},\"ternary\":{\"bgcolor\":\"#E5ECF6\",\"aaxis\":{\"gridcolor\":\"white\",\"linecolor\":\"white\",\"ticks\":\"\"},\"baxis\":{\"gridcolor\":\"white\",\"linecolor\":\"white\",\"ticks\":\"\"},\"caxis\":{\"gridcolor\":\"white\",\"linecolor\":\"white\",\"ticks\":\"\"}},\"coloraxis\":{\"colorbar\":{\"outlinewidth\":0,\"ticks\":\"\"}},\"colorscale\":{\"sequential\":[[0.0,\"#0d0887\"],[0.1111111111111111,\"#46039f\"],[0.2222222222222222,\"#7201a8\"],[0.3333333333333333,\"#9c179e\"],[0.4444444444444444,\"#bd3786\"],[0.5555555555555556,\"#d8576b\"],[0.6666666666666666,\"#ed7953\"],[0.7777777777777778,\"#fb9f3a\"],[0.8888888888888888,\"#fdca26\"],[1.0,\"#f0f921\"]],\"sequentialminus\":[[0.0,\"#0d0887\"],[0.1111111111111111,\"#46039f\"],[0.2222222222222222,\"#7201a8\"],[0.3333333333333333,\"#9c179e\"],[0.4444444444444444,\"#bd3786\"],[0.5555555555555556,\"#d8576b\"],[0.6666666666666666,\"#ed7953\"],[0.7777777777777778,\"#fb9f3a\"],[0.8888888888888888,\"#fdca26\"],[1.0,\"#f0f921\"]],\"diverging\":[[0,\"#8e0152\"],[0.1,\"#c51b7d\"],[0.2,\"#de77ae\"],[0.3,\"#f1b6da\"],[0.4,\"#fde0ef\"],[0.5,\"#f7f7f7\"],[0.6,\"#e6f5d0\"],[0.7,\"#b8e186\"],[0.8,\"#7fbc41\"],[0.9,\"#4d9221\"],[1,\"#276419\"]]},\"xaxis\":{\"gridcolor\":\"white\",\"linecolor\":\"white\",\"ticks\":\"\",\"title\":{\"standoff\":15},\"zerolinecolor\":\"white\",\"automargin\":true,\"zerolinewidth\":2},\"yaxis\":{\"gridcolor\":\"white\",\"linecolor\":\"white\",\"ticks\":\"\",\"title\":{\"standoff\":15},\"zerolinecolor\":\"white\",\"automargin\":true,\"zerolinewidth\":2},\"scene\":{\"xaxis\":{\"backgroundcolor\":\"#E5ECF6\",\"gridcolor\":\"white\",\"linecolor\":\"white\",\"showbackground\":true,\"ticks\":\"\",\"zerolinecolor\":\"white\",\"gridwidth\":2},\"yaxis\":{\"backgroundcolor\":\"#E5ECF6\",\"gridcolor\":\"white\",\"linecolor\":\"white\",\"showbackground\":true,\"ticks\":\"\",\"zerolinecolor\":\"white\",\"gridwidth\":2},\"zaxis\":{\"backgroundcolor\":\"#E5ECF6\",\"gridcolor\":\"white\",\"linecolor\":\"white\",\"showbackground\":true,\"ticks\":\"\",\"zerolinecolor\":\"white\",\"gridwidth\":2}},\"shapedefaults\":{\"line\":{\"color\":\"#2a3f5f\"}},\"annotationdefaults\":{\"arrowcolor\":\"#2a3f5f\",\"arrowhead\":0,\"arrowwidth\":1},\"geo\":{\"bgcolor\":\"white\",\"landcolor\":\"#E5ECF6\",\"subunitcolor\":\"white\",\"showland\":true,\"showlakes\":true,\"lakecolor\":\"white\"},\"title\":{\"x\":0.05},\"mapbox\":{\"style\":\"light\"}}},\"xaxis\":{\"anchor\":\"y\",\"domain\":[0.0,1.0],\"title\":{\"text\":\"Residuals\"}},\"yaxis\":{\"anchor\":\"x\",\"domain\":[0.0,1.0],\"title\":{\"text\":\"count\"}},\"legend\":{\"tracegroupgap\":0},\"title\":{\"text\":\"Residual Distribution of xG vs Goals in Premier League\"},\"barmode\":\"relative\"},                        {\"responsive\": true}                    ).then(function(){\n",
       "                            \n",
       "var gd = document.getElementById('5d4741ad-b6a4-43c8-883c-fbfd5884521e');\n",
       "var x = new MutationObserver(function (mutations, observer) {{\n",
       "        var display = window.getComputedStyle(gd).display;\n",
       "        if (!display || display === 'none') {{\n",
       "            console.log([gd, 'removed!']);\n",
       "            Plotly.purge(gd);\n",
       "            observer.disconnect();\n",
       "        }}\n",
       "}});\n",
       "\n",
       "// Listen for the removal of the full notebook cells\n",
       "var notebookContainer = gd.closest('#notebook-container');\n",
       "if (notebookContainer) {{\n",
       "    x.observe(notebookContainer, {childList: true});\n",
       "}}\n",
       "\n",
       "// Listen for the clearing of the current output cell\n",
       "var outputEl = gd.closest('.output');\n",
       "if (outputEl) {{\n",
       "    x.observe(outputEl, {childList: true});\n",
       "}}\n",
       "\n",
       "                        })                };                });            </script>        </div>"
      ]
     },
     "metadata": {},
     "output_type": "display_data"
    }
   ],
   "source": [
    "fig = px.histogram(df, x='Residuals', \n",
    "                   title='Residual Distribution of xG vs Goals in Premier League',\n",
    "                   nbins=None,\n",
    "                  )\n",
    "\n",
    "mean = 0\n",
    "std_dev = 1\n",
    "x_values = np.linspace(min(df['Residuals']), max(df['Residuals']), 1000)\n",
    "y_values = (1 / (std_dev * np.sqrt(2 * np.pi))) * np.exp(-0.5 * ((x_values - mean) / std_dev) ** 2) * 100\n",
    "\n",
    "# fig.add_trace(px.line(x=x_values, y=y_values, color_discrete_sequence=['red']).data[0])\n",
    "\n",
    "fig.show();"
   ]
  },
  {
   "cell_type": "code",
   "execution_count": 46,
   "id": "2c55702d",
   "metadata": {},
   "outputs": [
    {
     "data": {
      "application/vnd.plotly.v1+json": {
       "config": {
        "plotlyServerURL": "https://plot.ly"
       },
       "data": [
        {
         "hovertemplate": "x=%{x}<br>Residuals=%{y}<extra></extra>",
         "legendgroup": "",
         "marker": {
          "color": "#636efa",
          "symbol": "circle"
         },
         "mode": "markers",
         "name": "",
         "orientation": "v",
         "showlegend": false,
         "type": "scatter",
         "x": [
          0,
          0,
          1,
          1,
          2,
          2,
          3,
          3,
          4,
          4,
          5,
          5,
          6,
          6,
          7,
          7,
          8,
          8,
          9,
          9,
          10,
          10,
          11,
          11,
          12,
          12,
          13,
          13,
          14,
          14,
          15,
          15,
          16,
          16,
          17,
          17,
          18,
          18,
          19,
          19,
          20,
          20,
          21,
          21,
          22,
          22,
          23,
          23,
          24,
          24,
          25,
          25,
          26,
          26,
          27,
          27,
          28,
          28,
          29,
          29,
          30,
          30,
          31,
          31,
          32,
          32,
          33,
          33,
          34,
          34,
          35,
          35,
          36,
          36,
          37,
          37,
          38,
          38,
          39,
          39,
          40,
          40,
          41,
          41,
          42,
          42,
          43,
          43,
          44,
          44,
          45,
          45,
          46,
          46,
          47,
          47,
          48,
          48,
          49,
          49,
          50,
          50,
          51,
          51,
          52,
          52,
          53,
          53,
          54,
          54,
          55,
          55,
          56,
          56,
          57,
          57,
          58,
          58,
          59,
          59,
          60,
          60,
          61,
          61,
          62,
          62,
          63,
          63,
          64,
          64,
          65,
          65,
          66,
          66,
          67,
          67,
          68,
          68,
          69,
          69,
          70,
          70,
          71,
          71,
          72,
          72,
          73,
          73,
          74,
          74,
          75,
          75,
          76,
          76,
          77,
          77,
          78,
          78,
          79,
          79,
          80,
          80,
          81,
          81,
          82,
          82,
          83,
          83,
          84,
          84,
          85,
          85,
          86,
          86,
          87,
          87,
          88,
          88,
          89,
          89,
          90,
          90,
          91,
          91,
          92,
          92,
          93,
          93,
          94,
          94,
          95,
          95,
          96,
          96,
          97,
          97,
          98,
          98,
          99,
          99,
          100,
          100,
          101,
          101,
          102,
          102,
          103,
          103,
          104,
          104,
          105,
          105,
          106,
          106,
          107,
          107,
          108,
          108,
          109,
          109,
          110,
          110,
          111,
          111,
          112,
          112,
          113,
          113,
          114,
          114,
          115,
          115,
          116,
          116,
          117,
          117,
          118,
          118,
          119,
          119,
          120,
          120,
          121,
          121,
          122,
          122,
          123,
          123,
          124,
          124,
          125,
          125,
          126,
          126,
          127,
          127,
          128,
          128,
          129,
          129,
          130,
          130,
          131,
          131,
          132,
          132,
          133,
          133,
          134,
          134,
          135,
          135,
          136,
          136,
          137,
          137,
          138,
          138,
          139,
          139,
          140,
          140,
          141,
          141,
          142,
          142,
          143,
          143,
          144,
          144,
          145,
          145,
          146,
          146,
          147,
          147,
          148,
          148,
          149,
          149,
          150,
          150,
          151,
          151,
          152,
          152,
          153,
          153,
          154,
          154,
          155,
          155,
          156,
          156,
          157,
          157,
          158,
          158,
          159,
          159,
          160,
          160,
          161,
          161,
          162,
          162,
          163,
          163,
          164,
          164,
          165,
          165,
          166,
          166,
          167,
          167,
          168,
          168,
          169,
          169,
          170,
          170,
          171,
          171,
          172,
          172,
          173,
          173,
          174,
          174,
          175,
          175,
          176,
          176,
          177,
          177,
          178,
          178,
          179,
          179,
          180,
          180,
          181,
          181,
          182,
          182,
          183,
          183,
          184,
          184,
          185,
          185,
          186,
          186,
          187,
          187,
          188,
          188,
          189,
          189,
          190,
          190,
          191,
          191,
          192,
          192,
          193,
          193,
          194,
          194,
          195,
          195,
          196,
          196,
          197,
          197,
          198,
          198,
          199,
          199,
          200,
          200,
          201,
          201,
          202,
          202,
          203,
          203,
          204,
          204,
          205,
          205,
          206,
          206,
          207,
          207,
          208,
          208,
          209,
          209,
          210,
          210,
          211,
          211,
          212,
          212,
          213,
          213,
          214,
          214,
          215,
          215,
          216,
          216,
          217,
          217,
          218,
          218,
          219,
          219,
          220,
          220,
          221,
          221,
          222,
          222,
          223,
          223,
          224,
          224,
          225,
          225,
          226,
          226,
          227,
          227,
          228,
          228,
          229,
          229,
          230,
          230,
          231,
          231,
          232,
          232,
          233,
          233,
          234,
          234,
          235,
          235,
          236,
          236,
          237,
          237,
          238,
          238,
          239,
          239,
          240,
          240,
          241,
          241,
          242,
          242,
          243,
          243,
          244,
          244,
          245,
          245,
          246,
          246,
          247,
          247,
          248,
          248,
          249,
          249,
          250,
          250,
          251,
          251,
          252,
          252,
          253,
          253,
          254,
          254,
          255,
          255,
          256,
          256,
          257,
          257,
          258,
          258,
          259,
          259,
          260,
          260,
          261,
          261,
          262,
          262,
          263,
          263,
          264,
          264,
          265,
          265,
          266,
          266,
          267,
          267,
          268,
          268,
          269,
          269,
          270,
          270,
          271,
          271,
          272,
          272,
          273,
          273,
          274,
          274,
          275,
          275,
          276,
          276,
          277,
          277,
          278,
          278,
          279,
          279,
          280,
          280,
          281,
          281,
          282,
          282,
          283,
          283,
          284,
          284,
          285,
          285,
          286,
          286,
          287,
          287,
          288,
          288,
          289,
          289,
          290,
          290,
          291,
          291,
          292,
          292,
          293,
          293,
          294,
          294,
          295,
          295,
          296,
          296,
          297,
          297,
          298,
          298,
          299,
          299,
          300,
          300,
          301,
          301,
          302,
          302,
          303,
          303,
          304,
          304,
          305,
          305,
          306,
          306,
          307,
          307,
          308,
          308,
          309,
          309,
          310,
          310,
          311,
          311,
          312,
          312,
          313,
          313,
          314,
          314,
          315,
          315,
          316,
          316,
          317,
          317,
          318,
          318,
          319,
          319,
          320,
          320,
          321,
          321,
          322,
          322,
          323,
          323,
          324,
          324,
          325,
          325,
          326,
          326,
          327,
          327,
          328,
          328,
          329,
          329,
          330,
          330,
          331,
          331,
          332,
          332,
          333,
          333,
          334,
          334,
          335,
          335,
          336,
          336,
          337,
          337,
          338,
          338,
          339,
          339,
          340,
          340,
          341,
          341,
          342,
          342,
          343,
          343,
          344,
          344,
          345,
          345,
          346,
          346,
          347,
          347,
          348,
          348,
          349,
          349,
          350,
          350,
          351,
          351,
          352,
          352,
          353,
          353,
          354,
          354,
          355,
          355,
          356,
          356,
          357,
          357,
          358,
          358,
          359,
          359,
          360,
          360,
          361,
          361,
          362,
          362,
          363,
          363,
          364,
          364,
          365,
          365,
          366,
          366,
          367,
          367,
          368,
          368,
          369,
          369,
          370,
          370,
          371,
          371,
          372,
          372,
          373,
          373,
          374,
          374,
          375,
          375,
          376,
          376,
          377,
          377,
          378,
          378,
          379,
          379
         ],
         "xaxis": "x",
         "y": [
          -1.2,
          1,
          0.8,
          0.8,
          2.5,
          0.5,
          0.30000000000000004,
          -0.3,
          1.2,
          -0.30000000000000004,
          1.4,
          -0.7,
          -0.7,
          -0.5,
          1.4,
          1.2,
          -0.3999999999999999,
          0.5,
          -0.5,
          -0.20000000000000018,
          -0.2999999999999998,
          -0.6000000000000001,
          2.3,
          -0.1,
          0.8,
          0.19999999999999996,
          -0.9,
          -1.5,
          1.2999999999999998,
          1.5,
          -1.5,
          -0.2,
          2.4,
          -0.9,
          -0.30000000000000004,
          -2.1,
          0.3999999999999999,
          1,
          -1,
          0,
          -0.7,
          -0.7,
          0.7,
          1.1,
          -0.5,
          0,
          0.3999999999999999,
          0.09999999999999998,
          0.6000000000000001,
          0.19999999999999996,
          -0.3,
          1.7,
          0.8999999999999999,
          -0.9,
          -0.8,
          0.30000000000000004,
          1.2,
          0.8999999999999999,
          0.19999999999999996,
          -0.30000000000000004,
          -1.4,
          -0.10000000000000009,
          1.7999999999999998,
          1.9,
          -1,
          -1.8,
          0.19999999999999996,
          -1.5,
          -1.1,
          -0.10000000000000009,
          5.7,
          -0.3,
          -0.6000000000000001,
          0.19999999999999996,
          0.30000000000000004,
          -0.7,
          -0.5,
          0.4,
          -0.9,
          -0.3999999999999999,
          1.3,
          -0.3999999999999999,
          0,
          -0.3999999999999999,
          0.8999999999999999,
          -0.10000000000000009,
          0,
          0,
          -0.4,
          -1.5,
          2.7,
          -0.7,
          -0.3999999999999999,
          0.6,
          -0.19999999999999996,
          0.4,
          0.5,
          0.30000000000000004,
          -0.7,
          -0.5,
          -1.7,
          -2.1,
          0.10000000000000009,
          2.2,
          0.19999999999999996,
          -1.2,
          -2.8,
          -1,
          2.7,
          0.30000000000000004,
          -0.8999999999999999,
          0.30000000000000004,
          1.1,
          -0.10000000000000009,
          0.7,
          -1.1,
          2.4,
          0.6000000000000001,
          1.5,
          -0.30000000000000004,
          -0.5,
          -0.3,
          0.6000000000000001,
          2.1,
          -0.4,
          1.9,
          -0.8999999999999999,
          0.30000000000000004,
          3.8,
          0.19999999999999996,
          -0.5,
          1.5,
          0.6,
          -1,
          0.6000000000000001,
          -0.6000000000000001,
          -0.7,
          0,
          0.6,
          0.8999999999999999,
          1.5,
          1.6,
          0.5,
          0.7000000000000002,
          -0.4,
          -0.9,
          1.1,
          -0.7,
          2.8,
          1.3,
          -0.4,
          -2.2,
          2.7,
          -1.1,
          0.8999999999999999,
          0,
          3.5,
          -0.19999999999999996,
          1.6,
          -0.2,
          1.1,
          -1.1,
          -0.7,
          0.19999999999999996,
          0.6000000000000001,
          0.30000000000000004,
          0.8999999999999999,
          0,
          0.2999999999999998,
          0.8999999999999999,
          0.4,
          0.6000000000000001,
          0.7,
          0.30000000000000004,
          0.5,
          -1.9,
          -1,
          -0.4,
          -0.10000000000000009,
          1,
          -0.30000000000000004,
          -1.5,
          -0.20000000000000018,
          -0.4,
          0.5,
          -0.7,
          -1.8,
          1.1,
          -1.8,
          0.5,
          -0.8,
          -0.8,
          -1.1,
          -1,
          -1.7,
          -0.1,
          0.8,
          0.19999999999999996,
          -1,
          0,
          -1.3,
          -0.9,
          -0.7,
          -1.7,
          -0.5,
          -0.2,
          0.5,
          -0.6,
          0.8999999999999999,
          -1.2,
          1.2,
          -1.3,
          -0.8999999999999999,
          -1.6,
          1.6,
          -0.9,
          1.4,
          0.5,
          -0.10000000000000009,
          0.19999999999999996,
          1.2000000000000002,
          -0.9,
          -2.1,
          3.1,
          0.3999999999999999,
          1.2,
          0.30000000000000004,
          0,
          -0.6000000000000001,
          0.8,
          0.10000000000000009,
          -0.4,
          -0.7,
          0,
          -0.3999999999999999,
          0.4,
          0.09999999999999998,
          -1.3,
          0.6000000000000001,
          -0.4,
          1.6,
          -0.3999999999999999,
          1.5,
          1,
          -1.9,
          -0.9,
          -0.7,
          0.19999999999999996,
          2.7,
          -0.4,
          -0.19999999999999996,
          -1.1,
          0.5,
          0.5,
          1.7999999999999998,
          1.5,
          -0.10000000000000009,
          0,
          0.8,
          1.5,
          -1.2,
          -0.2999999999999998,
          -0.3,
          -1.1,
          0.7,
          1,
          -0.7,
          3.1,
          2.4,
          0.5,
          -0.19999999999999996,
          0.8,
          -0.6000000000000001,
          0.7,
          2.2,
          1.9,
          1.1,
          -0.10000000000000009,
          0.6000000000000001,
          -0.8,
          -1.4,
          0.19999999999999996,
          -0.10000000000000009,
          -1.2,
          0,
          -0.3,
          -0.7,
          -0.10000000000000009,
          0.4,
          0.5,
          -0.3999999999999999,
          -0.5,
          0,
          0.8999999999999999,
          -0.8999999999999999,
          2.4,
          -0.5,
          1.1,
          -0.4,
          0.5,
          -0.7,
          1.2,
          -0.3999999999999999,
          0.2999999999999998,
          0.8999999999999999,
          0,
          0.19999999999999996,
          -0.5,
          0.6000000000000001,
          -0.7,
          0.4,
          -1.2999999999999998,
          -1.3,
          0.3999999999999999,
          -0.20000000000000018,
          0,
          -0.7,
          -1,
          -2.2,
          -0.4,
          0.5,
          0.19999999999999996,
          -0.7,
          0.9,
          -0.6,
          0.3999999999999999,
          0.8,
          1.1,
          -0.7,
          1,
          -0.3999999999999999,
          0.09999999999999998,
          1.3,
          -1,
          -1.7,
          -0.7,
          -0.30000000000000004,
          1.7999999999999998,
          -1.1,
          -1,
          0.7999999999999998,
          -0.6,
          -0.5,
          -0.3999999999999999,
          0.3999999999999999,
          0.6000000000000001,
          -0.8,
          0.09999999999999998,
          -0.8,
          2.6,
          -0.4,
          -1,
          1,
          -1.1,
          0.8,
          -1.4,
          0.30000000000000004,
          0.4,
          -0.3999999999999999,
          0.8,
          0.09999999999999998,
          -1.1,
          -0.3999999999999999,
          -1,
          1.1,
          -1,
          0.6000000000000001,
          -0.6,
          -0.5,
          -0.7,
          -1.2000000000000002,
          -1.1,
          -1.6,
          0.19999999999999996,
          0.5,
          -1.1,
          1.7000000000000002,
          1.2,
          -1.4,
          -1.6,
          -0.3999999999999999,
          -0.8999999999999999,
          -0.6,
          -0.3999999999999999,
          1.1,
          0.30000000000000004,
          -0.20000000000000018,
          -0.5,
          -0.3,
          -1.2,
          0.20000000000000018,
          -0.8,
          -0.5,
          -0.4,
          -0.10000000000000009,
          1.6,
          -1,
          0.09999999999999998,
          -1.3,
          -0.6,
          -0.7,
          -0.9,
          0.30000000000000004,
          1.4,
          1,
          -1.8,
          0,
          -0.30000000000000004,
          -1.2000000000000002,
          -1.1,
          0.7999999999999998,
          -0.7,
          0,
          0,
          0.6,
          -0.9,
          -0.3999999999999999,
          -1.3,
          0,
          1.4,
          -0.30000000000000004,
          -0.10000000000000009,
          2.3,
          -0.30000000000000004,
          -0.10000000000000009,
          -1.5,
          -0.6000000000000001,
          -1,
          -0.10000000000000009,
          1.2,
          0.5,
          -0.7,
          -0.5,
          -0.30000000000000004,
          -1.8,
          0.8999999999999999,
          -0.2999999999999998,
          0.7,
          -0.2999999999999998,
          -0.4,
          -0.6000000000000001,
          1.2,
          1.5,
          0.7999999999999998,
          -2.2,
          0.7,
          0.09999999999999998,
          -1.4,
          -1.6,
          0.4,
          -0.3999999999999999,
          -0.5,
          -1.3,
          -0.10000000000000009,
          0.09999999999999998,
          -0.10000000000000009,
          -2,
          0.10000000000000009,
          -1.4000000000000004,
          -1.6,
          0.5,
          -0.5,
          0.5,
          0.19999999999999996,
          0,
          0.30000000000000004,
          -1.6,
          0.10000000000000009,
          1.2999999999999998,
          -0.4,
          0.09999999999999998,
          -0.4,
          0,
          1.6,
          -0.7,
          -0.9,
          1.2,
          -0.4,
          1.4,
          -1.2,
          -0.6000000000000001,
          -0.8,
          0.7,
          -0.4,
          0.8999999999999999,
          0.7,
          -0.19999999999999996,
          -0.2,
          -0.5,
          -1,
          0.5,
          -0.3,
          0.5,
          -1.2,
          -0.3999999999999999,
          -1.9,
          1.2,
          0.30000000000000004,
          4.2,
          -0.8,
          0.7999999999999998,
          0.6000000000000001,
          0.09999999999999998,
          -1.7,
          1.1,
          -0.7000000000000002,
          0,
          -2,
          -1.4,
          1.4,
          1,
          -0.5,
          -0.2,
          -1.1,
          -0.8,
          -1,
          -0.8,
          0.7000000000000002,
          -1.1,
          -0.5,
          0.19999999999999996,
          -0.10000000000000009,
          -0.5,
          0.10000000000000009,
          0.4,
          -1.1,
          0.6,
          -0.3999999999999999,
          -0.7000000000000002,
          2.4,
          0.4,
          -0.30000000000000004,
          -0.5,
          -1.3,
          0.6000000000000001,
          0.7000000000000002,
          -0.2999999999999998,
          0.8,
          2.4,
          0.19999999999999996,
          1.1,
          0.7,
          0.20000000000000018,
          0.30000000000000004,
          -0.30000000000000004,
          0.5,
          -1.2000000000000002,
          1.4,
          -0.2999999999999998,
          0.8,
          -0.6000000000000001,
          0.19999999999999996,
          -2.1,
          1.1,
          -0.3999999999999999,
          -0.3,
          -1.7000000000000002,
          -0.4,
          0.09999999999999998,
          -0.3999999999999999,
          0.19999999999999996,
          0.19999999999999996,
          -1.7,
          -0.7000000000000002,
          0.5,
          1,
          -2.2,
          -0.3,
          0,
          1.7000000000000002,
          -0.19999999999999996,
          -0.7,
          -1.4,
          -1,
          -0.7,
          -0.10000000000000009,
          0.7,
          -0.2,
          -0.7,
          -1,
          -1.6,
          0.7,
          0.4,
          -1.1,
          1.2,
          -0.3999999999999999,
          0.6,
          1.1,
          0.09999999999999998,
          2,
          -1.9,
          0.6000000000000001,
          1.1,
          -0.5,
          0.5,
          -0.8999999999999999,
          -0.8,
          1.1,
          1.2,
          -1.1,
          -0.20000000000000018,
          1.7,
          -0.3999999999999999,
          1.2,
          1.4,
          -1.2999999999999998,
          0.19999999999999996,
          -0.7000000000000002,
          -0.7,
          -1.5,
          -0.3999999999999999,
          3.3,
          0.5,
          1.7,
          0.30000000000000004,
          0.19999999999999996,
          -0.5,
          -0.4,
          -1.7000000000000002,
          -0.5,
          0.20000000000000018,
          1.1,
          -0.3999999999999999,
          0.09999999999999998,
          -1.5,
          1.6,
          2.3,
          0,
          0.6000000000000001,
          -0.8,
          0,
          -0.1,
          -0.5,
          -1.1,
          0.6000000000000001,
          -1.2999999999999998,
          -1.3,
          0.8999999999999999,
          0.19999999999999996,
          0.10000000000000009,
          1.5,
          0.5,
          0.09999999999999998,
          1.6,
          -0.5,
          0.09999999999999998,
          -0.5,
          0,
          1.9,
          1.3,
          2.7,
          -0.8,
          0.3999999999999999,
          0.30000000000000004,
          -0.19999999999999996,
          -0.6,
          2.1,
          -0.6000000000000001,
          -1.2999999999999998,
          0.19999999999999996,
          0.8,
          -0.5,
          1.7999999999999998,
          1,
          -1.4,
          -1.1,
          1.3,
          0.19999999999999996,
          -0.8,
          -0.9,
          0.7000000000000002,
          -0.4,
          -1.2999999999999998,
          -1.4,
          0.09999999999999998,
          -0.4,
          0.19999999999999996,
          -1.5,
          -0.19999999999999996,
          1.7,
          -0.6000000000000001,
          0.8,
          -1.2000000000000002,
          -0.2,
          -1.3,
          0.7,
          -0.30000000000000004,
          -1.2,
          3.4,
          0.20000000000000018,
          -2.2,
          2.7,
          2.2,
          -0.10000000000000009,
          -0.10000000000000009,
          -0.3999999999999999,
          0.8,
          -0.3999999999999999,
          0.8,
          0.7,
          0.5,
          -0.3,
          -0.4,
          0.6000000000000001,
          -1.2000000000000002,
          -0.3,
          -1.6,
          2.2,
          -1.4,
          -0.2,
          -0.9,
          1.3,
          -0.4,
          0.7999999999999998,
          0.3999999999999999,
          0.5,
          -0.8,
          1.7,
          0.30000000000000004,
          -0.30000000000000004,
          0.30000000000000004,
          0.3999999999999999,
          -1,
          -0.3999999999999999,
          -0.6000000000000001,
          -1,
          0.4,
          -0.6,
          0.8999999999999999,
          0.09999999999999998,
          0.5,
          0.4,
          -0.19999999999999996,
          -1.2,
          -2.1,
          -0.1,
          -1.2000000000000002,
          -0.8,
          -1.2000000000000002,
          -0.8999999999999999,
          -0.3999999999999999,
          0.5,
          -1.2000000000000002,
          -0.7,
          -0.8999999999999999,
          -0.8,
          2.2,
          -0.5,
          2.2,
          0,
          0,
          -0.5,
          0.6000000000000001,
          -0.3999999999999999,
          -0.7999999999999998,
          -0.3999999999999999,
          -0.5,
          1.7999999999999998,
          -0.30000000000000004,
          -1.6
         ],
         "yaxis": "y"
        }
       ],
       "layout": {
        "legend": {
         "tracegroupgap": 0
        },
        "template": {
         "data": {
          "bar": [
           {
            "error_x": {
             "color": "#2a3f5f"
            },
            "error_y": {
             "color": "#2a3f5f"
            },
            "marker": {
             "line": {
              "color": "#E5ECF6",
              "width": 0.5
             },
             "pattern": {
              "fillmode": "overlay",
              "size": 10,
              "solidity": 0.2
             }
            },
            "type": "bar"
           }
          ],
          "barpolar": [
           {
            "marker": {
             "line": {
              "color": "#E5ECF6",
              "width": 0.5
             },
             "pattern": {
              "fillmode": "overlay",
              "size": 10,
              "solidity": 0.2
             }
            },
            "type": "barpolar"
           }
          ],
          "carpet": [
           {
            "aaxis": {
             "endlinecolor": "#2a3f5f",
             "gridcolor": "white",
             "linecolor": "white",
             "minorgridcolor": "white",
             "startlinecolor": "#2a3f5f"
            },
            "baxis": {
             "endlinecolor": "#2a3f5f",
             "gridcolor": "white",
             "linecolor": "white",
             "minorgridcolor": "white",
             "startlinecolor": "#2a3f5f"
            },
            "type": "carpet"
           }
          ],
          "choropleth": [
           {
            "colorbar": {
             "outlinewidth": 0,
             "ticks": ""
            },
            "type": "choropleth"
           }
          ],
          "contour": [
           {
            "colorbar": {
             "outlinewidth": 0,
             "ticks": ""
            },
            "colorscale": [
             [
              0,
              "#0d0887"
             ],
             [
              0.1111111111111111,
              "#46039f"
             ],
             [
              0.2222222222222222,
              "#7201a8"
             ],
             [
              0.3333333333333333,
              "#9c179e"
             ],
             [
              0.4444444444444444,
              "#bd3786"
             ],
             [
              0.5555555555555556,
              "#d8576b"
             ],
             [
              0.6666666666666666,
              "#ed7953"
             ],
             [
              0.7777777777777778,
              "#fb9f3a"
             ],
             [
              0.8888888888888888,
              "#fdca26"
             ],
             [
              1,
              "#f0f921"
             ]
            ],
            "type": "contour"
           }
          ],
          "contourcarpet": [
           {
            "colorbar": {
             "outlinewidth": 0,
             "ticks": ""
            },
            "type": "contourcarpet"
           }
          ],
          "heatmap": [
           {
            "colorbar": {
             "outlinewidth": 0,
             "ticks": ""
            },
            "colorscale": [
             [
              0,
              "#0d0887"
             ],
             [
              0.1111111111111111,
              "#46039f"
             ],
             [
              0.2222222222222222,
              "#7201a8"
             ],
             [
              0.3333333333333333,
              "#9c179e"
             ],
             [
              0.4444444444444444,
              "#bd3786"
             ],
             [
              0.5555555555555556,
              "#d8576b"
             ],
             [
              0.6666666666666666,
              "#ed7953"
             ],
             [
              0.7777777777777778,
              "#fb9f3a"
             ],
             [
              0.8888888888888888,
              "#fdca26"
             ],
             [
              1,
              "#f0f921"
             ]
            ],
            "type": "heatmap"
           }
          ],
          "heatmapgl": [
           {
            "colorbar": {
             "outlinewidth": 0,
             "ticks": ""
            },
            "colorscale": [
             [
              0,
              "#0d0887"
             ],
             [
              0.1111111111111111,
              "#46039f"
             ],
             [
              0.2222222222222222,
              "#7201a8"
             ],
             [
              0.3333333333333333,
              "#9c179e"
             ],
             [
              0.4444444444444444,
              "#bd3786"
             ],
             [
              0.5555555555555556,
              "#d8576b"
             ],
             [
              0.6666666666666666,
              "#ed7953"
             ],
             [
              0.7777777777777778,
              "#fb9f3a"
             ],
             [
              0.8888888888888888,
              "#fdca26"
             ],
             [
              1,
              "#f0f921"
             ]
            ],
            "type": "heatmapgl"
           }
          ],
          "histogram": [
           {
            "marker": {
             "pattern": {
              "fillmode": "overlay",
              "size": 10,
              "solidity": 0.2
             }
            },
            "type": "histogram"
           }
          ],
          "histogram2d": [
           {
            "colorbar": {
             "outlinewidth": 0,
             "ticks": ""
            },
            "colorscale": [
             [
              0,
              "#0d0887"
             ],
             [
              0.1111111111111111,
              "#46039f"
             ],
             [
              0.2222222222222222,
              "#7201a8"
             ],
             [
              0.3333333333333333,
              "#9c179e"
             ],
             [
              0.4444444444444444,
              "#bd3786"
             ],
             [
              0.5555555555555556,
              "#d8576b"
             ],
             [
              0.6666666666666666,
              "#ed7953"
             ],
             [
              0.7777777777777778,
              "#fb9f3a"
             ],
             [
              0.8888888888888888,
              "#fdca26"
             ],
             [
              1,
              "#f0f921"
             ]
            ],
            "type": "histogram2d"
           }
          ],
          "histogram2dcontour": [
           {
            "colorbar": {
             "outlinewidth": 0,
             "ticks": ""
            },
            "colorscale": [
             [
              0,
              "#0d0887"
             ],
             [
              0.1111111111111111,
              "#46039f"
             ],
             [
              0.2222222222222222,
              "#7201a8"
             ],
             [
              0.3333333333333333,
              "#9c179e"
             ],
             [
              0.4444444444444444,
              "#bd3786"
             ],
             [
              0.5555555555555556,
              "#d8576b"
             ],
             [
              0.6666666666666666,
              "#ed7953"
             ],
             [
              0.7777777777777778,
              "#fb9f3a"
             ],
             [
              0.8888888888888888,
              "#fdca26"
             ],
             [
              1,
              "#f0f921"
             ]
            ],
            "type": "histogram2dcontour"
           }
          ],
          "mesh3d": [
           {
            "colorbar": {
             "outlinewidth": 0,
             "ticks": ""
            },
            "type": "mesh3d"
           }
          ],
          "parcoords": [
           {
            "line": {
             "colorbar": {
              "outlinewidth": 0,
              "ticks": ""
             }
            },
            "type": "parcoords"
           }
          ],
          "pie": [
           {
            "automargin": true,
            "type": "pie"
           }
          ],
          "scatter": [
           {
            "fillpattern": {
             "fillmode": "overlay",
             "size": 10,
             "solidity": 0.2
            },
            "type": "scatter"
           }
          ],
          "scatter3d": [
           {
            "line": {
             "colorbar": {
              "outlinewidth": 0,
              "ticks": ""
             }
            },
            "marker": {
             "colorbar": {
              "outlinewidth": 0,
              "ticks": ""
             }
            },
            "type": "scatter3d"
           }
          ],
          "scattercarpet": [
           {
            "marker": {
             "colorbar": {
              "outlinewidth": 0,
              "ticks": ""
             }
            },
            "type": "scattercarpet"
           }
          ],
          "scattergeo": [
           {
            "marker": {
             "colorbar": {
              "outlinewidth": 0,
              "ticks": ""
             }
            },
            "type": "scattergeo"
           }
          ],
          "scattergl": [
           {
            "marker": {
             "colorbar": {
              "outlinewidth": 0,
              "ticks": ""
             }
            },
            "type": "scattergl"
           }
          ],
          "scattermapbox": [
           {
            "marker": {
             "colorbar": {
              "outlinewidth": 0,
              "ticks": ""
             }
            },
            "type": "scattermapbox"
           }
          ],
          "scatterpolar": [
           {
            "marker": {
             "colorbar": {
              "outlinewidth": 0,
              "ticks": ""
             }
            },
            "type": "scatterpolar"
           }
          ],
          "scatterpolargl": [
           {
            "marker": {
             "colorbar": {
              "outlinewidth": 0,
              "ticks": ""
             }
            },
            "type": "scatterpolargl"
           }
          ],
          "scatterternary": [
           {
            "marker": {
             "colorbar": {
              "outlinewidth": 0,
              "ticks": ""
             }
            },
            "type": "scatterternary"
           }
          ],
          "surface": [
           {
            "colorbar": {
             "outlinewidth": 0,
             "ticks": ""
            },
            "colorscale": [
             [
              0,
              "#0d0887"
             ],
             [
              0.1111111111111111,
              "#46039f"
             ],
             [
              0.2222222222222222,
              "#7201a8"
             ],
             [
              0.3333333333333333,
              "#9c179e"
             ],
             [
              0.4444444444444444,
              "#bd3786"
             ],
             [
              0.5555555555555556,
              "#d8576b"
             ],
             [
              0.6666666666666666,
              "#ed7953"
             ],
             [
              0.7777777777777778,
              "#fb9f3a"
             ],
             [
              0.8888888888888888,
              "#fdca26"
             ],
             [
              1,
              "#f0f921"
             ]
            ],
            "type": "surface"
           }
          ],
          "table": [
           {
            "cells": {
             "fill": {
              "color": "#EBF0F8"
             },
             "line": {
              "color": "white"
             }
            },
            "header": {
             "fill": {
              "color": "#C8D4E3"
             },
             "line": {
              "color": "white"
             }
            },
            "type": "table"
           }
          ]
         },
         "layout": {
          "annotationdefaults": {
           "arrowcolor": "#2a3f5f",
           "arrowhead": 0,
           "arrowwidth": 1
          },
          "autotypenumbers": "strict",
          "coloraxis": {
           "colorbar": {
            "outlinewidth": 0,
            "ticks": ""
           }
          },
          "colorscale": {
           "diverging": [
            [
             0,
             "#8e0152"
            ],
            [
             0.1,
             "#c51b7d"
            ],
            [
             0.2,
             "#de77ae"
            ],
            [
             0.3,
             "#f1b6da"
            ],
            [
             0.4,
             "#fde0ef"
            ],
            [
             0.5,
             "#f7f7f7"
            ],
            [
             0.6,
             "#e6f5d0"
            ],
            [
             0.7,
             "#b8e186"
            ],
            [
             0.8,
             "#7fbc41"
            ],
            [
             0.9,
             "#4d9221"
            ],
            [
             1,
             "#276419"
            ]
           ],
           "sequential": [
            [
             0,
             "#0d0887"
            ],
            [
             0.1111111111111111,
             "#46039f"
            ],
            [
             0.2222222222222222,
             "#7201a8"
            ],
            [
             0.3333333333333333,
             "#9c179e"
            ],
            [
             0.4444444444444444,
             "#bd3786"
            ],
            [
             0.5555555555555556,
             "#d8576b"
            ],
            [
             0.6666666666666666,
             "#ed7953"
            ],
            [
             0.7777777777777778,
             "#fb9f3a"
            ],
            [
             0.8888888888888888,
             "#fdca26"
            ],
            [
             1,
             "#f0f921"
            ]
           ],
           "sequentialminus": [
            [
             0,
             "#0d0887"
            ],
            [
             0.1111111111111111,
             "#46039f"
            ],
            [
             0.2222222222222222,
             "#7201a8"
            ],
            [
             0.3333333333333333,
             "#9c179e"
            ],
            [
             0.4444444444444444,
             "#bd3786"
            ],
            [
             0.5555555555555556,
             "#d8576b"
            ],
            [
             0.6666666666666666,
             "#ed7953"
            ],
            [
             0.7777777777777778,
             "#fb9f3a"
            ],
            [
             0.8888888888888888,
             "#fdca26"
            ],
            [
             1,
             "#f0f921"
            ]
           ]
          },
          "colorway": [
           "#636efa",
           "#EF553B",
           "#00cc96",
           "#ab63fa",
           "#FFA15A",
           "#19d3f3",
           "#FF6692",
           "#B6E880",
           "#FF97FF",
           "#FECB52"
          ],
          "font": {
           "color": "#2a3f5f"
          },
          "geo": {
           "bgcolor": "white",
           "lakecolor": "white",
           "landcolor": "#E5ECF6",
           "showlakes": true,
           "showland": true,
           "subunitcolor": "white"
          },
          "hoverlabel": {
           "align": "left"
          },
          "hovermode": "closest",
          "mapbox": {
           "style": "light"
          },
          "paper_bgcolor": "white",
          "plot_bgcolor": "#E5ECF6",
          "polar": {
           "angularaxis": {
            "gridcolor": "white",
            "linecolor": "white",
            "ticks": ""
           },
           "bgcolor": "#E5ECF6",
           "radialaxis": {
            "gridcolor": "white",
            "linecolor": "white",
            "ticks": ""
           }
          },
          "scene": {
           "xaxis": {
            "backgroundcolor": "#E5ECF6",
            "gridcolor": "white",
            "gridwidth": 2,
            "linecolor": "white",
            "showbackground": true,
            "ticks": "",
            "zerolinecolor": "white"
           },
           "yaxis": {
            "backgroundcolor": "#E5ECF6",
            "gridcolor": "white",
            "gridwidth": 2,
            "linecolor": "white",
            "showbackground": true,
            "ticks": "",
            "zerolinecolor": "white"
           },
           "zaxis": {
            "backgroundcolor": "#E5ECF6",
            "gridcolor": "white",
            "gridwidth": 2,
            "linecolor": "white",
            "showbackground": true,
            "ticks": "",
            "zerolinecolor": "white"
           }
          },
          "shapedefaults": {
           "line": {
            "color": "#2a3f5f"
           }
          },
          "ternary": {
           "aaxis": {
            "gridcolor": "white",
            "linecolor": "white",
            "ticks": ""
           },
           "baxis": {
            "gridcolor": "white",
            "linecolor": "white",
            "ticks": ""
           },
           "bgcolor": "#E5ECF6",
           "caxis": {
            "gridcolor": "white",
            "linecolor": "white",
            "ticks": ""
           }
          },
          "title": {
           "x": 0.05
          },
          "xaxis": {
           "automargin": true,
           "gridcolor": "white",
           "linecolor": "white",
           "ticks": "",
           "title": {
            "standoff": 15
           },
           "zerolinecolor": "white",
           "zerolinewidth": 2
          },
          "yaxis": {
           "automargin": true,
           "gridcolor": "white",
           "linecolor": "white",
           "ticks": "",
           "title": {
            "standoff": 15
           },
           "zerolinecolor": "white",
           "zerolinewidth": 2
          }
         }
        },
        "title": {
         "text": "Checking for Residual-index Independence"
        },
        "xaxis": {
         "anchor": "y",
         "domain": [
          0,
          1
         ],
         "title": {
          "text": "x"
         }
        },
        "yaxis": {
         "anchor": "x",
         "domain": [
          0,
          1
         ],
         "title": {
          "text": "Residuals"
         }
        }
       }
      },
      "text/html": [
       "<div>                            <div id=\"f9277bad-86a8-4f63-89eb-d44d17779e49\" class=\"plotly-graph-div\" style=\"height:525px; width:100%;\"></div>            <script type=\"text/javascript\">                require([\"plotly\"], function(Plotly) {                    window.PLOTLYENV=window.PLOTLYENV || {};                                    if (document.getElementById(\"f9277bad-86a8-4f63-89eb-d44d17779e49\")) {                    Plotly.newPlot(                        \"f9277bad-86a8-4f63-89eb-d44d17779e49\",                        [{\"hovertemplate\":\"x=%{x}<br>Residuals=%{y}<extra></extra>\",\"legendgroup\":\"\",\"marker\":{\"color\":\"#636efa\",\"symbol\":\"circle\"},\"mode\":\"markers\",\"name\":\"\",\"orientation\":\"v\",\"showlegend\":false,\"x\":[0,0,1,1,2,2,3,3,4,4,5,5,6,6,7,7,8,8,9,9,10,10,11,11,12,12,13,13,14,14,15,15,16,16,17,17,18,18,19,19,20,20,21,21,22,22,23,23,24,24,25,25,26,26,27,27,28,28,29,29,30,30,31,31,32,32,33,33,34,34,35,35,36,36,37,37,38,38,39,39,40,40,41,41,42,42,43,43,44,44,45,45,46,46,47,47,48,48,49,49,50,50,51,51,52,52,53,53,54,54,55,55,56,56,57,57,58,58,59,59,60,60,61,61,62,62,63,63,64,64,65,65,66,66,67,67,68,68,69,69,70,70,71,71,72,72,73,73,74,74,75,75,76,76,77,77,78,78,79,79,80,80,81,81,82,82,83,83,84,84,85,85,86,86,87,87,88,88,89,89,90,90,91,91,92,92,93,93,94,94,95,95,96,96,97,97,98,98,99,99,100,100,101,101,102,102,103,103,104,104,105,105,106,106,107,107,108,108,109,109,110,110,111,111,112,112,113,113,114,114,115,115,116,116,117,117,118,118,119,119,120,120,121,121,122,122,123,123,124,124,125,125,126,126,127,127,128,128,129,129,130,130,131,131,132,132,133,133,134,134,135,135,136,136,137,137,138,138,139,139,140,140,141,141,142,142,143,143,144,144,145,145,146,146,147,147,148,148,149,149,150,150,151,151,152,152,153,153,154,154,155,155,156,156,157,157,158,158,159,159,160,160,161,161,162,162,163,163,164,164,165,165,166,166,167,167,168,168,169,169,170,170,171,171,172,172,173,173,174,174,175,175,176,176,177,177,178,178,179,179,180,180,181,181,182,182,183,183,184,184,185,185,186,186,187,187,188,188,189,189,190,190,191,191,192,192,193,193,194,194,195,195,196,196,197,197,198,198,199,199,200,200,201,201,202,202,203,203,204,204,205,205,206,206,207,207,208,208,209,209,210,210,211,211,212,212,213,213,214,214,215,215,216,216,217,217,218,218,219,219,220,220,221,221,222,222,223,223,224,224,225,225,226,226,227,227,228,228,229,229,230,230,231,231,232,232,233,233,234,234,235,235,236,236,237,237,238,238,239,239,240,240,241,241,242,242,243,243,244,244,245,245,246,246,247,247,248,248,249,249,250,250,251,251,252,252,253,253,254,254,255,255,256,256,257,257,258,258,259,259,260,260,261,261,262,262,263,263,264,264,265,265,266,266,267,267,268,268,269,269,270,270,271,271,272,272,273,273,274,274,275,275,276,276,277,277,278,278,279,279,280,280,281,281,282,282,283,283,284,284,285,285,286,286,287,287,288,288,289,289,290,290,291,291,292,292,293,293,294,294,295,295,296,296,297,297,298,298,299,299,300,300,301,301,302,302,303,303,304,304,305,305,306,306,307,307,308,308,309,309,310,310,311,311,312,312,313,313,314,314,315,315,316,316,317,317,318,318,319,319,320,320,321,321,322,322,323,323,324,324,325,325,326,326,327,327,328,328,329,329,330,330,331,331,332,332,333,333,334,334,335,335,336,336,337,337,338,338,339,339,340,340,341,341,342,342,343,343,344,344,345,345,346,346,347,347,348,348,349,349,350,350,351,351,352,352,353,353,354,354,355,355,356,356,357,357,358,358,359,359,360,360,361,361,362,362,363,363,364,364,365,365,366,366,367,367,368,368,369,369,370,370,371,371,372,372,373,373,374,374,375,375,376,376,377,377,378,378,379,379],\"xaxis\":\"x\",\"y\":[-1.2,1.0,0.8,0.8,2.5,0.5,0.30000000000000004,-0.3,1.2,-0.30000000000000004,1.4,-0.7,-0.7,-0.5,1.4,1.2,-0.3999999999999999,0.5,-0.5,-0.20000000000000018,-0.2999999999999998,-0.6000000000000001,2.3,-0.1,0.8,0.19999999999999996,-0.9,-1.5,1.2999999999999998,1.5,-1.5,-0.2,2.4,-0.9,-0.30000000000000004,-2.1,0.3999999999999999,1.0,-1.0,0.0,-0.7,-0.7,0.7,1.1,-0.5,0.0,0.3999999999999999,0.09999999999999998,0.6000000000000001,0.19999999999999996,-0.3,1.7,0.8999999999999999,-0.9,-0.8,0.30000000000000004,1.2,0.8999999999999999,0.19999999999999996,-0.30000000000000004,-1.4,-0.10000000000000009,1.7999999999999998,1.9,-1.0,-1.8,0.19999999999999996,-1.5,-1.1,-0.10000000000000009,5.7,-0.3,-0.6000000000000001,0.19999999999999996,0.30000000000000004,-0.7,-0.5,0.4,-0.9,-0.3999999999999999,1.3,-0.3999999999999999,0.0,-0.3999999999999999,0.8999999999999999,-0.10000000000000009,0.0,0.0,-0.4,-1.5,2.7,-0.7,-0.3999999999999999,0.6,-0.19999999999999996,0.4,0.5,0.30000000000000004,-0.7,-0.5,-1.7,-2.1,0.10000000000000009,2.2,0.19999999999999996,-1.2,-2.8,-1.0,2.7,0.30000000000000004,-0.8999999999999999,0.30000000000000004,1.1,-0.10000000000000009,0.7,-1.1,2.4,0.6000000000000001,1.5,-0.30000000000000004,-0.5,-0.3,0.6000000000000001,2.1,-0.4,1.9,-0.8999999999999999,0.30000000000000004,3.8,0.19999999999999996,-0.5,1.5,0.6,-1.0,0.6000000000000001,-0.6000000000000001,-0.7,0.0,0.6,0.8999999999999999,1.5,1.6,0.5,0.7000000000000002,-0.4,-0.9,1.1,-0.7,2.8,1.3,-0.4,-2.2,2.7,-1.1,0.8999999999999999,0.0,3.5,-0.19999999999999996,1.6,-0.2,1.1,-1.1,-0.7,0.19999999999999996,0.6000000000000001,0.30000000000000004,0.8999999999999999,0.0,0.2999999999999998,0.8999999999999999,0.4,0.6000000000000001,0.7,0.30000000000000004,0.5,-1.9,-1.0,-0.4,-0.10000000000000009,1.0,-0.30000000000000004,-1.5,-0.20000000000000018,-0.4,0.5,-0.7,-1.8,1.1,-1.8,0.5,-0.8,-0.8,-1.1,-1.0,-1.7,-0.1,0.8,0.19999999999999996,-1.0,0.0,-1.3,-0.9,-0.7,-1.7,-0.5,-0.2,0.5,-0.6,0.8999999999999999,-1.2,1.2,-1.3,-0.8999999999999999,-1.6,1.6,-0.9,1.4,0.5,-0.10000000000000009,0.19999999999999996,1.2000000000000002,-0.9,-2.1,3.1,0.3999999999999999,1.2,0.30000000000000004,0.0,-0.6000000000000001,0.8,0.10000000000000009,-0.4,-0.7,0.0,-0.3999999999999999,0.4,0.09999999999999998,-1.3,0.6000000000000001,-0.4,1.6,-0.3999999999999999,1.5,1.0,-1.9,-0.9,-0.7,0.19999999999999996,2.7,-0.4,-0.19999999999999996,-1.1,0.5,0.5,1.7999999999999998,1.5,-0.10000000000000009,0.0,0.8,1.5,-1.2,-0.2999999999999998,-0.3,-1.1,0.7,1.0,-0.7,3.1,2.4,0.5,-0.19999999999999996,0.8,-0.6000000000000001,0.7,2.2,1.9,1.1,-0.10000000000000009,0.6000000000000001,-0.8,-1.4,0.19999999999999996,-0.10000000000000009,-1.2,0.0,-0.3,-0.7,-0.10000000000000009,0.4,0.5,-0.3999999999999999,-0.5,0.0,0.8999999999999999,-0.8999999999999999,2.4,-0.5,1.1,-0.4,0.5,-0.7,1.2,-0.3999999999999999,0.2999999999999998,0.8999999999999999,0.0,0.19999999999999996,-0.5,0.6000000000000001,-0.7,0.4,-1.2999999999999998,-1.3,0.3999999999999999,-0.20000000000000018,0.0,-0.7,-1.0,-2.2,-0.4,0.5,0.19999999999999996,-0.7,0.9,-0.6,0.3999999999999999,0.8,1.1,-0.7,1.0,-0.3999999999999999,0.09999999999999998,1.3,-1.0,-1.7,-0.7,-0.30000000000000004,1.7999999999999998,-1.1,-1.0,0.7999999999999998,-0.6,-0.5,-0.3999999999999999,0.3999999999999999,0.6000000000000001,-0.8,0.09999999999999998,-0.8,2.6,-0.4,-1.0,1.0,-1.1,0.8,-1.4,0.30000000000000004,0.4,-0.3999999999999999,0.8,0.09999999999999998,-1.1,-0.3999999999999999,-1.0,1.1,-1.0,0.6000000000000001,-0.6,-0.5,-0.7,-1.2000000000000002,-1.1,-1.6,0.19999999999999996,0.5,-1.1,1.7000000000000002,1.2,-1.4,-1.6,-0.3999999999999999,-0.8999999999999999,-0.6,-0.3999999999999999,1.1,0.30000000000000004,-0.20000000000000018,-0.5,-0.3,-1.2,0.20000000000000018,-0.8,-0.5,-0.4,-0.10000000000000009,1.6,-1.0,0.09999999999999998,-1.3,-0.6,-0.7,-0.9,0.30000000000000004,1.4,1.0,-1.8,0.0,-0.30000000000000004,-1.2000000000000002,-1.1,0.7999999999999998,-0.7,0.0,0.0,0.6,-0.9,-0.3999999999999999,-1.3,0.0,1.4,-0.30000000000000004,-0.10000000000000009,2.3,-0.30000000000000004,-0.10000000000000009,-1.5,-0.6000000000000001,-1.0,-0.10000000000000009,1.2,0.5,-0.7,-0.5,-0.30000000000000004,-1.8,0.8999999999999999,-0.2999999999999998,0.7,-0.2999999999999998,-0.4,-0.6000000000000001,1.2,1.5,0.7999999999999998,-2.2,0.7,0.09999999999999998,-1.4,-1.6,0.4,-0.3999999999999999,-0.5,-1.3,-0.10000000000000009,0.09999999999999998,-0.10000000000000009,-2.0,0.10000000000000009,-1.4000000000000004,-1.6,0.5,-0.5,0.5,0.19999999999999996,0.0,0.30000000000000004,-1.6,0.10000000000000009,1.2999999999999998,-0.4,0.09999999999999998,-0.4,0.0,1.6,-0.7,-0.9,1.2,-0.4,1.4,-1.2,-0.6000000000000001,-0.8,0.7,-0.4,0.8999999999999999,0.7,-0.19999999999999996,-0.2,-0.5,-1.0,0.5,-0.3,0.5,-1.2,-0.3999999999999999,-1.9,1.2,0.30000000000000004,4.2,-0.8,0.7999999999999998,0.6000000000000001,0.09999999999999998,-1.7,1.1,-0.7000000000000002,0.0,-2.0,-1.4,1.4,1.0,-0.5,-0.2,-1.1,-0.8,-1.0,-0.8,0.7000000000000002,-1.1,-0.5,0.19999999999999996,-0.10000000000000009,-0.5,0.10000000000000009,0.4,-1.1,0.6,-0.3999999999999999,-0.7000000000000002,2.4,0.4,-0.30000000000000004,-0.5,-1.3,0.6000000000000001,0.7000000000000002,-0.2999999999999998,0.8,2.4,0.19999999999999996,1.1,0.7,0.20000000000000018,0.30000000000000004,-0.30000000000000004,0.5,-1.2000000000000002,1.4,-0.2999999999999998,0.8,-0.6000000000000001,0.19999999999999996,-2.1,1.1,-0.3999999999999999,-0.3,-1.7000000000000002,-0.4,0.09999999999999998,-0.3999999999999999,0.19999999999999996,0.19999999999999996,-1.7,-0.7000000000000002,0.5,1.0,-2.2,-0.3,0.0,1.7000000000000002,-0.19999999999999996,-0.7,-1.4,-1.0,-0.7,-0.10000000000000009,0.7,-0.2,-0.7,-1.0,-1.6,0.7,0.4,-1.1,1.2,-0.3999999999999999,0.6,1.1,0.09999999999999998,2.0,-1.9,0.6000000000000001,1.1,-0.5,0.5,-0.8999999999999999,-0.8,1.1,1.2,-1.1,-0.20000000000000018,1.7,-0.3999999999999999,1.2,1.4,-1.2999999999999998,0.19999999999999996,-0.7000000000000002,-0.7,-1.5,-0.3999999999999999,3.3,0.5,1.7,0.30000000000000004,0.19999999999999996,-0.5,-0.4,-1.7000000000000002,-0.5,0.20000000000000018,1.1,-0.3999999999999999,0.09999999999999998,-1.5,1.6,2.3,0.0,0.6000000000000001,-0.8,0.0,-0.1,-0.5,-1.1,0.6000000000000001,-1.2999999999999998,-1.3,0.8999999999999999,0.19999999999999996,0.10000000000000009,1.5,0.5,0.09999999999999998,1.6,-0.5,0.09999999999999998,-0.5,0.0,1.9,1.3,2.7,-0.8,0.3999999999999999,0.30000000000000004,-0.19999999999999996,-0.6,2.1,-0.6000000000000001,-1.2999999999999998,0.19999999999999996,0.8,-0.5,1.7999999999999998,1.0,-1.4,-1.1,1.3,0.19999999999999996,-0.8,-0.9,0.7000000000000002,-0.4,-1.2999999999999998,-1.4,0.09999999999999998,-0.4,0.19999999999999996,-1.5,-0.19999999999999996,1.7,-0.6000000000000001,0.8,-1.2000000000000002,-0.2,-1.3,0.7,-0.30000000000000004,-1.2,3.4,0.20000000000000018,-2.2,2.7,2.2,-0.10000000000000009,-0.10000000000000009,-0.3999999999999999,0.8,-0.3999999999999999,0.8,0.7,0.5,-0.3,-0.4,0.6000000000000001,-1.2000000000000002,-0.3,-1.6,2.2,-1.4,-0.2,-0.9,1.3,-0.4,0.7999999999999998,0.3999999999999999,0.5,-0.8,1.7,0.30000000000000004,-0.30000000000000004,0.30000000000000004,0.3999999999999999,-1.0,-0.3999999999999999,-0.6000000000000001,-1.0,0.4,-0.6,0.8999999999999999,0.09999999999999998,0.5,0.4,-0.19999999999999996,-1.2,-2.1,-0.1,-1.2000000000000002,-0.8,-1.2000000000000002,-0.8999999999999999,-0.3999999999999999,0.5,-1.2000000000000002,-0.7,-0.8999999999999999,-0.8,2.2,-0.5,2.2,0.0,0.0,-0.5,0.6000000000000001,-0.3999999999999999,-0.7999999999999998,-0.3999999999999999,-0.5,1.7999999999999998,-0.30000000000000004,-1.6],\"yaxis\":\"y\",\"type\":\"scatter\"}],                        {\"template\":{\"data\":{\"histogram2dcontour\":[{\"type\":\"histogram2dcontour\",\"colorbar\":{\"outlinewidth\":0,\"ticks\":\"\"},\"colorscale\":[[0.0,\"#0d0887\"],[0.1111111111111111,\"#46039f\"],[0.2222222222222222,\"#7201a8\"],[0.3333333333333333,\"#9c179e\"],[0.4444444444444444,\"#bd3786\"],[0.5555555555555556,\"#d8576b\"],[0.6666666666666666,\"#ed7953\"],[0.7777777777777778,\"#fb9f3a\"],[0.8888888888888888,\"#fdca26\"],[1.0,\"#f0f921\"]]}],\"choropleth\":[{\"type\":\"choropleth\",\"colorbar\":{\"outlinewidth\":0,\"ticks\":\"\"}}],\"histogram2d\":[{\"type\":\"histogram2d\",\"colorbar\":{\"outlinewidth\":0,\"ticks\":\"\"},\"colorscale\":[[0.0,\"#0d0887\"],[0.1111111111111111,\"#46039f\"],[0.2222222222222222,\"#7201a8\"],[0.3333333333333333,\"#9c179e\"],[0.4444444444444444,\"#bd3786\"],[0.5555555555555556,\"#d8576b\"],[0.6666666666666666,\"#ed7953\"],[0.7777777777777778,\"#fb9f3a\"],[0.8888888888888888,\"#fdca26\"],[1.0,\"#f0f921\"]]}],\"heatmap\":[{\"type\":\"heatmap\",\"colorbar\":{\"outlinewidth\":0,\"ticks\":\"\"},\"colorscale\":[[0.0,\"#0d0887\"],[0.1111111111111111,\"#46039f\"],[0.2222222222222222,\"#7201a8\"],[0.3333333333333333,\"#9c179e\"],[0.4444444444444444,\"#bd3786\"],[0.5555555555555556,\"#d8576b\"],[0.6666666666666666,\"#ed7953\"],[0.7777777777777778,\"#fb9f3a\"],[0.8888888888888888,\"#fdca26\"],[1.0,\"#f0f921\"]]}],\"heatmapgl\":[{\"type\":\"heatmapgl\",\"colorbar\":{\"outlinewidth\":0,\"ticks\":\"\"},\"colorscale\":[[0.0,\"#0d0887\"],[0.1111111111111111,\"#46039f\"],[0.2222222222222222,\"#7201a8\"],[0.3333333333333333,\"#9c179e\"],[0.4444444444444444,\"#bd3786\"],[0.5555555555555556,\"#d8576b\"],[0.6666666666666666,\"#ed7953\"],[0.7777777777777778,\"#fb9f3a\"],[0.8888888888888888,\"#fdca26\"],[1.0,\"#f0f921\"]]}],\"contourcarpet\":[{\"type\":\"contourcarpet\",\"colorbar\":{\"outlinewidth\":0,\"ticks\":\"\"}}],\"contour\":[{\"type\":\"contour\",\"colorbar\":{\"outlinewidth\":0,\"ticks\":\"\"},\"colorscale\":[[0.0,\"#0d0887\"],[0.1111111111111111,\"#46039f\"],[0.2222222222222222,\"#7201a8\"],[0.3333333333333333,\"#9c179e\"],[0.4444444444444444,\"#bd3786\"],[0.5555555555555556,\"#d8576b\"],[0.6666666666666666,\"#ed7953\"],[0.7777777777777778,\"#fb9f3a\"],[0.8888888888888888,\"#fdca26\"],[1.0,\"#f0f921\"]]}],\"surface\":[{\"type\":\"surface\",\"colorbar\":{\"outlinewidth\":0,\"ticks\":\"\"},\"colorscale\":[[0.0,\"#0d0887\"],[0.1111111111111111,\"#46039f\"],[0.2222222222222222,\"#7201a8\"],[0.3333333333333333,\"#9c179e\"],[0.4444444444444444,\"#bd3786\"],[0.5555555555555556,\"#d8576b\"],[0.6666666666666666,\"#ed7953\"],[0.7777777777777778,\"#fb9f3a\"],[0.8888888888888888,\"#fdca26\"],[1.0,\"#f0f921\"]]}],\"mesh3d\":[{\"type\":\"mesh3d\",\"colorbar\":{\"outlinewidth\":0,\"ticks\":\"\"}}],\"scatter\":[{\"fillpattern\":{\"fillmode\":\"overlay\",\"size\":10,\"solidity\":0.2},\"type\":\"scatter\"}],\"parcoords\":[{\"type\":\"parcoords\",\"line\":{\"colorbar\":{\"outlinewidth\":0,\"ticks\":\"\"}}}],\"scatterpolargl\":[{\"type\":\"scatterpolargl\",\"marker\":{\"colorbar\":{\"outlinewidth\":0,\"ticks\":\"\"}}}],\"bar\":[{\"error_x\":{\"color\":\"#2a3f5f\"},\"error_y\":{\"color\":\"#2a3f5f\"},\"marker\":{\"line\":{\"color\":\"#E5ECF6\",\"width\":0.5},\"pattern\":{\"fillmode\":\"overlay\",\"size\":10,\"solidity\":0.2}},\"type\":\"bar\"}],\"scattergeo\":[{\"type\":\"scattergeo\",\"marker\":{\"colorbar\":{\"outlinewidth\":0,\"ticks\":\"\"}}}],\"scatterpolar\":[{\"type\":\"scatterpolar\",\"marker\":{\"colorbar\":{\"outlinewidth\":0,\"ticks\":\"\"}}}],\"histogram\":[{\"marker\":{\"pattern\":{\"fillmode\":\"overlay\",\"size\":10,\"solidity\":0.2}},\"type\":\"histogram\"}],\"scattergl\":[{\"type\":\"scattergl\",\"marker\":{\"colorbar\":{\"outlinewidth\":0,\"ticks\":\"\"}}}],\"scatter3d\":[{\"type\":\"scatter3d\",\"line\":{\"colorbar\":{\"outlinewidth\":0,\"ticks\":\"\"}},\"marker\":{\"colorbar\":{\"outlinewidth\":0,\"ticks\":\"\"}}}],\"scattermapbox\":[{\"type\":\"scattermapbox\",\"marker\":{\"colorbar\":{\"outlinewidth\":0,\"ticks\":\"\"}}}],\"scatterternary\":[{\"type\":\"scatterternary\",\"marker\":{\"colorbar\":{\"outlinewidth\":0,\"ticks\":\"\"}}}],\"scattercarpet\":[{\"type\":\"scattercarpet\",\"marker\":{\"colorbar\":{\"outlinewidth\":0,\"ticks\":\"\"}}}],\"carpet\":[{\"aaxis\":{\"endlinecolor\":\"#2a3f5f\",\"gridcolor\":\"white\",\"linecolor\":\"white\",\"minorgridcolor\":\"white\",\"startlinecolor\":\"#2a3f5f\"},\"baxis\":{\"endlinecolor\":\"#2a3f5f\",\"gridcolor\":\"white\",\"linecolor\":\"white\",\"minorgridcolor\":\"white\",\"startlinecolor\":\"#2a3f5f\"},\"type\":\"carpet\"}],\"table\":[{\"cells\":{\"fill\":{\"color\":\"#EBF0F8\"},\"line\":{\"color\":\"white\"}},\"header\":{\"fill\":{\"color\":\"#C8D4E3\"},\"line\":{\"color\":\"white\"}},\"type\":\"table\"}],\"barpolar\":[{\"marker\":{\"line\":{\"color\":\"#E5ECF6\",\"width\":0.5},\"pattern\":{\"fillmode\":\"overlay\",\"size\":10,\"solidity\":0.2}},\"type\":\"barpolar\"}],\"pie\":[{\"automargin\":true,\"type\":\"pie\"}]},\"layout\":{\"autotypenumbers\":\"strict\",\"colorway\":[\"#636efa\",\"#EF553B\",\"#00cc96\",\"#ab63fa\",\"#FFA15A\",\"#19d3f3\",\"#FF6692\",\"#B6E880\",\"#FF97FF\",\"#FECB52\"],\"font\":{\"color\":\"#2a3f5f\"},\"hovermode\":\"closest\",\"hoverlabel\":{\"align\":\"left\"},\"paper_bgcolor\":\"white\",\"plot_bgcolor\":\"#E5ECF6\",\"polar\":{\"bgcolor\":\"#E5ECF6\",\"angularaxis\":{\"gridcolor\":\"white\",\"linecolor\":\"white\",\"ticks\":\"\"},\"radialaxis\":{\"gridcolor\":\"white\",\"linecolor\":\"white\",\"ticks\":\"\"}},\"ternary\":{\"bgcolor\":\"#E5ECF6\",\"aaxis\":{\"gridcolor\":\"white\",\"linecolor\":\"white\",\"ticks\":\"\"},\"baxis\":{\"gridcolor\":\"white\",\"linecolor\":\"white\",\"ticks\":\"\"},\"caxis\":{\"gridcolor\":\"white\",\"linecolor\":\"white\",\"ticks\":\"\"}},\"coloraxis\":{\"colorbar\":{\"outlinewidth\":0,\"ticks\":\"\"}},\"colorscale\":{\"sequential\":[[0.0,\"#0d0887\"],[0.1111111111111111,\"#46039f\"],[0.2222222222222222,\"#7201a8\"],[0.3333333333333333,\"#9c179e\"],[0.4444444444444444,\"#bd3786\"],[0.5555555555555556,\"#d8576b\"],[0.6666666666666666,\"#ed7953\"],[0.7777777777777778,\"#fb9f3a\"],[0.8888888888888888,\"#fdca26\"],[1.0,\"#f0f921\"]],\"sequentialminus\":[[0.0,\"#0d0887\"],[0.1111111111111111,\"#46039f\"],[0.2222222222222222,\"#7201a8\"],[0.3333333333333333,\"#9c179e\"],[0.4444444444444444,\"#bd3786\"],[0.5555555555555556,\"#d8576b\"],[0.6666666666666666,\"#ed7953\"],[0.7777777777777778,\"#fb9f3a\"],[0.8888888888888888,\"#fdca26\"],[1.0,\"#f0f921\"]],\"diverging\":[[0,\"#8e0152\"],[0.1,\"#c51b7d\"],[0.2,\"#de77ae\"],[0.3,\"#f1b6da\"],[0.4,\"#fde0ef\"],[0.5,\"#f7f7f7\"],[0.6,\"#e6f5d0\"],[0.7,\"#b8e186\"],[0.8,\"#7fbc41\"],[0.9,\"#4d9221\"],[1,\"#276419\"]]},\"xaxis\":{\"gridcolor\":\"white\",\"linecolor\":\"white\",\"ticks\":\"\",\"title\":{\"standoff\":15},\"zerolinecolor\":\"white\",\"automargin\":true,\"zerolinewidth\":2},\"yaxis\":{\"gridcolor\":\"white\",\"linecolor\":\"white\",\"ticks\":\"\",\"title\":{\"standoff\":15},\"zerolinecolor\":\"white\",\"automargin\":true,\"zerolinewidth\":2},\"scene\":{\"xaxis\":{\"backgroundcolor\":\"#E5ECF6\",\"gridcolor\":\"white\",\"linecolor\":\"white\",\"showbackground\":true,\"ticks\":\"\",\"zerolinecolor\":\"white\",\"gridwidth\":2},\"yaxis\":{\"backgroundcolor\":\"#E5ECF6\",\"gridcolor\":\"white\",\"linecolor\":\"white\",\"showbackground\":true,\"ticks\":\"\",\"zerolinecolor\":\"white\",\"gridwidth\":2},\"zaxis\":{\"backgroundcolor\":\"#E5ECF6\",\"gridcolor\":\"white\",\"linecolor\":\"white\",\"showbackground\":true,\"ticks\":\"\",\"zerolinecolor\":\"white\",\"gridwidth\":2}},\"shapedefaults\":{\"line\":{\"color\":\"#2a3f5f\"}},\"annotationdefaults\":{\"arrowcolor\":\"#2a3f5f\",\"arrowhead\":0,\"arrowwidth\":1},\"geo\":{\"bgcolor\":\"white\",\"landcolor\":\"#E5ECF6\",\"subunitcolor\":\"white\",\"showland\":true,\"showlakes\":true,\"lakecolor\":\"white\"},\"title\":{\"x\":0.05},\"mapbox\":{\"style\":\"light\"}}},\"xaxis\":{\"anchor\":\"y\",\"domain\":[0.0,1.0],\"title\":{\"text\":\"x\"}},\"yaxis\":{\"anchor\":\"x\",\"domain\":[0.0,1.0],\"title\":{\"text\":\"Residuals\"}},\"legend\":{\"tracegroupgap\":0},\"title\":{\"text\":\"Checking for Residual-index Independence\"}},                        {\"responsive\": true}                    ).then(function(){\n",
       "                            \n",
       "var gd = document.getElementById('f9277bad-86a8-4f63-89eb-d44d17779e49');\n",
       "var x = new MutationObserver(function (mutations, observer) {{\n",
       "        var display = window.getComputedStyle(gd).display;\n",
       "        if (!display || display === 'none') {{\n",
       "            console.log([gd, 'removed!']);\n",
       "            Plotly.purge(gd);\n",
       "            observer.disconnect();\n",
       "        }}\n",
       "}});\n",
       "\n",
       "// Listen for the removal of the full notebook cells\n",
       "var notebookContainer = gd.closest('#notebook-container');\n",
       "if (notebookContainer) {{\n",
       "    x.observe(notebookContainer, {childList: true});\n",
       "}}\n",
       "\n",
       "// Listen for the clearing of the current output cell\n",
       "var outputEl = gd.closest('.output');\n",
       "if (outputEl) {{\n",
       "    x.observe(outputEl, {childList: true});\n",
       "}}\n",
       "\n",
       "                        })                };                });            </script>        </div>"
      ]
     },
     "metadata": {},
     "output_type": "display_data"
    }
   ],
   "source": [
    "px.scatter(df, x=df.index // 2, y='Residuals', \n",
    "          title='Checking for Residual-index Independence')"
   ]
  },
  {
   "cell_type": "code",
   "execution_count": 47,
   "id": "9df9325b",
   "metadata": {},
   "outputs": [
    {
     "data": {
      "application/vnd.plotly.v1+json": {
       "config": {
        "plotlyServerURL": "https://plot.ly"
       },
       "data": [
        {
         "hovertemplate": "xG=%{x}<br>Residuals=%{y}<br>count=%{marker.size}<extra></extra>",
         "legendgroup": "",
         "marker": {
          "color": "#636efa",
          "size": [
           1,
           4,
           1,
           1,
           8,
           3,
           12,
           7,
           24,
           6,
           1,
           16,
           15,
           3,
           8,
           13,
           3,
           2,
           20,
           11,
           1,
           13,
           15,
           10,
           2,
           14,
           17,
           9,
           1,
           2,
           13,
           22,
           7,
           10,
           14,
           8,
           2,
           10,
           9,
           13,
           10,
           15,
           7,
           5,
           1,
           4,
           25,
           10,
           2,
           1,
           6,
           13,
           11,
           5,
           1,
           1,
           8,
           8,
           7,
           4,
           3,
           1,
           6,
           12,
           9,
           5,
           2,
           5,
           5,
           12,
           4,
           3,
           3,
           5,
           6,
           5,
           1,
           2,
           8,
           5,
           4,
           5,
           9,
           4,
           6,
           1,
           4,
           5,
           5,
           4,
           5,
           1,
           3,
           5,
           3,
           1,
           3,
           3,
           6,
           7,
           5,
           2,
           3,
           3,
           1,
           1,
           4,
           1,
           2,
           1,
           1,
           4,
           2,
           2,
           1,
           1,
           1,
           3,
           1,
           1,
           1,
           3,
           3,
           1,
           1,
           2,
           1,
           1,
           1,
           1,
           1,
           1,
           1,
           2,
           1,
           3,
           1,
           1,
           1,
           1,
           1,
           1,
           1,
           1,
           1,
           1,
           1,
           2,
           1,
           1
          ],
          "sizemode": "area",
          "sizeref": 0.0625,
          "symbol": "circle"
         },
         "mode": "markers",
         "name": "",
         "orientation": "v",
         "showlegend": false,
         "type": "scatter",
         "x": [
          0,
          0.1,
          0.1,
          0.1,
          0.2,
          0.2,
          0.3,
          0.3,
          0.4,
          0.4,
          0.4,
          0.5,
          0.5,
          0.5,
          0.6,
          0.6,
          0.6,
          0.6,
          0.7,
          0.7,
          0.7,
          0.8,
          0.8,
          0.8,
          0.8,
          0.9,
          0.9,
          0.9,
          0.9,
          0.9,
          1,
          1,
          1,
          1.1,
          1.1,
          1.1,
          1.1,
          1.2,
          1.2,
          1.2,
          1.3,
          1.3,
          1.3,
          1.3,
          1.3,
          1.4,
          1.4,
          1.4,
          1.4,
          1.4,
          1.5,
          1.5,
          1.5,
          1.5,
          1.5,
          1.5,
          1.6,
          1.6,
          1.6,
          1.6,
          1.6,
          1.6,
          1.7,
          1.7,
          1.7,
          1.7,
          1.7,
          1.8,
          1.8,
          1.8,
          1.8,
          1.8,
          1.9,
          1.9,
          1.9,
          1.9,
          1.9,
          2,
          2,
          2,
          2,
          2.1,
          2.1,
          2.1,
          2.1,
          2.1,
          2.2,
          2.2,
          2.2,
          2.2,
          2.2,
          2.2,
          2.3,
          2.3,
          2.3,
          2.3,
          2.3,
          2.4,
          2.4,
          2.4,
          2.4,
          2.5,
          2.5,
          2.5,
          2.5,
          2.6,
          2.6,
          2.6,
          2.6,
          2.6,
          2.7,
          2.7,
          2.7,
          2.7,
          2.7,
          2.8,
          2.8,
          2.8,
          2.8,
          2.8,
          2.8,
          2.9,
          2.9,
          3,
          3.1,
          3.1,
          3.2,
          3.2,
          3.2,
          3.2,
          3.3,
          3.3,
          3.3,
          3.3,
          3.3,
          3.4,
          3.4,
          3.5,
          3.5,
          3.5,
          3.6,
          3.7,
          3.7,
          3.8,
          3.9,
          4,
          4.2,
          4.3,
          4.4,
          5.2
         ],
         "xaxis": "x",
         "y": [
          0,
          -0.1,
          0.9,
          1.9,
          -0.2,
          0.8,
          -0.3,
          0.7,
          -0.4,
          0.6,
          1.6,
          -0.5,
          0.5,
          1.5,
          -0.6,
          0.4,
          1.4,
          2.4,
          -0.7,
          0.30000000000000004,
          1.3,
          -0.8,
          0.19999999999999996,
          1.2,
          2.2,
          -0.9,
          0.09999999999999998,
          1.1,
          2.1,
          3.1,
          -1,
          0,
          1,
          -1.1,
          -0.10000000000000009,
          0.8999999999999999,
          1.9,
          -1.2,
          -0.19999999999999996,
          0.8,
          -1.3,
          -0.30000000000000004,
          0.7,
          1.7,
          2.7,
          -1.4,
          -0.3999999999999999,
          0.6000000000000001,
          1.6,
          2.6,
          -1.5,
          -0.5,
          0.5,
          1.5,
          2.5,
          3.5,
          -1.6,
          -0.6000000000000001,
          0.3999999999999999,
          1.4,
          2.4,
          3.4,
          -1.7,
          -0.7,
          0.30000000000000004,
          1.3,
          2.3,
          -1.8,
          -0.8,
          0.19999999999999996,
          1.2,
          2.2,
          -1.9,
          -0.8999999999999999,
          0.10000000000000009,
          1.1,
          2.1,
          -2,
          -1,
          0,
          1,
          -2.1,
          -1.1,
          -0.10000000000000009,
          0.8999999999999999,
          1.9,
          -2.2,
          -1.2000000000000002,
          -0.20000000000000018,
          0.7999999999999998,
          1.7999999999999998,
          3.8,
          -1.2999999999999998,
          -0.2999999999999998,
          0.7000000000000002,
          1.7000000000000002,
          2.7,
          -1.4,
          -0.3999999999999999,
          0.6000000000000001,
          1.6,
          -1.5,
          -0.5,
          0.5,
          1.5,
          -1.6,
          -0.6000000000000001,
          0.3999999999999999,
          1.4,
          2.4,
          -1.7000000000000002,
          -0.7000000000000002,
          0.2999999999999998,
          1.2999999999999998,
          3.3,
          -2.8,
          -0.7999999999999998,
          0.20000000000000018,
          1.2000000000000002,
          2.2,
          4.2,
          -0.8999999999999999,
          1.1,
          2,
          -1.1,
          -0.10000000000000009,
          -2.2,
          -1.2000000000000002,
          0.7999999999999998,
          2.8,
          -0.2999999999999998,
          0.7000000000000002,
          1.7000000000000002,
          2.7,
          5.7,
          -1.4,
          0.6000000000000001,
          -1.5,
          -0.5,
          0.5,
          0.3999999999999999,
          -1.7000000000000002,
          2.3,
          0.20000000000000018,
          -1.9,
          0,
          -1.2000000000000002,
          -1.2999999999999998,
          -1.4000000000000004,
          -1.2000000000000002
         ],
         "yaxis": "y"
        }
       ],
       "layout": {
        "legend": {
         "itemsizing": "constant",
         "tracegroupgap": 0
        },
        "template": {
         "data": {
          "bar": [
           {
            "error_x": {
             "color": "#2a3f5f"
            },
            "error_y": {
             "color": "#2a3f5f"
            },
            "marker": {
             "line": {
              "color": "#E5ECF6",
              "width": 0.5
             },
             "pattern": {
              "fillmode": "overlay",
              "size": 10,
              "solidity": 0.2
             }
            },
            "type": "bar"
           }
          ],
          "barpolar": [
           {
            "marker": {
             "line": {
              "color": "#E5ECF6",
              "width": 0.5
             },
             "pattern": {
              "fillmode": "overlay",
              "size": 10,
              "solidity": 0.2
             }
            },
            "type": "barpolar"
           }
          ],
          "carpet": [
           {
            "aaxis": {
             "endlinecolor": "#2a3f5f",
             "gridcolor": "white",
             "linecolor": "white",
             "minorgridcolor": "white",
             "startlinecolor": "#2a3f5f"
            },
            "baxis": {
             "endlinecolor": "#2a3f5f",
             "gridcolor": "white",
             "linecolor": "white",
             "minorgridcolor": "white",
             "startlinecolor": "#2a3f5f"
            },
            "type": "carpet"
           }
          ],
          "choropleth": [
           {
            "colorbar": {
             "outlinewidth": 0,
             "ticks": ""
            },
            "type": "choropleth"
           }
          ],
          "contour": [
           {
            "colorbar": {
             "outlinewidth": 0,
             "ticks": ""
            },
            "colorscale": [
             [
              0,
              "#0d0887"
             ],
             [
              0.1111111111111111,
              "#46039f"
             ],
             [
              0.2222222222222222,
              "#7201a8"
             ],
             [
              0.3333333333333333,
              "#9c179e"
             ],
             [
              0.4444444444444444,
              "#bd3786"
             ],
             [
              0.5555555555555556,
              "#d8576b"
             ],
             [
              0.6666666666666666,
              "#ed7953"
             ],
             [
              0.7777777777777778,
              "#fb9f3a"
             ],
             [
              0.8888888888888888,
              "#fdca26"
             ],
             [
              1,
              "#f0f921"
             ]
            ],
            "type": "contour"
           }
          ],
          "contourcarpet": [
           {
            "colorbar": {
             "outlinewidth": 0,
             "ticks": ""
            },
            "type": "contourcarpet"
           }
          ],
          "heatmap": [
           {
            "colorbar": {
             "outlinewidth": 0,
             "ticks": ""
            },
            "colorscale": [
             [
              0,
              "#0d0887"
             ],
             [
              0.1111111111111111,
              "#46039f"
             ],
             [
              0.2222222222222222,
              "#7201a8"
             ],
             [
              0.3333333333333333,
              "#9c179e"
             ],
             [
              0.4444444444444444,
              "#bd3786"
             ],
             [
              0.5555555555555556,
              "#d8576b"
             ],
             [
              0.6666666666666666,
              "#ed7953"
             ],
             [
              0.7777777777777778,
              "#fb9f3a"
             ],
             [
              0.8888888888888888,
              "#fdca26"
             ],
             [
              1,
              "#f0f921"
             ]
            ],
            "type": "heatmap"
           }
          ],
          "heatmapgl": [
           {
            "colorbar": {
             "outlinewidth": 0,
             "ticks": ""
            },
            "colorscale": [
             [
              0,
              "#0d0887"
             ],
             [
              0.1111111111111111,
              "#46039f"
             ],
             [
              0.2222222222222222,
              "#7201a8"
             ],
             [
              0.3333333333333333,
              "#9c179e"
             ],
             [
              0.4444444444444444,
              "#bd3786"
             ],
             [
              0.5555555555555556,
              "#d8576b"
             ],
             [
              0.6666666666666666,
              "#ed7953"
             ],
             [
              0.7777777777777778,
              "#fb9f3a"
             ],
             [
              0.8888888888888888,
              "#fdca26"
             ],
             [
              1,
              "#f0f921"
             ]
            ],
            "type": "heatmapgl"
           }
          ],
          "histogram": [
           {
            "marker": {
             "pattern": {
              "fillmode": "overlay",
              "size": 10,
              "solidity": 0.2
             }
            },
            "type": "histogram"
           }
          ],
          "histogram2d": [
           {
            "colorbar": {
             "outlinewidth": 0,
             "ticks": ""
            },
            "colorscale": [
             [
              0,
              "#0d0887"
             ],
             [
              0.1111111111111111,
              "#46039f"
             ],
             [
              0.2222222222222222,
              "#7201a8"
             ],
             [
              0.3333333333333333,
              "#9c179e"
             ],
             [
              0.4444444444444444,
              "#bd3786"
             ],
             [
              0.5555555555555556,
              "#d8576b"
             ],
             [
              0.6666666666666666,
              "#ed7953"
             ],
             [
              0.7777777777777778,
              "#fb9f3a"
             ],
             [
              0.8888888888888888,
              "#fdca26"
             ],
             [
              1,
              "#f0f921"
             ]
            ],
            "type": "histogram2d"
           }
          ],
          "histogram2dcontour": [
           {
            "colorbar": {
             "outlinewidth": 0,
             "ticks": ""
            },
            "colorscale": [
             [
              0,
              "#0d0887"
             ],
             [
              0.1111111111111111,
              "#46039f"
             ],
             [
              0.2222222222222222,
              "#7201a8"
             ],
             [
              0.3333333333333333,
              "#9c179e"
             ],
             [
              0.4444444444444444,
              "#bd3786"
             ],
             [
              0.5555555555555556,
              "#d8576b"
             ],
             [
              0.6666666666666666,
              "#ed7953"
             ],
             [
              0.7777777777777778,
              "#fb9f3a"
             ],
             [
              0.8888888888888888,
              "#fdca26"
             ],
             [
              1,
              "#f0f921"
             ]
            ],
            "type": "histogram2dcontour"
           }
          ],
          "mesh3d": [
           {
            "colorbar": {
             "outlinewidth": 0,
             "ticks": ""
            },
            "type": "mesh3d"
           }
          ],
          "parcoords": [
           {
            "line": {
             "colorbar": {
              "outlinewidth": 0,
              "ticks": ""
             }
            },
            "type": "parcoords"
           }
          ],
          "pie": [
           {
            "automargin": true,
            "type": "pie"
           }
          ],
          "scatter": [
           {
            "fillpattern": {
             "fillmode": "overlay",
             "size": 10,
             "solidity": 0.2
            },
            "type": "scatter"
           }
          ],
          "scatter3d": [
           {
            "line": {
             "colorbar": {
              "outlinewidth": 0,
              "ticks": ""
             }
            },
            "marker": {
             "colorbar": {
              "outlinewidth": 0,
              "ticks": ""
             }
            },
            "type": "scatter3d"
           }
          ],
          "scattercarpet": [
           {
            "marker": {
             "colorbar": {
              "outlinewidth": 0,
              "ticks": ""
             }
            },
            "type": "scattercarpet"
           }
          ],
          "scattergeo": [
           {
            "marker": {
             "colorbar": {
              "outlinewidth": 0,
              "ticks": ""
             }
            },
            "type": "scattergeo"
           }
          ],
          "scattergl": [
           {
            "marker": {
             "colorbar": {
              "outlinewidth": 0,
              "ticks": ""
             }
            },
            "type": "scattergl"
           }
          ],
          "scattermapbox": [
           {
            "marker": {
             "colorbar": {
              "outlinewidth": 0,
              "ticks": ""
             }
            },
            "type": "scattermapbox"
           }
          ],
          "scatterpolar": [
           {
            "marker": {
             "colorbar": {
              "outlinewidth": 0,
              "ticks": ""
             }
            },
            "type": "scatterpolar"
           }
          ],
          "scatterpolargl": [
           {
            "marker": {
             "colorbar": {
              "outlinewidth": 0,
              "ticks": ""
             }
            },
            "type": "scatterpolargl"
           }
          ],
          "scatterternary": [
           {
            "marker": {
             "colorbar": {
              "outlinewidth": 0,
              "ticks": ""
             }
            },
            "type": "scatterternary"
           }
          ],
          "surface": [
           {
            "colorbar": {
             "outlinewidth": 0,
             "ticks": ""
            },
            "colorscale": [
             [
              0,
              "#0d0887"
             ],
             [
              0.1111111111111111,
              "#46039f"
             ],
             [
              0.2222222222222222,
              "#7201a8"
             ],
             [
              0.3333333333333333,
              "#9c179e"
             ],
             [
              0.4444444444444444,
              "#bd3786"
             ],
             [
              0.5555555555555556,
              "#d8576b"
             ],
             [
              0.6666666666666666,
              "#ed7953"
             ],
             [
              0.7777777777777778,
              "#fb9f3a"
             ],
             [
              0.8888888888888888,
              "#fdca26"
             ],
             [
              1,
              "#f0f921"
             ]
            ],
            "type": "surface"
           }
          ],
          "table": [
           {
            "cells": {
             "fill": {
              "color": "#EBF0F8"
             },
             "line": {
              "color": "white"
             }
            },
            "header": {
             "fill": {
              "color": "#C8D4E3"
             },
             "line": {
              "color": "white"
             }
            },
            "type": "table"
           }
          ]
         },
         "layout": {
          "annotationdefaults": {
           "arrowcolor": "#2a3f5f",
           "arrowhead": 0,
           "arrowwidth": 1
          },
          "autotypenumbers": "strict",
          "coloraxis": {
           "colorbar": {
            "outlinewidth": 0,
            "ticks": ""
           }
          },
          "colorscale": {
           "diverging": [
            [
             0,
             "#8e0152"
            ],
            [
             0.1,
             "#c51b7d"
            ],
            [
             0.2,
             "#de77ae"
            ],
            [
             0.3,
             "#f1b6da"
            ],
            [
             0.4,
             "#fde0ef"
            ],
            [
             0.5,
             "#f7f7f7"
            ],
            [
             0.6,
             "#e6f5d0"
            ],
            [
             0.7,
             "#b8e186"
            ],
            [
             0.8,
             "#7fbc41"
            ],
            [
             0.9,
             "#4d9221"
            ],
            [
             1,
             "#276419"
            ]
           ],
           "sequential": [
            [
             0,
             "#0d0887"
            ],
            [
             0.1111111111111111,
             "#46039f"
            ],
            [
             0.2222222222222222,
             "#7201a8"
            ],
            [
             0.3333333333333333,
             "#9c179e"
            ],
            [
             0.4444444444444444,
             "#bd3786"
            ],
            [
             0.5555555555555556,
             "#d8576b"
            ],
            [
             0.6666666666666666,
             "#ed7953"
            ],
            [
             0.7777777777777778,
             "#fb9f3a"
            ],
            [
             0.8888888888888888,
             "#fdca26"
            ],
            [
             1,
             "#f0f921"
            ]
           ],
           "sequentialminus": [
            [
             0,
             "#0d0887"
            ],
            [
             0.1111111111111111,
             "#46039f"
            ],
            [
             0.2222222222222222,
             "#7201a8"
            ],
            [
             0.3333333333333333,
             "#9c179e"
            ],
            [
             0.4444444444444444,
             "#bd3786"
            ],
            [
             0.5555555555555556,
             "#d8576b"
            ],
            [
             0.6666666666666666,
             "#ed7953"
            ],
            [
             0.7777777777777778,
             "#fb9f3a"
            ],
            [
             0.8888888888888888,
             "#fdca26"
            ],
            [
             1,
             "#f0f921"
            ]
           ]
          },
          "colorway": [
           "#636efa",
           "#EF553B",
           "#00cc96",
           "#ab63fa",
           "#FFA15A",
           "#19d3f3",
           "#FF6692",
           "#B6E880",
           "#FF97FF",
           "#FECB52"
          ],
          "font": {
           "color": "#2a3f5f"
          },
          "geo": {
           "bgcolor": "white",
           "lakecolor": "white",
           "landcolor": "#E5ECF6",
           "showlakes": true,
           "showland": true,
           "subunitcolor": "white"
          },
          "hoverlabel": {
           "align": "left"
          },
          "hovermode": "closest",
          "mapbox": {
           "style": "light"
          },
          "paper_bgcolor": "white",
          "plot_bgcolor": "#E5ECF6",
          "polar": {
           "angularaxis": {
            "gridcolor": "white",
            "linecolor": "white",
            "ticks": ""
           },
           "bgcolor": "#E5ECF6",
           "radialaxis": {
            "gridcolor": "white",
            "linecolor": "white",
            "ticks": ""
           }
          },
          "scene": {
           "xaxis": {
            "backgroundcolor": "#E5ECF6",
            "gridcolor": "white",
            "gridwidth": 2,
            "linecolor": "white",
            "showbackground": true,
            "ticks": "",
            "zerolinecolor": "white"
           },
           "yaxis": {
            "backgroundcolor": "#E5ECF6",
            "gridcolor": "white",
            "gridwidth": 2,
            "linecolor": "white",
            "showbackground": true,
            "ticks": "",
            "zerolinecolor": "white"
           },
           "zaxis": {
            "backgroundcolor": "#E5ECF6",
            "gridcolor": "white",
            "gridwidth": 2,
            "linecolor": "white",
            "showbackground": true,
            "ticks": "",
            "zerolinecolor": "white"
           }
          },
          "shapedefaults": {
           "line": {
            "color": "#2a3f5f"
           }
          },
          "ternary": {
           "aaxis": {
            "gridcolor": "white",
            "linecolor": "white",
            "ticks": ""
           },
           "baxis": {
            "gridcolor": "white",
            "linecolor": "white",
            "ticks": ""
           },
           "bgcolor": "#E5ECF6",
           "caxis": {
            "gridcolor": "white",
            "linecolor": "white",
            "ticks": ""
           }
          },
          "title": {
           "x": 0.05
          },
          "xaxis": {
           "automargin": true,
           "gridcolor": "white",
           "linecolor": "white",
           "ticks": "",
           "title": {
            "standoff": 15
           },
           "zerolinecolor": "white",
           "zerolinewidth": 2
          },
          "yaxis": {
           "automargin": true,
           "gridcolor": "white",
           "linecolor": "white",
           "ticks": "",
           "title": {
            "standoff": 15
           },
           "zerolinecolor": "white",
           "zerolinewidth": 2
          }
         }
        },
        "title": {
         "text": "Checking for Constant Variance"
        },
        "xaxis": {
         "anchor": "y",
         "domain": [
          0,
          1
         ],
         "title": {
          "text": "xG"
         }
        },
        "yaxis": {
         "anchor": "x",
         "domain": [
          0,
          1
         ],
         "title": {
          "text": "Residuals"
         }
        }
       }
      },
      "text/html": [
       "<div>                            <div id=\"50059921-60cd-4a70-945a-d52fe522690a\" class=\"plotly-graph-div\" style=\"height:525px; width:100%;\"></div>            <script type=\"text/javascript\">                require([\"plotly\"], function(Plotly) {                    window.PLOTLYENV=window.PLOTLYENV || {};                                    if (document.getElementById(\"50059921-60cd-4a70-945a-d52fe522690a\")) {                    Plotly.newPlot(                        \"50059921-60cd-4a70-945a-d52fe522690a\",                        [{\"hovertemplate\":\"xG=%{x}<br>Residuals=%{y}<br>count=%{marker.size}<extra></extra>\",\"legendgroup\":\"\",\"marker\":{\"color\":\"#636efa\",\"size\":[1,4,1,1,8,3,12,7,24,6,1,16,15,3,8,13,3,2,20,11,1,13,15,10,2,14,17,9,1,2,13,22,7,10,14,8,2,10,9,13,10,15,7,5,1,4,25,10,2,1,6,13,11,5,1,1,8,8,7,4,3,1,6,12,9,5,2,5,5,12,4,3,3,5,6,5,1,2,8,5,4,5,9,4,6,1,4,5,5,4,5,1,3,5,3,1,3,3,6,7,5,2,3,3,1,1,4,1,2,1,1,4,2,2,1,1,1,3,1,1,1,3,3,1,1,2,1,1,1,1,1,1,1,2,1,3,1,1,1,1,1,1,1,1,1,1,1,2,1,1],\"sizemode\":\"area\",\"sizeref\":0.0625,\"symbol\":\"circle\"},\"mode\":\"markers\",\"name\":\"\",\"orientation\":\"v\",\"showlegend\":false,\"x\":[0.0,0.1,0.1,0.1,0.2,0.2,0.3,0.3,0.4,0.4,0.4,0.5,0.5,0.5,0.6,0.6,0.6,0.6,0.7,0.7,0.7,0.8,0.8,0.8,0.8,0.9,0.9,0.9,0.9,0.9,1.0,1.0,1.0,1.1,1.1,1.1,1.1,1.2,1.2,1.2,1.3,1.3,1.3,1.3,1.3,1.4,1.4,1.4,1.4,1.4,1.5,1.5,1.5,1.5,1.5,1.5,1.6,1.6,1.6,1.6,1.6,1.6,1.7,1.7,1.7,1.7,1.7,1.8,1.8,1.8,1.8,1.8,1.9,1.9,1.9,1.9,1.9,2.0,2.0,2.0,2.0,2.1,2.1,2.1,2.1,2.1,2.2,2.2,2.2,2.2,2.2,2.2,2.3,2.3,2.3,2.3,2.3,2.4,2.4,2.4,2.4,2.5,2.5,2.5,2.5,2.6,2.6,2.6,2.6,2.6,2.7,2.7,2.7,2.7,2.7,2.8,2.8,2.8,2.8,2.8,2.8,2.9,2.9,3.0,3.1,3.1,3.2,3.2,3.2,3.2,3.3,3.3,3.3,3.3,3.3,3.4,3.4,3.5,3.5,3.5,3.6,3.7,3.7,3.8,3.9,4.0,4.2,4.3,4.4,5.2],\"xaxis\":\"x\",\"y\":[0.0,-0.1,0.9,1.9,-0.2,0.8,-0.3,0.7,-0.4,0.6,1.6,-0.5,0.5,1.5,-0.6,0.4,1.4,2.4,-0.7,0.30000000000000004,1.3,-0.8,0.19999999999999996,1.2,2.2,-0.9,0.09999999999999998,1.1,2.1,3.1,-1.0,0.0,1.0,-1.1,-0.10000000000000009,0.8999999999999999,1.9,-1.2,-0.19999999999999996,0.8,-1.3,-0.30000000000000004,0.7,1.7,2.7,-1.4,-0.3999999999999999,0.6000000000000001,1.6,2.6,-1.5,-0.5,0.5,1.5,2.5,3.5,-1.6,-0.6000000000000001,0.3999999999999999,1.4,2.4,3.4,-1.7,-0.7,0.30000000000000004,1.3,2.3,-1.8,-0.8,0.19999999999999996,1.2,2.2,-1.9,-0.8999999999999999,0.10000000000000009,1.1,2.1,-2.0,-1.0,0.0,1.0,-2.1,-1.1,-0.10000000000000009,0.8999999999999999,1.9,-2.2,-1.2000000000000002,-0.20000000000000018,0.7999999999999998,1.7999999999999998,3.8,-1.2999999999999998,-0.2999999999999998,0.7000000000000002,1.7000000000000002,2.7,-1.4,-0.3999999999999999,0.6000000000000001,1.6,-1.5,-0.5,0.5,1.5,-1.6,-0.6000000000000001,0.3999999999999999,1.4,2.4,-1.7000000000000002,-0.7000000000000002,0.2999999999999998,1.2999999999999998,3.3,-2.8,-0.7999999999999998,0.20000000000000018,1.2000000000000002,2.2,4.2,-0.8999999999999999,1.1,2.0,-1.1,-0.10000000000000009,-2.2,-1.2000000000000002,0.7999999999999998,2.8,-0.2999999999999998,0.7000000000000002,1.7000000000000002,2.7,5.7,-1.4,0.6000000000000001,-1.5,-0.5,0.5,0.3999999999999999,-1.7000000000000002,2.3,0.20000000000000018,-1.9,0.0,-1.2000000000000002,-1.2999999999999998,-1.4000000000000004,-1.2000000000000002],\"yaxis\":\"y\",\"type\":\"scatter\"}],                        {\"template\":{\"data\":{\"histogram2dcontour\":[{\"type\":\"histogram2dcontour\",\"colorbar\":{\"outlinewidth\":0,\"ticks\":\"\"},\"colorscale\":[[0.0,\"#0d0887\"],[0.1111111111111111,\"#46039f\"],[0.2222222222222222,\"#7201a8\"],[0.3333333333333333,\"#9c179e\"],[0.4444444444444444,\"#bd3786\"],[0.5555555555555556,\"#d8576b\"],[0.6666666666666666,\"#ed7953\"],[0.7777777777777778,\"#fb9f3a\"],[0.8888888888888888,\"#fdca26\"],[1.0,\"#f0f921\"]]}],\"choropleth\":[{\"type\":\"choropleth\",\"colorbar\":{\"outlinewidth\":0,\"ticks\":\"\"}}],\"histogram2d\":[{\"type\":\"histogram2d\",\"colorbar\":{\"outlinewidth\":0,\"ticks\":\"\"},\"colorscale\":[[0.0,\"#0d0887\"],[0.1111111111111111,\"#46039f\"],[0.2222222222222222,\"#7201a8\"],[0.3333333333333333,\"#9c179e\"],[0.4444444444444444,\"#bd3786\"],[0.5555555555555556,\"#d8576b\"],[0.6666666666666666,\"#ed7953\"],[0.7777777777777778,\"#fb9f3a\"],[0.8888888888888888,\"#fdca26\"],[1.0,\"#f0f921\"]]}],\"heatmap\":[{\"type\":\"heatmap\",\"colorbar\":{\"outlinewidth\":0,\"ticks\":\"\"},\"colorscale\":[[0.0,\"#0d0887\"],[0.1111111111111111,\"#46039f\"],[0.2222222222222222,\"#7201a8\"],[0.3333333333333333,\"#9c179e\"],[0.4444444444444444,\"#bd3786\"],[0.5555555555555556,\"#d8576b\"],[0.6666666666666666,\"#ed7953\"],[0.7777777777777778,\"#fb9f3a\"],[0.8888888888888888,\"#fdca26\"],[1.0,\"#f0f921\"]]}],\"heatmapgl\":[{\"type\":\"heatmapgl\",\"colorbar\":{\"outlinewidth\":0,\"ticks\":\"\"},\"colorscale\":[[0.0,\"#0d0887\"],[0.1111111111111111,\"#46039f\"],[0.2222222222222222,\"#7201a8\"],[0.3333333333333333,\"#9c179e\"],[0.4444444444444444,\"#bd3786\"],[0.5555555555555556,\"#d8576b\"],[0.6666666666666666,\"#ed7953\"],[0.7777777777777778,\"#fb9f3a\"],[0.8888888888888888,\"#fdca26\"],[1.0,\"#f0f921\"]]}],\"contourcarpet\":[{\"type\":\"contourcarpet\",\"colorbar\":{\"outlinewidth\":0,\"ticks\":\"\"}}],\"contour\":[{\"type\":\"contour\",\"colorbar\":{\"outlinewidth\":0,\"ticks\":\"\"},\"colorscale\":[[0.0,\"#0d0887\"],[0.1111111111111111,\"#46039f\"],[0.2222222222222222,\"#7201a8\"],[0.3333333333333333,\"#9c179e\"],[0.4444444444444444,\"#bd3786\"],[0.5555555555555556,\"#d8576b\"],[0.6666666666666666,\"#ed7953\"],[0.7777777777777778,\"#fb9f3a\"],[0.8888888888888888,\"#fdca26\"],[1.0,\"#f0f921\"]]}],\"surface\":[{\"type\":\"surface\",\"colorbar\":{\"outlinewidth\":0,\"ticks\":\"\"},\"colorscale\":[[0.0,\"#0d0887\"],[0.1111111111111111,\"#46039f\"],[0.2222222222222222,\"#7201a8\"],[0.3333333333333333,\"#9c179e\"],[0.4444444444444444,\"#bd3786\"],[0.5555555555555556,\"#d8576b\"],[0.6666666666666666,\"#ed7953\"],[0.7777777777777778,\"#fb9f3a\"],[0.8888888888888888,\"#fdca26\"],[1.0,\"#f0f921\"]]}],\"mesh3d\":[{\"type\":\"mesh3d\",\"colorbar\":{\"outlinewidth\":0,\"ticks\":\"\"}}],\"scatter\":[{\"fillpattern\":{\"fillmode\":\"overlay\",\"size\":10,\"solidity\":0.2},\"type\":\"scatter\"}],\"parcoords\":[{\"type\":\"parcoords\",\"line\":{\"colorbar\":{\"outlinewidth\":0,\"ticks\":\"\"}}}],\"scatterpolargl\":[{\"type\":\"scatterpolargl\",\"marker\":{\"colorbar\":{\"outlinewidth\":0,\"ticks\":\"\"}}}],\"bar\":[{\"error_x\":{\"color\":\"#2a3f5f\"},\"error_y\":{\"color\":\"#2a3f5f\"},\"marker\":{\"line\":{\"color\":\"#E5ECF6\",\"width\":0.5},\"pattern\":{\"fillmode\":\"overlay\",\"size\":10,\"solidity\":0.2}},\"type\":\"bar\"}],\"scattergeo\":[{\"type\":\"scattergeo\",\"marker\":{\"colorbar\":{\"outlinewidth\":0,\"ticks\":\"\"}}}],\"scatterpolar\":[{\"type\":\"scatterpolar\",\"marker\":{\"colorbar\":{\"outlinewidth\":0,\"ticks\":\"\"}}}],\"histogram\":[{\"marker\":{\"pattern\":{\"fillmode\":\"overlay\",\"size\":10,\"solidity\":0.2}},\"type\":\"histogram\"}],\"scattergl\":[{\"type\":\"scattergl\",\"marker\":{\"colorbar\":{\"outlinewidth\":0,\"ticks\":\"\"}}}],\"scatter3d\":[{\"type\":\"scatter3d\",\"line\":{\"colorbar\":{\"outlinewidth\":0,\"ticks\":\"\"}},\"marker\":{\"colorbar\":{\"outlinewidth\":0,\"ticks\":\"\"}}}],\"scattermapbox\":[{\"type\":\"scattermapbox\",\"marker\":{\"colorbar\":{\"outlinewidth\":0,\"ticks\":\"\"}}}],\"scatterternary\":[{\"type\":\"scatterternary\",\"marker\":{\"colorbar\":{\"outlinewidth\":0,\"ticks\":\"\"}}}],\"scattercarpet\":[{\"type\":\"scattercarpet\",\"marker\":{\"colorbar\":{\"outlinewidth\":0,\"ticks\":\"\"}}}],\"carpet\":[{\"aaxis\":{\"endlinecolor\":\"#2a3f5f\",\"gridcolor\":\"white\",\"linecolor\":\"white\",\"minorgridcolor\":\"white\",\"startlinecolor\":\"#2a3f5f\"},\"baxis\":{\"endlinecolor\":\"#2a3f5f\",\"gridcolor\":\"white\",\"linecolor\":\"white\",\"minorgridcolor\":\"white\",\"startlinecolor\":\"#2a3f5f\"},\"type\":\"carpet\"}],\"table\":[{\"cells\":{\"fill\":{\"color\":\"#EBF0F8\"},\"line\":{\"color\":\"white\"}},\"header\":{\"fill\":{\"color\":\"#C8D4E3\"},\"line\":{\"color\":\"white\"}},\"type\":\"table\"}],\"barpolar\":[{\"marker\":{\"line\":{\"color\":\"#E5ECF6\",\"width\":0.5},\"pattern\":{\"fillmode\":\"overlay\",\"size\":10,\"solidity\":0.2}},\"type\":\"barpolar\"}],\"pie\":[{\"automargin\":true,\"type\":\"pie\"}]},\"layout\":{\"autotypenumbers\":\"strict\",\"colorway\":[\"#636efa\",\"#EF553B\",\"#00cc96\",\"#ab63fa\",\"#FFA15A\",\"#19d3f3\",\"#FF6692\",\"#B6E880\",\"#FF97FF\",\"#FECB52\"],\"font\":{\"color\":\"#2a3f5f\"},\"hovermode\":\"closest\",\"hoverlabel\":{\"align\":\"left\"},\"paper_bgcolor\":\"white\",\"plot_bgcolor\":\"#E5ECF6\",\"polar\":{\"bgcolor\":\"#E5ECF6\",\"angularaxis\":{\"gridcolor\":\"white\",\"linecolor\":\"white\",\"ticks\":\"\"},\"radialaxis\":{\"gridcolor\":\"white\",\"linecolor\":\"white\",\"ticks\":\"\"}},\"ternary\":{\"bgcolor\":\"#E5ECF6\",\"aaxis\":{\"gridcolor\":\"white\",\"linecolor\":\"white\",\"ticks\":\"\"},\"baxis\":{\"gridcolor\":\"white\",\"linecolor\":\"white\",\"ticks\":\"\"},\"caxis\":{\"gridcolor\":\"white\",\"linecolor\":\"white\",\"ticks\":\"\"}},\"coloraxis\":{\"colorbar\":{\"outlinewidth\":0,\"ticks\":\"\"}},\"colorscale\":{\"sequential\":[[0.0,\"#0d0887\"],[0.1111111111111111,\"#46039f\"],[0.2222222222222222,\"#7201a8\"],[0.3333333333333333,\"#9c179e\"],[0.4444444444444444,\"#bd3786\"],[0.5555555555555556,\"#d8576b\"],[0.6666666666666666,\"#ed7953\"],[0.7777777777777778,\"#fb9f3a\"],[0.8888888888888888,\"#fdca26\"],[1.0,\"#f0f921\"]],\"sequentialminus\":[[0.0,\"#0d0887\"],[0.1111111111111111,\"#46039f\"],[0.2222222222222222,\"#7201a8\"],[0.3333333333333333,\"#9c179e\"],[0.4444444444444444,\"#bd3786\"],[0.5555555555555556,\"#d8576b\"],[0.6666666666666666,\"#ed7953\"],[0.7777777777777778,\"#fb9f3a\"],[0.8888888888888888,\"#fdca26\"],[1.0,\"#f0f921\"]],\"diverging\":[[0,\"#8e0152\"],[0.1,\"#c51b7d\"],[0.2,\"#de77ae\"],[0.3,\"#f1b6da\"],[0.4,\"#fde0ef\"],[0.5,\"#f7f7f7\"],[0.6,\"#e6f5d0\"],[0.7,\"#b8e186\"],[0.8,\"#7fbc41\"],[0.9,\"#4d9221\"],[1,\"#276419\"]]},\"xaxis\":{\"gridcolor\":\"white\",\"linecolor\":\"white\",\"ticks\":\"\",\"title\":{\"standoff\":15},\"zerolinecolor\":\"white\",\"automargin\":true,\"zerolinewidth\":2},\"yaxis\":{\"gridcolor\":\"white\",\"linecolor\":\"white\",\"ticks\":\"\",\"title\":{\"standoff\":15},\"zerolinecolor\":\"white\",\"automargin\":true,\"zerolinewidth\":2},\"scene\":{\"xaxis\":{\"backgroundcolor\":\"#E5ECF6\",\"gridcolor\":\"white\",\"linecolor\":\"white\",\"showbackground\":true,\"ticks\":\"\",\"zerolinecolor\":\"white\",\"gridwidth\":2},\"yaxis\":{\"backgroundcolor\":\"#E5ECF6\",\"gridcolor\":\"white\",\"linecolor\":\"white\",\"showbackground\":true,\"ticks\":\"\",\"zerolinecolor\":\"white\",\"gridwidth\":2},\"zaxis\":{\"backgroundcolor\":\"#E5ECF6\",\"gridcolor\":\"white\",\"linecolor\":\"white\",\"showbackground\":true,\"ticks\":\"\",\"zerolinecolor\":\"white\",\"gridwidth\":2}},\"shapedefaults\":{\"line\":{\"color\":\"#2a3f5f\"}},\"annotationdefaults\":{\"arrowcolor\":\"#2a3f5f\",\"arrowhead\":0,\"arrowwidth\":1},\"geo\":{\"bgcolor\":\"white\",\"landcolor\":\"#E5ECF6\",\"subunitcolor\":\"white\",\"showland\":true,\"showlakes\":true,\"lakecolor\":\"white\"},\"title\":{\"x\":0.05},\"mapbox\":{\"style\":\"light\"}}},\"xaxis\":{\"anchor\":\"y\",\"domain\":[0.0,1.0],\"title\":{\"text\":\"xG\"}},\"yaxis\":{\"anchor\":\"x\",\"domain\":[0.0,1.0],\"title\":{\"text\":\"Residuals\"}},\"legend\":{\"tracegroupgap\":0,\"itemsizing\":\"constant\"},\"title\":{\"text\":\"Checking for Constant Variance\"}},                        {\"responsive\": true}                    ).then(function(){\n",
       "                            \n",
       "var gd = document.getElementById('50059921-60cd-4a70-945a-d52fe522690a');\n",
       "var x = new MutationObserver(function (mutations, observer) {{\n",
       "        var display = window.getComputedStyle(gd).display;\n",
       "        if (!display || display === 'none') {{\n",
       "            console.log([gd, 'removed!']);\n",
       "            Plotly.purge(gd);\n",
       "            observer.disconnect();\n",
       "        }}\n",
       "}});\n",
       "\n",
       "// Listen for the removal of the full notebook cells\n",
       "var notebookContainer = gd.closest('#notebook-container');\n",
       "if (notebookContainer) {{\n",
       "    x.observe(notebookContainer, {childList: true});\n",
       "}}\n",
       "\n",
       "// Listen for the clearing of the current output cell\n",
       "var outputEl = gd.closest('.output');\n",
       "if (outputEl) {{\n",
       "    x.observe(outputEl, {childList: true});\n",
       "}}\n",
       "\n",
       "                        })                };                });            </script>        </div>"
      ]
     },
     "metadata": {},
     "output_type": "display_data"
    }
   ],
   "source": [
    "px.scatter(df_counts, x='xG', y='Residuals', size='count', title='Checking for Constant Variance')"
   ]
  },
  {
   "cell_type": "code",
   "execution_count": 48,
   "id": "c0bb167e",
   "metadata": {},
   "outputs": [
    {
     "data": {
      "image/png": "[encoded data removed]",
      "text/plain": [
       "<Figure size 640x480 with 1 Axes>"
      ]
     },
     "metadata": {},
     "output_type": "display_data"
    }
   ],
   "source": [
    "qq_plot = probplot(df['Residuals'], dist='norm', plot=py)\n",
    "# py.plot(qq_plot[0], qq_plot[0], color='red')\n",
    "py.show()"
   ]
  },
  {
   "cell_type": "code",
   "execution_count": 49,
   "id": "b8e3456a",
   "metadata": {
    "scrolled": false
   },
   "outputs": [
    {
     "data": {
      "text/html": [
       "<div>\n",
       "<style scoped>\n",
       "    .dataframe tbody tr th:only-of-type {\n",
       "        vertical-align: middle;\n",
       "    }\n",
       "\n",
       "    .dataframe tbody tr th {\n",
       "        vertical-align: top;\n",
       "    }\n",
       "\n",
       "    .dataframe thead th {\n",
       "        text-align: right;\n",
       "    }\n",
       "</style>\n",
       "<table border=\"1\" class=\"dataframe\">\n",
       "  <thead>\n",
       "    <tr style=\"text-align: right;\">\n",
       "      <th></th>\n",
       "      <th>count</th>\n",
       "      <th>mean</th>\n",
       "      <th>std</th>\n",
       "      <th>min</th>\n",
       "      <th>25%</th>\n",
       "      <th>50%</th>\n",
       "      <th>75%</th>\n",
       "      <th>max</th>\n",
       "    </tr>\n",
       "    <tr>\n",
       "      <th>xG</th>\n",
       "      <th></th>\n",
       "      <th></th>\n",
       "      <th></th>\n",
       "      <th></th>\n",
       "      <th></th>\n",
       "      <th></th>\n",
       "      <th></th>\n",
       "      <th></th>\n",
       "    </tr>\n",
       "  </thead>\n",
       "  <tbody>\n",
       "    <tr>\n",
       "      <th>0.0</th>\n",
       "      <td>1.0</td>\n",
       "      <td>0.000000</td>\n",
       "      <td>NaN</td>\n",
       "      <td>0.0</td>\n",
       "      <td>0.0</td>\n",
       "      <td>0.0</td>\n",
       "      <td>0.00</td>\n",
       "      <td>0.0</td>\n",
       "    </tr>\n",
       "    <tr>\n",
       "      <th>0.1</th>\n",
       "      <td>6.0</td>\n",
       "      <td>0.500000</td>\n",
       "      <td>0.836660</td>\n",
       "      <td>0.0</td>\n",
       "      <td>0.0</td>\n",
       "      <td>0.0</td>\n",
       "      <td>0.75</td>\n",
       "      <td>2.0</td>\n",
       "    </tr>\n",
       "    <tr>\n",
       "      <th>0.2</th>\n",
       "      <td>11.0</td>\n",
       "      <td>0.272727</td>\n",
       "      <td>0.467099</td>\n",
       "      <td>0.0</td>\n",
       "      <td>0.0</td>\n",
       "      <td>0.0</td>\n",
       "      <td>0.50</td>\n",
       "      <td>1.0</td>\n",
       "    </tr>\n",
       "    <tr>\n",
       "      <th>0.3</th>\n",
       "      <td>19.0</td>\n",
       "      <td>0.368421</td>\n",
       "      <td>0.495595</td>\n",
       "      <td>0.0</td>\n",
       "      <td>0.0</td>\n",
       "      <td>0.0</td>\n",
       "      <td>1.00</td>\n",
       "      <td>1.0</td>\n",
       "    </tr>\n",
       "    <tr>\n",
       "      <th>0.4</th>\n",
       "      <td>31.0</td>\n",
       "      <td>0.258065</td>\n",
       "      <td>0.514311</td>\n",
       "      <td>0.0</td>\n",
       "      <td>0.0</td>\n",
       "      <td>0.0</td>\n",
       "      <td>0.00</td>\n",
       "      <td>2.0</td>\n",
       "    </tr>\n",
       "    <tr>\n",
       "      <th>0.5</th>\n",
       "      <td>34.0</td>\n",
       "      <td>0.617647</td>\n",
       "      <td>0.652023</td>\n",
       "      <td>0.0</td>\n",
       "      <td>0.0</td>\n",
       "      <td>1.0</td>\n",
       "      <td>1.00</td>\n",
       "      <td>2.0</td>\n",
       "    </tr>\n",
       "    <tr>\n",
       "      <th>0.6</th>\n",
       "      <td>26.0</td>\n",
       "      <td>0.961538</td>\n",
       "      <td>0.870897</td>\n",
       "      <td>0.0</td>\n",
       "      <td>0.0</td>\n",
       "      <td>1.0</td>\n",
       "      <td>1.00</td>\n",
       "      <td>3.0</td>\n",
       "    </tr>\n",
       "    <tr>\n",
       "      <th>0.7</th>\n",
       "      <td>32.0</td>\n",
       "      <td>0.406250</td>\n",
       "      <td>0.559918</td>\n",
       "      <td>0.0</td>\n",
       "      <td>0.0</td>\n",
       "      <td>0.0</td>\n",
       "      <td>1.00</td>\n",
       "      <td>2.0</td>\n",
       "    </tr>\n",
       "    <tr>\n",
       "      <th>0.8</th>\n",
       "      <td>40.0</td>\n",
       "      <td>1.025000</td>\n",
       "      <td>0.891196</td>\n",
       "      <td>0.0</td>\n",
       "      <td>0.0</td>\n",
       "      <td>1.0</td>\n",
       "      <td>2.00</td>\n",
       "      <td>3.0</td>\n",
       "    </tr>\n",
       "    <tr>\n",
       "      <th>0.9</th>\n",
       "      <td>43.0</td>\n",
       "      <td>1.069767</td>\n",
       "      <td>1.032688</td>\n",
       "      <td>0.0</td>\n",
       "      <td>0.0</td>\n",
       "      <td>1.0</td>\n",
       "      <td>2.00</td>\n",
       "      <td>4.0</td>\n",
       "    </tr>\n",
       "    <tr>\n",
       "      <th>1.0</th>\n",
       "      <td>42.0</td>\n",
       "      <td>0.857143</td>\n",
       "      <td>0.683300</td>\n",
       "      <td>0.0</td>\n",
       "      <td>0.0</td>\n",
       "      <td>1.0</td>\n",
       "      <td>1.00</td>\n",
       "      <td>2.0</td>\n",
       "    </tr>\n",
       "  </tbody>\n",
       "</table>\n",
       "</div>"
      ],
      "text/plain": [
       "     count      mean       std  min  25%  50%   75%  max\n",
       "xG                                                      \n",
       "0.0    1.0  0.000000       NaN  0.0  0.0  0.0  0.00  0.0\n",
       "0.1    6.0  0.500000  0.836660  0.0  0.0  0.0  0.75  2.0\n",
       "0.2   11.0  0.272727  0.467099  0.0  0.0  0.0  0.50  1.0\n",
       "0.3   19.0  0.368421  0.495595  0.0  0.0  0.0  1.00  1.0\n",
       "0.4   31.0  0.258065  0.514311  0.0  0.0  0.0  0.00  2.0\n",
       "0.5   34.0  0.617647  0.652023  0.0  0.0  1.0  1.00  2.0\n",
       "0.6   26.0  0.961538  0.870897  0.0  0.0  1.0  1.00  3.0\n",
       "0.7   32.0  0.406250  0.559918  0.0  0.0  0.0  1.00  2.0\n",
       "0.8   40.0  1.025000  0.891196  0.0  0.0  1.0  2.00  3.0\n",
       "0.9   43.0  1.069767  1.032688  0.0  0.0  1.0  2.00  4.0\n",
       "1.0   42.0  0.857143  0.683300  0.0  0.0  1.0  1.00  2.0"
      ]
     },
     "execution_count": 49,
     "metadata": {},
     "output_type": "execute_result"
    }
   ],
   "source": [
    "df_grouped = df.groupby('xG').describe()['Goals']\n",
    "df_grouped.head(11)"
   ]
  },
  {
   "cell_type": "code",
   "execution_count": 53,
   "id": "419442e1",
   "metadata": {},
   "outputs": [
    {
     "data": {
      "application/vnd.plotly.v1+json": {
       "config": {
        "plotlyServerURL": "https://plot.ly"
       },
       "data": [
        {
         "hovertemplate": "xG=%{x}<br>Average Goals Scored=%{y}<extra></extra>",
         "legendgroup": "",
         "line": {
          "color": "#636efa",
          "dash": "solid"
         },
         "marker": {
          "symbol": "circle"
         },
         "mode": "lines",
         "name": "",
         "orientation": "v",
         "showlegend": false,
         "type": "scatter",
         "x": [
          0,
          0.1,
          0.2,
          0.3,
          0.4,
          0.5,
          0.6,
          0.7,
          0.8,
          0.9,
          1,
          1.1,
          1.2,
          1.3,
          1.4,
          1.5,
          1.6,
          1.7,
          1.8,
          1.9,
          2,
          2.1,
          2.2,
          2.3,
          2.4,
          2.5,
          2.6,
          2.7,
          2.8,
          2.9,
          3,
          3.1,
          3.2,
          3.3,
          3.4,
          3.5,
          3.6,
          3.7,
          3.8,
          3.9,
          4,
          4.2,
          4.3,
          4.4,
          5.2
         ],
         "xaxis": "x",
         "y": [
          0,
          0.5,
          0.2727272727272727,
          0.3684210526315789,
          0.25806451612903225,
          0.6176470588235294,
          0.9615384615384616,
          0.40625,
          1.025,
          1.069767441860465,
          0.8571428571428571,
          1.0588235294117647,
          1.09375,
          1.263157894736842,
          1.3095238095238095,
          1.5945945945945945,
          1.6451612903225807,
          1.5588235294117647,
          1.8275862068965518,
          1.8,
          1.5789473684210527,
          1.56,
          2.2083333333333335,
          2.7333333333333334,
          2.6666666666666665,
          2.3333333333333335,
          2.7777777777777777,
          2.9,
          3.375,
          3,
          5,
          2.6666666666666665,
          3.25,
          5.5,
          2.5,
          3,
          4,
          4,
          4,
          2,
          4,
          3,
          3,
          3,
          4
         ],
         "yaxis": "y"
        }
       ],
       "layout": {
        "legend": {
         "tracegroupgap": 0
        },
        "shapes": [
         {
          "line": {
           "color": "black",
           "width": 2
          },
          "type": "line",
          "x0": 0,
          "x1": 5.2,
          "y0": 0,
          "y1": 5.2
         }
        ],
        "template": {
         "data": {
          "bar": [
           {
            "error_x": {
             "color": "#2a3f5f"
            },
            "error_y": {
             "color": "#2a3f5f"
            },
            "marker": {
             "line": {
              "color": "#E5ECF6",
              "width": 0.5
             },
             "pattern": {
              "fillmode": "overlay",
              "size": 10,
              "solidity": 0.2
             }
            },
            "type": "bar"
           }
          ],
          "barpolar": [
           {
            "marker": {
             "line": {
              "color": "#E5ECF6",
              "width": 0.5
             },
             "pattern": {
              "fillmode": "overlay",
              "size": 10,
              "solidity": 0.2
             }
            },
            "type": "barpolar"
           }
          ],
          "carpet": [
           {
            "aaxis": {
             "endlinecolor": "#2a3f5f",
             "gridcolor": "white",
             "linecolor": "white",
             "minorgridcolor": "white",
             "startlinecolor": "#2a3f5f"
            },
            "baxis": {
             "endlinecolor": "#2a3f5f",
             "gridcolor": "white",
             "linecolor": "white",
             "minorgridcolor": "white",
             "startlinecolor": "#2a3f5f"
            },
            "type": "carpet"
           }
          ],
          "choropleth": [
           {
            "colorbar": {
             "outlinewidth": 0,
             "ticks": ""
            },
            "type": "choropleth"
           }
          ],
          "contour": [
           {
            "colorbar": {
             "outlinewidth": 0,
             "ticks": ""
            },
            "colorscale": [
             [
              0,
              "#0d0887"
             ],
             [
              0.1111111111111111,
              "#46039f"
             ],
             [
              0.2222222222222222,
              "#7201a8"
             ],
             [
              0.3333333333333333,
              "#9c179e"
             ],
             [
              0.4444444444444444,
              "#bd3786"
             ],
             [
              0.5555555555555556,
              "#d8576b"
             ],
             [
              0.6666666666666666,
              "#ed7953"
             ],
             [
              0.7777777777777778,
              "#fb9f3a"
             ],
             [
              0.8888888888888888,
              "#fdca26"
             ],
             [
              1,
              "#f0f921"
             ]
            ],
            "type": "contour"
           }
          ],
          "contourcarpet": [
           {
            "colorbar": {
             "outlinewidth": 0,
             "ticks": ""
            },
            "type": "contourcarpet"
           }
          ],
          "heatmap": [
           {
            "colorbar": {
             "outlinewidth": 0,
             "ticks": ""
            },
            "colorscale": [
             [
              0,
              "#0d0887"
             ],
             [
              0.1111111111111111,
              "#46039f"
             ],
             [
              0.2222222222222222,
              "#7201a8"
             ],
             [
              0.3333333333333333,
              "#9c179e"
             ],
             [
              0.4444444444444444,
              "#bd3786"
             ],
             [
              0.5555555555555556,
              "#d8576b"
             ],
             [
              0.6666666666666666,
              "#ed7953"
             ],
             [
              0.7777777777777778,
              "#fb9f3a"
             ],
             [
              0.8888888888888888,
              "#fdca26"
             ],
             [
              1,
              "#f0f921"
             ]
            ],
            "type": "heatmap"
           }
          ],
          "heatmapgl": [
           {
            "colorbar": {
             "outlinewidth": 0,
             "ticks": ""
            },
            "colorscale": [
             [
              0,
              "#0d0887"
             ],
             [
              0.1111111111111111,
              "#46039f"
             ],
             [
              0.2222222222222222,
              "#7201a8"
             ],
             [
              0.3333333333333333,
              "#9c179e"
             ],
             [
              0.4444444444444444,
              "#bd3786"
             ],
             [
              0.5555555555555556,
              "#d8576b"
             ],
             [
              0.6666666666666666,
              "#ed7953"
             ],
             [
              0.7777777777777778,
              "#fb9f3a"
             ],
             [
              0.8888888888888888,
              "#fdca26"
             ],
             [
              1,
              "#f0f921"
             ]
            ],
            "type": "heatmapgl"
           }
          ],
          "histogram": [
           {
            "marker": {
             "pattern": {
              "fillmode": "overlay",
              "size": 10,
              "solidity": 0.2
             }
            },
            "type": "histogram"
           }
          ],
          "histogram2d": [
           {
            "colorbar": {
             "outlinewidth": 0,
             "ticks": ""
            },
            "colorscale": [
             [
              0,
              "#0d0887"
             ],
             [
              0.1111111111111111,
              "#46039f"
             ],
             [
              0.2222222222222222,
              "#7201a8"
             ],
             [
              0.3333333333333333,
              "#9c179e"
             ],
             [
              0.4444444444444444,
              "#bd3786"
             ],
             [
              0.5555555555555556,
              "#d8576b"
             ],
             [
              0.6666666666666666,
              "#ed7953"
             ],
             [
              0.7777777777777778,
              "#fb9f3a"
             ],
             [
              0.8888888888888888,
              "#fdca26"
             ],
             [
              1,
              "#f0f921"
             ]
            ],
            "type": "histogram2d"
           }
          ],
          "histogram2dcontour": [
           {
            "colorbar": {
             "outlinewidth": 0,
             "ticks": ""
            },
            "colorscale": [
             [
              0,
              "#0d0887"
             ],
             [
              0.1111111111111111,
              "#46039f"
             ],
             [
              0.2222222222222222,
              "#7201a8"
             ],
             [
              0.3333333333333333,
              "#9c179e"
             ],
             [
              0.4444444444444444,
              "#bd3786"
             ],
             [
              0.5555555555555556,
              "#d8576b"
             ],
             [
              0.6666666666666666,
              "#ed7953"
             ],
             [
              0.7777777777777778,
              "#fb9f3a"
             ],
             [
              0.8888888888888888,
              "#fdca26"
             ],
             [
              1,
              "#f0f921"
             ]
            ],
            "type": "histogram2dcontour"
           }
          ],
          "mesh3d": [
           {
            "colorbar": {
             "outlinewidth": 0,
             "ticks": ""
            },
            "type": "mesh3d"
           }
          ],
          "parcoords": [
           {
            "line": {
             "colorbar": {
              "outlinewidth": 0,
              "ticks": ""
             }
            },
            "type": "parcoords"
           }
          ],
          "pie": [
           {
            "automargin": true,
            "type": "pie"
           }
          ],
          "scatter": [
           {
            "fillpattern": {
             "fillmode": "overlay",
             "size": 10,
             "solidity": 0.2
            },
            "type": "scatter"
           }
          ],
          "scatter3d": [
           {
            "line": {
             "colorbar": {
              "outlinewidth": 0,
              "ticks": ""
             }
            },
            "marker": {
             "colorbar": {
              "outlinewidth": 0,
              "ticks": ""
             }
            },
            "type": "scatter3d"
           }
          ],
          "scattercarpet": [
           {
            "marker": {
             "colorbar": {
              "outlinewidth": 0,
              "ticks": ""
             }
            },
            "type": "scattercarpet"
           }
          ],
          "scattergeo": [
           {
            "marker": {
             "colorbar": {
              "outlinewidth": 0,
              "ticks": ""
             }
            },
            "type": "scattergeo"
           }
          ],
          "scattergl": [
           {
            "marker": {
             "colorbar": {
              "outlinewidth": 0,
              "ticks": ""
             }
            },
            "type": "scattergl"
           }
          ],
          "scattermapbox": [
           {
            "marker": {
             "colorbar": {
              "outlinewidth": 0,
              "ticks": ""
             }
            },
            "type": "scattermapbox"
           }
          ],
          "scatterpolar": [
           {
            "marker": {
             "colorbar": {
              "outlinewidth": 0,
              "ticks": ""
             }
            },
            "type": "scatterpolar"
           }
          ],
          "scatterpolargl": [
           {
            "marker": {
             "colorbar": {
              "outlinewidth": 0,
              "ticks": ""
             }
            },
            "type": "scatterpolargl"
           }
          ],
          "scatterternary": [
           {
            "marker": {
             "colorbar": {
              "outlinewidth": 0,
              "ticks": ""
             }
            },
            "type": "scatterternary"
           }
          ],
          "surface": [
           {
            "colorbar": {
             "outlinewidth": 0,
             "ticks": ""
            },
            "colorscale": [
             [
              0,
              "#0d0887"
             ],
             [
              0.1111111111111111,
              "#46039f"
             ],
             [
              0.2222222222222222,
              "#7201a8"
             ],
             [
              0.3333333333333333,
              "#9c179e"
             ],
             [
              0.4444444444444444,
              "#bd3786"
             ],
             [
              0.5555555555555556,
              "#d8576b"
             ],
             [
              0.6666666666666666,
              "#ed7953"
             ],
             [
              0.7777777777777778,
              "#fb9f3a"
             ],
             [
              0.8888888888888888,
              "#fdca26"
             ],
             [
              1,
              "#f0f921"
             ]
            ],
            "type": "surface"
           }
          ],
          "table": [
           {
            "cells": {
             "fill": {
              "color": "#EBF0F8"
             },
             "line": {
              "color": "white"
             }
            },
            "header": {
             "fill": {
              "color": "#C8D4E3"
             },
             "line": {
              "color": "white"
             }
            },
            "type": "table"
           }
          ]
         },
         "layout": {
          "annotationdefaults": {
           "arrowcolor": "#2a3f5f",
           "arrowhead": 0,
           "arrowwidth": 1
          },
          "autotypenumbers": "strict",
          "coloraxis": {
           "colorbar": {
            "outlinewidth": 0,
            "ticks": ""
           }
          },
          "colorscale": {
           "diverging": [
            [
             0,
             "#8e0152"
            ],
            [
             0.1,
             "#c51b7d"
            ],
            [
             0.2,
             "#de77ae"
            ],
            [
             0.3,
             "#f1b6da"
            ],
            [
             0.4,
             "#fde0ef"
            ],
            [
             0.5,
             "#f7f7f7"
            ],
            [
             0.6,
             "#e6f5d0"
            ],
            [
             0.7,
             "#b8e186"
            ],
            [
             0.8,
             "#7fbc41"
            ],
            [
             0.9,
             "#4d9221"
            ],
            [
             1,
             "#276419"
            ]
           ],
           "sequential": [
            [
             0,
             "#0d0887"
            ],
            [
             0.1111111111111111,
             "#46039f"
            ],
            [
             0.2222222222222222,
             "#7201a8"
            ],
            [
             0.3333333333333333,
             "#9c179e"
            ],
            [
             0.4444444444444444,
             "#bd3786"
            ],
            [
             0.5555555555555556,
             "#d8576b"
            ],
            [
             0.6666666666666666,
             "#ed7953"
            ],
            [
             0.7777777777777778,
             "#fb9f3a"
            ],
            [
             0.8888888888888888,
             "#fdca26"
            ],
            [
             1,
             "#f0f921"
            ]
           ],
           "sequentialminus": [
            [
             0,
             "#0d0887"
            ],
            [
             0.1111111111111111,
             "#46039f"
            ],
            [
             0.2222222222222222,
             "#7201a8"
            ],
            [
             0.3333333333333333,
             "#9c179e"
            ],
            [
             0.4444444444444444,
             "#bd3786"
            ],
            [
             0.5555555555555556,
             "#d8576b"
            ],
            [
             0.6666666666666666,
             "#ed7953"
            ],
            [
             0.7777777777777778,
             "#fb9f3a"
            ],
            [
             0.8888888888888888,
             "#fdca26"
            ],
            [
             1,
             "#f0f921"
            ]
           ]
          },
          "colorway": [
           "#636efa",
           "#EF553B",
           "#00cc96",
           "#ab63fa",
           "#FFA15A",
           "#19d3f3",
           "#FF6692",
           "#B6E880",
           "#FF97FF",
           "#FECB52"
          ],
          "font": {
           "color": "#2a3f5f"
          },
          "geo": {
           "bgcolor": "white",
           "lakecolor": "white",
           "landcolor": "#E5ECF6",
           "showlakes": true,
           "showland": true,
           "subunitcolor": "white"
          },
          "hoverlabel": {
           "align": "left"
          },
          "hovermode": "closest",
          "mapbox": {
           "style": "light"
          },
          "paper_bgcolor": "white",
          "plot_bgcolor": "#E5ECF6",
          "polar": {
           "angularaxis": {
            "gridcolor": "white",
            "linecolor": "white",
            "ticks": ""
           },
           "bgcolor": "#E5ECF6",
           "radialaxis": {
            "gridcolor": "white",
            "linecolor": "white",
            "ticks": ""
           }
          },
          "scene": {
           "xaxis": {
            "backgroundcolor": "#E5ECF6",
            "gridcolor": "white",
            "gridwidth": 2,
            "linecolor": "white",
            "showbackground": true,
            "ticks": "",
            "zerolinecolor": "white"
           },
           "yaxis": {
            "backgroundcolor": "#E5ECF6",
            "gridcolor": "white",
            "gridwidth": 2,
            "linecolor": "white",
            "showbackground": true,
            "ticks": "",
            "zerolinecolor": "white"
           },
           "zaxis": {
            "backgroundcolor": "#E5ECF6",
            "gridcolor": "white",
            "gridwidth": 2,
            "linecolor": "white",
            "showbackground": true,
            "ticks": "",
            "zerolinecolor": "white"
           }
          },
          "shapedefaults": {
           "line": {
            "color": "#2a3f5f"
           }
          },
          "ternary": {
           "aaxis": {
            "gridcolor": "white",
            "linecolor": "white",
            "ticks": ""
           },
           "baxis": {
            "gridcolor": "white",
            "linecolor": "white",
            "ticks": ""
           },
           "bgcolor": "#E5ECF6",
           "caxis": {
            "gridcolor": "white",
            "linecolor": "white",
            "ticks": ""
           }
          },
          "title": {
           "x": 0.05
          },
          "xaxis": {
           "automargin": true,
           "gridcolor": "white",
           "linecolor": "white",
           "ticks": "",
           "title": {
            "standoff": 15
           },
           "zerolinecolor": "white",
           "zerolinewidth": 2
          },
          "yaxis": {
           "automargin": true,
           "gridcolor": "white",
           "linecolor": "white",
           "ticks": "",
           "title": {
            "standoff": 15
           },
           "zerolinecolor": "white",
           "zerolinewidth": 2
          }
         }
        },
        "title": {
         "text": "How xG Correlates with Goals Scored (2023-24)"
        },
        "xaxis": {
         "anchor": "y",
         "domain": [
          0,
          1
         ],
         "title": {
          "text": "xG"
         }
        },
        "yaxis": {
         "anchor": "x",
         "domain": [
          0,
          1
         ],
         "title": {
          "text": "Average Goals Scored"
         }
        }
       }
      },
      "text/html": [
       "<div>                            <div id=\"e1330fdf-8584-434d-8d77-a70236ed3e01\" class=\"plotly-graph-div\" style=\"height:525px; width:100%;\"></div>            <script type=\"text/javascript\">                require([\"plotly\"], function(Plotly) {                    window.PLOTLYENV=window.PLOTLYENV || {};                                    if (document.getElementById(\"e1330fdf-8584-434d-8d77-a70236ed3e01\")) {                    Plotly.newPlot(                        \"e1330fdf-8584-434d-8d77-a70236ed3e01\",                        [{\"hovertemplate\":\"xG=%{x}<br>Average Goals Scored=%{y}<extra></extra>\",\"legendgroup\":\"\",\"line\":{\"color\":\"#636efa\",\"dash\":\"solid\"},\"marker\":{\"symbol\":\"circle\"},\"mode\":\"lines\",\"name\":\"\",\"orientation\":\"v\",\"showlegend\":false,\"x\":[0.0,0.1,0.2,0.3,0.4,0.5,0.6,0.7,0.8,0.9,1.0,1.1,1.2,1.3,1.4,1.5,1.6,1.7,1.8,1.9,2.0,2.1,2.2,2.3,2.4,2.5,2.6,2.7,2.8,2.9,3.0,3.1,3.2,3.3,3.4,3.5,3.6,3.7,3.8,3.9,4.0,4.2,4.3,4.4,5.2],\"xaxis\":\"x\",\"y\":[0.0,0.5,0.2727272727272727,0.3684210526315789,0.25806451612903225,0.6176470588235294,0.9615384615384616,0.40625,1.025,1.069767441860465,0.8571428571428571,1.0588235294117647,1.09375,1.263157894736842,1.3095238095238095,1.5945945945945945,1.6451612903225807,1.5588235294117647,1.8275862068965518,1.8,1.5789473684210527,1.56,2.2083333333333335,2.7333333333333334,2.6666666666666665,2.3333333333333335,2.7777777777777777,2.9,3.375,3.0,5.0,2.6666666666666665,3.25,5.5,2.5,3.0,4.0,4.0,4.0,2.0,4.0,3.0,3.0,3.0,4.0],\"yaxis\":\"y\",\"type\":\"scatter\"}],                        {\"template\":{\"data\":{\"histogram2dcontour\":[{\"type\":\"histogram2dcontour\",\"colorbar\":{\"outlinewidth\":0,\"ticks\":\"\"},\"colorscale\":[[0.0,\"#0d0887\"],[0.1111111111111111,\"#46039f\"],[0.2222222222222222,\"#7201a8\"],[0.3333333333333333,\"#9c179e\"],[0.4444444444444444,\"#bd3786\"],[0.5555555555555556,\"#d8576b\"],[0.6666666666666666,\"#ed7953\"],[0.7777777777777778,\"#fb9f3a\"],[0.8888888888888888,\"#fdca26\"],[1.0,\"#f0f921\"]]}],\"choropleth\":[{\"type\":\"choropleth\",\"colorbar\":{\"outlinewidth\":0,\"ticks\":\"\"}}],\"histogram2d\":[{\"type\":\"histogram2d\",\"colorbar\":{\"outlinewidth\":0,\"ticks\":\"\"},\"colorscale\":[[0.0,\"#0d0887\"],[0.1111111111111111,\"#46039f\"],[0.2222222222222222,\"#7201a8\"],[0.3333333333333333,\"#9c179e\"],[0.4444444444444444,\"#bd3786\"],[0.5555555555555556,\"#d8576b\"],[0.6666666666666666,\"#ed7953\"],[0.7777777777777778,\"#fb9f3a\"],[0.8888888888888888,\"#fdca26\"],[1.0,\"#f0f921\"]]}],\"heatmap\":[{\"type\":\"heatmap\",\"colorbar\":{\"outlinewidth\":0,\"ticks\":\"\"},\"colorscale\":[[0.0,\"#0d0887\"],[0.1111111111111111,\"#46039f\"],[0.2222222222222222,\"#7201a8\"],[0.3333333333333333,\"#9c179e\"],[0.4444444444444444,\"#bd3786\"],[0.5555555555555556,\"#d8576b\"],[0.6666666666666666,\"#ed7953\"],[0.7777777777777778,\"#fb9f3a\"],[0.8888888888888888,\"#fdca26\"],[1.0,\"#f0f921\"]]}],\"heatmapgl\":[{\"type\":\"heatmapgl\",\"colorbar\":{\"outlinewidth\":0,\"ticks\":\"\"},\"colorscale\":[[0.0,\"#0d0887\"],[0.1111111111111111,\"#46039f\"],[0.2222222222222222,\"#7201a8\"],[0.3333333333333333,\"#9c179e\"],[0.4444444444444444,\"#bd3786\"],[0.5555555555555556,\"#d8576b\"],[0.6666666666666666,\"#ed7953\"],[0.7777777777777778,\"#fb9f3a\"],[0.8888888888888888,\"#fdca26\"],[1.0,\"#f0f921\"]]}],\"contourcarpet\":[{\"type\":\"contourcarpet\",\"colorbar\":{\"outlinewidth\":0,\"ticks\":\"\"}}],\"contour\":[{\"type\":\"contour\",\"colorbar\":{\"outlinewidth\":0,\"ticks\":\"\"},\"colorscale\":[[0.0,\"#0d0887\"],[0.1111111111111111,\"#46039f\"],[0.2222222222222222,\"#7201a8\"],[0.3333333333333333,\"#9c179e\"],[0.4444444444444444,\"#bd3786\"],[0.5555555555555556,\"#d8576b\"],[0.6666666666666666,\"#ed7953\"],[0.7777777777777778,\"#fb9f3a\"],[0.8888888888888888,\"#fdca26\"],[1.0,\"#f0f921\"]]}],\"surface\":[{\"type\":\"surface\",\"colorbar\":{\"outlinewidth\":0,\"ticks\":\"\"},\"colorscale\":[[0.0,\"#0d0887\"],[0.1111111111111111,\"#46039f\"],[0.2222222222222222,\"#7201a8\"],[0.3333333333333333,\"#9c179e\"],[0.4444444444444444,\"#bd3786\"],[0.5555555555555556,\"#d8576b\"],[0.6666666666666666,\"#ed7953\"],[0.7777777777777778,\"#fb9f3a\"],[0.8888888888888888,\"#fdca26\"],[1.0,\"#f0f921\"]]}],\"mesh3d\":[{\"type\":\"mesh3d\",\"colorbar\":{\"outlinewidth\":0,\"ticks\":\"\"}}],\"scatter\":[{\"fillpattern\":{\"fillmode\":\"overlay\",\"size\":10,\"solidity\":0.2},\"type\":\"scatter\"}],\"parcoords\":[{\"type\":\"parcoords\",\"line\":{\"colorbar\":{\"outlinewidth\":0,\"ticks\":\"\"}}}],\"scatterpolargl\":[{\"type\":\"scatterpolargl\",\"marker\":{\"colorbar\":{\"outlinewidth\":0,\"ticks\":\"\"}}}],\"bar\":[{\"error_x\":{\"color\":\"#2a3f5f\"},\"error_y\":{\"color\":\"#2a3f5f\"},\"marker\":{\"line\":{\"color\":\"#E5ECF6\",\"width\":0.5},\"pattern\":{\"fillmode\":\"overlay\",\"size\":10,\"solidity\":0.2}},\"type\":\"bar\"}],\"scattergeo\":[{\"type\":\"scattergeo\",\"marker\":{\"colorbar\":{\"outlinewidth\":0,\"ticks\":\"\"}}}],\"scatterpolar\":[{\"type\":\"scatterpolar\",\"marker\":{\"colorbar\":{\"outlinewidth\":0,\"ticks\":\"\"}}}],\"histogram\":[{\"marker\":{\"pattern\":{\"fillmode\":\"overlay\",\"size\":10,\"solidity\":0.2}},\"type\":\"histogram\"}],\"scattergl\":[{\"type\":\"scattergl\",\"marker\":{\"colorbar\":{\"outlinewidth\":0,\"ticks\":\"\"}}}],\"scatter3d\":[{\"type\":\"scatter3d\",\"line\":{\"colorbar\":{\"outlinewidth\":0,\"ticks\":\"\"}},\"marker\":{\"colorbar\":{\"outlinewidth\":0,\"ticks\":\"\"}}}],\"scattermapbox\":[{\"type\":\"scattermapbox\",\"marker\":{\"colorbar\":{\"outlinewidth\":0,\"ticks\":\"\"}}}],\"scatterternary\":[{\"type\":\"scatterternary\",\"marker\":{\"colorbar\":{\"outlinewidth\":0,\"ticks\":\"\"}}}],\"scattercarpet\":[{\"type\":\"scattercarpet\",\"marker\":{\"colorbar\":{\"outlinewidth\":0,\"ticks\":\"\"}}}],\"carpet\":[{\"aaxis\":{\"endlinecolor\":\"#2a3f5f\",\"gridcolor\":\"white\",\"linecolor\":\"white\",\"minorgridcolor\":\"white\",\"startlinecolor\":\"#2a3f5f\"},\"baxis\":{\"endlinecolor\":\"#2a3f5f\",\"gridcolor\":\"white\",\"linecolor\":\"white\",\"minorgridcolor\":\"white\",\"startlinecolor\":\"#2a3f5f\"},\"type\":\"carpet\"}],\"table\":[{\"cells\":{\"fill\":{\"color\":\"#EBF0F8\"},\"line\":{\"color\":\"white\"}},\"header\":{\"fill\":{\"color\":\"#C8D4E3\"},\"line\":{\"color\":\"white\"}},\"type\":\"table\"}],\"barpolar\":[{\"marker\":{\"line\":{\"color\":\"#E5ECF6\",\"width\":0.5},\"pattern\":{\"fillmode\":\"overlay\",\"size\":10,\"solidity\":0.2}},\"type\":\"barpolar\"}],\"pie\":[{\"automargin\":true,\"type\":\"pie\"}]},\"layout\":{\"autotypenumbers\":\"strict\",\"colorway\":[\"#636efa\",\"#EF553B\",\"#00cc96\",\"#ab63fa\",\"#FFA15A\",\"#19d3f3\",\"#FF6692\",\"#B6E880\",\"#FF97FF\",\"#FECB52\"],\"font\":{\"color\":\"#2a3f5f\"},\"hovermode\":\"closest\",\"hoverlabel\":{\"align\":\"left\"},\"paper_bgcolor\":\"white\",\"plot_bgcolor\":\"#E5ECF6\",\"polar\":{\"bgcolor\":\"#E5ECF6\",\"angularaxis\":{\"gridcolor\":\"white\",\"linecolor\":\"white\",\"ticks\":\"\"},\"radialaxis\":{\"gridcolor\":\"white\",\"linecolor\":\"white\",\"ticks\":\"\"}},\"ternary\":{\"bgcolor\":\"#E5ECF6\",\"aaxis\":{\"gridcolor\":\"white\",\"linecolor\":\"white\",\"ticks\":\"\"},\"baxis\":{\"gridcolor\":\"white\",\"linecolor\":\"white\",\"ticks\":\"\"},\"caxis\":{\"gridcolor\":\"white\",\"linecolor\":\"white\",\"ticks\":\"\"}},\"coloraxis\":{\"colorbar\":{\"outlinewidth\":0,\"ticks\":\"\"}},\"colorscale\":{\"sequential\":[[0.0,\"#0d0887\"],[0.1111111111111111,\"#46039f\"],[0.2222222222222222,\"#7201a8\"],[0.3333333333333333,\"#9c179e\"],[0.4444444444444444,\"#bd3786\"],[0.5555555555555556,\"#d8576b\"],[0.6666666666666666,\"#ed7953\"],[0.7777777777777778,\"#fb9f3a\"],[0.8888888888888888,\"#fdca26\"],[1.0,\"#f0f921\"]],\"sequentialminus\":[[0.0,\"#0d0887\"],[0.1111111111111111,\"#46039f\"],[0.2222222222222222,\"#7201a8\"],[0.3333333333333333,\"#9c179e\"],[0.4444444444444444,\"#bd3786\"],[0.5555555555555556,\"#d8576b\"],[0.6666666666666666,\"#ed7953\"],[0.7777777777777778,\"#fb9f3a\"],[0.8888888888888888,\"#fdca26\"],[1.0,\"#f0f921\"]],\"diverging\":[[0,\"#8e0152\"],[0.1,\"#c51b7d\"],[0.2,\"#de77ae\"],[0.3,\"#f1b6da\"],[0.4,\"#fde0ef\"],[0.5,\"#f7f7f7\"],[0.6,\"#e6f5d0\"],[0.7,\"#b8e186\"],[0.8,\"#7fbc41\"],[0.9,\"#4d9221\"],[1,\"#276419\"]]},\"xaxis\":{\"gridcolor\":\"white\",\"linecolor\":\"white\",\"ticks\":\"\",\"title\":{\"standoff\":15},\"zerolinecolor\":\"white\",\"automargin\":true,\"zerolinewidth\":2},\"yaxis\":{\"gridcolor\":\"white\",\"linecolor\":\"white\",\"ticks\":\"\",\"title\":{\"standoff\":15},\"zerolinecolor\":\"white\",\"automargin\":true,\"zerolinewidth\":2},\"scene\":{\"xaxis\":{\"backgroundcolor\":\"#E5ECF6\",\"gridcolor\":\"white\",\"linecolor\":\"white\",\"showbackground\":true,\"ticks\":\"\",\"zerolinecolor\":\"white\",\"gridwidth\":2},\"yaxis\":{\"backgroundcolor\":\"#E5ECF6\",\"gridcolor\":\"white\",\"linecolor\":\"white\",\"showbackground\":true,\"ticks\":\"\",\"zerolinecolor\":\"white\",\"gridwidth\":2},\"zaxis\":{\"backgroundcolor\":\"#E5ECF6\",\"gridcolor\":\"white\",\"linecolor\":\"white\",\"showbackground\":true,\"ticks\":\"\",\"zerolinecolor\":\"white\",\"gridwidth\":2}},\"shapedefaults\":{\"line\":{\"color\":\"#2a3f5f\"}},\"annotationdefaults\":{\"arrowcolor\":\"#2a3f5f\",\"arrowhead\":0,\"arrowwidth\":1},\"geo\":{\"bgcolor\":\"white\",\"landcolor\":\"#E5ECF6\",\"subunitcolor\":\"white\",\"showland\":true,\"showlakes\":true,\"lakecolor\":\"white\"},\"title\":{\"x\":0.05},\"mapbox\":{\"style\":\"light\"}}},\"xaxis\":{\"anchor\":\"y\",\"domain\":[0.0,1.0],\"title\":{\"text\":\"xG\"}},\"yaxis\":{\"anchor\":\"x\",\"domain\":[0.0,1.0],\"title\":{\"text\":\"Average Goals Scored\"}},\"legend\":{\"tracegroupgap\":0},\"title\":{\"text\":\"How xG Correlates with Goals Scored (2023-24)\"},\"shapes\":[{\"line\":{\"color\":\"black\",\"width\":2},\"type\":\"line\",\"x0\":0.0,\"x1\":5.2,\"y0\":0.0,\"y1\":5.2}]},                        {\"responsive\": true}                    ).then(function(){\n",
       "                            \n",
       "var gd = document.getElementById('e1330fdf-8584-434d-8d77-a70236ed3e01');\n",
       "var x = new MutationObserver(function (mutations, observer) {{\n",
       "        var display = window.getComputedStyle(gd).display;\n",
       "        if (!display || display === 'none') {{\n",
       "            console.log([gd, 'removed!']);\n",
       "            Plotly.purge(gd);\n",
       "            observer.disconnect();\n",
       "        }}\n",
       "}});\n",
       "\n",
       "// Listen for the removal of the full notebook cells\n",
       "var notebookContainer = gd.closest('#notebook-container');\n",
       "if (notebookContainer) {{\n",
       "    x.observe(notebookContainer, {childList: true});\n",
       "}}\n",
       "\n",
       "// Listen for the clearing of the current output cell\n",
       "var outputEl = gd.closest('.output');\n",
       "if (outputEl) {{\n",
       "    x.observe(outputEl, {childList: true});\n",
       "}}\n",
       "\n",
       "                        })                };                });            </script>        </div>"
      ]
     },
     "metadata": {},
     "output_type": "display_data"
    }
   ],
   "source": [
    "fig = px.line(df_grouped, x=df_grouped.index, y='mean',\n",
    "       labels={\n",
    "           'x': 'xG', 'mean': 'Average Goals Scored',\n",
    "       }, \n",
    "              title='How xG Correlates with Goals Scored (2023-24)'\n",
    "       )\n",
    "\n",
    "fig.add_shape(\n",
    "    type='line',\n",
    "    x0=df_grouped.index.min(),\n",
    "    x1=df_grouped.index.max(),\n",
    "    y0=df_grouped.index.min(),\n",
    "    y1=df_grouped.index.max(),\n",
    "    line=dict(color='black', width=2)\n",
    ")\n",
    "\n",
    "# fig.add_trace(px.line(df_grouped, x=df_grouped.index, y='50%', color_discrete_sequence=['red']).data[0])\n",
    "\n",
    "fig.show()"
   ]
  },
  {
   "cell_type": "code",
   "execution_count": 51,
   "id": "8eb29f22",
   "metadata": {},
   "outputs": [
    {
     "data": {
      "text/html": [
       "<div>\n",
       "<style scoped>\n",
       "    .dataframe tbody tr th:only-of-type {\n",
       "        vertical-align: middle;\n",
       "    }\n",
       "\n",
       "    .dataframe tbody tr th {\n",
       "        vertical-align: top;\n",
       "    }\n",
       "\n",
       "    .dataframe thead th {\n",
       "        text-align: right;\n",
       "    }\n",
       "</style>\n",
       "<table border=\"1\" class=\"dataframe\">\n",
       "  <thead>\n",
       "    <tr style=\"text-align: right;\">\n",
       "      <th></th>\n",
       "      <th>xG</th>\n",
       "      <th>Goals</th>\n",
       "      <th>Residuals</th>\n",
       "      <th>Absolute Residuals</th>\n",
       "      <th>Rounded xG</th>\n",
       "      <th>Rounded Residuals</th>\n",
       "      <th>Absolute Rounded Residuals</th>\n",
       "      <th>count</th>\n",
       "    </tr>\n",
       "  </thead>\n",
       "  <tbody>\n",
       "    <tr>\n",
       "      <th>46</th>\n",
       "      <td>1.4</td>\n",
       "      <td>1</td>\n",
       "      <td>-0.4</td>\n",
       "      <td>0.4</td>\n",
       "      <td>1</td>\n",
       "      <td>0</td>\n",
       "      <td>0</td>\n",
       "      <td>25</td>\n",
       "    </tr>\n",
       "    <tr>\n",
       "      <th>8</th>\n",
       "      <td>0.4</td>\n",
       "      <td>0</td>\n",
       "      <td>-0.4</td>\n",
       "      <td>0.4</td>\n",
       "      <td>0</td>\n",
       "      <td>0</td>\n",
       "      <td>0</td>\n",
       "      <td>24</td>\n",
       "    </tr>\n",
       "    <tr>\n",
       "      <th>31</th>\n",
       "      <td>1.0</td>\n",
       "      <td>1</td>\n",
       "      <td>0.0</td>\n",
       "      <td>0.0</td>\n",
       "      <td>1</td>\n",
       "      <td>0</td>\n",
       "      <td>0</td>\n",
       "      <td>22</td>\n",
       "    </tr>\n",
       "    <tr>\n",
       "      <th>18</th>\n",
       "      <td>0.7</td>\n",
       "      <td>0</td>\n",
       "      <td>-0.7</td>\n",
       "      <td>0.7</td>\n",
       "      <td>1</td>\n",
       "      <td>-1</td>\n",
       "      <td>1</td>\n",
       "      <td>20</td>\n",
       "    </tr>\n",
       "    <tr>\n",
       "      <th>26</th>\n",
       "      <td>0.9</td>\n",
       "      <td>1</td>\n",
       "      <td>0.1</td>\n",
       "      <td>0.1</td>\n",
       "      <td>1</td>\n",
       "      <td>0</td>\n",
       "      <td>0</td>\n",
       "      <td>17</td>\n",
       "    </tr>\n",
       "    <tr>\n",
       "      <th>...</th>\n",
       "      <td>...</td>\n",
       "      <td>...</td>\n",
       "      <td>...</td>\n",
       "      <td>...</td>\n",
       "      <td>...</td>\n",
       "      <td>...</td>\n",
       "      <td>...</td>\n",
       "      <td>...</td>\n",
       "    </tr>\n",
       "    <tr>\n",
       "      <th>114</th>\n",
       "      <td>2.7</td>\n",
       "      <td>6</td>\n",
       "      <td>3.3</td>\n",
       "      <td>3.3</td>\n",
       "      <td>3</td>\n",
       "      <td>3</td>\n",
       "      <td>3</td>\n",
       "      <td>1</td>\n",
       "    </tr>\n",
       "    <tr>\n",
       "      <th>115</th>\n",
       "      <td>2.8</td>\n",
       "      <td>0</td>\n",
       "      <td>-2.8</td>\n",
       "      <td>2.8</td>\n",
       "      <td>3</td>\n",
       "      <td>-3</td>\n",
       "      <td>3</td>\n",
       "      <td>1</td>\n",
       "    </tr>\n",
       "    <tr>\n",
       "      <th>116</th>\n",
       "      <td>2.8</td>\n",
       "      <td>2</td>\n",
       "      <td>-0.8</td>\n",
       "      <td>0.8</td>\n",
       "      <td>3</td>\n",
       "      <td>-1</td>\n",
       "      <td>1</td>\n",
       "      <td>1</td>\n",
       "    </tr>\n",
       "    <tr>\n",
       "      <th>118</th>\n",
       "      <td>2.8</td>\n",
       "      <td>4</td>\n",
       "      <td>1.2</td>\n",
       "      <td>1.2</td>\n",
       "      <td>3</td>\n",
       "      <td>1</td>\n",
       "      <td>1</td>\n",
       "      <td>1</td>\n",
       "    </tr>\n",
       "    <tr>\n",
       "      <th>149</th>\n",
       "      <td>5.2</td>\n",
       "      <td>4</td>\n",
       "      <td>-1.2</td>\n",
       "      <td>1.2</td>\n",
       "      <td>5</td>\n",
       "      <td>-1</td>\n",
       "      <td>1</td>\n",
       "      <td>1</td>\n",
       "    </tr>\n",
       "  </tbody>\n",
       "</table>\n",
       "<p>150 rows × 8 columns</p>\n",
       "</div>"
      ],
      "text/plain": [
       "      xG  Goals  Residuals  Absolute Residuals  Rounded xG  Rounded Residuals  \\\n",
       "46   1.4      1       -0.4                 0.4           1                  0   \n",
       "8    0.4      0       -0.4                 0.4           0                  0   \n",
       "31   1.0      1        0.0                 0.0           1                  0   \n",
       "18   0.7      0       -0.7                 0.7           1                 -1   \n",
       "26   0.9      1        0.1                 0.1           1                  0   \n",
       "..   ...    ...        ...                 ...         ...                ...   \n",
       "114  2.7      6        3.3                 3.3           3                  3   \n",
       "115  2.8      0       -2.8                 2.8           3                 -3   \n",
       "116  2.8      2       -0.8                 0.8           3                 -1   \n",
       "118  2.8      4        1.2                 1.2           3                  1   \n",
       "149  5.2      4       -1.2                 1.2           5                 -1   \n",
       "\n",
       "     Absolute Rounded Residuals  count  \n",
       "46                            0     25  \n",
       "8                             0     24  \n",
       "31                            0     22  \n",
       "18                            1     20  \n",
       "26                            0     17  \n",
       "..                          ...    ...  \n",
       "114                           3      1  \n",
       "115                           3      1  \n",
       "116                           1      1  \n",
       "118                           1      1  \n",
       "149                           1      1  \n",
       "\n",
       "[150 rows x 8 columns]"
      ]
     },
     "execution_count": 51,
     "metadata": {},
     "output_type": "execute_result"
    }
   ],
   "source": [
    "df_counts.sort_values('count', ascending=False)"
   ]
  }
 ],
 "metadata": {
  "kernelspec": {
   "display_name": "Python 3 (ipykernel)",
   "language": "python",
   "name": "python3"
  },
  "language_info": {
   "codemirror_mode": {
    "name": "ipython",
    "version": 3
   },
   "file_extension": ".py",
   "mimetype": "text/x-python",
   "name": "python",
   "nbconvert_exporter": "python",
   "pygments_lexer": "ipython3",
   "version": "3.9.13"
  }
 },
 "nbformat": 4,
 "nbformat_minor": 5
}
